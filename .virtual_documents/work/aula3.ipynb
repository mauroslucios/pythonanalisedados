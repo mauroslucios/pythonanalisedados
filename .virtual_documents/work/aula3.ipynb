# algorítmo booble sort
lista = [10,8,105,1,0,3,-50]
def buble_sort(arr):
    n = len(arr)
    # para cada elemento i do array
    for i in range(n):
        # para cada elemento j do array
        for j in range(0, n-i-1):
        # se elemento i for maior que elemento j
            if arr[j] > arr[j+1]:
                # troque os elementos i e j
                arr[j], arr[j+1] = arr[j+1], arr[j]
    return arr
                
        


print(buble_sort(lista))



