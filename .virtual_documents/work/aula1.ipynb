# verificando  versão do python
from platform import python_version
print(f'A versão do seu pyhton é: ',python_version())


# exibindo uma mensagem para o usuário
print('Bem vindo')
# pedindo a base
base = float(input("Insira um valor para a base"))
# pedindo a altura
altura = float(input("Insira um valor para a altura"))
# calculando a área
area = base * altura
# exibindo o comprimento da área
print(f"A área do paralelograma é: ", area)
