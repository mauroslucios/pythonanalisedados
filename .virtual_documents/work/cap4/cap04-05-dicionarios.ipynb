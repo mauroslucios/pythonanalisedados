


# lista de nomes
estudantes_lst = ['Pedro', 24, 'Ana', 22, 'Ronaldo', 26, 'Janaina', 25]
estudantes_lst


type(estudantes_lst)


# dicionário de nomes
estudantes_dict = {'Pedro':24, 'Ana':22,'Ronaldo':26,'Janaina':25}
estudantes_dict


type(estudantes_dict)


estudantes_dict['Pedro']


# adicionando item ao dicionário
estudantes_dict['Marcelo'] = 23
print(estudantes_dict)
estudantes_dict['Marcelo']


# métodos chave e valor
chaves = estudantes_dict.keys()
print(chaves)


valores = estudantes_dict.values()
print(valores)


# items do dicionário
estudantes_dict.items()


# limpando o dicionário
estudantes_dict.clear()
estudantes_dict


# deletando o dicionário
del estudantes_dict


# tamanho do dicionário
estudantes = {'Pedro': 24, 'Ana': 22, 'Ronaldo': 26, 'Janaina': 25, 'Marcelo': 23}
len(estudantes)


# dicionário de estudantes 2
estudantes2 = {'Rafaela': 39, 'Adriana': 28, 'Mauro': 54}


# atualizando dicionário 
estudantes.update(estudantes2)
estudantes


# dicionário vazio
dic1 = {}
# adicionando item ao dicionário
dic1['chave_um'] = 2
dic1


dic1[10] = 5
dic1


a = estudantes2['Rafaela']
print(f'Rafaela, tem {a} anos.')
b = estudantes2['Mauro']
print(f'Mauro, tem {b} anos.')


# dicionário de listas
dict3 = {'chave1': 1230, 'chave2':[22,453,73.4],'chave3':['picanha','fraldinha','alcatra']}
dict3


dict3['chave2']


# acessando um item da lista dentro do diciionário
dict3['chave3'][0].upper()


# operações com itens da lista, dentro do dicionário
var1 = dict3['chave2'][0] - 2
var1


# duas operações no mesmo comando, para atualizar um item dentro da lista
dict3['chave2'][0] -= 2
dict3





# dicionários aninhados
dict_aninhado = {'key1':{'key2_aninhada':{'key3_aninhada':'Dict aninhado em Pyhton'}}}
dict_aninhado


# pegando item aninhado em python
dict_aninhado['key1']['key2_aninhada']['key3_aninhada']
