





# Exercício 1 - Imprima na tela os números de 1 a 10. Use uma lista para armazenar os números.
lista = [1,2,3,4,5,6,7,8,9,10]
for i in lista:
    print(i,end=",")              


lista1 = []
for i in range(10):
       lista1.append(i)
print(lista1)





 # Exercício 2 - Crie uma lista de 5 objetos e imprima na tela
lista5 = ['beteraba','laranja','maçã','cenoura','banana']
lista5





# Exercício 3 - Crie duas strings e concatene as duas em uma terceira string
nome = 'Mauro Lúcio'
sobreNome = 'Pereira da Silva'
nomeCompleto = nome +" "+ sobreNome
nomeCompleto





# Exercício 4 - Crie uma tupla com os seguintes elementos: 1, 2, 2, 3, 4, 4, 4, 5 e depois utilize a função count do 
tupla1 = (1, 2, 2, 3, 4, 4, 4, 5 )
lista = [(1, 2, 2, 3, 4, 4, 4, 5 )]
for n in lista:
    contador = n.count(4)
    print(f'O número 4 aparece:',contador ,'vezes')





# Exercício 5 - Crie um dicionário vazio e imprima na tela
dict = {}
dict





# Exercício 6 - Crie um dicionário com 3 chaves e 3 valores e imprima na tela
dict1 = {'Person1': 'Mauro', 'Pesron2':'Rafaela','Person3':'Everton','Person4':'Eethelyn','Person5':'Evelin'}
dict1





# Exercício 7 - Adicione mais um elemento ao dicionário criado no exercício anterior e imprima na tela
dict1["Person6"] = "Andreia"
dict1





# Exercício 8 - Crie um dicionário com 3 chaves e 3 valores. 
dict2 = {'chave1':'vaor1','chave2':'valor2','chave3':[1000,10000]}
dict2





# Exercício 9 - Crie uma lista de 4 elementos. O primeiro elemento deve ser uma string, 
# o segundo uma tupla de 2 elementos, o terceiro um dicionário com 2 chaves e 2 valores e 
# o quarto elemento um valor do tipo float.
# Imprima a lista.
list1 = ['string',(2,1),{'chave1': 'vaor1', 'chave2': 'valor2'}, 10.5]
list1






# Exercício 10 - Considere a string abaixo. Imprima na tela apenas os caracteres da posição 1 a 18.
frase = 'Cientista de Dados é o profissional mais sexy do século XXI'


frase[:18]
