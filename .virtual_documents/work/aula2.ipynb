# exibindo uma mensagem para o usuário
print('Bem vindo a calculadora das 4 operações básicas')
# pedindo os valores da operação
num1 = float(input("Insira o primeiro valor para a operação"))
num2 = float(input("Insira o segundo valor para a operação"))
# escolhendo a operação a ser executada
operacao = input(f"Escolha a operação matemática: +, -, /, *")
# calculando a operação
if(operacao == "+"):
    resultado = num1 + num2
    print(f"A soma de {num1} + {num2} =",resultado)
elif(operacao == "-"):
    resultado = num1 - num2
    print(f"A subtração de {num1} - {num2} =",resultado)
elif(operacao == "*"):
    resultado = num1 * num2
    print(f"A multiplicação de {num1} * {num2} =",resultado)
elif(operacao == "/"):
    resultado = num1 / num2
    print(f"A divisão de {num1} / {num2} =",resultado)
else:
    print("Você escolheu uma operação não prevista")
