


# Criando uma função 
def verificaPar(num):
    if num % 2 == 0:
        return True
    else:
        return False


# Chamando a função e passando um número como parâmetro.
# Retornanra Falso se for ímpar e True se for par.
verificaPar(35)


verificaPar(10)


lista = [0,1,2,3,4,5,6,7,8,9,10,11,12,13,14,15,16,17,18]


lista


# A função filter() retorna um iterator
# Exibindo os números pares com filter
list(filter(verificaPar, lista))


# Exibindo os números pares com filter e lambda 
list(filter(lambda x: x%2 == 0, lista))


# Usando filter e lambda para mostrar números maiores que 8
list(filter(lambda num: num > 8, lista))


# Usando filter e lambda para mostrar números impares
list(filter(lambda x: x%2 != 0, lista))



