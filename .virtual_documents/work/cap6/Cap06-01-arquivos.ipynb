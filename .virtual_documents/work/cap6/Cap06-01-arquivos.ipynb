


# Versão do Python usada neste Jupyter Notebook
from platform import python_version
print(f'Versão do Python usada neste Jupyter Notebook',python_version())








# Abrindo o arquivo para leitura
# r = read -> leitura
arq1 = open("arquivos/arquivo1.txt","r")
# Exibindo tipo do arquivo
type(arq1)


# Lendo o arquivo
print(arq1.read())


# Contar o número de caracteres do arquivo
print(arq1.tell())


# Retornr para o início do arquivo apois a leitura = r
print(arq1.seek(0,0))


# Lendo os primeiros 23 caracteres
print(arq1.read(23))





# Abrindo arquivo para gravação
# w = write - gravação
# sobrescreve o conteúdo do arquivo
arq2 = open("arquivos/arquivo2.txt","w")


# Como abrimos o arquivo apenas para gravação, não podemos usar comandos de leitura.
print(arq2.read())


# Gravando arquivo
arq2.write("Aprendendo a programar em Python.")


# Fechando o arquivo depois da leitura
arq2.close()


# Lendo arquivo gravado
arq2 = open("arquivos/arquivo2.txt","r")


print(arq2.read())


# Acrescendo conteúdo no arquivo
# a = append - acrescentar
# Adicionado mais conteúdo ao arquivo mantendo o conteúdo anterior
arq2 = open("arquivos/arquivo2.txt","a")


arq2.write("E a metodologia de ensino da Data Science Academy facilita o aprendizado.")


# Fechando o arquivo depois da leitura
arq2.close()


arq2 = open("arquivos/arquivo2.txt","r")


print(arq2.read())


# Retornando ao início do arquivo para leitura
# Ao ler o arquivo o cursor vai para o final do mesmo
arq2.seek(0,0)


print(arq2.read())





# Este arquivo abaixo foi obtido no site de dados abertos do governo da cidade de Chicago nos EUA.


f = open('arquivos/salarios.csv','r')


data = f.read()


rows = data.split('\n')


print(rows)





f = open('arquivos/salarios.csv','r')


data = f.read()


rows = data.split('\n')


full_data = []


for row in rows:
    split_row = row.split(",")
    full_data.append(split_row)


print(full_data)





import pandas as pd


pd.__version__


# Anexando o arquivo.csv
arquivo = 'arquivos/salarios.csv'


df = pd.read_csv(arquivo)


df.head()


df['Position Title'].value_counts()



