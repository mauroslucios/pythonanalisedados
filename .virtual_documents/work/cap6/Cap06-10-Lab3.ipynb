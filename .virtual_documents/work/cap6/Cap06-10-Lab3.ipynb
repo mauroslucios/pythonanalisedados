


# Versão da Linguagem Python 
from platform import python_version
print(f'Versão da linguagem Python usada neste Jupyter Notebook.', python_version())


import re


texto = 'Meu e-mail é exemplo@gmail.com e você pode me contatar em outro_email@gmail.com'


# Expressão regular para contar quantas vezes o caracter @ que aparece no texto
resultado = len(re.findall("@", texto))


print("O caracter '@' apareceu", resultado, "vezes no texto")


# Expressão regular para extrair a palavra que aparece após a palavra "você" em um texto
resultado = re.findall(r'você (\w+)', texto)


print("A palavra após 'você' é:", resultado[0])





# Expressão regular para extrair endereços de email de uma string.
emails = re.findall(r'\b[A-Za-z0-9._%+-]+@[A-za-z0-2._]+\.[A-Z|a-z]{2,}\b', texto)


print(emails)


text = "O aluno aprendeu rapidamente e incrivelmente na DSA."


# Extraindo os advébios da frase
for m in re.finditer(r"\w+mente\b", text):
    print('%2d-%2d: %s' % (m.start(), m.end(), m.group(0)))





# Variável do tipo string
musica = '''
Ainda me lembro quando um milagre eu pedi
Com pouca fé, sim, eu temi
E hoje eu posso ver, foi muito além do meu pensar
São tantas bênçãos pra contar
Um, dois, três
Bênçãos que não têm fim
Perco as contas
E agradeço o que fez por mim
Deus, eu tenho tantas bênçãos
Posso em minha vida enxergar
Quanto mais vejo os detalhes
Sua bondade posso encontrar
Pai, e enquanto eu viver
Sempre irei me lembrar
Ainda que sejam infinitas
Suas bênçãos, eu irei contar
E nenhuma fase dura para sempre
Por isso, eu não vou me esquecer
Cada motivo que tenho pra ser grato
Por ter sido tão fiel a mim
Deus, eu tenho tantas bênçãos
Posso em minha vida enxergar
Quanto mais vejo os detalhes
Sua bondade posso encontrar
Pai, e enquanto eu viver
Sempre irei me lembrar
Ainda que sejam infinitas
Suas bênçãos, eu irei contar
Um, dois, três
Bênçãos que não têm fim
Perco as contas
E agradeço o que fez por mim
Deus, eu tenho tantas bênçãos
Posso em minha vida enxergar
Quanto mais vejo os detalhes
Sua bondade posso encontrar
Pai, e enquanto eu viver
Sempre irei me lembrar
Ainda que sejam infinitas
Suas bênçãos, eu irei contar
Ainda que sejam infinitas
Suas bênçãos, eu irei contar
'''


print(musica)


# 1 - Crie um REGEX para contar quantas vezes o caracter "a" aparece em todo o texto da música.
# 2 - Crie um REGEX em Python para contar quantaz vezes a palavra bençãos aparece na musica.
# 3 - Crie um REGEX em Python para extrair as palavras seguidas por virgulas.
# 4 - Crie um REGEX que extrai qualquer palavra cusjo antecessor seja a palvara "bençãos" e o sucessor seja a palavra "que"
# 5 - Crie um REGEX que retorne as palavras com acento, mas somente os caracteres na palavra que são anteriores ao caracter "s"


# 1 - Crie um REGEX para contar quantas vezes o caracter "a" aparece em todo o texto da música.
resultado = re.findall(r'a', musica)
print("A quantidade de caracteres 'a' econtrados foram:", len(resultado))


count = len(re.findall("a", musica))
print('O caractere "a" aparece', count, 'vezes na letra da música.')


# 2 - Crie um REGEX em Python para contar quantaz vezes a palavra bençãos aparece na musica.
bencaos = re.findall(r'\bbênçãos\b', musica)
print('A quantidade de ocorrências da palavra "bênçãos" encontradas foram:',len(bencaos))


def contar_bencaos(bencaos):
    regex = r'\bb[eê]n[cç][aã]os?\b'
    count = re.findall(regex, musica, re.IGNORECASE)
    return len(count)
quantidade = contar_bencaos(musica)
print('A quantidade de ocorrências da palavra "bênçãos" encontradas foram:',quantidade)


# 3 - Crie um REGEX em Python para extrair as palavras seguidas por virgulas.
# Expressão regular para encontrar palavras seguidas de vírgula

# Explicando o padrão r'\b\w+(?=,)':
# \b indica uma fronteira de palavra, garantindo que estamos correspondendo apenas palavras completas.
# \w+ corresponde a um ou mais caracteres alfanuméricos.
# (?=,) é um lookahead positivo, que garante que a correspondência seja seguida por uma vírgula (mas a vírgula não é incluída na correspondência).
virgula = r'\b\w+(?=,)'

# Encontrando todas as correspondências no texto
resultado = re.findall(virgula, musica)
# Imprimindo os resultados encontrados
print("As palavras seguidas de vírgula foram:", resultado)



# Crie um REGEX que extrai qualquer palavra cusjo antecessor seja a palvara "bençãos"
# e o sucessor seja a palavra "que"

# Expressão regular para extrair a palavra entre "bençãos" e "que"
regex = r"(?<=\bBênçãos\s)\w+(?=\snão\b)"

# Usando re.findall para encontrar todas as ocorrências
resultado = re.findall(regex, musica)

# Imprimindo o resultado
print('As palvaras cujo antecessor é "bênçãos" e sucessor é "não" são:',resultado) 


# 5 - Crie um REGEX que retorne as palavras com acento, mas somente os caracteres na palavra que 
# são anteriores ao caracter "s
regex = r'\b(\w*[aeiouáéíóúâêîôûãõçàèìòùäëïöü])(?=\w*s)'

# Usando re.findall para encontrar todas as ocorrências
resultado = re.findall(regex, musica)

# Imprimindo o resultado
print('As palavras com acento são e o caracter anterior é "s" são:',resultado)


# REGEX para contar as palavras PAI, Pai e pai em todo o código
regex = r'\bPai\b'
resultado = re.findall(regex, musica, re.IGNORECASE)
print(len(resultado))



