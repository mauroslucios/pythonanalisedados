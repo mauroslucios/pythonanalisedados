


# Versão da linguagem python usada neste jupyter notebook
from platform import python_version
print(f'Versão da linguagem python usada neste jupyter notebook =',python_version())





texto = "Cientista de Dados pode ser uma execelente alternativa de carreira.\n"
texto = texto + "Esses profissionais precisam saber como programar em Python.\n"
texto += "E, claro, devem ser proficientes em Data Science."


print(texto)


# Importando o módulo os
import os


# Criando um arquivo
arquivo = open(os.path.join('arquivos/cientista.txt'),'w')


# Gravando os dados no arquivo
for palavra in texto.split():
    arquivo.write(palavra + ' ')


# Fechando o arquivo
arquivo.close()


# Lendo o arquivo
arquivo = open('arquivos/cientista.txt','r')
conteudo = arquivo.read()
arquivo.close()
print(conteudo)








with open('arquivos/cientista.txt','r') as arquivo:
    conteudo = arquivo.read()


print(len(conteudo))


print(conteudo)


with open('arquivos/cientista.txt','w') as arquivo:
    arquivo.write(texto[:19])
    arquivo.write('\n')
    arquivo.write(texto[28:66])


# Lendo o arquivo
arquivo = open('arquivos/cientista.txt','r')
conteudo = arquivo.read()
arquivo.close()
print(conteudo)








# Importando o módulo csv
import csv


# Abrindo arquivo no modo de gravação, se não existir o arquivo será criado
with open('arquivos/numeros.csv','w') as arquivo:
    # criando objeto de gravação
    writer = csv.writer(arquivo)
    # grava no arquivo linha a linha
    writer.writerow(('nota1','nota2','nota3'))
    writer.writerow((63,87,92))
    writer.writerow((61,79,76))
    writer.writerow((72,64,91))


# Leitura de arquivos csv
# Abrindo arquivo para leitura e atribuindo encoding 'utf8'
with open('arquivos/numeros.csv','r', encoding='utf8', newline = '\r\n') as arquivo:
    # Cria o objeto de leitura
    leitor = csv.reader(arquivo)
    # Loop pegando cada linha do arquivo
    for x in leitor:
        print(x)


# Gerando uma lista com dados do arquivo csv 
with open('arquivos/numeros.csv','r') as arquivo:
    leitor = csv.reader(arquivo)
    dados = list(leitor)


print(dados)


# Imprimindo a partir da segunda linha
for linha in dados[1:]:
    print(linha)





# Criando um dicionário python que é um conjunto de pares chave:valor
dict_guido = {
    'nome':'Guido Van Rossum',
    'liguagem':'Python',
    'similar': ['c','Modula-3','lisp'],
    'users':1000000
}


# Percorrendo o dicionário
# Para cada conjunto de chave "valor = k,v" no "in dict", pega o "item = dict.items()" 
for k,v in dict_guido.items():
# imprimindo o conjunto chave valor = "print(k,v)"
    print (k,v)


# Importando o módulo Json
import json


# Convertendo o dicionário para um objeto json
json.dumps(dict_guido)


# Criando um arquivo json
with open('arquivos/dados.json','w') as arquivo:
    arquivo.write(json.dumps(dict_guido))


# Leitura de arquivos json
with open('arquivos/dados.json','r') as arquivo:
    texto = arquivo.read()
    # Usando o método loads para carregar o conteúdo de texto em dados "dados = json.loads(texto)
    dados = json.loads(texto)


dados


print(dados['nome'])





# Importando lib urlopen do pacote urllib usando método request
from urllib.request import urlopen
# Usando o urlopen para ler uma arquivo JSON copiado da internet usando decodificação utf8
response = urlopen("http://vimeo.com/api/v2/video/57733101.json").read().decode('utf8')
# Carregando od dados do arquivo com json no objeto dados "dados = json.loads(response)[0]
dados = json.loads(response)[0]


dados


print('Título: ', dados['title'])
print('URL: ', dados['url'])
print('Duração: ', dados['duration'])
print('Número de Visualizações: ', dados['stats_number_of_plays'])





# Nome dos arquivos
arquivo_fonte = 'arquivos/dados.json'
arquivo_destino = 'arquivos/dados.txt'


# Abrindo arquivo = fonte e gravando = destino
# Abrindo para leitura e colocando valores no objeto text
with open(arquivo_fonte,'r') as infile:
    text = infile.read()
    # Abrindo para gravação e colocando valores no objeto text
    with open(arquivo_destino,'w') as outfile:
        outfile.write(text)


# Mesmo código acima em apenas uma linha de código
open(arquivo_destino,'w').write(open(arquivo_fonte,'r').read())


# Leitura do arquivo txt
with open('arquivos/dados.txt','r') as arquivo:
    texto = arquivo.read()
    dados = json.loads(texto)


print(dados)
