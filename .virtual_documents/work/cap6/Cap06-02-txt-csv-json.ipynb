


# Versão da linguagem python usada neste jupyter notebook
from platform import python_version
print(f'Versão da linguagem python usada neste jupyter notebook =',python_version())





texto = "Cientista de Dados pode ser uma execelente alternativa de carreira.\n"
texto = texto + "Esses profissionais precisam saber como programar em Python.\n"
texto += "E, claro, devem ser proficientes em Data Science."


print(texto)


# Importando o módulo os
import os


# Criando um arquivo
arquivo = open(os.path.join('arquivos/cientista.txt'),'w')


# Gravando os dados no arquivo
for palavra in texto.split():
    arquivo.write(palavra + ' ')


# Fechando o arquivo
arquivo.close()


# Lendo o arquivo
arquivo = open('arquivos/cientista.txt','r')
conteudo = arquivo.read()
arquivo.close()
print(conteudo)








with open('arquivos/cientista.txt','r') as arquivo:
    conteudo = arquivo.read()


print(len(conteudo))


print(conteudo)


with open('arquivos/cientista.txt','w') as arquivo:
    arquivo.write(texto[:19])
    arquivo.write('\n')
    arquivo.write(texto[28:66])


# Lendo o arquivo
arquivo = open('arquivos/cientista.txt','r')
conteudo = arquivo.read()
arquivo.close()
print(conteudo)









