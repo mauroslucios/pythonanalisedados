


# Versão do Python 
from platform import python_version
print(f'Versão da Linguagem Python usada neste Jupyter Notebook.', python_version())


# Importando a função reduce do módulo functool
from functools import reduce


from IPython.display import Image
Image('arquivos/pythonreduce.png')


# Criando uma lista
lista = [47, 11, 42, 13]


lista


# Função
def soma(a,b):
    x = a + b
    return x


# Usando reduce com uma função e uma lista. A função vai retornar o valor máximo
print(f'O resultado da soma do valores da lista é:', reduce(soma, lista))


# Criando uma lista
lst = [47, 11, 42, 13]


# Usando a função reduce() com lambda
print(f'O resultado a soma dos valores da lista usando lambda é:',reduce(lambda x,y : x+y, lst))


# Podemos atribuir a expressão lambda a uma variável e buscando o maior valor
max_find2 = lambda a,b: a if (a > b) else b


type(max_find2)


# Reduzindo a lista até o valor máximo, através da função criada com a expressão lambda
print(f'Usando lambda com reduce para achar o valor máximo da lista:',reduce(max_find2, lst))



