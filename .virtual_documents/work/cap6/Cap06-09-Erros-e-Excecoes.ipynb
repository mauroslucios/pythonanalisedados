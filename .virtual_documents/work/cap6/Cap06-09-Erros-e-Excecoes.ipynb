


# Versõa da Linguagem Python
from platform import python_version
print('Versão da Linguagem Python usada neste Jupyter Notebook', python_version())


# Erro (leia mensagem de erro)
print('Hello)


# Erro (leia a mensagem de erro)
8 + 's'


# Criando uma função
def numDiv(n1,n2):
    resultado = n1 / n2
    print(resultado)


# Execução não gera erro
numDiv(4,2)


# Execução gernado erro (leia a mensagem de erro)
numDiv(4,0)





8 + 's'


# Utilizando try e except
try:
    8 + 's'
except TypeError:
    print('Operação não permitida')


# Utilizando try, except e else
try:
    f = open('arquivos/testandoerros.txt','w')
    f.write('Gravando no arquivo')
except IOError:
    print('Erro: arquivo não encontrado ou não pode ser salvo.')
else:
    print('Conteúdo gravado com sucesso!')
    f.close()
        
    


# Utilizando try, except e else
try:
    f = open('arquivos/testandoerros','r')
except IOError:
    print('Erro: arquivo não encontrado ou não pode ser lido.')
else:
    print('Conteúdo gravado com sucesso!')
    f.close()



# Utilizando try, except, else e finally
try:
    f = open('arquivos/testandoerros.txt','w')
    f.write('Gravando no arquivo')
except IOError:
    print('Erro: arquivo não encontrado ou não pode ser salvo.')
else:
    print('Conteúdo gravado com sucesso')
    f.close()
finally:
    print('Comando no bloco finally são sempre executados!')


def askint():
    try:
        val = int((input("Digite um número:")))
    except:
        print ("Você não digitou um número!")
    finally:
        print("Obrigado")


askint()


def askint():
    while True:
        try:
            val = int(input("Digite um número: "))
        except:
            print("Você não digitou um número!")
            continue
        else:
            print("Obrigado por digitar um número")
            print (val
            break
        finally:
            print("Fim da execução!")


askint()






