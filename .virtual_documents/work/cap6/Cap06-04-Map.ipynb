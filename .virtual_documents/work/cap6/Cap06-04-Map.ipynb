


# Versão da Linguagem  Python
from platform import python_version
print('A versão da lainguage Python usada neste Jupyter Notebook:', python_version())





# Função Python que retorna um número ao quadrado
def potencia(x):
    return print(f'O quadrado de {x} é: ', x ** 2)


potencia(1000)





numeros = [1,2,3,4,5]


numeros_ao_quadrado = list(map(potencia, numeros))


# Criando duas funções
# Função 1 - Recebe uma temperatura como parâmetro e retorna a temperatura em Fahrenheit
def fahrenheit(T):
    return ((float(9)/5)*T + 32)
# Função 2 - Recebe uma temperatura como parâmetro e retorna a temperatura em Celsius
def celsius(T):
    return (float(5)/9)*(T-32)


# Criando uma lista
temperaturas = [0, 22.5, 40, 100]



# Aplicando a função a cada elemento da lista de temperaturas.
# Em python 3, a função map() retorna um iterator
map(fahrenheit, temperaturas)


# Função map() retornando a lista de temperaturas convertidas em Fahrenheit
list(map(fahrenheit, temperaturas))


# Usando um loop for para imprimir o resultado da função map()
for temp in map(fahrenheit, temperaturas):
    print(f'A temperatura convertida para Fahrenheit é:', temp)


# Convertendo para Celsius
map(celsius, temperaturas)


list(map(celsius, temperaturas))


# Usando expressão lambda
map(lambda x: (5.0/9)*(x - 32), temperaturas)


list(map(lambda x: (5.0/9) * (x - 32), temperaturas))


# Somando os elementos de 2 listas
a = [1,2,3,4]
b = [5,6,7,8]


list(map(lambda x,y : x + y, a, b))


# Somando os elementos de 3 listas
a = [1,2,3,4]
b = [5,6,7,8]
c = [9,10,11,12]


list(map(lambda x,y, z: x + y + z, a, b, c))



