


# Versão da Linguagem Python
from platform import python_version
print('Versão da Liguage Python usada neste Jupyter Notebook:', python_version())





# Importando um pacote Python
import numpy


# Verificando todos os módulos e atributos disponíveis no pacote
dir(numpy)


# Usando método sqrt(raiz quadrada) do pacote Numpy
num = 25
print(f'A raiz quadrada de {num} é:',numpy.sqrt(25))


# Import apenas um dos módulos do pacote Numpy
from numpy import sqrt
#usando este módulo importado
num = 49
raiz_quadrada = sqrt(num)
# Imprimindo este resultado
print(f'A raiz quadrada de {num} é:', raiz_quadrada)


print(dir(numpy))


help(sqrt)


sqrt([1,4,9])


import random


random.choice(['Abacate','Banana','Laranja'])


random.sample(range(100),10)


#help(random)


import statistics


dados = [2.75, 1.75,1.25, 0.25,0.5,1.25,3.5]


print(dados)


statistics.mean(dados)


statistics.median(dados)


import os


os.getcwd()


#print(dir(os))


# Importando o módulo request do pacote urlib, usado para trazer url's
# para dentro do nosso ambiente Python
import urllib.request





# A variável resposta armazena o objeto de conexão à url passada como parâmetro
resposta = urllib.request.urlopen('https://python.org')


# Objeto resposta
print(resposta)


# Chamando o métdodo read() do objeto resposta e aramazenando o código html na variável html
html = resposta.read()
print(html)



