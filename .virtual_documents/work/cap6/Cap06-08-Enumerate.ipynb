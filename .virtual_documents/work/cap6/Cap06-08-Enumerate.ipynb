


# Versão da Linguagem Pyhton
from platform import python_version
print(f'Versão da linguagem Python usada neste Jupyter Notebook', python_version())


# Criando uma lista
seq = ['a','b','c']


enumerate(seq)


list(enumerate(seq))


# Imprimindo os valores de uma lista com a função enumerate() e seus respectivos valores


for indice, valor in enumerate(seq):
    print(indice, valor)


for indice, valor in enumerate(seq):
    if indice >= 2:
        break
    else:
        print(valor)


lista = ['Marketing','Tecnologia','Business']


for i, item in enumerate(lista):
    print(i , item)


for i, item in enumerate('Data Science Academy'):
    print(i, item)



