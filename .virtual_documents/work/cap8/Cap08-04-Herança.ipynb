# Versão do Python usada neste Jupyter Notebbok
from platform import python_version
print('Versão da linguagem Pyhton usada neste Jupyter Notebbok', python_version())





# Criando a classe Animal - Super-classe
class Animal:
    def __init__(self):
        print('Animal criado.')
    def imprimir(self):
        print('Este é um animal.')
    def comer(self):
        print('Comendo...')
    def emitir_som(self):
        pass        


# Criando a classe Cachorro - Sub-classe
class Cachorro(Animal):
    def __init__(self):
        # Construtor da Super-classe
        Animal.__init__(self)
        print('Objeto cachorro criado')
    def emitir_som(self):
        print('Au, au')


# Instanciando um Objeto Cachorro
cangal = Cachorro()


cangal.imprimir()


print('O cachorro está:')
cangal.comer()


print('O cacchorro está latindo:')
cangal.emitir_som()


# Criando a classe Gato - Sub-classe
class Gato(Animal):
    def __init__(self):
        Animal.__init__(self)
        print('Objeto gato criado')
    def emitir_som(self):
        print('Miau...')


# Instanciando um Objeto Gato
benghal = Gato()


benghal.imprimir()


print('O gato benghal está')
benghal.comer()


print('O gato benghal está miando')
benghal.emitir_som()



