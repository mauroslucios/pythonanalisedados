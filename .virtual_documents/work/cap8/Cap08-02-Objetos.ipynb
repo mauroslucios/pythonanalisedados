


# Versão do python usada neste Notebbok
from platform import python_version
print(f'Versão da linguagem Python usada neste Jupyter Notebbok:', python_version())


# Criando uma lista
lst_num = ['Data','Scince','Academy',10,10]


# a lista lst_num é um objeto, uma instãncia da classe list em Python
type(lst_num)


print(type([]))


lst_num.count(10)


# Usamos a função type, para verificar o tipo de um objeto
print(type(10))
print(type([]))
print(type(()))
print(type({}))
print(type('a'))


# Criando um novo tipo de objeto chamado carro
class Carro(object):
    pass


# Instância do Carro
ferrari = Carro()


print(type(ferrari))


# Criando uma class
class Estudantes:
    def __init__(self, nome, idade, nota):
        self.nome = nome
        self.idade = idade
        self.nota = nota


# Criado um objeto chamado Estudante1 a partir da classe Estudantes
Estudante1 = Estudantes("Bob", 12, 9.5)


# Atributo da classe Estudante, utilizado por cada objeto criado a partir desta classe
Estudante1.nome


# Atributo da classe Estudante, utilizado por cada objeto criado a partir desta classe
Estudante1.idade


# Atributo da classe Estudante, utilizado por cada objeto criado a partir desta classe
Estudante1.nota


# Criando uma classe
class Funcionarios:
    def __init__(self, nome, salario, cargo):
        self.nome = nome
        self.salario = salario
        self.cargo = cargo
    def listFunc(self):
        print("Funcionário(a) "+ self.nome +" tem salário de R$ "+ str(self.salario) +" e o cargo é "+ self.cargo)


# Criando um objeto chmado Func1 a partir da classe Funcionários
Func1 = Funcionarios("Mary", 20000, "Cientista de Dados.")


# Usando o método da classe
Func1.listFunc()


print("**** Usando atributos ****")


hasattr(Func1, "nome")


hasattr(Func1, "salario")


setattr(Func1, "salario", 4500)


hasattr(Func1, "salario")


getattr(Func1, "salario")


delattr(Func1, "salario")


hasattr(Func1, "salario")



