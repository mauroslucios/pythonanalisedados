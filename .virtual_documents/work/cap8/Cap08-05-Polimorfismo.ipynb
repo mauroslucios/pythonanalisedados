# Versão do Python usada neste Jupyter Notebbok
from platform import python_version
print('Versão da linguagem Pyhton usada neste Jupyter Notebbok', python_version())





# superclasse
class Veiculo:
    def __init__(self, marca, modelo):
        self.marca = marca
        self.modelo = modelo
    def acelerar(self):
        pass
    def frear(self):
        pass
        


# Subclasse
class Carro(Veiculo):
    def acelerar(self):
        print('O carro está acelerando.')
    def frear(self):
        print('O carro está freando.')


# Subclasse
class Moto(Veiculo):
    def acelerar(self):
        print('A moto está acelerando.')
    def frear(self):
        print('A moto está freando.')


# Subclasse
class Aviao(Veiculo):
    def acelerar(self):
        print('O avião está acelerando.')
    def frear(self):
        print('O avião está freando.')
    def decolar(self):
        print('o avião está decolando.')


# Cria os objetos
lista_veiculos = [Carro('Porsche','911 turbo'),Moto('Honda','Cb 1000r Black Edition'), Aviao('Boeing','757')]


# Loop
for item in lista_veiculos:
    # O método acelerar tem comportmento diferente dependendo do tipo de objeto
    item.acelerar()
    # O método frear tem comportmento diferente dependendo do tipo de objeto
    item.frear()
    # Executamos o método decolar somente se o objeto for instância da class Aviao
    if isinstance(item, Aviao):
        item.decolar()
    print('---')



