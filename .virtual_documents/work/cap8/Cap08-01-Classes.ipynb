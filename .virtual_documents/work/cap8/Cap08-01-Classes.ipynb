# Versao da Linguagem Python
from platform import python_version
print("Versão da Linguagem Python usada neste Jupyter Notebbok:", python_version())








# Criando uma classe chamada Livro
class Livro():
    # Este método vai inicializar cada objeto criado a partir desta classe
    # O nome deste método é __init__
    # (self) é uma referência a cada atributo da própria classe (e não de uma classe mãe, por exemplo)
    def __init__(self):
        # Atributos são propriedades
        self.titulo = 'Sapiens - Uma breve hitória da humanidade'
        self.isbn = 9988888
        print("Construtor chamado para criar um objeto desta classe.")
    # Métodos são funções que executam ações nos objetos da classe
    def imprime(self):
        print("Foi criado o livro %s com ISBN %d" %(self.titulo, self.isbn))
        





# Criando uma instância da classe livro
Livro1 = Livro()


# O objeto Livro1 é do tipo Livro
type(Livro1)


# Atributo do objeto Livro1
# Atributos são características do objeto
print(f'Título do Livro:',Livro1.titulo)
print(f'ISBN do Livro:',Livro1.isbn)


# Método do objeto Livro1
Livro1.imprime()



