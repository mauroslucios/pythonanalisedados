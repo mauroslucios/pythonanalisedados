


# Versão da Líguagem Python 
from platform import python_version
print(f'Versão da linguagem python usada neste Jupyter Notebook: {python_version()}')





# Criando uma lista
lista = [100, -2, 12,65,0]


type(lista)


# Verificando métodos e atributos
lista


# Usando um métodos do objeto lista
lista.append(100)
lista


# Usando um método do objeto lista
lista.count(100)


# A função help() explica como utilizar cada método de um objeto
help(lista.count)


# A função dir() mostra todos os métodos e atributos de um objeto
dir(lista)


# Usando método sort para ordenar a lista
lista.sort()
lista


frase = 'Isso é uma string'


type(frase)


# Verificando métodos e atributos basta concatenar o objeto com '.'
frase


# O método de um objeto pode ser chamado dentro de uma função, como print()
print(frase.split())
