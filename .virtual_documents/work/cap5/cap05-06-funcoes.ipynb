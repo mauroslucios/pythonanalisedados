


# Versão da Línguagem Python
from platform import python_version
print(f'Versão do Python usada neste Jupyter Notebbok {python_version()}')





print('Hello World')


# Definindo uma função 
# Para definir uma função usamos a palavra reservada def
# Abaixo criando uma função ou seja um objeto
def primeiraFunc():
    # Usando a função do Python print()
    print('Hello World')
primeiraFunc()


# Definindo uma função
def segundaFunc():
    nome = 'Mauro'
    print('Hello %s!' %(nome))


# Chamando a função segundaFunc()
segundaFunc()


# Definindo uma função com parâmetro
def terceiraFunc(nome):
    print('Hello %s!' %(nome))


# Chamando a função terceiraFunc()
terceiraFunc('Mauro')


# Criando uma função para imprimir números
def imprimirNumeros():
    # Loop
    for i in range(0,5):
        print(f'Número: ' + str(i))


# Chamando a função imprimirNumero()
imprimirNumeros()


# Função para somar números
# Esta função receberá 2 parâmetros
def somaNum(firstNum, secondNum):
    print('Primeiro número: ' + str(firstNum))
    print('Segundo número: ' + str(secondNum))
    print(f'A soma de {firstNum} + {secondNum} = ', firstNum + secondNum)


# Chamando  função somaNum() e passando parâmetros para a função
print(somaNum(10,50))


# Função com número de argumentos variável
def printVarInfo(arg1, *vartuple):
    # Imprimindo o valor do primeiro argumento
    print("O parâmetro passado foi: ", arg1)
    # Imprimindo o valor do segundo argumento
    for item in vartuple:
        print("O parâmentro passado foi:", item)
    return;


# Fazendo chamada à função usando apenas 1 argumento
printVarInfo(10)


# Fazendo chamada à função usando 2 argumento
printVarInfo('Chocolate','Morango')


# Fazendo chamada à função usando mais de 2 argumento
printVarInfo('Data','Science','Academy')








multiplica_numeros(5,25)


print(var_global)


# Variável Global
var_global = 10 # Está é uma variável global

# Função
def multiplica_numeros(num1,num2):
    var_local = num1 * num2
    print(var_local)


multiplica_numeros(5,25)


print(var_global)





abs(-56)


abs(23)


bool(0)


bool(1)


int(4.3)


str(13)


float(5)


# Erro ao executar por causa da conversão
idade = int(input("Digite sua idade:"))
if idade > 13:
    print("Você pode acessar Redes Sociais com supervisão!")
else:
    print("Seus pais não deveriam deixar você acessar Redes Sociais sem supervisão!")


int("26")


float("123.456")


str(14)


len([23,34,45,46])


array = [1,2,3]


max(array)


list1 = [16,23,45,75]


sum(list1)








import math
# Verificando se um número é primo
def numPrimo(num):
    if(num % 2) == 0 and num > 2:
        return "Este número não é primo"
    for i in range(3, int(math.sqrt(num)) +1, 2):
        if(num % i) == 0:
            return "Este número não é primo"
    return "Este número é primo"


numPrimo(541)


caixa_baixa = "Este Texto Deveria Estar Todo em LowerCase"


def lowercase(text):
    return text.lower()


lowercased_string = lowercase


lowercased_string('MINUSCULAS')





# Fazendo split dos dados
def split_string_palavras(text):
    return text.split(" ")


texto = "Está função será bastante útil para separar grandes volumes de dados."


# Isso divide a string em uma lista de palavaras
print(split_string_palavras(texto))


# Podemos atribuir o output de uma função para uma variável
token = split_string_palavras(texto)


token


# Fazendo split dos dados
def split_string_letras(text):
    texto = text.upper()
    for letra in texto:
        print(letra)


split_string_letras(texto)



