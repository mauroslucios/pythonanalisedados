


# Versão de Linguagem Python
from platform import python_version
print('Versão Python usada neste Jupyter Notebook:', python_version())





# Imprimindo números de 1 a 10
for i in range(1,11):
    print(i)


# Imprimindo números pares entre 50 e 101
# Usnado 2 como terceiro parãmetro de salto
for i in range(50,101,2):
    print(i)


# Imprimindo os números pares negativos entre 0 e -20
for i in range(0,-20, -2):
    print(i)


# usando o tamanho de uma lista na função range()
lista = ['Abacaxi','Banana','Morango','Uva']
lista_tam = len(lista)
for i in range(0,lista_tam):
    print(lista[i])



