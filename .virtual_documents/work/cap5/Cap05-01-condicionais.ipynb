


# versão da linguagem Python
from platform import python_version
print(python_version())





# condicional if (se)
if 5 > 2:
    print(f"A sentença é verdadeira")


# condicional if...else
if 5 < 2:
    print(f"A sentença é verdadeira!")
else:
    print(f"A sentença é falsa!")


# condicional if...else com variáveis
dia = "Terça"
if dia == "Segunda":
    print("Hoje fará sol!")
else:
    print("Hoje vai chover!")


# podemos usar o operador elif para validar mais de uma condição
if dia == "Segunda":
    print("Hoje fará sol!")
elif dia == "Terça":
    print("Hoje vai chover")
else:
    print("Sem previsão do tempo para o dia selecionado")





# compara dois valores tendo uma resposta booleana
6 > 3


3 > 7


4 < 8


4 >= 4


if 5 == 5:
    print("Testando Python!")


if True:
    print('Parece que Python funciona!')





idade = 18
if idade > 17:
    print('Você pode dirigir')


nome = 'Bob'
if idade > 13:
    if nome == 'Bob':
        print(f'Ok bob, você está autorizado a entrar!')
    else:
        print('Desculpa, mas você não pode entrar!')


idade = 13
nome = 'Bob'
if idade >= 13 and nome == 'Bob':
    print('Ok Bob, você está autorizado a entrar!')


idade = 12
nome = 'Bob'
if(idade >= 13) or nome == 'Bob':
    print('Ok bob, você está autorizado a entrar!')


# várias condições aninhadas
list = ['segunda','terça','quarta','quinta','sexta','sabado','domingo']
for weekend in list:
    if weekend == 'sexta':
        print(f'Uhull, Sextouuu! Hoje é {weekend}-feira e chegou o final de semana!')
    elif weekend == 'sabado':
        print(f'Sábado dia de descanso! Chegou final de semana!')
    elif weekend == 'domingo':
        print(f'Hoje é {weekend} último dia de descanso e começa uma nova semana, amanhã já é segunda-feira.')
        print(f'Obrigado meu DEUS por mais uma semana!')
    else:
        print(f'Ainda não chegou o final de semana, hoje é {weekend}-feira! Bora trabalhar e dar o melhor em tudo!')








# Operador and - Retorna true se ambas as declarações forem verdadeiras.
idade = 18
if idade > 17 and nome == 'Bob':
    print('Autorizado')


idade = 18
nome = 'Bob'
if idade > 17:
    print('Você pode dirigir')


dia = 'Domingo'
tempo = 'Sol'
if dia == 'Domingo' and tempo == 'Sol':
    print(f'Vamos a praia!')
else:
    print(f'Vamos ao shopping!')


# Operador or - Retorna True se um das declarações for verdadeira.
dia = 'domingo'
tempo = 'ferias'
if dia == 'domingo' or tempo == 'ferias':
    print(f'Não preciso trabalhar hoje')


numero = 4
if(numero > 5) or (numero % 2 == 0):
    print('Se uma condições for verdadeira será impresso!')
else:
    print('Nenhuma condição é verdadeira!')


n = 11
if(n % 2 == 0) or (n <= 10):
    print('Divisível por 2 e menor que 10')
else:
    print('Não é divisível por 2 e tampouco menor que 10')


# Operador not - Inverte o resultado, retorna False se o resultado for True
# usando and e not juntos
n2 = 11
if not (n2 <= 10) and (n2 % 2 == 0):
    print('Não é divisível por 2, mas é menor ou igual a 10')
else:
    print('Não é divisível por 2 e não é menor ou igual a 10')
