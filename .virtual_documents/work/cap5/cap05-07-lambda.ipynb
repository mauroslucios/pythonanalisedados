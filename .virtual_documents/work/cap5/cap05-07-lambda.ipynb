from platform import python_version
print('Versão da Linguagem Python usada  neste Jupyter Notebook:', python_version())





# Definindo uma função - 3 linhas de código
def potencia3(num):
    resultado = num ** 2
    return print(f'A potência de {num} é:', resultado)


potencia3(5)


# Definindo uma função - 2 linhas de código
def potencia2(num):
    return print(f'A potência de {num} é:', num ** 2)


potencia2(4)


# Definindo uma fução - 1 linha de código
def potencia1(num): return print(f'A potência de {num} é:', num**2) 


potencia1(10)


# Definindo uma expressão lambda (função anônima)
potencialambda = lambda num: print(f'A potência de {num} é:', num ** 2)


potencialambda(3)


# Lembre: operadores de comparção retornam boolean: true or false
par = lambda x: print(f'O número {x} é par? ->', x % 2 == 0)


par(10)


first = lambda s: s[0]


first('Python')


reverso = lambda s: s[::-1]


reverso('Python')


addNum = lambda x,y: print(f'A soma de {x} + {y} é:', x + y)


addNum(1000,10000)



