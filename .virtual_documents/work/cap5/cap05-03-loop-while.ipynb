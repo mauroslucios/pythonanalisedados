





# Usando o loop while para imprimir os valores de 0 a 9
# A condição tem que deixar  de ser verdadeira dentro do loop, senão pode travar o navegador ou meso o computador
valor = 0
while valor < 10:
    print(valor)
    valor += 1


# Entre no loop somente se a condição for verdadeira
valor = 11
while valor < 10:
    print(v)
    valor += 1


# Usando else para encerrar o loop while
x = 0
while x < 10:
    print(f'O valor de x nesta iteração é: {x}')
    print(f'O valor {x} ainda é menor que 10, somando 1 + {x} =', x +1)
    x += 1
else:
    print(f'Loop concluído x é = {x}.')





# Se encontrarmos o número 4 interrompemos o loop
valor = 0
while valor < 10:
    if valor == 4:
        break
    else:
        pass
    print(valor)
    valor += 1


# Usando continue
for letra in "Python é z incrível!":
    if letra == "z":
        continue
    print(letra)








# Código jupyter notebook que mede tempo de execução da célula
%time
print('------------------------------------------')
# criando lista vazia para aramazenar números primos
primos = []

# Loop for para percorrer números de 2 a 30
for num in range(2,31):
    # Variável de controle
    eh_primo = True
    # Loop while para verificar se o número é primo
    i = 2
    while i <= num // 2:
        if num % i == 0:
            eh_primo = False
            break
        i += 1
    # Adicionando o número primo na lista
    if eh_primo:
        primos.append(num)
# Imprimindo a lista de números primos
print(f'Estes números são primos:', primos)


# Código jupyter notebook que mede tempo de execução da célula
%time
print('------------------------------------------')
# Outro exemplo de primos entre 2 e 30 usando loop for e while
#Loop for para percorrer números de 2 a 30
for i in range(2,31):
    # Variável de controle
    j = 2
    # Contador
    valor = 0
    # Loop while para verificar se o número é primo
    while j < i:
        if i % j == 0:
            valor = 1
            j = j + 1
        else:
            j = j + 1
    if valor == 0:
        print(str(i) + " é um número primo")
        valor = 0
    else:
        valor = 0
