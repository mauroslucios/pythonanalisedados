


# Usando mais de uma condição na cláusula if e introduzindo Placeholders
disciplina = 'Data Science'
nota_final = 90
semestre = 2

if disciplina == 'Data Science' and nota_final >= 80 and semestre != 1:
    print(f'Você foi aprovado em %s com media final %r!' %(disciplina, nota_final))
else:
    print('Você não foi aprovado!')                                                           
