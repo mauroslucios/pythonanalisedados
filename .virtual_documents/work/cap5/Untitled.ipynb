


# Versão da Línguagem Python
from platform import python_version
print(f'Versõa Python usada neste Jupyter Notebbok {python_version()}')





print('Hello World')


# Definindo uma função 
# Para definir uma função usamos a palavra reservada def
# Abaixo criando uma função ou seja um objeto
def primeiraFunc():
    # Usando a função do Python print()
    print('Hello World')
primeiraFunc()


# Definindo uma função
def segundaFunc():
    nome = 'Mauro'
    print('Hello %s!' %(nome))


# Chamando a função segundaFunc()
segundaFunc()


# Definindo uma função com parâmetro
def terceiraFunc(nome):
    print('Hello %s!' %(nome))


# Chamando a função terceiraFunc()
terceiraFunc('Mauro')


# Criando uma função para imprimir números
def imprimirNumeros():
    # Loop
    for i in range(0,5):
        print(f'Número: ' + str(i))


# Chamando a função imprimirNumero()
imprimirNumeros()


# Função para somar números
# Esta função receberá 2 parâmetros
def somaNum(firstNum, secondNum):
    print('Primeiro número: ' + str(firstNum))
    print('Segundo número: ' + str(secondNum))
    print(f'A soma de {firstNum} + {secondNum} = ', firstNum + secondNum)


# Chamando  função somaNum() e passando parâmetros para a função
print(somaNum(10,50))
