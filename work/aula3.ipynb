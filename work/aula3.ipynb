{
 "cells": [
  {
   "cell_type": "code",
   "execution_count": 12,
   "id": "077b563f-5f41-490d-a70a-69ab06c197d8",
   "metadata": {},
   "outputs": [],
   "source": [
    "# algorítmo booble sort\n",
    "lista = [10,8,105,1,0,3,-50]\n",
    "def buble_sort(arr):\n",
    "    n = len(arr)\n",
    "    # para cada elemento i do array\n",
    "    for i in range(n):\n",
    "        # para cada elemento j do array\n",
    "        for j in range(0, n-i-1):\n",
    "        # se elemento i for maior que elemento j\n",
    "            if arr[j] > arr[j+1]:\n",
    "                # troque os elementos i e j\n",
    "                arr[j], arr[j+1] = arr[j+1], arr[j]\n",
    "    return arr\n",
    "                \n",
    "        "
   ]
  },
  {
   "cell_type": "code",
   "execution_count": 14,
   "id": "a49c5ced-4f9e-44a0-b763-a996af0f80be",
   "metadata": {},
   "outputs": [
    {
     "name": "stdout",
     "output_type": "stream",
     "text": [
      "[-50, 0, 1, 3, 8, 10, 105]\n"
     ]
    }
   ],
   "source": [
    "print(buble_sort(lista))"
   ]
  },
  {
   "cell_type": "code",
   "execution_count": null,
   "id": "681b1ab4-1ca5-4ba3-894c-e7acb2ab3d88",
   "metadata": {},
   "outputs": [],
   "source": []
  }
 ],
 "metadata": {
  "kernelspec": {
   "display_name": "Python 3 (ipykernel)",
   "language": "python",
   "name": "python3"
  },
  "language_info": {
   "codemirror_mode": {
    "name": "ipython",
    "version": 3
   },
   "file_extension": ".py",
   "mimetype": "text/x-python",
   "name": "python",
   "nbconvert_exporter": "python",
   "pygments_lexer": "ipython3",
   "version": "3.11.7"
  }
 },
 "nbformat": 4,
 "nbformat_minor": 5
}
