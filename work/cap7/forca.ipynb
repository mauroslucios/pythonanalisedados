{
 "cells": [
  {
   "cell_type": "markdown",
   "id": "f7bf31ba-2558-4135-bb56-ab1a3e5906f4",
   "metadata": {},
   "source": [
    "# Jogo da Forca em Python"
   ]
  },
  {
   "cell_type": "code",
   "execution_count": 1,
   "id": "6ba6cc9b-b8e7-4468-acb8-d08744452de7",
   "metadata": {},
   "outputs": [],
   "source": [
    "import random\n",
    "from os import system, name\n",
    "# Função para limpar a tela a cada execução\n",
    "def limpa_tela():\n",
    "    # Windows\n",
    "    if name == 'nt':\n",
    "        _= system('cls')\n",
    "    # Mac ou Linux\n",
    "    else:\n",
    "        _= system('clear')"
   ]
  },
  {
   "cell_type": "code",
   "execution_count": null,
   "id": "dbe5d094-c97c-447f-ac6d-e11266634f98",
   "metadata": {},
   "outputs": [],
   "source": []
  }
 ],
 "metadata": {
  "kernelspec": {
   "display_name": "Python 3 (ipykernel)",
   "language": "python",
   "name": "python3"
  },
  "language_info": {
   "codemirror_mode": {
    "name": "ipython",
    "version": 3
   },
   "file_extension": ".py",
   "mimetype": "text/x-python",
   "name": "python",
   "nbconvert_exporter": "python",
   "pygments_lexer": "ipython3",
   "version": "3.11.7"
  }
 },
 "nbformat": 4,
 "nbformat_minor": 5
}
