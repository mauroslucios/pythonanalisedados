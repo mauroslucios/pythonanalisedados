{
 "cells": [
  {
   "cell_type": "code",
   "execution_count": 7,
   "id": "69c92d51-f6a5-4fe6-ae56-09298eef4492",
   "metadata": {},
   "outputs": [
    {
     "name": "stdout",
     "output_type": "stream",
     "text": [
      "Bem vindo a calculadora das 4 operações básicas\n"
     ]
    },
    {
     "name": "stdin",
     "output_type": "stream",
     "text": [
      "Escolha a operação matemática: +, -, /, * l\n",
      "Insira o primeiro valor para a operção 10\n",
      "Insira o segundo valor para a operção 15\n"
     ]
    },
    {
     "name": "stdout",
     "output_type": "stream",
     "text": [
      "Você escolheu uma operação não prevista\n"
     ]
    }
   ],
   "source": [
    "# exibindo uma mensagem para o usuário\n",
    "print('Bem vindo a calculadora das 4 operações básicas')\n",
    "# pedindo os valores da operação\n",
    "num1 = float(input(\"Insira o primeiro valor para a operação\"))\n",
    "num2 = float(input(\"Insira o segundo valor para a operação\"))\n",
    "# escolhendo a operação a ser executada\n",
    "operacao = input(f\"Escolha a operação matemática: +, -, /, *\")\n",
    "# calculando a operação\n",
    "if(operacao == \"+\"):\n",
    "    resultado = num1 + num2\n",
    "    print(f\"A soma de {num1} + {num2} =\",resultado)\n",
    "elif(operacao == \"-\"):\n",
    "    resultado = num1 - num2\n",
    "    print(f\"A subtração de {num1} - {num2} =\",resultado)\n",
    "elif(operacao == \"*\"):\n",
    "    resultado = num1 * num2\n",
    "    print(f\"A multiplicação de {num1} * {num2} =\",resultado)\n",
    "elif(operacao == \"/\"):\n",
    "    resultado = num1 / num2\n",
    "    print(f\"A divisão de {num1} / {num2} =\",resultado)\n",
    "else:\n",
    "    print(\"Você escolheu uma operação não prevista\")"
   ]
  }
 ],
 "metadata": {
  "kernelspec": {
   "display_name": "Python 3 (ipykernel)",
   "language": "python",
   "name": "python3"
  },
  "language_info": {
   "codemirror_mode": {
    "name": "ipython",
    "version": 3
   },
   "file_extension": ".py",
   "mimetype": "text/x-python",
   "name": "python",
   "nbconvert_exporter": "python",
   "pygments_lexer": "ipython3",
   "version": "3.11.7"
  }
 },
 "nbformat": 4,
 "nbformat_minor": 5
}
