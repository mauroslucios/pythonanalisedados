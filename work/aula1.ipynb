{
 "cells": [
  {
   "cell_type": "code",
   "execution_count": 4,
   "id": "9d60aadf-292c-4e9f-a255-c7f90792087f",
   "metadata": {},
   "outputs": [
    {
     "name": "stdout",
     "output_type": "stream",
     "text": [
      "A versão do seu pyhton é:  3.11.7\n"
     ]
    }
   ],
   "source": [
    "# verificando  versão do python\n",
    "from platform import python_version\n",
    "print(f'A versão do seu pyhton é: ',python_version())"
   ]
  },
  {
   "cell_type": "code",
   "execution_count": 11,
   "id": "e872022a-dea0-44c9-8ace-4e5d3cb0f238",
   "metadata": {},
   "outputs": [
    {
     "name": "stdout",
     "output_type": "stream",
     "text": [
      "Bem vindo\n"
     ]
    },
    {
     "name": "stdin",
     "output_type": "stream",
     "text": [
      "Insira um valor para a base 2\n",
      "Insira um valor para a altura 5\n"
     ]
    },
    {
     "name": "stdout",
     "output_type": "stream",
     "text": [
      "A área do paralelograma é:  10.0\n"
     ]
    }
   ],
   "source": [
    "# exibindo uma mensagem para o usuário\n",
    "print('Bem vindo')\n",
    "# pedindo a base\n",
    "base = float(input(\"Insira um valor para a base\"))\n",
    "# pedindo a altura\n",
    "altura = float(input(\"Insira um valor para a altura\"))\n",
    "# calculando a área\n",
    "area = base * altura\n",
    "# exibindo o comprimento da área\n",
    "print(f\"A área do paralelograma é: \", area)"
   ]
  }
 ],
 "metadata": {
  "kernelspec": {
   "display_name": "Python 3 (ipykernel)",
   "language": "python",
   "name": "python3"
  },
  "language_info": {
   "codemirror_mode": {
    "name": "ipython",
    "version": 3
   },
   "file_extension": ".py",
   "mimetype": "text/x-python",
   "name": "python",
   "nbconvert_exporter": "python",
   "pygments_lexer": "ipython3",
   "version": "3.11.7"
  }
 },
 "nbformat": 4,
 "nbformat_minor": 5
}
