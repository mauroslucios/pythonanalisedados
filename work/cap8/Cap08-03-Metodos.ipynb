{
 "cells": [
  {
   "cell_type": "code",
   "execution_count": 33,
   "id": "2bf772e3-0408-4d70-8db8-e62e30922264",
   "metadata": {},
   "outputs": [
    {
     "name": "stdout",
     "output_type": "stream",
     "text": [
      "Versão da linguagem Python usada neste Jupyter Notebook 3.11.7\n"
     ]
    }
   ],
   "source": [
    "# Versão da Linguagem Python\n",
    "from platform import python_version\n",
    "print('Versão da linguagem Python usada neste Jupyter Notebook', python_version())"
   ]
  },
  {
   "cell_type": "markdown",
   "id": "087d3916-719b-4b03-abe3-02bcc2490369",
   "metadata": {},
   "source": [
    "# Métodos em Python\n",
    "`Em Python, os métodos de classes são funções definidas dentro de uma classe, que realizam operações específicas em objetos criados a partir dessa classe. Os métodos de classes são usados para implementar o comportamento dos objetos que pertencem a essa classe.`</br>\n",
    "`Assim como as funções em Python, os métodos de classes podem receber e retornar valores. No entanto, diferente das funções normais, os métodos de classes sempre incluem o parâmetro`<strong>self</strong> ` como primeiro argumento, que é usado para se referir ao objeto atual da classe.`</br>\n",
    "`O método `<strong>__init__</strong>`é um método especial que é chamado quando um objeto é criado a partir da classe. Este método é usado para inicializar os atributos do objeto. Outros métodos podem ser definidos para executar tarefas específicas em um objeto, como calcular valores, realizar operações de entrada e saída ou alterar o estado do objeto.`"
   ]
  },
  {
   "cell_type": "code",
   "execution_count": 34,
   "id": "fea19cf7-7aa2-4eb1-8808-9537f01fb889",
   "metadata": {},
   "outputs": [],
   "source": [
    "# Criando uma classe chamada Circulo()\n",
    "class Circulo():\n",
    "    # O valor de pi é constante\n",
    "    pi = 3.14\n",
    "    # quando um objeto desta classe for criado, este método será executado se o valor default do raio será 5.\n",
    "    def __init__(self, raio = 5):\n",
    "        self.raio = raio\n",
    "        print('Contrutor sendo executado a atribuindo um valor default ao raio.')\n",
    "    # Esse método calcula a área.\n",
    "    def area(self):\n",
    "        return (self.raio * self.raio) * Circulo.pi\n",
    "    # Método para gerar um novo raio\n",
    "    def setRaio(self, novo_raio):\n",
    "        self.raio = novo_raio\n",
    "    # Método para obter o raio do círculo\n",
    "    def getRaio(self):\n",
    "        return self.raio"
   ]
  },
  {
   "cell_type": "code",
   "execution_count": 35,
   "id": "ca64f689-e6ca-48e6-853e-a4efd1d6d379",
   "metadata": {},
   "outputs": [
    {
     "name": "stdout",
     "output_type": "stream",
     "text": [
      "Contrutor sendo executado a atribuindo um valor default ao raio.\n"
     ]
    }
   ],
   "source": [
    "# Criando o objeto circ, uma instância da classe Circulo()\n",
    "circ = Circulo()"
   ]
  },
  {
   "cell_type": "code",
   "execution_count": 36,
   "id": "751e8976-0f6b-4f6d-b8c6-b0bfb8008664",
   "metadata": {},
   "outputs": [
    {
     "data": {
      "text/plain": [
       "5"
      ]
     },
     "execution_count": 36,
     "metadata": {},
     "output_type": "execute_result"
    }
   ],
   "source": [
    "# Executando um método da classe Circulo\n",
    "circ.getRaio()"
   ]
  },
  {
   "cell_type": "code",
   "execution_count": 37,
   "id": "bc0f87db-9390-4ace-ac65-9b1acf2c808a",
   "metadata": {},
   "outputs": [
    {
     "name": "stdout",
     "output_type": "stream",
     "text": [
      "Contrutor sendo executado a atribuindo um valor default ao raio.\n"
     ]
    }
   ],
   "source": [
    "# Criando outro objeto chamado circ1. Uma instância da classe Circulo()\n",
    "# Agora sobrescrevendo o valor do atributo\n",
    "circ1 = Circulo(7)"
   ]
  },
  {
   "cell_type": "code",
   "execution_count": 38,
   "id": "d13d6fe4-98ec-4e89-809f-2ac470d85a92",
   "metadata": {},
   "outputs": [
    {
     "data": {
      "text/plain": [
       "7"
      ]
     },
     "execution_count": 38,
     "metadata": {},
     "output_type": "execute_result"
    }
   ],
   "source": [
    "# Executando um método da classe Círculo\n",
    "circ1.getRaio()"
   ]
  },
  {
   "cell_type": "code",
   "execution_count": 39,
   "id": "0b09412d-9dfc-4368-a294-ebe5676d280d",
   "metadata": {},
   "outputs": [
    {
     "name": "stdout",
     "output_type": "stream",
     "text": [
      "O raio é: 5\n"
     ]
    }
   ],
   "source": [
    "# Imprimindo o raio\n",
    "print('O raio é:',circ.getRaio())"
   ]
  },
  {
   "cell_type": "code",
   "execution_count": 40,
   "id": "a7fccee8-50e1-4285-9aa4-4d0c8f2252e7",
   "metadata": {},
   "outputs": [
    {
     "name": "stdout",
     "output_type": "stream",
     "text": [
      "Área do objeto circ é igual a: 78.5\n"
     ]
    }
   ],
   "source": [
    "# Imprimindo a area\n",
    "print('Área do objeto circ é igual a:', circ.area())"
   ]
  },
  {
   "cell_type": "code",
   "execution_count": 41,
   "id": "9e91ce77-3bbd-4394-8bba-0be3632b38d1",
   "metadata": {},
   "outputs": [
    {
     "name": "stdout",
     "output_type": "stream",
     "text": [
      "Área do objeto circ1 é igual a: 153.86\n"
     ]
    }
   ],
   "source": [
    "# Imprimindo a area do objeto circ1\n",
    "print('Área do objeto circ1 é igual a:', circ1.area())"
   ]
  },
  {
   "cell_type": "code",
   "execution_count": null,
   "id": "cffb5d73-a454-4c61-a75c-15ba236c1892",
   "metadata": {},
   "outputs": [],
   "source": []
  }
 ],
 "metadata": {
  "kernelspec": {
   "display_name": "Python 3 (ipykernel)",
   "language": "python",
   "name": "python3"
  },
  "language_info": {
   "codemirror_mode": {
    "name": "ipython",
    "version": 3
   },
   "file_extension": ".py",
   "mimetype": "text/x-python",
   "name": "python",
   "nbconvert_exporter": "python",
   "pygments_lexer": "ipython3",
   "version": "3.11.7"
  }
 },
 "nbformat": 4,
 "nbformat_minor": 5
}
