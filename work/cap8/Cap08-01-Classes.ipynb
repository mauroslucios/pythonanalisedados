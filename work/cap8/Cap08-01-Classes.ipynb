{
 "cells": [
  {
   "cell_type": "code",
   "execution_count": 13,
   "id": "510e7714-ded8-4cd7-8de2-33b2e75ee176",
   "metadata": {},
   "outputs": [
    {
     "name": "stdout",
     "output_type": "stream",
     "text": [
      "Versão da Linguagem Python usada neste Jupyter Notebbok: 3.11.7\n"
     ]
    }
   ],
   "source": [
    "# Versao da Linguagem Python\n",
    "from platform import python_version\n",
    "print(\"Versão da Linguagem Python usada neste Jupyter Notebbok:\", python_version())"
   ]
  },
  {
   "cell_type": "markdown",
   "id": "34b2a1ec-cf38-4e18-89d0-6c1c38725968",
   "metadata": {},
   "source": [
    "# Classes\n",
    "`Em programação Orientada a Objetos(POO), uma classe é uma estrutura que descreve um objeto, especificando os atributos e comprtamentos que o objeto deve ter. Uma classe é uma espécie de modelo que define as características e ações que um objeto deve possuir.\n",
    "As classe são usadas para criar objetos, que são instâncias da classe. Cada objeto a partir da mesma classe terá os mesmos atributos e comortamentos`"
   ]
  },
  {
   "cell_type": "markdown",
   "id": "8eaa9749-4d42-49a5-9e8b-0797cd4d8177",
   "metadata": {},
   "source": [
    "`Para criar uma classe em Python, utiliza-se a palavra reservada class.\n",
    "O nome da classe segue a mesma convenção de nomes para criação de funções e variáveis em Python, mas normalmente se usa a primeira letra maiúscula em cada palavra no nome da classe.`"
   ]
  },
  {
   "cell_type": "code",
   "execution_count": 14,
   "id": "0f176f90-0580-4959-8481-74b5af29bf0f",
   "metadata": {},
   "outputs": [],
   "source": [
    "# Criando uma classe chamada Livro\n",
    "class Livro():\n",
    "    # Este método vai inicializar cada objeto criado a partir desta classe\n",
    "    # O nome deste método é __init__\n",
    "    # (self) é uma referência a cada atributo da própria classe (e não de uma classe mãe, por exemplo)\n",
    "    def __init__(self):\n",
    "        # Atributos são propriedades\n",
    "        self.titulo = 'Sapiens - Uma breve hitória da humanidade'\n",
    "        self.isbn = 9988888\n",
    "        print(\"Construtor chamado para criar um objeto desta classe.\")\n",
    "    # Métodos são funções que executam ações nos objetos da classe\n",
    "    def imprime(self):\n",
    "        print(\"Foi criado o livro %s com ISBN %d\" %(self.titulo, self.isbn))\n",
    "        "
   ]
  },
  {
   "cell_type": "markdown",
   "id": "1911e2fc-a919-42a5-afb7-bea6fd8adce2",
   "metadata": {},
   "source": [
    "`Em Python, a palavra reservada self é uma referência ao objeto atual da classe. Quando um objeto é criado a partir de uma classe, self é utilizado para se referir a esse objeto específico.`"
   ]
  },
  {
   "cell_type": "code",
   "execution_count": 15,
   "id": "7313a868-b1a3-457f-bec8-345529112b49",
   "metadata": {},
   "outputs": [
    {
     "name": "stdout",
     "output_type": "stream",
     "text": [
      "Construtor chamado para criar um objeto desta classe.\n"
     ]
    }
   ],
   "source": [
    "# Criando uma instância da classe livro\n",
    "Livro1 = Livro()"
   ]
  },
  {
   "cell_type": "code",
   "execution_count": 16,
   "id": "b126b2be-3daf-4c0c-8343-8a4448d947d2",
   "metadata": {},
   "outputs": [
    {
     "data": {
      "text/plain": [
       "__main__.Livro"
      ]
     },
     "execution_count": 16,
     "metadata": {},
     "output_type": "execute_result"
    }
   ],
   "source": [
    "# O objeto Livro1 é do tipo Livro\n",
    "type(Livro1)"
   ]
  },
  {
   "cell_type": "code",
   "execution_count": 17,
   "id": "3ebb36b7-db69-4b12-bcbb-5f56f50b50b0",
   "metadata": {},
   "outputs": [
    {
     "name": "stdout",
     "output_type": "stream",
     "text": [
      "Título do Livro:  Sapiens - Uma breve hitória da humanidade\n",
      "ISBN do Livro;  9988888\n"
     ]
    }
   ],
   "source": [
    "# Atributo do objeto Livro1\n",
    "# Atributos são características do objeto\n",
    "print(f'Título do Livro:',Livro1.titulo)\n",
    "print(f'ISBN do Livro:',Livro1.isbn)"
   ]
  },
  {
   "cell_type": "code",
   "execution_count": 18,
   "id": "0042c59c-6b40-40f3-89fc-1949defe701c",
   "metadata": {},
   "outputs": [
    {
     "name": "stdout",
     "output_type": "stream",
     "text": [
      "Foi criado o livro Sapiens - Uma breve hitória da humanidade com ISBN 9988888\n"
     ]
    }
   ],
   "source": [
    "# Método do objeto Livro1\n",
    "Livro1.imprime()"
   ]
  },
  {
   "cell_type": "code",
   "execution_count": 2,
   "id": "036dbaa7-631c-495e-93a5-5974bb934b1d",
   "metadata": {},
   "outputs": [],
   "source": [
    "# criando a classe Livro com parâmetros no método construtor\n",
    "class Livro():\n",
    "    def __init__(self,titulo,isbn):\n",
    "        self.titulo = titulo\n",
    "        self.isbn = isbn\n",
    "        print('Construtor chamado para criar um objeto desta classe.')\n",
    "    def imprime(self, titulo,isbn):\n",
    "        print('Este é o livro %s e ISBN %d'%(titulo,isbn))"
   ]
  },
  {
   "cell_type": "code",
   "execution_count": 3,
   "id": "632eeb7d-9ad6-4c21-a2b7-c101aead95f9",
   "metadata": {},
   "outputs": [
    {
     "name": "stdout",
     "output_type": "stream",
     "text": [
      "Construtor chamado para criar um objeto desta classe.\n"
     ]
    }
   ],
   "source": [
    "# Criando o objeto Livro2 que é uma instância de classe Livro\n",
    "Livro2 = Livro('O poder do hábito', 7886611)"
   ]
  },
  {
   "cell_type": "code",
   "execution_count": 4,
   "id": "247fe0bf-b85d-408c-ac87-7a2db87602a3",
   "metadata": {},
   "outputs": [
    {
     "data": {
      "text/plain": [
       "'O poder do hábito'"
      ]
     },
     "execution_count": 4,
     "metadata": {},
     "output_type": "execute_result"
    }
   ],
   "source": [
    "Livro2.titulo"
   ]
  },
  {
   "cell_type": "code",
   "execution_count": 6,
   "id": "40744a2d-0044-4c0a-9eb3-fb9c68455cb3",
   "metadata": {},
   "outputs": [
    {
     "name": "stdout",
     "output_type": "stream",
     "text": [
      "Este é o livro O poder do hábito e ISBN 7886611\n"
     ]
    }
   ],
   "source": [
    "# Método do objeto Livro2\n",
    "Livro2.imprime('O poder do hábito',7886611)"
   ]
  },
  {
   "cell_type": "code",
   "execution_count": null,
   "id": "42010a50-3b91-46d4-8a32-907ce4b4c598",
   "metadata": {},
   "outputs": [],
   "source": []
  }
 ],
 "metadata": {
  "kernelspec": {
   "display_name": "Python 3 (ipykernel)",
   "language": "python",
   "name": "python3"
  },
  "language_info": {
   "codemirror_mode": {
    "name": "ipython",
    "version": 3
   },
   "file_extension": ".py",
   "mimetype": "text/x-python",
   "name": "python",
   "nbconvert_exporter": "python",
   "pygments_lexer": "ipython3",
   "version": "3.11.7"
  }
 },
 "nbformat": 4,
 "nbformat_minor": 5
}
