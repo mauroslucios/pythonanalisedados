{
 "cells": [
  {
   "cell_type": "markdown",
   "id": "feefc345-ccc2-4707-9c6d-93ba60fcb072",
   "metadata": {},
   "source": [
    "# Objetos\n",
    "`Em Python, tudo é Objeto!`"
   ]
  },
  {
   "cell_type": "code",
   "execution_count": 2,
   "id": "63931229-6d9c-46be-87f2-7b5c6440c41b",
   "metadata": {},
   "outputs": [
    {
     "name": "stdout",
     "output_type": "stream",
     "text": [
      "Versão da linguagem Python usada neste Jupyter Notebbok: 3.11.7\n"
     ]
    }
   ],
   "source": [
    "# Versão do python usada neste Notebbok\n",
    "from platform import python_version\n",
    "print(f'Versão da linguagem Python usada neste Jupyter Notebbok:', python_version())"
   ]
  },
  {
   "cell_type": "code",
   "execution_count": 3,
   "id": "7e8a0f58-3fb0-4fac-a3fa-ff374c3abcd1",
   "metadata": {},
   "outputs": [],
   "source": [
    "# Criando uma lista\n",
    "lst_num = ['Data','Scince','Academy',10,10]"
   ]
  },
  {
   "cell_type": "code",
   "execution_count": 4,
   "id": "822975f4-3549-4016-9358-9993c2068927",
   "metadata": {},
   "outputs": [
    {
     "data": {
      "text/plain": [
       "list"
      ]
     },
     "execution_count": 4,
     "metadata": {},
     "output_type": "execute_result"
    }
   ],
   "source": [
    "# a lista lst_num é um objeto, uma instãncia da classe list em Python\n",
    "type(lst_num)"
   ]
  },
  {
   "cell_type": "code",
   "execution_count": 5,
   "id": "9ebae3db-ec12-417d-bdaf-364f3db3b98f",
   "metadata": {},
   "outputs": [
    {
     "name": "stdout",
     "output_type": "stream",
     "text": [
      "<class 'list'>\n"
     ]
    }
   ],
   "source": [
    "print(type([]))"
   ]
  },
  {
   "cell_type": "code",
   "execution_count": 6,
   "id": "f284edd6-9292-4683-8545-ab10b03ef995",
   "metadata": {},
   "outputs": [
    {
     "data": {
      "text/plain": [
       "2"
      ]
     },
     "execution_count": 6,
     "metadata": {},
     "output_type": "execute_result"
    }
   ],
   "source": [
    "lst_num.count(10)"
   ]
  },
  {
   "cell_type": "code",
   "execution_count": 7,
   "id": "e4037087-59f8-4bf5-be54-8095cbbaf6ef",
   "metadata": {},
   "outputs": [
    {
     "name": "stdout",
     "output_type": "stream",
     "text": [
      "<class 'int'>\n",
      "<class 'list'>\n",
      "<class 'tuple'>\n",
      "<class 'dict'>\n",
      "<class 'str'>\n"
     ]
    }
   ],
   "source": [
    "# Usamos a função type, para verificar o tipo de um objeto\n",
    "print(type(10))\n",
    "print(type([]))\n",
    "print(type(()))\n",
    "print(type({}))\n",
    "print(type('a'))"
   ]
  },
  {
   "cell_type": "code",
   "execution_count": 8,
   "id": "7727efef-7607-4c32-b6cd-cbabaa0894a5",
   "metadata": {},
   "outputs": [],
   "source": [
    "# Criando um novo tipo de objeto chamado carro\n",
    "class Carro(object):\n",
    "    pass"
   ]
  },
  {
   "cell_type": "code",
   "execution_count": 9,
   "id": "6c46658f-0d12-4cee-b55e-021e33bd325d",
   "metadata": {},
   "outputs": [],
   "source": [
    "# Instância do Carro\n",
    "ferrari = Carro()"
   ]
  },
  {
   "cell_type": "code",
   "execution_count": 10,
   "id": "cdd60270-3c73-45b6-a5b3-6c38792498e3",
   "metadata": {},
   "outputs": [
    {
     "name": "stdout",
     "output_type": "stream",
     "text": [
      "<class '__main__.Carro'>\n"
     ]
    }
   ],
   "source": [
    "print(type(ferrari))"
   ]
  },
  {
   "cell_type": "code",
   "execution_count": 17,
   "id": "ac6fa48d-ffbd-4bfb-988c-0c81b0a9b1e3",
   "metadata": {},
   "outputs": [],
   "source": [
    "# Criando uma class\n",
    "class Estudantes:\n",
    "    def __init__(self, nome, idade, nota):\n",
    "        self.nome = nome\n",
    "        self.idade = idade\n",
    "        self.nota = nota"
   ]
  },
  {
   "cell_type": "code",
   "execution_count": 18,
   "id": "e6dbeec1-02a9-46b9-8e9b-82167f2bba2f",
   "metadata": {},
   "outputs": [],
   "source": [
    "# Criado um objeto chamado Estudante1 a partir da classe Estudantes\n",
    "Estudante1 = Estudantes(\"Bob\", 12, 9.5)"
   ]
  },
  {
   "cell_type": "code",
   "execution_count": 19,
   "id": "04903cec-483f-4787-9769-7ce4f6b7a4ab",
   "metadata": {},
   "outputs": [
    {
     "data": {
      "text/plain": [
       "'Bob'"
      ]
     },
     "execution_count": 19,
     "metadata": {},
     "output_type": "execute_result"
    }
   ],
   "source": [
    "# Atributo da classe Estudante, utilizado por cada objeto criado a partir desta classe\n",
    "Estudante1.nome"
   ]
  },
  {
   "cell_type": "code",
   "execution_count": 20,
   "id": "2edf190b-03c3-4b5b-bd3e-46ac4e4a6cb1",
   "metadata": {},
   "outputs": [
    {
     "data": {
      "text/plain": [
       "12"
      ]
     },
     "execution_count": 20,
     "metadata": {},
     "output_type": "execute_result"
    }
   ],
   "source": [
    "# Atributo da classe Estudante, utilizado por cada objeto criado a partir desta classe\n",
    "Estudante1.idade"
   ]
  },
  {
   "cell_type": "code",
   "execution_count": 21,
   "id": "7a859e5d-a8b8-4286-98a5-db765921c4f9",
   "metadata": {},
   "outputs": [
    {
     "data": {
      "text/plain": [
       "9.5"
      ]
     },
     "execution_count": 21,
     "metadata": {},
     "output_type": "execute_result"
    }
   ],
   "source": [
    "# Atributo da classe Estudante, utilizado por cada objeto criado a partir desta classe\n",
    "Estudante1.nota"
   ]
  },
  {
   "cell_type": "code",
   "execution_count": 29,
   "id": "26138840-a45d-4e01-94fd-6c4b4280c992",
   "metadata": {},
   "outputs": [],
   "source": [
    "# Criando uma classe\n",
    "class Funcionarios:\n",
    "    def __init__(self, nome, salario, cargo):\n",
    "        self.nome = nome\n",
    "        self.salario = salario\n",
    "        self.cargo = cargo\n",
    "    def listFunc(self):\n",
    "        print(\"Funcionário(a) \"+ self.nome +\" tem salário de R$ \"+ str(self.salario) +\" e o cargo é \"+ self.cargo)"
   ]
  },
  {
   "cell_type": "code",
   "execution_count": 32,
   "id": "09b2e4f3-08d5-4628-a77a-cba3ef4b7bb7",
   "metadata": {},
   "outputs": [],
   "source": [
    "# Criando um objeto chmado Func1 a partir da classe Funcionários\n",
    "Func1 = Funcionarios(\"Mary\", 20000, \"Cientista de Dados.\")"
   ]
  },
  {
   "cell_type": "code",
   "execution_count": 33,
   "id": "37748694-36a1-4b21-bd0d-a7f66d532474",
   "metadata": {},
   "outputs": [
    {
     "name": "stdout",
     "output_type": "stream",
     "text": [
      "Funcionário(a) Mary tem salário de R$ 20000 e o cargo é Cientista de Dados.\n"
     ]
    }
   ],
   "source": [
    "# Usando o método da classe\n",
    "Func1.listFunc()"
   ]
  },
  {
   "cell_type": "code",
   "execution_count": 34,
   "id": "875ffba5-f3f8-4ae0-a3f5-dd18aea74a6c",
   "metadata": {},
   "outputs": [
    {
     "name": "stdout",
     "output_type": "stream",
     "text": [
      "**** Usando atributos ****\n"
     ]
    }
   ],
   "source": [
    "print(\"**** Usando atributos ****\")"
   ]
  },
  {
   "cell_type": "code",
   "execution_count": 35,
   "id": "0c585ac5-624e-4bc2-af34-d5ca8191d447",
   "metadata": {},
   "outputs": [
    {
     "data": {
      "text/plain": [
       "True"
      ]
     },
     "execution_count": 35,
     "metadata": {},
     "output_type": "execute_result"
    }
   ],
   "source": [
    "hasattr(Func1, \"nome\")"
   ]
  },
  {
   "cell_type": "code",
   "execution_count": 36,
   "id": "9ea289d4-ebda-4e95-a101-9278ccf52bf4",
   "metadata": {},
   "outputs": [
    {
     "data": {
      "text/plain": [
       "True"
      ]
     },
     "execution_count": 36,
     "metadata": {},
     "output_type": "execute_result"
    }
   ],
   "source": [
    "hasattr(Func1, \"salario\")"
   ]
  },
  {
   "cell_type": "code",
   "execution_count": 37,
   "id": "854ed6c0-9db4-4d72-a291-ba16f3b865cb",
   "metadata": {},
   "outputs": [],
   "source": [
    "setattr(Func1, \"salario\", 4500)"
   ]
  },
  {
   "cell_type": "code",
   "execution_count": 38,
   "id": "30ce29a0-5eba-4cd3-a1b5-bee87e6dc2c6",
   "metadata": {},
   "outputs": [
    {
     "data": {
      "text/plain": [
       "True"
      ]
     },
     "execution_count": 38,
     "metadata": {},
     "output_type": "execute_result"
    }
   ],
   "source": [
    "hasattr(Func1, \"salario\")"
   ]
  },
  {
   "cell_type": "code",
   "execution_count": 39,
   "id": "66ab8b76-7b4b-44e9-8f0c-1db89400e502",
   "metadata": {},
   "outputs": [
    {
     "data": {
      "text/plain": [
       "4500"
      ]
     },
     "execution_count": 39,
     "metadata": {},
     "output_type": "execute_result"
    }
   ],
   "source": [
    "getattr(Func1, \"salario\")"
   ]
  },
  {
   "cell_type": "code",
   "execution_count": 40,
   "id": "5bce0ea9-f315-4d34-bbcc-88a711f8c768",
   "metadata": {},
   "outputs": [],
   "source": [
    "delattr(Func1, \"salario\")"
   ]
  },
  {
   "cell_type": "code",
   "execution_count": 41,
   "id": "c181c7ba-5b8c-4c8f-b3dd-28bd59215837",
   "metadata": {},
   "outputs": [
    {
     "data": {
      "text/plain": [
       "False"
      ]
     },
     "execution_count": 41,
     "metadata": {},
     "output_type": "execute_result"
    }
   ],
   "source": [
    "hasattr(Func1, \"salario\")"
   ]
  },
  {
   "cell_type": "code",
   "execution_count": null,
   "id": "a62e5feb-a03f-44fc-9cfd-df5cce4de494",
   "metadata": {},
   "outputs": [],
   "source": []
  }
 ],
 "metadata": {
  "kernelspec": {
   "display_name": "Python 3 (ipykernel)",
   "language": "python",
   "name": "python3"
  },
  "language_info": {
   "codemirror_mode": {
    "name": "ipython",
    "version": 3
   },
   "file_extension": ".py",
   "mimetype": "text/x-python",
   "name": "python",
   "nbconvert_exporter": "python",
   "pygments_lexer": "ipython3",
   "version": "3.11.7"
  }
 },
 "nbformat": 4,
 "nbformat_minor": 5
}
