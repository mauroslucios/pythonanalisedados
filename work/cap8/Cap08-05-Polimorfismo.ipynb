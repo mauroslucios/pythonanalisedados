{
 "cells": [
  {
   "cell_type": "code",
   "execution_count": null,
   "id": "8d4aa5cf-2ca6-4e33-9fc8-3be39b2094ac",
   "metadata": {},
   "outputs": [],
   "source": [
    "# Versão do Python usada neste Jupyter Notebbok\n",
    "from platform import python_version\n",
    "print('Versão da linguagem Pyhton usada neste Jupyter Notebbok', python_version())"
   ]
  },
  {
   "cell_type": "markdown",
   "id": "f08d70d9-db89-49c0-87d1-003e8acd3fe5",
   "metadata": {},
   "source": [
    "# Polimorfismo em Python\n",
    "<p>\n",
    "Polimorfismo é um conceito central em programação orientada a objetos que permite que objetos de diferentes classes sejam tratados de forma uniforme através de uma interface comum. Em Python, o polimorfismo se manifesta principalmente por meio de métodos e operadores que podem ter diferentes comportamentos dependendo do objeto que os invoca.\n",
    "</p>\n",
    "Polimorfismo em Python</br>\n",
    "Polimorfismo pode ser alcançado de duas maneiras principais em Python:</br>\n",
    "Sobrescrita de Métodos (Overriding)<br/>\n",
    "Métodos com o Mesmo Nome (Duck Typing)<br/>\n",
    "Vamos explorar cada um desses aspectos:<br/>\n",
    "Sobrescrita de Métodos\n",
    "Quando uma classe derivada redefine um método da classe base, isso é chamado de sobrescrita. A classe derivada fornece uma nova implementação do método que tem o mesmo nome e assinatura que o método na classe base."
   ]
  },
  {
   "cell_type": "code",
   "execution_count": null,
   "id": "a064f878-25b6-464b-ba09-701e97457bc8",
   "metadata": {},
   "outputs": [],
   "source": []
  }
 ],
 "metadata": {
  "kernelspec": {
   "display_name": "Python 3 (ipykernel)",
   "language": "python",
   "name": "python3"
  },
  "language_info": {
   "codemirror_mode": {
    "name": "ipython",
    "version": 3
   },
   "file_extension": ".py",
   "mimetype": "text/x-python",
   "name": "python",
   "nbconvert_exporter": "python",
   "pygments_lexer": "ipython3",
   "version": "3.11.7"
  }
 },
 "nbformat": 4,
 "nbformat_minor": 5
}
