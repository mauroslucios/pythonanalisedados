{
 "cells": [
  {
   "cell_type": "code",
   "execution_count": null,
   "id": "8d4aa5cf-2ca6-4e33-9fc8-3be39b2094ac",
   "metadata": {},
   "outputs": [],
   "source": [
    "# Versão do Python usada neste Jupyter Notebbok\n",
    "from platform import python_version\n",
    "print('Versão da linguagem Pyhton usada neste Jupyter Notebbok', python_version())"
   ]
  },
  {
   "cell_type": "markdown",
   "id": "eebb7099-b586-4897-bd79-e2f393b83ef5",
   "metadata": {},
   "source": [
    "`Polimorfismo é um conceito central em programação orientada a objetos que permite que objetos de diferentes classes sejam tratados de forma uniforme através de uma interface comum. Em Python, o polimorfismo se manifesta principalmente por meio de métodos e operadores que podem ter diferentes comportamentos dependendo do objeto que os invoca.`<br/>\n",
    "`Polimorfismo em Python`</br>\n",
    "`Polimorfismo pode ser alcançado de duas maneiras principais em Python:`</br>\n",
    "`Sobrescrita de Métodos (Overriding)`</br>\n",
    "`Métodos com o Mesmo Nome (Duck Typing`</br>\n",
    "`Vamos explorar cada um desses aspectos:`<br/>\n",
    "`Polimorfismo é um conceito central em programação orientada a objetos que permite que objetos de diferentes Sobrescrita de Métodos`</br>\n",
    "`Quando uma classe derivada redefine um método da classe base, isso é chamado de sobrescrita. A classe derivada fornece uma nova implementação do método que tem o mesmo nome e assinatura que o método na classe base.`"
   ]
  },
  {
   "cell_type": "code",
   "execution_count": 2,
   "id": "adbe3801-50b2-4a24-b693-f1b3a0e7207c",
   "metadata": {},
   "outputs": [],
   "source": [
    "# superclasse\n",
    "class Veiculo:\n",
    "    def __init__(self, marca, modelo):\n",
    "        self.marca = marca\n",
    "        self.modelo = modelo\n",
    "    def acelerar(self):\n",
    "        pass\n",
    "    def frear(self):\n",
    "        pass\n",
    "        "
   ]
  },
  {
   "cell_type": "code",
   "execution_count": 3,
   "id": "dcdfdfc1-4c3e-46f3-8ff6-86a64b82dfa5",
   "metadata": {},
   "outputs": [],
   "source": [
    "# Subclasse\n",
    "class Carro(Veiculo):\n",
    "    def acelerar(self):\n",
    "        print('O carro está acelerando.')\n",
    "    def frear(self):\n",
    "        print('O carro está freando.')"
   ]
  },
  {
   "cell_type": "code",
   "execution_count": 4,
   "id": "3b812114-6553-423c-88ef-92df37df9af5",
   "metadata": {},
   "outputs": [],
   "source": [
    "# Subclasse\n",
    "class Moto(Veiculo):\n",
    "    def acelerar(self):\n",
    "        print('A moto está acelerando.')\n",
    "    def frear(self):\n",
    "        print('A moto está freando.')"
   ]
  },
  {
   "cell_type": "code",
   "execution_count": 5,
   "id": "f0c698e8-6c02-4f3b-a25b-5d015ba97cb7",
   "metadata": {},
   "outputs": [],
   "source": [
    "# Subclasse\n",
    "class Aviao(Veiculo):\n",
    "    def acelerar(self):\n",
    "        print('O avião está acelerando.')\n",
    "    def frear(self):\n",
    "        print('O avião está freando.')\n",
    "    def decolar(self):\n",
    "        print('o avião está decolando.')"
   ]
  },
  {
   "cell_type": "code",
   "execution_count": 6,
   "id": "87e1cae8-80fd-49d7-90eb-17493084230e",
   "metadata": {},
   "outputs": [],
   "source": [
    "# Cria os objetos\n",
    "lista_veiculos = [Carro('Porsche','911 turbo'),Moto('Honda','Cb 1000r Black Edition'), Aviao('Boeing','757')]"
   ]
  },
  {
   "cell_type": "code",
   "execution_count": 7,
   "id": "0ddeef64-9c7b-4ce7-b03b-cd8e1da86690",
   "metadata": {},
   "outputs": [
    {
     "name": "stdout",
     "output_type": "stream",
     "text": [
      "O carro está acelerando.\n",
      "O carro está freando.\n",
      "---\n",
      "A moto está acelerando.\n",
      "A moto está freando.\n",
      "---\n",
      "O avião está acelerando.\n",
      "O avião está freando.\n",
      "o avião está decolando.\n",
      "---\n"
     ]
    }
   ],
   "source": [
    "# Loop\n",
    "for item in lista_veiculos:\n",
    "    # O método acelerar tem comportmento diferente dependendo do tipo de objeto\n",
    "    item.acelerar()\n",
    "    # O método frear tem comportmento diferente dependendo do tipo de objeto\n",
    "    item.frear()\n",
    "    # Executamos o método decolar somente se o objeto for instância da class Aviao\n",
    "    if isinstance(item, Aviao):\n",
    "        item.decolar()\n",
    "    print('---')"
   ]
  },
  {
   "cell_type": "code",
   "execution_count": null,
   "id": "84dff44c-dd37-4a3e-9094-1dd9152e29e2",
   "metadata": {},
   "outputs": [],
   "source": []
  }
 ],
 "metadata": {
  "kernelspec": {
   "display_name": "Python 3 (ipykernel)",
   "language": "python",
   "name": "python3"
  },
  "language_info": {
   "codemirror_mode": {
    "name": "ipython",
    "version": 3
   },
   "file_extension": ".py",
   "mimetype": "text/x-python",
   "name": "python",
   "nbconvert_exporter": "python",
   "pygments_lexer": "ipython3",
   "version": "3.11.7"
  }
 },
 "nbformat": 4,
 "nbformat_minor": 5
}
