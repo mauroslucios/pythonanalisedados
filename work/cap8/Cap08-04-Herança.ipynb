{
 "cells": [
  {
   "cell_type": "code",
   "execution_count": 53,
   "id": "9d1fa31e-27fa-4057-98ac-7b476f92b883",
   "metadata": {},
   "outputs": [
    {
     "name": "stdout",
     "output_type": "stream",
     "text": [
      "Versão da linguagem Pyhton usada neste Jupyter Notebbok 3.11.7\n"
     ]
    }
   ],
   "source": [
    "# Versão do Python usada neste Jupyter Notebbok\n",
    "from platform import python_version\n",
    "print('Versão da linguagem Pyhton usada neste Jupyter Notebbok', python_version())"
   ]
  },
  {
   "cell_type": "markdown",
   "id": "cbcb1b49-8859-4d74-ac24-e3572fefa9d2",
   "metadata": {},
   "source": [
    "# Herança de classes em Python\n",
    "`Herança é um conceito fundamental em programação orientada a objetos(POO) e permite que você crie uma nova classe com base em uma classe existente. Em Python, a herança ajuda a promover o reuso de código e a criar uma hierarquia entre classes`<br/>\n",
    "`Conceito de Herança\n",
    "Herança permite que uma classe (chamada de classe derivada ou classe filha) herde atributos e métodos de outra classe (chamada de classe base ou classe pai). Isso significa que a classe filha pode reutilizar o código da classe pai e, ao mesmo tempo, adicionar ou modificar funcionalidades específicas. A classe original é chamada de classe mãe ou superclasse e a nova classe é chamada de classe filha ou subclasse.\n",
    "`\n"
   ]
  },
  {
   "cell_type": "code",
   "execution_count": 54,
   "id": "d42b33ad-91a2-45b8-9bd5-7632329b0dcb",
   "metadata": {},
   "outputs": [],
   "source": [
    "# Criando a classe Animal - Super-classe\n",
    "class Animal:\n",
    "    def __init__(self):\n",
    "        print('Animal criado.')\n",
    "    def imprimir(self):\n",
    "        print('Este é um animal.')\n",
    "    def comer(self):\n",
    "        print('Comendo...')\n",
    "    def emitir_som(self):\n",
    "        pass        "
   ]
  },
  {
   "cell_type": "code",
   "execution_count": 55,
   "id": "1e71197c-766c-4340-ab68-0f32552a9a7b",
   "metadata": {},
   "outputs": [],
   "source": [
    "# Criando a classe Cachorro - Sub-classe\n",
    "class Cachorro(Animal):\n",
    "    def __init__(self):\n",
    "        # Construtor da Super-classe\n",
    "        Animal.__init__(self)\n",
    "        print('Objeto cachorro criado')\n",
    "    def emitir_som(self):\n",
    "        print('Au, au')"
   ]
  },
  {
   "cell_type": "code",
   "execution_count": 56,
   "id": "e91ed62f-eab9-43ae-b64e-e0ea854002b1",
   "metadata": {},
   "outputs": [
    {
     "name": "stdout",
     "output_type": "stream",
     "text": [
      "Animal criado.\n",
      "Objeto cachorro criado\n"
     ]
    }
   ],
   "source": [
    "# Instanciando um Objeto Cachorro\n",
    "cangal = Cachorro()"
   ]
  },
  {
   "cell_type": "code",
   "execution_count": 57,
   "id": "9efbb8dc-d6ea-491e-a252-32dcfbf61fa7",
   "metadata": {},
   "outputs": [
    {
     "name": "stdout",
     "output_type": "stream",
     "text": [
      "Este é um animal.\n"
     ]
    }
   ],
   "source": [
    "cangal.imprimir()"
   ]
  },
  {
   "cell_type": "code",
   "execution_count": 58,
   "id": "e9a1a968-8c78-4103-a408-bb041e3b3efa",
   "metadata": {},
   "outputs": [
    {
     "name": "stdout",
     "output_type": "stream",
     "text": [
      "O cachorro está:\n",
      "Comendo...\n"
     ]
    }
   ],
   "source": [
    "print('O cachorro está:')\n",
    "cangal.comer()"
   ]
  },
  {
   "cell_type": "code",
   "execution_count": 59,
   "id": "728aa150-245b-4abf-918c-1c5d8b532b98",
   "metadata": {},
   "outputs": [
    {
     "name": "stdout",
     "output_type": "stream",
     "text": [
      "O cacchorro está latindo:\n",
      "Au, au\n"
     ]
    }
   ],
   "source": [
    "print('O cacchorro está latindo:')\n",
    "cangal.emitir_som()"
   ]
  },
  {
   "cell_type": "code",
   "execution_count": 60,
   "id": "ef80bdd1-2c9a-47fd-81be-d89cb0d4ceb5",
   "metadata": {},
   "outputs": [],
   "source": [
    "# Criando a classe Gato - Sub-classe\n",
    "class Gato(Animal):\n",
    "    def __init__(self):\n",
    "        Animal.__init__(self)\n",
    "        print('Objeto gato criado')\n",
    "    def emitir_som(self):\n",
    "        print('Miau...')"
   ]
  },
  {
   "cell_type": "code",
   "execution_count": 61,
   "id": "2ed6239b-953a-40a7-ab66-812a4c47ac91",
   "metadata": {},
   "outputs": [
    {
     "name": "stdout",
     "output_type": "stream",
     "text": [
      "Animal criado.\n",
      "Objeto gato criado\n"
     ]
    }
   ],
   "source": [
    "# Instanciando um Objeto Gato\n",
    "benghal = Gato()"
   ]
  },
  {
   "cell_type": "code",
   "execution_count": 62,
   "id": "ef596e88-eddc-424c-88fe-a7e893128268",
   "metadata": {},
   "outputs": [
    {
     "name": "stdout",
     "output_type": "stream",
     "text": [
      "Este é um animal.\n"
     ]
    }
   ],
   "source": [
    "benghal.imprimir()"
   ]
  },
  {
   "cell_type": "code",
   "execution_count": 63,
   "id": "f4146c1f-b984-46f4-8403-c61c4b107cdc",
   "metadata": {},
   "outputs": [
    {
     "name": "stdout",
     "output_type": "stream",
     "text": [
      "O gato benghal está\n",
      "Comendo...\n"
     ]
    }
   ],
   "source": [
    "print('O gato benghal está')\n",
    "benghal.comer()"
   ]
  },
  {
   "cell_type": "code",
   "execution_count": 64,
   "id": "d54d1384-0d77-4949-ba83-75f3e3bddd80",
   "metadata": {},
   "outputs": [
    {
     "name": "stdout",
     "output_type": "stream",
     "text": [
      "O gato benghal está miando\n",
      "Miau...\n"
     ]
    }
   ],
   "source": [
    "print('O gato benghal está miando')\n",
    "benghal.emitir_som()"
   ]
  },
  {
   "cell_type": "code",
   "execution_count": null,
   "id": "f126de75-5b0f-4fc6-aeb4-0160bbf6caea",
   "metadata": {},
   "outputs": [],
   "source": []
  }
 ],
 "metadata": {
  "kernelspec": {
   "display_name": "Python 3 (ipykernel)",
   "language": "python",
   "name": "python3"
  },
  "language_info": {
   "codemirror_mode": {
    "name": "ipython",
    "version": 3
   },
   "file_extension": ".py",
   "mimetype": "text/x-python",
   "name": "python",
   "nbconvert_exporter": "python",
   "pygments_lexer": "ipython3",
   "version": "3.11.7"
  }
 },
 "nbformat": 4,
 "nbformat_minor": 5
}
