{
 "cells": [
  {
   "cell_type": "code",
   "execution_count": 4,
   "id": "9d1fa31e-27fa-4057-98ac-7b476f92b883",
   "metadata": {},
   "outputs": [
    {
     "name": "stdout",
     "output_type": "stream",
     "text": [
      "Versão da linguagem Pyhton usada neste Jupyter Notebbok 3.11.7\n"
     ]
    }
   ],
   "source": [
    "# Versão do Python usada neste Jupyter Notebbok\n",
    "from platform import python_version\n",
    "print('Versão da linguagem Pyhton usada neste Jupyter Notebbok', python_version())"
   ]
  },
  {
   "cell_type": "markdown",
   "id": "cbcb1b49-8859-4d74-ac24-e3572fefa9d2",
   "metadata": {},
   "source": [
    "# Herança em Python\n",
    "`Herança é um conceito fundamental em programação orientada a objetos(POO) e permite que você crie uma nova classe com base em uma classe existente. Em Python, a herança ajuda a promover o reuso de código e a criar uma hierarquia entre classes`<br/>\n",
    "`Conceito de Herança\n",
    "Herança permite que uma classe (chamada de classe derivada ou classe filha) herde atributos e métodos de outra classe (chamada de classe base ou classe pai). Isso significa que a classe filha pode reutilizar o código da classe pai e, ao mesmo tempo, adicionar ou modificar funcionalidades específicas. A classe original é chamada de classe mãe ou superclasse e a nova classe é chamada de classe filha ou subclasse.\n",
    "`\n"
   ]
  },
  {
   "cell_type": "code",
   "execution_count": null,
   "id": "d42b33ad-91a2-45b8-9bd5-7632329b0dcb",
   "metadata": {},
   "outputs": [],
   "source": [
    "# Criando a classe Animal - Super-classe\n",
    "class Animal:\n",
    "    def __init__(self):\n",
    "        print('Animal criado.')"
   ]
  }
 ],
 "metadata": {
  "kernelspec": {
   "display_name": "Python 3 (ipykernel)",
   "language": "python",
   "name": "python3"
  },
  "language_info": {
   "codemirror_mode": {
    "name": "ipython",
    "version": 3
   },
   "file_extension": ".py",
   "mimetype": "text/x-python",
   "name": "python",
   "nbconvert_exporter": "python",
   "pygments_lexer": "ipython3",
   "version": "3.11.7"
  }
 },
 "nbformat": 4,
 "nbformat_minor": 5
}
