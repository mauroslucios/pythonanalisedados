{
 "cells": [
  {
   "cell_type": "code",
   "execution_count": 116,
   "id": "38bc2472-3e4f-4664-8fcc-3c1e7c5be905",
   "metadata": {},
   "outputs": [
    {
     "name": "stdout",
     "output_type": "stream",
     "text": [
      "Versão da Liguagem Python usada neste Jupyter Notebbok 3.11.7\n"
     ]
    }
   ],
   "source": [
    "# Versão da Linguagem Python\n",
    "from platform import python_version\n",
    "print('Versão da Liguagem Python usada neste Jupyter Notebbok', python_version())"
   ]
  },
  {
   "cell_type": "markdown",
   "id": "ce0265cc-cb95-4ef6-9597-91e0b73fe81e",
   "metadata": {},
   "source": [
    "# NumPy\n",
    "<a href=\"https://numpy.org\" target=\"_blank\">https://numpy.org</a>"
   ]
  },
  {
   "cell_type": "code",
   "execution_count": 117,
   "id": "5f314a23-bf96-4f0f-8424-71d1b6544143",
   "metadata": {},
   "outputs": [],
   "source": [
    "# Importando o NumPy\n",
    "import numpy as np"
   ]
  },
  {
   "cell_type": "code",
   "execution_count": 118,
   "id": "fb24f70f-5211-43bd-8785-88e84d5eb38a",
   "metadata": {},
   "outputs": [
    {
     "data": {
      "text/plain": [
       "'1.26.4'"
      ]
     },
     "execution_count": 118,
     "metadata": {},
     "output_type": "execute_result"
    }
   ],
   "source": [
    "np.__version__"
   ]
  },
  {
   "cell_type": "code",
   "execution_count": 119,
   "id": "cc8bfb28-0915-498b-8997-31cb50dffb7b",
   "metadata": {},
   "outputs": [],
   "source": [
    "# Instrução para instalar uma versão exata do pacote em python\n",
    "# !pip install numpy==1.22.3"
   ]
  },
  {
   "cell_type": "markdown",
   "id": "e5dc105f-59e3-42a0-a560-2e2afa6cc4d7",
   "metadata": {},
   "source": [
    "# Criando Arrays NumPy"
   ]
  },
  {
   "cell_type": "code",
   "execution_count": 120,
   "id": "5ac9e81b-9cbd-45ac-a2a5-04b6226f57dd",
   "metadata": {},
   "outputs": [],
   "source": [
    "# Array criado a partir de uma lista Python\n",
    "arr1 = np.array([10,21,32,43,48,15,76,57,89])"
   ]
  },
  {
   "cell_type": "code",
   "execution_count": 121,
   "id": "33352578-0d8c-4618-826e-e5564ad7565e",
   "metadata": {},
   "outputs": [
    {
     "name": "stdout",
     "output_type": "stream",
     "text": [
      "[10 21 32 43 48 15 76 57 89]\n"
     ]
    }
   ],
   "source": [
    "# Imprimindo o tamanho do array\n",
    "print(arr1)"
   ]
  },
  {
   "cell_type": "code",
   "execution_count": 122,
   "id": "62a3b8f1-c908-412a-9207-a55ded8b4e23",
   "metadata": {},
   "outputs": [
    {
     "data": {
      "text/plain": [
       "numpy.ndarray"
      ]
     },
     "execution_count": 122,
     "metadata": {},
     "output_type": "execute_result"
    }
   ],
   "source": [
    "# Um objeto do tipo ndarray é um recipiente multidimensional de items do mesmo tipo e tamanho\n",
    "type(arr1)"
   ]
  },
  {
   "cell_type": "code",
   "execution_count": 123,
   "id": "0fc34b27-2f06-4771-ad4b-524dc5085f17",
   "metadata": {},
   "outputs": [
    {
     "data": {
      "text/plain": [
       "(9,)"
      ]
     },
     "execution_count": 123,
     "metadata": {},
     "output_type": "execute_result"
    }
   ],
   "source": [
    "# Verificando o formato do array\n",
    "arr1.shape"
   ]
  },
  {
   "cell_type": "code",
   "execution_count": 124,
   "id": "4225d1bf-2e3d-4219-8665-a0f09965c09a",
   "metadata": {},
   "outputs": [
    {
     "data": {
      "text/plain": [
       "array([21, 32, 43])"
      ]
     },
     "execution_count": 124,
     "metadata": {},
     "output_type": "execute_result"
    }
   ],
   "source": [
    "# Indexação\n",
    "arr1[1:4]"
   ]
  },
  {
   "cell_type": "code",
   "execution_count": 125,
   "id": "ae8d1eee-39d0-45dc-92a3-cb719439c337",
   "metadata": {},
   "outputs": [
    {
     "data": {
      "text/plain": [
       "array([21, 32, 43, 48])"
      ]
     },
     "execution_count": 125,
     "metadata": {},
     "output_type": "execute_result"
    }
   ],
   "source": [
    "# Indexação\n",
    "arr1[1:4+1]"
   ]
  },
  {
   "cell_type": "code",
   "execution_count": 126,
   "id": "eb5ef71d-e1a0-4d79-be0b-ed3203e1ed8d",
   "metadata": {},
   "outputs": [],
   "source": [
    "# Cri uma lista de índices\n",
    "indices = [1,2,5,6]"
   ]
  },
  {
   "cell_type": "code",
   "execution_count": 127,
   "id": "9c73539e-ec1e-4502-884d-f6dc92aba75d",
   "metadata": {},
   "outputs": [
    {
     "data": {
      "text/plain": [
       "array([21, 32, 15, 76])"
      ]
     },
     "execution_count": 127,
     "metadata": {},
     "output_type": "execute_result"
    }
   ],
   "source": [
    "# Imprimindo os elementos dos índices\n",
    "arr1[indices]"
   ]
  },
  {
   "cell_type": "code",
   "execution_count": 128,
   "id": "19f90fd2-b056-4f3b-9b61-1eaff0180637",
   "metadata": {},
   "outputs": [],
   "source": [
    "# Cria uma máscara booleana para os elementos pares\n",
    "mask = (arr1 % 2 == 0)"
   ]
  },
  {
   "cell_type": "code",
   "execution_count": 129,
   "id": "a7b3e8c8-5e1d-4e55-b338-9d0c9d419dbd",
   "metadata": {},
   "outputs": [
    {
     "data": {
      "text/plain": [
       "array([ True, False,  True, False,  True, False,  True, False, False])"
      ]
     },
     "execution_count": 129,
     "metadata": {},
     "output_type": "execute_result"
    }
   ],
   "source": [
    "mask"
   ]
  },
  {
   "cell_type": "code",
   "execution_count": 130,
   "id": "a1b3ad73-87f6-4c32-9c58-a5b13d36ab2d",
   "metadata": {},
   "outputs": [
    {
     "data": {
      "text/plain": [
       "array([10, 32, 48, 76])"
      ]
     },
     "execution_count": 130,
     "metadata": {},
     "output_type": "execute_result"
    }
   ],
   "source": [
    "arr1[mask]"
   ]
  },
  {
   "cell_type": "code",
   "execution_count": 131,
   "id": "3c9c7962-816d-4b50-9311-56b9440b57db",
   "metadata": {},
   "outputs": [],
   "source": [
    "# Alterando um elemento do array\n",
    "arr1[0] = 100"
   ]
  },
  {
   "cell_type": "code",
   "execution_count": 132,
   "id": "a4373935-a0bc-4cf1-8848-8e16a7d141c1",
   "metadata": {},
   "outputs": [
    {
     "name": "stdout",
     "output_type": "stream",
     "text": [
      "[100  21  32  43  48  15  76  57  89]\n"
     ]
    }
   ],
   "source": [
    "print(arr1)"
   ]
  },
  {
   "cell_type": "code",
   "execution_count": 133,
   "id": "0d421b4d-6ed7-4ea9-abc8-0d7b5f1dcb73",
   "metadata": {},
   "outputs": [
    {
     "name": "stdout",
     "output_type": "stream",
     "text": [
      "Operação não permitida!\n"
     ]
    }
   ],
   "source": [
    "# Não é possível incluir elemento de outro tipo\n",
    "try:\n",
    "    arr1[0] = 'Novo elemento'\n",
    "except:\n",
    "    print(\"Operação não permitida!\")"
   ]
  },
  {
   "cell_type": "markdown",
   "id": "d754a3ec-d34a-4889-8e79-a14cd8968f52",
   "metadata": {},
   "source": [
    "`Um array NumPy é uma estrutura de dados multidemensional usada em computação científica e análise de dados. O NumPy fornece um objeto de matriz N-dimensional(ou ndarray), que é uma grande homogênia de elementos, geralmente números, que podem ser indexados por um conjunto de inteiros.\n",
    "Os arrays NumPy são mais eficientes do que as listas Python para armazenar e manipular grandes quantidades de dados, pois são impelemntados em Linguagem C e fornecem várias otimizações de desempenho. Além disso, o NumPy permite a fácil leitura e escrita de arquivos de dados, integração com outras bibliotecas Python e suporte a operações em paralelo usando várias CPUs ou GPU`"
   ]
  },
  {
   "cell_type": "markdown",
   "id": "9177c6e0-a1be-48c5-abaa-c10b562087ce",
   "metadata": {},
   "source": [
    "<img src=\"../arquivos/array.png\">"
   ]
  },
  {
   "cell_type": "code",
   "execution_count": 134,
   "id": "1e67cd80-951d-4550-bd94-8f223d1b857a",
   "metadata": {},
   "outputs": [],
   "source": [
    "# Criando o array\n",
    "arr2 = np.array([[[1, 5, 2, 1],\n",
    "               [4, 3, 5, 6],\n",
    "               [6, 3, 0, 6],\n",
    "               [7, 3, 5, 0],\n",
    "               [2, 3, 3, 5]],\n",
    "              \n",
    "              [[2, 2, 3, 1],\n",
    "               [4, 0, 0, 5],\n",
    "               [6, 3, 2, 1],\n",
    "               [5, 1, 0, 0],               \n",
    "               [0, 1, 9, 1]],\n",
    "              \n",
    "              [[3, 1, 4, 2],\n",
    "               [4, 1, 6, 0],\n",
    "               [1, 2, 0, 6],\n",
    "               [8, 3, 4, 0],               \n",
    "               [2, 0, 2, 8]]]) "
   ]
  },
  {
   "cell_type": "code",
   "execution_count": 135,
   "id": "94515422-1692-4901-859f-554a0aba25b0",
   "metadata": {},
   "outputs": [
    {
     "data": {
      "text/plain": [
       "array([[[1, 5, 2, 1],\n",
       "        [4, 3, 5, 6],\n",
       "        [6, 3, 0, 6],\n",
       "        [7, 3, 5, 0],\n",
       "        [2, 3, 3, 5]],\n",
       "\n",
       "       [[2, 2, 3, 1],\n",
       "        [4, 0, 0, 5],\n",
       "        [6, 3, 2, 1],\n",
       "        [5, 1, 0, 0],\n",
       "        [0, 1, 9, 1]],\n",
       "\n",
       "       [[3, 1, 4, 2],\n",
       "        [4, 1, 6, 0],\n",
       "        [1, 2, 0, 6],\n",
       "        [8, 3, 4, 0],\n",
       "        [2, 0, 2, 8]]])"
      ]
     },
     "execution_count": 135,
     "metadata": {},
     "output_type": "execute_result"
    }
   ],
   "source": [
    "arr2"
   ]
  },
  {
   "cell_type": "code",
   "execution_count": 136,
   "id": "2e79015b-8e58-469e-bba9-235109073319",
   "metadata": {},
   "outputs": [
    {
     "data": {
      "text/plain": [
       "(3, 5, 4)"
      ]
     },
     "execution_count": 136,
     "metadata": {},
     "output_type": "execute_result"
    }
   ],
   "source": [
    "# Verificando o formato do array\n",
    "arr2.shape"
   ]
  },
  {
   "cell_type": "code",
   "execution_count": 137,
   "id": "2985ea34-d3ce-45bc-b19e-65e8f709f971",
   "metadata": {},
   "outputs": [],
   "source": [
    "# Criando o array\n",
    "arr3 = np.array(\n",
    "        [   \n",
    "            [\n",
    "                [1, 5],\n",
    "                [4, 3],\n",
    "                [6, 3]\n",
    "            ],\n",
    "\n",
    "            [   \n",
    "                [2, 2],\n",
    "                [4, 0],\n",
    "                [6, 3]\n",
    "            ],\n",
    "\n",
    "            [\n",
    "                [3, 1],\n",
    "                [4, 1],\n",
    "                [1, 2]\n",
    "            ],\n",
    "            [\n",
    "                [3, 1],\n",
    "                [4, 1],\n",
    "                [1, 2]\n",
    "            ]\n",
    "        ]\n",
    "    )"
   ]
  },
  {
   "cell_type": "code",
   "execution_count": 138,
   "id": "78c5bdee-ce5b-4d2c-a5a1-33d5ed84884f",
   "metadata": {},
   "outputs": [
    {
     "data": {
      "text/plain": [
       "array([[[1, 5],\n",
       "        [4, 3],\n",
       "        [6, 3]],\n",
       "\n",
       "       [[2, 2],\n",
       "        [4, 0],\n",
       "        [6, 3]],\n",
       "\n",
       "       [[3, 1],\n",
       "        [4, 1],\n",
       "        [1, 2]],\n",
       "\n",
       "       [[3, 1],\n",
       "        [4, 1],\n",
       "        [1, 2]]])"
      ]
     },
     "execution_count": 138,
     "metadata": {},
     "output_type": "execute_result"
    }
   ],
   "source": [
    "arr3"
   ]
  },
  {
   "cell_type": "code",
   "execution_count": 139,
   "id": "e0b00dd3-0b63-4418-8981-ad092b21b09a",
   "metadata": {},
   "outputs": [
    {
     "data": {
      "text/plain": [
       "(4, 3, 2)"
      ]
     },
     "execution_count": 139,
     "metadata": {},
     "output_type": "execute_result"
    }
   ],
   "source": [
    "# Imprimindo o formato do array\n",
    "arr3.shape"
   ]
  },
  {
   "cell_type": "code",
   "execution_count": 140,
   "id": "b044cea5-aef3-4f62-aa08-a14e01943fcd",
   "metadata": {},
   "outputs": [
    {
     "data": {
      "text/plain": [
       "6"
      ]
     },
     "execution_count": 140,
     "metadata": {},
     "output_type": "execute_result"
    }
   ],
   "source": [
    "# Indexando um elemento do array\n",
    "arr3[1,2,0]"
   ]
  },
  {
   "cell_type": "code",
   "execution_count": 141,
   "id": "479121a4-b98b-4c43-9bf3-898be6ab86eb",
   "metadata": {},
   "outputs": [
    {
     "data": {
      "text/plain": [
       "array([[[1, 5, 2, 1],\n",
       "        [4, 3, 5, 6],\n",
       "        [6, 3, 0, 6],\n",
       "        [7, 3, 5, 0],\n",
       "        [2, 3, 3, 5]],\n",
       "\n",
       "       [[2, 2, 3, 1],\n",
       "        [4, 0, 0, 5],\n",
       "        [6, 3, 2, 1],\n",
       "        [5, 1, 0, 0],\n",
       "        [0, 1, 9, 1]],\n",
       "\n",
       "       [[3, 1, 4, 2],\n",
       "        [4, 1, 6, 0],\n",
       "        [1, 2, 0, 6],\n",
       "        [8, 3, 4, 0],\n",
       "        [2, 0, 2, 8]]])"
      ]
     },
     "execution_count": 141,
     "metadata": {},
     "output_type": "execute_result"
    }
   ],
   "source": [
    "arr2"
   ]
  },
  {
   "cell_type": "markdown",
   "id": "156678ca-4db1-4328-acc4-587be7764298",
   "metadata": {},
   "source": [
    "# Funções NumPy"
   ]
  },
  {
   "cell_type": "code",
   "execution_count": 142,
   "id": "1e4ad29c-2197-4e4a-99ca-b90bc1c4189c",
   "metadata": {},
   "outputs": [],
   "source": [
    "# A função array() cria um array NumPy\n",
    "arr4 = np.array([1,2,3,4,5])"
   ]
  },
  {
   "cell_type": "code",
   "execution_count": 143,
   "id": "c8f31ce5-653f-4355-a1b7-ee97dfbf7ea7",
   "metadata": {},
   "outputs": [
    {
     "name": "stdout",
     "output_type": "stream",
     "text": [
      "[1 2 3 4 5]\n"
     ]
    }
   ],
   "source": [
    "print(arr4)"
   ]
  },
  {
   "cell_type": "code",
   "execution_count": 144,
   "id": "4d571ba0-48c4-419f-b62c-1ad27014d43e",
   "metadata": {},
   "outputs": [
    {
     "data": {
      "text/plain": [
       "numpy.ndarray"
      ]
     },
     "execution_count": 144,
     "metadata": {},
     "output_type": "execute_result"
    }
   ],
   "source": [
    "# Verificando o tipo do objeto\n",
    "type(arr4)"
   ]
  },
  {
   "cell_type": "code",
   "execution_count": 145,
   "id": "deae8338-8c69-4416-b851-b6b68638f7e4",
   "metadata": {},
   "outputs": [
    {
     "data": {
      "text/plain": [
       "array([1, 2, 3, 4, 5])"
      ]
     },
     "execution_count": 145,
     "metadata": {},
     "output_type": "execute_result"
    }
   ],
   "source": [
    "# Verificando os métodos: digite \".\" e pressione a tecla Tan para visualizar os métodos disponíveis em objetos NumPy\n",
    "arr4"
   ]
  },
  {
   "cell_type": "code",
   "execution_count": 146,
   "id": "1b9ff023-fbdb-4357-b2f9-fa1775dc25bf",
   "metadata": {},
   "outputs": [
    {
     "data": {
      "text/plain": [
       "array([ 1,  3,  6, 10, 15])"
      ]
     },
     "execution_count": 146,
     "metadata": {},
     "output_type": "execute_result"
    }
   ],
   "source": [
    "# Usando métodos do array Numpy\n",
    "arr4.cumsum()"
   ]
  },
  {
   "cell_type": "code",
   "execution_count": 147,
   "id": "15829d5f-7d6d-40ea-a0f9-b3f71a2f76e9",
   "metadata": {},
   "outputs": [
    {
     "data": {
      "text/plain": [
       "array([  1,   2,   6,  24, 120])"
      ]
     },
     "execution_count": 147,
     "metadata": {},
     "output_type": "execute_result"
    }
   ],
   "source": [
    "arr4.cumprod()"
   ]
  },
  {
   "cell_type": "code",
   "execution_count": 148,
   "id": "6cacd500-8bb5-4b18-b270-9ffeaa472dd4",
   "metadata": {},
   "outputs": [
    {
     "data": {
      "text/plain": [
       "<module 'numpy' from '/home/mauro-lucio/anaconda3/lib/python3.11/site-packages/numpy/__init__.py'>"
      ]
     },
     "execution_count": 148,
     "metadata": {},
     "output_type": "execute_result"
    }
   ],
   "source": [
    "# Verificando as funções para manipular objetos NumPy\n",
    "np"
   ]
  },
  {
   "cell_type": "code",
   "execution_count": 149,
   "id": "e5603e66-65e7-4f76-9f4e-fae37c5e6792",
   "metadata": {},
   "outputs": [],
   "source": [
    "# A função arange cria um array NumPy contendo uma progressão aritmética a partir de um intervalo - start, stop, step\n",
    "arr5 = np.arange(0,50,5)"
   ]
  },
  {
   "cell_type": "code",
   "execution_count": 150,
   "id": "06b03ff9-ef99-46d0-87da-5dcc77a29685",
   "metadata": {},
   "outputs": [
    {
     "name": "stdout",
     "output_type": "stream",
     "text": [
      "[ 0  5 10 15 20 25 30 35 40 45]\n"
     ]
    }
   ],
   "source": [
    "print(arr5)"
   ]
  },
  {
   "cell_type": "code",
   "execution_count": 151,
   "id": "b78d3a4a-c401-4914-9256-b25206ed5059",
   "metadata": {},
   "outputs": [
    {
     "data": {
      "text/plain": [
       "numpy.ndarray"
      ]
     },
     "execution_count": 151,
     "metadata": {},
     "output_type": "execute_result"
    }
   ],
   "source": [
    "# Verificando o tipo do objeto\n",
    "type(arr5)"
   ]
  },
  {
   "cell_type": "code",
   "execution_count": 152,
   "id": "d72ae93a-635a-4cd6-b99c-2755ffcfcf95",
   "metadata": {},
   "outputs": [
    {
     "data": {
      "text/plain": [
       "(10,)"
      ]
     },
     "execution_count": 152,
     "metadata": {},
     "output_type": "execute_result"
    }
   ],
   "source": [
    "# Formato do array\n",
    "np.shape(arr5)"
   ]
  },
  {
   "cell_type": "code",
   "execution_count": 153,
   "id": "36cc0565-c0ae-423d-9a88-837c6a22ff37",
   "metadata": {},
   "outputs": [
    {
     "name": "stdout",
     "output_type": "stream",
     "text": [
      "int64\n"
     ]
    }
   ],
   "source": [
    "print(arr5.dtype)"
   ]
  },
  {
   "cell_type": "code",
   "execution_count": 157,
   "id": "2adbfdee-f947-4efd-be84-15339fd83f42",
   "metadata": {},
   "outputs": [],
   "source": [
    "# Cria um array preenchido com zeros\n",
    "arr6 = np.zeros(10)"
   ]
  },
  {
   "cell_type": "code",
   "execution_count": 155,
   "id": "00db063f-4ec8-4c19-a24b-a8c90c85ea56",
   "metadata": {},
   "outputs": [
    {
     "name": "stdout",
     "output_type": "stream",
     "text": [
      "[0. 0. 0. 0. 0. 0. 0. 0. 0. 0.]\n"
     ]
    }
   ],
   "source": [
    "print(arr6)"
   ]
  },
  {
   "cell_type": "code",
   "execution_count": 158,
   "id": "7be5f059-c491-48a8-9ce6-b45ea1d0ef8b",
   "metadata": {},
   "outputs": [],
   "source": [
    "# Retorna 1 nas posições em diagonal e 0 no restante\n",
    "arr7 = np.eye(3)"
   ]
  },
  {
   "cell_type": "code",
   "execution_count": 159,
   "id": "ff5b3084-33af-46b5-ad9c-2e96fcfb4468",
   "metadata": {},
   "outputs": [
    {
     "name": "stdout",
     "output_type": "stream",
     "text": [
      "[[1. 0. 0.]\n",
      " [0. 1. 0.]\n",
      " [0. 0. 1.]]\n"
     ]
    }
   ],
   "source": [
    "print(arr7)"
   ]
  },
  {
   "cell_type": "code",
   "execution_count": 161,
   "id": "420e115c-10c0-463e-96a5-0a5c9616a01b",
   "metadata": {},
   "outputs": [],
   "source": [
    "# Os valores passados como parâmetro, formam uma diagonal\n",
    "arr8 = np.diag(np.array([1,2,3,4]))"
   ]
  },
  {
   "cell_type": "code",
   "execution_count": 162,
   "id": "e6b74a3d-a1d5-4470-b414-bb1abb56fbe2",
   "metadata": {},
   "outputs": [
    {
     "name": "stdout",
     "output_type": "stream",
     "text": [
      "[[1 0 0 0]\n",
      " [0 2 0 0]\n",
      " [0 0 3 0]\n",
      " [0 0 0 4]]\n"
     ]
    }
   ],
   "source": [
    "print(arr8)"
   ]
  },
  {
   "cell_type": "code",
   "execution_count": 163,
   "id": "883fd328-06c4-4890-9d6f-8da371bbef17",
   "metadata": {},
   "outputs": [],
   "source": [
    "# Array de valores booleanos\n",
    "arr9 = np.array([True, False, False, True])"
   ]
  },
  {
   "cell_type": "code",
   "execution_count": 164,
   "id": "7961093e-58b4-4ac8-a9be-d9a9204abbbc",
   "metadata": {},
   "outputs": [
    {
     "name": "stdout",
     "output_type": "stream",
     "text": [
      "[ True False False  True]\n"
     ]
    }
   ],
   "source": [
    "print(arr9)"
   ]
  },
  {
   "cell_type": "code",
   "execution_count": 165,
   "id": "cdbfa81e-f5d6-46e2-acb1-41e2be95dad9",
   "metadata": {},
   "outputs": [],
   "source": [
    "# Array de Strings\n",
    "arr10 = np.array(['Linguagem Python','Linguagem R','Linguagem Julia'])"
   ]
  },
  {
   "cell_type": "code",
   "execution_count": 166,
   "id": "ad5e5d2a-da05-4977-a33d-23b54ff4c6c0",
   "metadata": {},
   "outputs": [
    {
     "name": "stdout",
     "output_type": "stream",
     "text": [
      "['Linguagem Python' 'Linguagem R' 'Linguagem Julia']\n"
     ]
    }
   ],
   "source": [
    "print(arr10)"
   ]
  },
  {
   "cell_type": "markdown",
   "id": "77f0dede-18f1-4c5e-9a36-f8491a47e050",
   "metadata": {},
   "source": [
    "`A função linspace() do NumPy é usada para criar uma sequência de números igualmente espaçados dentro de um intervalo específico. Essa função é amplamente utilizada em programação científica e matemática para gerar arrays de números para diversos fins, como gráficos, cálculos e simulções.`</br>\n",
    "`O método linspace (linearly spaced vector) retorna um número de valores igualmente distribuídos no intervalo especificado.`"
   ]
  },
  {
   "cell_type": "code",
   "execution_count": null,
   "id": "5ddfa5b9-3f8c-4541-babc-816e89fbee93",
   "metadata": {},
   "outputs": [],
   "source": []
  }
 ],
 "metadata": {
  "kernelspec": {
   "display_name": "Python 3 (ipykernel)",
   "language": "python",
   "name": "python3"
  },
  "language_info": {
   "codemirror_mode": {
    "name": "ipython",
    "version": 3
   },
   "file_extension": ".py",
   "mimetype": "text/x-python",
   "name": "python",
   "nbconvert_exporter": "python",
   "pygments_lexer": "ipython3",
   "version": "3.11.7"
  }
 },
 "nbformat": 4,
 "nbformat_minor": 5
}
