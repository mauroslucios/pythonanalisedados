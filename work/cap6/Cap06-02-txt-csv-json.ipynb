{
 "cells": [
  {
   "cell_type": "markdown",
   "id": "f353c2b4-4481-4dd5-b4ec-c910096df748",
   "metadata": {},
   "source": [
    "# Capítulo 6 - Manipulação de Arquivos - Parte 2"
   ]
  },
  {
   "cell_type": "code",
   "execution_count": 5,
   "id": "40e4f23b-de46-4c1d-aee8-6af80c5f6f21",
   "metadata": {},
   "outputs": [
    {
     "name": "stdout",
     "output_type": "stream",
     "text": [
      "Versão da linguagem python usada neste jupyter notebook = 3.11.7\n"
     ]
    }
   ],
   "source": [
    "# Versão da linguagem python usada neste jupyter notebook\n",
    "from platform import python_version\n",
    "print(f'Versão da linguagem python usada neste jupyter notebook =',python_version())"
   ]
  },
  {
   "cell_type": "markdown",
   "id": "e5424d00-6f07-4714-8fbf-b9b9feb166db",
   "metadata": {},
   "source": [
    "`TXT é a estensão de arquivo para arquivos de texto puro. Um arquivo TXT é um arquivo de texto simples sem formatação, como negrito, itálico ou fontes diferentes. Podendo ser aberto e ditado com muitos aplicativos diferentes, incluindo aeditores de texto, processadores de texto e IDEs. Arquivos TXT são amplamente utilizados para armazenar dados de texto simples, como listas, notas e documentos de texto. Eles são universais e podem ser lidos em praticamente qualquer dispositivo ou sistema operacional.`"
   ]
  },
  {
   "cell_type": "code",
   "execution_count": 6,
   "id": "b489369a-53c4-4930-8287-bdc0e2e717d3",
   "metadata": {},
   "outputs": [],
   "source": [
    "texto = \"Cientista de Dados pode ser uma execelente alternativa de carreira.\\n\"\n",
    "texto = texto + \"Esses profissionais precisam saber como programar em Python.\\n\"\n",
    "texto += \"E, claro, devem ser proficientes em Data Science.\""
   ]
  },
  {
   "cell_type": "code",
   "execution_count": 7,
   "id": "41df1fb7-4b78-4d90-8546-47647f4a51b8",
   "metadata": {},
   "outputs": [
    {
     "name": "stdout",
     "output_type": "stream",
     "text": [
      "Cientista de Dados pode ser uma execelente alternativa de carreira.\n",
      "Esses profissionais precisam saber como programar em Python.\n",
      "E, claro, devem ser proficientes em Data Science.\n"
     ]
    }
   ],
   "source": [
    "print(texto)"
   ]
  },
  {
   "cell_type": "code",
   "execution_count": 8,
   "id": "4e0074c1-4d50-4d45-a068-8e04caf4d1a0",
   "metadata": {},
   "outputs": [],
   "source": [
    "# Importando o módulo os\n",
    "import os"
   ]
  },
  {
   "cell_type": "code",
   "execution_count": 9,
   "id": "13d72c01-a4a1-47ac-ae29-3955d5e7440a",
   "metadata": {},
   "outputs": [],
   "source": [
    "# Criando um arquivo\n",
    "arquivo = open(os.path.join('arquivos/cientista.txt'),'w')"
   ]
  },
  {
   "cell_type": "code",
   "execution_count": 10,
   "id": "e0a17022-ee66-4331-b0bd-ceb309f09fb3",
   "metadata": {},
   "outputs": [],
   "source": [
    "# Gravando os dados no arquivo\n",
    "for palavra in texto.split():\n",
    "    arquivo.write(palavra + ' ')"
   ]
  },
  {
   "cell_type": "code",
   "execution_count": 11,
   "id": "3afd15a0-52b8-4a74-80f3-0ff0436dc103",
   "metadata": {},
   "outputs": [],
   "source": [
    "# Fechando o arquivo\n",
    "arquivo.close()"
   ]
  },
  {
   "cell_type": "code",
   "execution_count": 12,
   "id": "eab9676d-7d4b-4a92-ba0f-78d7b80b3b0f",
   "metadata": {},
   "outputs": [
    {
     "name": "stdout",
     "output_type": "stream",
     "text": [
      "Cientista de Dados pode ser uma execelente alternativa de carreira. Esses profissionais precisam saber como programar em Python. E, claro, devem ser proficientes em Data Science. \n"
     ]
    }
   ],
   "source": [
    "# Lendo o arquivo\n",
    "arquivo = open('arquivos/cientista.txt','r')\n",
    "conteudo = arquivo.read()\n",
    "arquivo.close()\n",
    "print(conteudo)"
   ]
  },
  {
   "cell_type": "markdown",
   "id": "7a7f677a-a600-4ee3-9bbb-22ac508422a8",
   "metadata": {},
   "source": [
    "# Usando a Expressão with"
   ]
  },
  {
   "cell_type": "markdown",
   "id": "76bb827b-4a28-48d7-a0ce-aba2800d66be",
   "metadata": {},
   "source": [
    "`O método close() é executado automaticamente`"
   ]
  },
  {
   "cell_type": "code",
   "execution_count": 13,
   "id": "0aee46c6-86bb-4f93-971c-bb96ae106d58",
   "metadata": {},
   "outputs": [],
   "source": [
    "with open('arquivos/cientista.txt','r') as arquivo:\n",
    "    conteudo = arquivo.read()"
   ]
  },
  {
   "cell_type": "code",
   "execution_count": 14,
   "id": "9677fae4-f393-4a11-967c-6e457670ce20",
   "metadata": {},
   "outputs": [
    {
     "name": "stdout",
     "output_type": "stream",
     "text": [
      "179\n"
     ]
    }
   ],
   "source": [
    "print(len(conteudo))"
   ]
  },
  {
   "cell_type": "code",
   "execution_count": 15,
   "id": "5061e903-1eed-42c3-af22-a01dcb987d83",
   "metadata": {},
   "outputs": [
    {
     "name": "stdout",
     "output_type": "stream",
     "text": [
      "Cientista de Dados pode ser uma execelente alternativa de carreira. Esses profissionais precisam saber como programar em Python. E, claro, devem ser proficientes em Data Science. \n"
     ]
    }
   ],
   "source": [
    "print(conteudo)"
   ]
  },
  {
   "cell_type": "code",
   "execution_count": 16,
   "id": "605f0c8f-566f-4e14-aac5-6d271bd97b74",
   "metadata": {},
   "outputs": [],
   "source": [
    "with open('arquivos/cientista.txt','w') as arquivo:\n",
    "    arquivo.write(texto[:19])\n",
    "    arquivo.write('\\n')\n",
    "    arquivo.write(texto[28:66])"
   ]
  },
  {
   "cell_type": "code",
   "execution_count": 18,
   "id": "46222f09-0198-4478-a105-59ce15b3431d",
   "metadata": {},
   "outputs": [
    {
     "name": "stdout",
     "output_type": "stream",
     "text": [
      "Cientista de Dados \n",
      "uma execelente alternativa de carreira\n"
     ]
    }
   ],
   "source": [
    "# Lendo o arquivo\n",
    "arquivo = open('arquivos/cientista.txt','r')\n",
    "conteudo = arquivo.read()\n",
    "arquivo.close()\n",
    "print(conteudo)"
   ]
  },
  {
   "cell_type": "markdown",
   "id": "a8825b1f-d636-46ca-8b42-e4bea124b60a",
   "metadata": {},
   "source": [
    "# Manipulando Arquivos CSV"
   ]
  },
  {
   "cell_type": "markdown",
   "id": "70334d77-93a5-4e20-9dde-49c25c9c126a",
   "metadata": {},
   "source": [
    "`CSV (Comma-Separated Values) é um formato de arquivo que armazena dados tabulares em formato de texto plano. Cada linha do arquivo CSV representa uma linha da tabela e as colunas são separadas por vírgulas. É amplamente utilizado para exportar e importat dados em diferentes aplicações, como planilhas e banco de dados. CSV é uma opção simples e universal pata compartilhar dados, pois pode ser aberto e editado usando vários aplicativos diferentes, incluindo programas de planilha e editores de texto.`"
   ]
  },
  {
   "cell_type": "code",
   "execution_count": null,
   "id": "e539a7ac-097b-4105-b1a6-486daccf8829",
   "metadata": {},
   "outputs": [],
   "source": []
  }
 ],
 "metadata": {
  "kernelspec": {
   "display_name": "Python 3 (ipykernel)",
   "language": "python",
   "name": "python3"
  },
  "language_info": {
   "codemirror_mode": {
    "name": "ipython",
    "version": 3
   },
   "file_extension": ".py",
   "mimetype": "text/x-python",
   "name": "python",
   "nbconvert_exporter": "python",
   "pygments_lexer": "ipython3",
   "version": "3.11.7"
  }
 },
 "nbformat": 4,
 "nbformat_minor": 5
}
