{
 "cells": [
  {
   "cell_type": "markdown",
   "id": "f353c2b4-4481-4dd5-b4ec-c910096df748",
   "metadata": {},
   "source": [
    "# Capítulo 6 - Manipulação de Arquivos - Parte 2"
   ]
  },
  {
   "cell_type": "code",
   "execution_count": 1,
   "id": "40e4f23b-de46-4c1d-aee8-6af80c5f6f21",
   "metadata": {},
   "outputs": [
    {
     "name": "stdout",
     "output_type": "stream",
     "text": [
      "Versão da linguagem python usada neste jupyter notebook = 3.11.7\n"
     ]
    }
   ],
   "source": [
    "# Versão da linguagem python usada neste jupyter notebook\n",
    "from platform import python_version\n",
    "print(f'Versão da linguagem python usada neste jupyter notebook =',python_version())"
   ]
  },
  {
   "cell_type": "markdown",
   "id": "e5424d00-6f07-4714-8fbf-b9b9feb166db",
   "metadata": {},
   "source": [
    "`TXT é a estensão de arquivo para arquivos de texto puro. Um arquivo TXT é um arquivo de texto simples sem formatação, como negrito, itálico ou fontes diferentes. Podendo ser aberto e ditado com muitos aplicativos diferentes, incluindo aeditores de texto, processadores de texto e IDEs. Arquivos TXT são amplamente utilizados para armazenar dados de texto simples, como listas, notas e documentos de texto. Eles são universais e podem ser lidos em praticamente qualquer dispositivo ou sistema operacional.`"
   ]
  },
  {
   "cell_type": "code",
   "execution_count": 2,
   "id": "b489369a-53c4-4930-8287-bdc0e2e717d3",
   "metadata": {},
   "outputs": [],
   "source": [
    "texto = \"Cientista de Dados pode ser uma execelente alternativa de carreira.\\n\"\n",
    "texto = texto + \"Esses profissionais precisam saber como programar em Python.\\n\"\n",
    "texto += \"E, claro, devem ser proficientes em Data Science.\""
   ]
  },
  {
   "cell_type": "code",
   "execution_count": 3,
   "id": "41df1fb7-4b78-4d90-8546-47647f4a51b8",
   "metadata": {},
   "outputs": [
    {
     "name": "stdout",
     "output_type": "stream",
     "text": [
      "Cientista de Dados pode ser uma execelente alternativa de carreira.\n",
      "Esses profissionais precisam saber como programar em Python.\n",
      "E, claro, devem ser proficientes em Data Science.\n"
     ]
    }
   ],
   "source": [
    "print(texto)"
   ]
  },
  {
   "cell_type": "code",
   "execution_count": 4,
   "id": "4e0074c1-4d50-4d45-a068-8e04caf4d1a0",
   "metadata": {},
   "outputs": [],
   "source": [
    "# Importando o módulo os\n",
    "import os"
   ]
  },
  {
   "cell_type": "code",
   "execution_count": 5,
   "id": "13d72c01-a4a1-47ac-ae29-3955d5e7440a",
   "metadata": {},
   "outputs": [],
   "source": [
    "# Criando um arquivo\n",
    "arquivo = open(os.path.join('arquivos/cientista.txt'),'w')"
   ]
  },
  {
   "cell_type": "code",
   "execution_count": 6,
   "id": "e0a17022-ee66-4331-b0bd-ceb309f09fb3",
   "metadata": {},
   "outputs": [],
   "source": [
    "# Gravando os dados no arquivo\n",
    "for palavra in texto.split():\n",
    "    arquivo.write(palavra + ' ')"
   ]
  },
  {
   "cell_type": "code",
   "execution_count": 7,
   "id": "3afd15a0-52b8-4a74-80f3-0ff0436dc103",
   "metadata": {},
   "outputs": [],
   "source": [
    "# Fechando o arquivo\n",
    "arquivo.close()"
   ]
  },
  {
   "cell_type": "code",
   "execution_count": 8,
   "id": "eab9676d-7d4b-4a92-ba0f-78d7b80b3b0f",
   "metadata": {},
   "outputs": [
    {
     "name": "stdout",
     "output_type": "stream",
     "text": [
      "Cientista de Dados pode ser uma execelente alternativa de carreira. Esses profissionais precisam saber como programar em Python. E, claro, devem ser proficientes em Data Science. \n"
     ]
    }
   ],
   "source": [
    "# Lendo o arquivo\n",
    "arquivo = open('arquivos/cientista.txt','r')\n",
    "conteudo = arquivo.read()\n",
    "arquivo.close()\n",
    "print(conteudo)"
   ]
  },
  {
   "cell_type": "markdown",
   "id": "7a7f677a-a600-4ee3-9bbb-22ac508422a8",
   "metadata": {},
   "source": [
    "# Usando a Expressão with"
   ]
  },
  {
   "cell_type": "markdown",
   "id": "76bb827b-4a28-48d7-a0ce-aba2800d66be",
   "metadata": {},
   "source": [
    "`O método close() é executado automaticamente`"
   ]
  },
  {
   "cell_type": "code",
   "execution_count": 9,
   "id": "0aee46c6-86bb-4f93-971c-bb96ae106d58",
   "metadata": {},
   "outputs": [],
   "source": [
    "with open('arquivos/cientista.txt','r') as arquivo:\n",
    "    conteudo = arquivo.read()"
   ]
  },
  {
   "cell_type": "code",
   "execution_count": 10,
   "id": "9677fae4-f393-4a11-967c-6e457670ce20",
   "metadata": {},
   "outputs": [
    {
     "name": "stdout",
     "output_type": "stream",
     "text": [
      "179\n"
     ]
    }
   ],
   "source": [
    "print(len(conteudo))"
   ]
  },
  {
   "cell_type": "code",
   "execution_count": 11,
   "id": "5061e903-1eed-42c3-af22-a01dcb987d83",
   "metadata": {},
   "outputs": [
    {
     "name": "stdout",
     "output_type": "stream",
     "text": [
      "Cientista de Dados pode ser uma execelente alternativa de carreira. Esses profissionais precisam saber como programar em Python. E, claro, devem ser proficientes em Data Science. \n"
     ]
    }
   ],
   "source": [
    "print(conteudo)"
   ]
  },
  {
   "cell_type": "code",
   "execution_count": 12,
   "id": "605f0c8f-566f-4e14-aac5-6d271bd97b74",
   "metadata": {},
   "outputs": [],
   "source": [
    "with open('arquivos/cientista.txt','w') as arquivo:\n",
    "    arquivo.write(texto[:19])\n",
    "    arquivo.write('\\n')\n",
    "    arquivo.write(texto[28:66])"
   ]
  },
  {
   "cell_type": "code",
   "execution_count": 13,
   "id": "46222f09-0198-4478-a105-59ce15b3431d",
   "metadata": {},
   "outputs": [
    {
     "name": "stdout",
     "output_type": "stream",
     "text": [
      "Cientista de Dados \n",
      "uma execelente alternativa de carreira\n"
     ]
    }
   ],
   "source": [
    "# Lendo o arquivo\n",
    "arquivo = open('arquivos/cientista.txt','r')\n",
    "conteudo = arquivo.read()\n",
    "arquivo.close()\n",
    "print(conteudo)"
   ]
  },
  {
   "cell_type": "markdown",
   "id": "a8825b1f-d636-46ca-8b42-e4bea124b60a",
   "metadata": {},
   "source": [
    "# Manipulando Arquivos CSV"
   ]
  },
  {
   "cell_type": "markdown",
   "id": "70334d77-93a5-4e20-9dde-49c25c9c126a",
   "metadata": {},
   "source": [
    "`CSV (Comma-Separated Values) é um formato de arquivo que armazena dados tabulares em formato de texto plano. Cada linha do arquivo CSV representa uma linha da tabela e as colunas são separadas por vírgulas. É amplamente utilizado para exportar e importat dados em diferentes aplicações, como planilhas e banco de dados. CSV é uma opção simples e universal pata compartilhar dados, pois pode ser aberto e editado usando vários aplicativos diferentes, incluindo programas de planilha e editores de texto.`"
   ]
  },
  {
   "cell_type": "code",
   "execution_count": 14,
   "id": "e539a7ac-097b-4105-b1a6-486daccf8829",
   "metadata": {},
   "outputs": [],
   "source": [
    "# Importando o módulo csv\n",
    "import csv"
   ]
  },
  {
   "cell_type": "code",
   "execution_count": 15,
   "id": "94be5ca7-0b00-4d93-9a54-ad87954e5a95",
   "metadata": {},
   "outputs": [],
   "source": [
    "# Abrindo arquivo no modo de gravação, se não existir o arquivo será criado\n",
    "with open('arquivos/numeros.csv','w') as arquivo:\n",
    "    # criando objeto de gravação\n",
    "    writer = csv.writer(arquivo)\n",
    "    # grava no arquivo linha a linha\n",
    "    writer.writerow(('nota1','nota2','nota3'))\n",
    "    writer.writerow((63,87,92))\n",
    "    writer.writerow((61,79,76))\n",
    "    writer.writerow((72,64,91))"
   ]
  },
  {
   "cell_type": "code",
   "execution_count": 16,
   "id": "b00e40a7-09ae-4931-bd53-c2de88f940f1",
   "metadata": {},
   "outputs": [
    {
     "name": "stdout",
     "output_type": "stream",
     "text": [
      "['nota1', 'nota2', 'nota3']\n",
      "['63', '87', '92']\n",
      "['61', '79', '76']\n",
      "['72', '64', '91']\n"
     ]
    }
   ],
   "source": [
    "# Leitura de arquivos csv\n",
    "# Abrindo arquivo para leitura e atribuindo encoding 'utf8'\n",
    "with open('arquivos/numeros.csv','r', encoding='utf8', newline = '\\r\\n') as arquivo:\n",
    "    # Cria o objeto de leitura\n",
    "    leitor = csv.reader(arquivo)\n",
    "    # Loop pegando cada linha do arquivo\n",
    "    for x in leitor:\n",
    "        print(x)"
   ]
  },
  {
   "cell_type": "code",
   "execution_count": 18,
   "id": "e788436f-901c-4721-b820-effd038945ef",
   "metadata": {},
   "outputs": [],
   "source": [
    "# Gerando uma lista com dados do arquivo csv \n",
    "with open('arquivos/numeros.csv','r') as arquivo:\n",
    "    leitor = csv.reader(arquivo)\n",
    "    dados = list(leitor)"
   ]
  },
  {
   "cell_type": "code",
   "execution_count": 19,
   "id": "35329a03-2606-48f1-8acb-2bc929c5ae2e",
   "metadata": {},
   "outputs": [
    {
     "name": "stdout",
     "output_type": "stream",
     "text": [
      "[['nota1', 'nota2', 'nota3'], ['63', '87', '92'], ['61', '79', '76'], ['72', '64', '91']]\n"
     ]
    }
   ],
   "source": [
    "print(dados)"
   ]
  },
  {
   "cell_type": "code",
   "execution_count": 20,
   "id": "35c29a0d-de6b-4f3c-8616-131438233501",
   "metadata": {},
   "outputs": [
    {
     "name": "stdout",
     "output_type": "stream",
     "text": [
      "['63', '87', '92']\n",
      "['61', '79', '76']\n",
      "['72', '64', '91']\n"
     ]
    }
   ],
   "source": [
    "# Imprimindo a partir da segunda linha\n",
    "for linha in dados[1:]:\n",
    "    print(linha)"
   ]
  },
  {
   "cell_type": "markdown",
   "id": "597409a6-671c-4b2c-b57f-293be1ff7214",
   "metadata": {},
   "source": [
    "# Manipulando Arquivos JSON (Java Script Object Notation)\n",
    "`JSON(JavaScript Object Notation) e um formato de dados de texto simples e leve que é utilizado para transmitir informações em aplicações web. É baseado em uma extrutura de objetos JavaScript e usa paraes de chave-valor para representar dados. JSON é failmente lido e escrito por máquinas e é amplamente utilizado como formato de intercâmbio de dados em aplicações web modernas.`"
   ]
  },
  {
   "cell_type": "code",
   "execution_count": 26,
   "id": "89e75510-33d3-4496-bf70-d25176d17280",
   "metadata": {},
   "outputs": [],
   "source": [
    "# Criando um dicionário python que é um conjunto de pares chave:valor\n",
    "dict_guido = {\n",
    "    'nome':'Guido Van Rossum',\n",
    "    'liguagem':'Python',\n",
    "    'similar': ['c','Modula-3','lisp'],\n",
    "    'users':1000000\n",
    "}"
   ]
  },
  {
   "cell_type": "code",
   "execution_count": 28,
   "id": "00af9657-2ea6-405f-a257-5b329b0f856c",
   "metadata": {},
   "outputs": [
    {
     "name": "stdout",
     "output_type": "stream",
     "text": [
      "nome Guido Van Rossum\n",
      "liguagem Python\n",
      "similar ['c', 'Modula-3', 'lisp']\n",
      "users 1000000\n"
     ]
    }
   ],
   "source": [
    "# Percorrendo o dicionário\n",
    "# Para cada conjunto de chave \"valor = k,v\" no \"in dict\", pega o \"item = dict.items()\" \n",
    "for k,v in dict_guido.items():\n",
    "# imprimindo o conjunto chave valor = \"print(k,v)\"\n",
    "    print (k,v)"
   ]
  },
  {
   "cell_type": "code",
   "execution_count": 23,
   "id": "df643725-680c-4ef0-822e-5e2845172f35",
   "metadata": {},
   "outputs": [],
   "source": [
    "# Importando o módulo Json\n",
    "import json"
   ]
  },
  {
   "cell_type": "code",
   "execution_count": 24,
   "id": "8fd9533d-136c-4aad-88bd-e8e266291216",
   "metadata": {},
   "outputs": [
    {
     "data": {
      "text/plain": [
       "'{\"nome\": \"Guido Van Rossun\", \"liguagem\": \"Python\", \"similar\": [\"c\", \"Modula-3\", \"lisp\"], \"users\": 1000000}'"
      ]
     },
     "execution_count": 24,
     "metadata": {},
     "output_type": "execute_result"
    }
   ],
   "source": [
    "# Convertendo o dicionário para um objeto json\n",
    "json.dumps(dict_guido)"
   ]
  },
  {
   "cell_type": "code",
   "execution_count": 30,
   "id": "d333ca08-f261-453a-a110-75993286e3d1",
   "metadata": {},
   "outputs": [],
   "source": [
    "# Criando um arquivo json\n",
    "with open('arquivos/dados.json','w') as arquivo:\n",
    "    arquivo.write(json.dumps(dict_guido))"
   ]
  },
  {
   "cell_type": "code",
   "execution_count": 35,
   "id": "900a9e24-1e0a-43af-8df1-2c6ddacced98",
   "metadata": {},
   "outputs": [],
   "source": [
    "# Leitura de arquivos json\n",
    "with open('arquivos/dados.json','r') as arquivo:\n",
    "    texto = arquivo.read()\n",
    "    # Usando o método loads para carregar o conteúdo de texto em dados \"dados = json.loads(texto)\n",
    "    dados = json.loads(texto)"
   ]
  },
  {
   "cell_type": "code",
   "execution_count": 32,
   "id": "e0b90894-5182-4be6-9bc4-93577ee547ab",
   "metadata": {},
   "outputs": [
    {
     "data": {
      "text/plain": [
       "{'nome': 'Guido Van Rossum',\n",
       " 'liguagem': 'Python',\n",
       " 'similar': ['c', 'Modula-3', 'lisp'],\n",
       " 'users': 1000000}"
      ]
     },
     "execution_count": 32,
     "metadata": {},
     "output_type": "execute_result"
    }
   ],
   "source": [
    "dados"
   ]
  },
  {
   "cell_type": "code",
   "execution_count": 33,
   "id": "0ab1795c-71e2-4020-b1c9-8f9f9277b2a1",
   "metadata": {},
   "outputs": [
    {
     "name": "stdout",
     "output_type": "stream",
     "text": [
      "Guido Van Rossum\n"
     ]
    }
   ],
   "source": [
    "print(dados['nome'])"
   ]
  },
  {
   "cell_type": "markdown",
   "id": "8341c180-0f43-4155-b29a-f064778b5f2e",
   "metadata": {},
   "source": [
    "# Extração de Arquivo da Web"
   ]
  },
  {
   "cell_type": "code",
   "execution_count": 39,
   "id": "e68d9d0a-132f-415e-b442-bfecaa47c7c4",
   "metadata": {},
   "outputs": [],
   "source": [
    "# Imprimindo um arquivo JSON copiado da \n",
    "from urllib.request import urlopen\n",
    "response = urlopen(\"http://vimeo.com/api/v2/video/57733101.json\").read().decode('utf8')\n",
    "dados = json.loads(response)[0]"
   ]
  },
  {
   "cell_type": "code",
   "execution_count": 40,
   "id": "6cb214ad-9411-434e-ad0a-d149b8f01f24",
   "metadata": {},
   "outputs": [
    {
     "data": {
      "text/plain": [
       "{'id': 57733101,\n",
       " 'title': 'The Good Man trailer',\n",
       " 'description': 'Trailer for the Manifesto Films production, The Good Man, now available in UK/Ireland/US/Canada/Australia/New Zealand on iTunes (https://itunes.apple.com/us/movie/the-good-man/id873130906) and DVD (http://www.amazon.co.uk/The-Good-Man-Aiden-Gillen/dp/B00IIK6CGU/). Co-production with Jet Black Entertainment (South Africa). Starring Aidan Gillen, Thabang Sidloyi, Kelly Campbell, Lunathi Mampofu. Written & directed by Phil Harrison. More info at www.thegoodmanfilm.com<br />\\r\\n<br />\\r\\nCheck out the Variety Magazine review here: http://www.variety.com/review/VE1117947909/',\n",
       " 'url': 'https://vimeo.com/57733101',\n",
       " 'upload_date': '2013-01-19 04:01:15',\n",
       " 'thumbnail_small': 'https://i.vimeocdn.com/video/436057121-e828a1f5478ec0136e957753d107f2a1268c64def9b82faac37c8e30c031cff2-d_100x75',\n",
       " 'thumbnail_medium': 'https://i.vimeocdn.com/video/436057121-e828a1f5478ec0136e957753d107f2a1268c64def9b82faac37c8e30c031cff2-d_200x150',\n",
       " 'thumbnail_large': 'https://i.vimeocdn.com/video/436057121-e828a1f5478ec0136e957753d107f2a1268c64def9b82faac37c8e30c031cff2-d_640',\n",
       " 'user_id': 1334563,\n",
       " 'user_name': 'Manifesto Films',\n",
       " 'user_url': 'https://vimeo.com/manifestofilms',\n",
       " 'user_portrait_small': 'https://i.vimeocdn.com/portrait/4778306_30x30',\n",
       " 'user_portrait_medium': 'https://i.vimeocdn.com/portrait/4778306_75x75',\n",
       " 'user_portrait_large': 'https://i.vimeocdn.com/portrait/4778306_100x100',\n",
       " 'user_portrait_huge': 'https://i.vimeocdn.com/portrait/4778306_300x300',\n",
       " 'stats_number_of_likes': 18,\n",
       " 'stats_number_of_plays': 6737,\n",
       " 'stats_number_of_comments': 0,\n",
       " 'duration': 143,\n",
       " 'width': 1024,\n",
       " 'height': 576,\n",
       " 'tags': 'belfast, cape town, africa, ireland, film',\n",
       " 'embed_privacy': 'anywhere'}"
      ]
     },
     "execution_count": 40,
     "metadata": {},
     "output_type": "execute_result"
    }
   ],
   "source": [
    "dados"
   ]
  },
  {
   "cell_type": "code",
   "execution_count": 42,
   "id": "3ac8c0e4-0682-4b36-a03c-55aabfb45168",
   "metadata": {},
   "outputs": [
    {
     "name": "stdout",
     "output_type": "stream",
     "text": [
      "Título:  The Good Man trailer\n",
      "URL:  https://vimeo.com/57733101\n",
      "Duração:  143\n",
      "Número de Visualizações:  6737\n"
     ]
    }
   ],
   "source": [
    "print('Título: ', dados['title'])\n",
    "print('URL: ', dados['url'])\n",
    "print('Duração: ', dados['duration'])\n",
    "print('Número de Visualizações: ', dados['stats_number_of_plays'])"
   ]
  },
  {
   "cell_type": "code",
   "execution_count": null,
   "id": "c7f0ab85-babf-4068-868f-ea4a04706be7",
   "metadata": {},
   "outputs": [],
   "source": []
  }
 ],
 "metadata": {
  "kernelspec": {
   "display_name": "Python 3 (ipykernel)",
   "language": "python",
   "name": "python3"
  },
  "language_info": {
   "codemirror_mode": {
    "name": "ipython",
    "version": 3
   },
   "file_extension": ".py",
   "mimetype": "text/x-python",
   "name": "python",
   "nbconvert_exporter": "python",
   "pygments_lexer": "ipython3",
   "version": "3.11.7"
  }
 },
 "nbformat": 4,
 "nbformat_minor": 5
}
