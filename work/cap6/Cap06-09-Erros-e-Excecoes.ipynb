{
 "cells": [
  {
   "cell_type": "markdown",
   "id": "5ad29b56-53e7-402a-8684-b3b27f742686",
   "metadata": {},
   "source": [
    "# Capítulo 6 - Tratamento de Erros e Exceções\n",
    "## Erros e Exceções\n",
    "`Sempre leia as mensagens de erro. Erros fazem parte do processo de aprendizagem e vão acompanhar você na sua jornada em programação, em qualquer linguagem.`"
   ]
  },
  {
   "cell_type": "code",
   "execution_count": 1,
   "id": "c0709c9a-5a67-411e-b219-190720de3dbd",
   "metadata": {},
   "outputs": [
    {
     "name": "stdout",
     "output_type": "stream",
     "text": [
      "Versão da Linguagem Python usada neste Jupyter Notebook 3.11.7\n"
     ]
    }
   ],
   "source": [
    "# Versõa da Linguagem Python\n",
    "from platform import python_version\n",
    "print('Versão da Linguagem Python usada neste Jupyter Notebook', python_version())"
   ]
  },
  {
   "cell_type": "code",
   "execution_count": 2,
   "id": "b3fce118-d721-4856-b8ab-eced315c3980",
   "metadata": {},
   "outputs": [
    {
     "ename": "SyntaxError",
     "evalue": "unterminated string literal (detected at line 2) (1025959065.py, line 2)",
     "output_type": "error",
     "traceback": [
      "\u001b[0;36m  Cell \u001b[0;32mIn[2], line 2\u001b[0;36m\u001b[0m\n\u001b[0;31m    print('Hello)\u001b[0m\n\u001b[0m          ^\u001b[0m\n\u001b[0;31mSyntaxError\u001b[0m\u001b[0;31m:\u001b[0m unterminated string literal (detected at line 2)\n"
     ]
    }
   ],
   "source": [
    "# Erro (leia mensagem de erro)\n",
    "print('Hello)"
   ]
  },
  {
   "cell_type": "code",
   "execution_count": 3,
   "id": "d41f0c54-07fd-42e9-8c8a-191a3e97640a",
   "metadata": {},
   "outputs": [
    {
     "ename": "TypeError",
     "evalue": "unsupported operand type(s) for +: 'int' and 'str'",
     "output_type": "error",
     "traceback": [
      "\u001b[0;31m---------------------------------------------------------------------------\u001b[0m",
      "\u001b[0;31mTypeError\u001b[0m                                 Traceback (most recent call last)",
      "Cell \u001b[0;32mIn[3], line 2\u001b[0m\n\u001b[1;32m      1\u001b[0m \u001b[38;5;66;03m# Erro (leia a mensagem de erro)\u001b[39;00m\n\u001b[0;32m----> 2\u001b[0m \u001b[38;5;241m8\u001b[39m \u001b[38;5;241m+\u001b[39m \u001b[38;5;124m'\u001b[39m\u001b[38;5;124ms\u001b[39m\u001b[38;5;124m'\u001b[39m\n",
      "\u001b[0;31mTypeError\u001b[0m: unsupported operand type(s) for +: 'int' and 'str'"
     ]
    }
   ],
   "source": [
    "# Erro (leia a mensagem de erro)\n",
    "8 + 's'"
   ]
  },
  {
   "cell_type": "code",
   "execution_count": 4,
   "id": "7bc047ed-c9a1-4d7a-bbed-c660336a7b74",
   "metadata": {},
   "outputs": [],
   "source": [
    "# Criando uma função\n",
    "def numDiv(n1,n2):\n",
    "    resultado = n1 / n2\n",
    "    print(resultado)"
   ]
  },
  {
   "cell_type": "code",
   "execution_count": 5,
   "id": "7b40294e-ed86-4901-91cc-d5179b845082",
   "metadata": {},
   "outputs": [
    {
     "name": "stdout",
     "output_type": "stream",
     "text": [
      "2.0\n"
     ]
    }
   ],
   "source": [
    "# Execução não gera erro\n",
    "numDiv(4,2)"
   ]
  },
  {
   "cell_type": "code",
   "execution_count": 6,
   "id": "fdffa5fd-f935-47b8-9685-900cdbc27246",
   "metadata": {},
   "outputs": [
    {
     "ename": "ZeroDivisionError",
     "evalue": "division by zero",
     "output_type": "error",
     "traceback": [
      "\u001b[0;31m---------------------------------------------------------------------------\u001b[0m",
      "\u001b[0;31mZeroDivisionError\u001b[0m                         Traceback (most recent call last)",
      "Cell \u001b[0;32mIn[6], line 2\u001b[0m\n\u001b[1;32m      1\u001b[0m \u001b[38;5;66;03m# Execução gernado erro (leia a mensagem de erro)\u001b[39;00m\n\u001b[0;32m----> 2\u001b[0m numDiv(\u001b[38;5;241m4\u001b[39m,\u001b[38;5;241m0\u001b[39m)\n",
      "Cell \u001b[0;32mIn[4], line 3\u001b[0m, in \u001b[0;36mnumDiv\u001b[0;34m(n1, n2)\u001b[0m\n\u001b[1;32m      2\u001b[0m \u001b[38;5;28;01mdef\u001b[39;00m \u001b[38;5;21mnumDiv\u001b[39m(n1,n2):\n\u001b[0;32m----> 3\u001b[0m     resultado \u001b[38;5;241m=\u001b[39m n1 \u001b[38;5;241m/\u001b[39m n2\n\u001b[1;32m      4\u001b[0m     \u001b[38;5;28mprint\u001b[39m(resultado)\n",
      "\u001b[0;31mZeroDivisionError\u001b[0m: division by zero"
     ]
    }
   ],
   "source": [
    "# Execução gernado erro (leia a mensagem de erro)\n",
    "numDiv(4,0)"
   ]
  },
  {
   "cell_type": "markdown",
   "id": "b1c601ee-3d7b-4e5e-8876-100a47d85ffa",
   "metadata": {},
   "source": [
    "# Try, Except, Finally"
   ]
  },
  {
   "cell_type": "code",
   "execution_count": 7,
   "id": "b12cd549-8048-44c3-898f-6fa48693bcf3",
   "metadata": {},
   "outputs": [
    {
     "ename": "TypeError",
     "evalue": "unsupported operand type(s) for +: 'int' and 'str'",
     "output_type": "error",
     "traceback": [
      "\u001b[0;31m---------------------------------------------------------------------------\u001b[0m",
      "\u001b[0;31mTypeError\u001b[0m                                 Traceback (most recent call last)",
      "Cell \u001b[0;32mIn[7], line 1\u001b[0m\n\u001b[0;32m----> 1\u001b[0m \u001b[38;5;241m8\u001b[39m \u001b[38;5;241m+\u001b[39m \u001b[38;5;124m'\u001b[39m\u001b[38;5;124ms\u001b[39m\u001b[38;5;124m'\u001b[39m\n",
      "\u001b[0;31mTypeError\u001b[0m: unsupported operand type(s) for +: 'int' and 'str'"
     ]
    }
   ],
   "source": [
    "8 + 's'"
   ]
  },
  {
   "cell_type": "code",
   "execution_count": 8,
   "id": "d51bd00b-a153-4993-8514-f1e0977e8d8c",
   "metadata": {},
   "outputs": [
    {
     "name": "stdout",
     "output_type": "stream",
     "text": [
      "Operação não permitida\n"
     ]
    }
   ],
   "source": [
    "# Utilizando try e except\n",
    "try:\n",
    "    8 + 's'\n",
    "except TypeError:\n",
    "    print('Operação não permitida')"
   ]
  },
  {
   "cell_type": "code",
   "execution_count": 9,
   "id": "a2fd1407-02ef-4aee-943b-d3ed6bc601a2",
   "metadata": {},
   "outputs": [
    {
     "name": "stdout",
     "output_type": "stream",
     "text": [
      "Conteúdo gravado com sucesso!\n"
     ]
    }
   ],
   "source": [
    "# Utilizando try, except e else\n",
    "try:\n",
    "    f = open('arquivos/testandoerros.txt','w')\n",
    "    f.write('Gravando no arquivo')\n",
    "except IOError:\n",
    "    print('Erro: arquivo não encontrado ou não pode ser salvo.')\n",
    "else:\n",
    "    print('Conteúdo gravado com sucesso!')\n",
    "    f.close()\n",
    "        \n",
    "    "
   ]
  },
  {
   "cell_type": "code",
   "execution_count": 10,
   "id": "b68d46c5-0460-4889-adf8-44ec0deeaf1d",
   "metadata": {},
   "outputs": [
    {
     "name": "stdout",
     "output_type": "stream",
     "text": [
      "Erro: arquivo não encontrado ou não pode ser lido.\n"
     ]
    }
   ],
   "source": [
    "# Utilizando try, except e else\n",
    "try:\n",
    "    f = open('arquivos/testandoerros','r')\n",
    "except IOError:\n",
    "    print('Erro: arquivo não encontrado ou não pode ser lido.')\n",
    "else:\n",
    "    print('Conteúdo gravado com sucesso!')\n",
    "    f.close()\n"
   ]
  },
  {
   "cell_type": "code",
   "execution_count": 11,
   "id": "4872b675-0df1-43a1-b58e-950bfc5dc804",
   "metadata": {},
   "outputs": [
    {
     "name": "stdout",
     "output_type": "stream",
     "text": [
      "Conteúdo gravado com sucesso\n",
      "Comando no bloco finally são sempre executados!\n"
     ]
    }
   ],
   "source": [
    "# Utilizando try, except, else e finally\n",
    "try:\n",
    "    f = open('arquivos/testandoerros.txt','w')\n",
    "    f.write('Gravando no arquivo')\n",
    "except IOError:\n",
    "    print('Erro: arquivo não encontrado ou não pode ser salvo.')\n",
    "else:\n",
    "    print('Conteúdo gravado com sucesso')\n",
    "    f.close()\n",
    "finally:\n",
    "    print('Comando no bloco finally são sempre executados!')"
   ]
  },
  {
   "cell_type": "code",
   "execution_count": null,
   "id": "57e715b8-b8c2-4fe9-aceb-38317f3ffa35",
   "metadata": {},
   "outputs": [],
   "source": []
  }
 ],
 "metadata": {
  "kernelspec": {
   "display_name": "Python 3 (ipykernel)",
   "language": "python",
   "name": "python3"
  },
  "language_info": {
   "codemirror_mode": {
    "name": "ipython",
    "version": 3
   },
   "file_extension": ".py",
   "mimetype": "text/x-python",
   "name": "python",
   "nbconvert_exporter": "python",
   "pygments_lexer": "ipython3",
   "version": "3.11.7"
  }
 },
 "nbformat": 4,
 "nbformat_minor": 5
}
