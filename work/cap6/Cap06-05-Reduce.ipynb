{
 "cells": [
  {
   "cell_type": "markdown",
   "id": "a98ce316-2cf3-4ee9-8036-1ab152e50b81",
   "metadata": {},
   "source": [
    "# Função Reduce\n",
    "`A função reduce() em Python é uma função d biblioteca functools que aplica uma determinada função binária a pares consecutivos de elementos em uma estrutura de dados iterável(como uma lista, tupla ou outro objeto iterável, reduzindo-a a um único valor.`"
   ]
  },
  {
   "cell_type": "code",
   "execution_count": 1,
   "id": "3f375c87-1384-42a8-8338-5d3c82927356",
   "metadata": {},
   "outputs": [
    {
     "name": "stdout",
     "output_type": "stream",
     "text": [
      "Versão da Linguagem Python usada neste Jupyter Notebook. 3.11.7\n"
     ]
    }
   ],
   "source": [
    "# Versão do Python \n",
    "from platform import python_version\n",
    "print(f'Versão da Linguagem Python usada neste Jupyter Notebook.', python_version())"
   ]
  },
  {
   "cell_type": "code",
   "execution_count": 2,
   "id": "7a0e15bf-4f70-4e6c-bbb9-0c5981e0fac3",
   "metadata": {},
   "outputs": [],
   "source": [
    "# Importando a função reduce do módulo functool\n",
    "from functools import reduce"
   ]
  },
  {
   "cell_type": "code",
   "execution_count": 4,
   "id": "07f69606-e71e-4510-a3cf-5cd49770010d",
   "metadata": {},
   "outputs": [
    {
     "data": {
      "image/png": "[encoded data removed]",
      "text/plain": [
       "<IPython.core.display.Image object>"
      ]
     },
     "execution_count": 4,
     "metadata": {},
     "output_type": "execute_result"
    }
   ],
   "source": [
    "from IPython.display import Image\n",
    "Image('arquivos/pythonreduce.png')"
   ]
  },
  {
   "cell_type": "code",
   "execution_count": 5,
   "id": "4e138434-f055-402b-a3a6-e434e95110f1",
   "metadata": {},
   "outputs": [],
   "source": [
    "# Criando uma lista\n",
    "lista = [47, 11, 42, 13]"
   ]
  },
  {
   "cell_type": "code",
   "execution_count": 6,
   "id": "eb7d3f24-3f0b-4975-b6db-73af8496e0c0",
   "metadata": {},
   "outputs": [
    {
     "data": {
      "text/plain": [
       "[47, 11, 42, 13]"
      ]
     },
     "execution_count": 6,
     "metadata": {},
     "output_type": "execute_result"
    }
   ],
   "source": [
    "lista"
   ]
  },
  {
   "cell_type": "code",
   "execution_count": 9,
   "id": "7eee7f12-e67d-4ed0-b0a9-a3ee3087ac1f",
   "metadata": {},
   "outputs": [],
   "source": [
    "# Função\n",
    "def soma(a,b):\n",
    "    x = a + b\n",
    "    return x"
   ]
  },
  {
   "cell_type": "code",
   "execution_count": 13,
   "id": "61a8ef9b-87e2-44fc-b597-1adf590616cd",
   "metadata": {},
   "outputs": [
    {
     "name": "stdout",
     "output_type": "stream",
     "text": [
      "O resultado da soma do valores da lista é: 113\n"
     ]
    }
   ],
   "source": [
    "# Usando reduce com uma função e uma lista. A função vai retornar o valor máximo\n",
    "print(f'O resultado da soma do valores da lista é:', reduce(soma, lista))"
   ]
  },
  {
   "cell_type": "code",
   "execution_count": 14,
   "id": "ea2e4f36-02f2-4b58-b91a-53d40ae3a65b",
   "metadata": {},
   "outputs": [],
   "source": [
    "# Criando uma lista\n",
    "lst = [47, 11, 42, 13]"
   ]
  },
  {
   "cell_type": "code",
   "execution_count": 16,
   "id": "71cf138b-0aee-4588-8202-c4c038319211",
   "metadata": {},
   "outputs": [
    {
     "name": "stdout",
     "output_type": "stream",
     "text": [
      "O resultado a soma dos valores da lista usando lambda é: 113\n"
     ]
    }
   ],
   "source": [
    "# Usando a função reduce() com lambda\n",
    "print(f'O resultado a soma dos valores da lista usando lambda é:',reduce(lambda x,y : x+y, lst))"
   ]
  },
  {
   "cell_type": "code",
   "execution_count": 17,
   "id": "d9c69023-90a6-402a-9dcd-2e8a0614b67f",
   "metadata": {},
   "outputs": [],
   "source": [
    "# Podemos atribuir a expressão lambda a uma variável e buscando o maior valor\n",
    "max_find2 = lambda a,b: a if (a > b) else b"
   ]
  },
  {
   "cell_type": "code",
   "execution_count": 18,
   "id": "a11e5d3f-64d5-4666-b144-9d0c4b165dcb",
   "metadata": {},
   "outputs": [
    {
     "data": {
      "text/plain": [
       "function"
      ]
     },
     "execution_count": 18,
     "metadata": {},
     "output_type": "execute_result"
    }
   ],
   "source": [
    "type(max_find2)"
   ]
  },
  {
   "cell_type": "code",
   "execution_count": 20,
   "id": "7d2705cb-22d2-4817-834a-0fa6487a8e52",
   "metadata": {},
   "outputs": [
    {
     "name": "stdout",
     "output_type": "stream",
     "text": [
      "Usando lambda com reduce para achar o valor máximo da lista: 47\n"
     ]
    }
   ],
   "source": [
    "# Reduzindo a lista até o valor máximo, através da função criada com a expressão lambda\n",
    "print(f'Usando lambda com reduce para achar o valor máximo da lista:',reduce(max_find2, lst))"
   ]
  },
  {
   "cell_type": "code",
   "execution_count": null,
   "id": "44c5d786-6876-4a5a-a143-225e7ed6da67",
   "metadata": {},
   "outputs": [],
   "source": []
  }
 ],
 "metadata": {
  "kernelspec": {
   "display_name": "Python 3 (ipykernel)",
   "language": "python",
   "name": "python3"
  },
  "language_info": {
   "codemirror_mode": {
    "name": "ipython",
    "version": 3
   },
   "file_extension": ".py",
   "mimetype": "text/x-python",
   "name": "python",
   "nbconvert_exporter": "python",
   "pygments_lexer": "ipython3",
   "version": "3.11.7"
  }
 },
 "nbformat": 4,
 "nbformat_minor": 5
}
