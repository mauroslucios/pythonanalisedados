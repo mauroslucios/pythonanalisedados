{
 "cells": [
  {
   "cell_type": "markdown",
   "id": "4436c095-887d-4003-a955-5062e7973e3d",
   "metadata": {},
   "source": [
    "# Capítulo 6 - Pacotes e Módulos"
   ]
  },
  {
   "cell_type": "code",
   "execution_count": 1,
   "id": "381f4591-d07a-4464-ab35-4d2fa59243fb",
   "metadata": {},
   "outputs": [
    {
     "name": "stdout",
     "output_type": "stream",
     "text": [
      "Versão da Liguage Python usada neste Jupyter Notebook: 3.11.7\n"
     ]
    }
   ],
   "source": [
    "# Versão da Linguagem Python\n",
    "from platform import python_version\n",
    "print('Versão da Liguage Python usada neste Jupyter Notebook:', python_version())"
   ]
  },
  {
   "cell_type": "markdown",
   "id": "3a9cb8fd-deb9-40f2-8b58-f5ab508f6ce8",
   "metadata": {},
   "source": [
    "# Pacotes e Módulos\n",
    "`Em Python, um módulo é um arquivo(script) que contém código Python e poder ser importado em outros arquivos Python. Ele é usado para compartilhar funções, classes e variáveis entre arquivos.`<br/>\n",
    "`Já um pacote é uma coleção de módulos organizados em uma estrutura de diretórios. Ele permite a divisão de um aplicativo em múltiplos módulos, o que facilita a manutenção e o desenvolvimento.`<br/>\n",
    "`Visite o PyPi, repositório de pacotes da Liguagem Python:`https://pypi.org/"
   ]
  },
  {
   "cell_type": "code",
   "execution_count": 2,
   "id": "c5c65a83-4890-4489-be44-d3ff2ff33ae7",
   "metadata": {},
   "outputs": [],
   "source": [
    "# Importando um pacote Python\n",
    "import numpy"
   ]
  },
  {
   "cell_type": "code",
   "execution_count": 3,
   "id": "d47aac9f-1b2e-4e13-bad7-75e9cd191bae",
   "metadata": {},
   "outputs": [
    {
     "data": {
      "text/plain": [
       "['ALLOW_THREADS',\n",
       " 'BUFSIZE',\n",
       " 'CLIP',\n",
       " 'DataSource',\n",
       " 'ERR_CALL',\n",
       " 'ERR_DEFAULT',\n",
       " 'ERR_IGNORE',\n",
       " 'ERR_LOG',\n",
       " 'ERR_PRINT',\n",
       " 'ERR_RAISE',\n",
       " 'ERR_WARN',\n",
       " 'FLOATING_POINT_SUPPORT',\n",
       " 'FPE_DIVIDEBYZERO',\n",
       " 'FPE_INVALID',\n",
       " 'FPE_OVERFLOW',\n",
       " 'FPE_UNDERFLOW',\n",
       " 'False_',\n",
       " 'Inf',\n",
       " 'Infinity',\n",
       " 'MAXDIMS',\n",
       " 'MAY_SHARE_BOUNDS',\n",
       " 'MAY_SHARE_EXACT',\n",
       " 'NAN',\n",
       " 'NINF',\n",
       " 'NZERO',\n",
       " 'NaN',\n",
       " 'PINF',\n",
       " 'PZERO',\n",
       " 'RAISE',\n",
       " 'RankWarning',\n",
       " 'SHIFT_DIVIDEBYZERO',\n",
       " 'SHIFT_INVALID',\n",
       " 'SHIFT_OVERFLOW',\n",
       " 'SHIFT_UNDERFLOW',\n",
       " 'ScalarType',\n",
       " 'True_',\n",
       " 'UFUNC_BUFSIZE_DEFAULT',\n",
       " 'UFUNC_PYVALS_NAME',\n",
       " 'WRAP',\n",
       " '_CopyMode',\n",
       " '_NoValue',\n",
       " '_UFUNC_API',\n",
       " '__NUMPY_SETUP__',\n",
       " '__all__',\n",
       " '__builtins__',\n",
       " '__cached__',\n",
       " '__config__',\n",
       " '__deprecated_attrs__',\n",
       " '__dir__',\n",
       " '__doc__',\n",
       " '__expired_functions__',\n",
       " '__file__',\n",
       " '__former_attrs__',\n",
       " '__future_scalars__',\n",
       " '__getattr__',\n",
       " '__loader__',\n",
       " '__name__',\n",
       " '__package__',\n",
       " '__path__',\n",
       " '__spec__',\n",
       " '__version__',\n",
       " '_add_newdoc_ufunc',\n",
       " '_builtins',\n",
       " '_distributor_init',\n",
       " '_financial_names',\n",
       " '_get_promotion_state',\n",
       " '_globals',\n",
       " '_int_extended_msg',\n",
       " '_mat',\n",
       " '_no_nep50_warning',\n",
       " '_pyinstaller_hooks_dir',\n",
       " '_pytesttester',\n",
       " '_set_promotion_state',\n",
       " '_specific_msg',\n",
       " '_typing',\n",
       " '_using_numpy2_behavior',\n",
       " '_utils',\n",
       " 'abs',\n",
       " 'absolute',\n",
       " 'add',\n",
       " 'add_docstring',\n",
       " 'add_newdoc',\n",
       " 'add_newdoc_ufunc',\n",
       " 'all',\n",
       " 'allclose',\n",
       " 'alltrue',\n",
       " 'amax',\n",
       " 'amin',\n",
       " 'angle',\n",
       " 'any',\n",
       " 'append',\n",
       " 'apply_along_axis',\n",
       " 'apply_over_axes',\n",
       " 'arange',\n",
       " 'arccos',\n",
       " 'arccosh',\n",
       " 'arcsin',\n",
       " 'arcsinh',\n",
       " 'arctan',\n",
       " 'arctan2',\n",
       " 'arctanh',\n",
       " 'argmax',\n",
       " 'argmin',\n",
       " 'argpartition',\n",
       " 'argsort',\n",
       " 'argwhere',\n",
       " 'around',\n",
       " 'array',\n",
       " 'array2string',\n",
       " 'array_equal',\n",
       " 'array_equiv',\n",
       " 'array_repr',\n",
       " 'array_split',\n",
       " 'array_str',\n",
       " 'asanyarray',\n",
       " 'asarray',\n",
       " 'asarray_chkfinite',\n",
       " 'ascontiguousarray',\n",
       " 'asfarray',\n",
       " 'asfortranarray',\n",
       " 'asmatrix',\n",
       " 'atleast_1d',\n",
       " 'atleast_2d',\n",
       " 'atleast_3d',\n",
       " 'average',\n",
       " 'bartlett',\n",
       " 'base_repr',\n",
       " 'binary_repr',\n",
       " 'bincount',\n",
       " 'bitwise_and',\n",
       " 'bitwise_not',\n",
       " 'bitwise_or',\n",
       " 'bitwise_xor',\n",
       " 'blackman',\n",
       " 'block',\n",
       " 'bmat',\n",
       " 'bool_',\n",
       " 'broadcast',\n",
       " 'broadcast_arrays',\n",
       " 'broadcast_shapes',\n",
       " 'broadcast_to',\n",
       " 'busday_count',\n",
       " 'busday_offset',\n",
       " 'busdaycalendar',\n",
       " 'byte',\n",
       " 'byte_bounds',\n",
       " 'bytes_',\n",
       " 'c_',\n",
       " 'can_cast',\n",
       " 'cast',\n",
       " 'cbrt',\n",
       " 'cdouble',\n",
       " 'ceil',\n",
       " 'cfloat',\n",
       " 'char',\n",
       " 'character',\n",
       " 'chararray',\n",
       " 'choose',\n",
       " 'clip',\n",
       " 'clongdouble',\n",
       " 'clongfloat',\n",
       " 'column_stack',\n",
       " 'common_type',\n",
       " 'compare_chararrays',\n",
       " 'compat',\n",
       " 'complex128',\n",
       " 'complex256',\n",
       " 'complex64',\n",
       " 'complex_',\n",
       " 'complexfloating',\n",
       " 'compress',\n",
       " 'concatenate',\n",
       " 'conj',\n",
       " 'conjugate',\n",
       " 'convolve',\n",
       " 'copy',\n",
       " 'copysign',\n",
       " 'copyto',\n",
       " 'corrcoef',\n",
       " 'correlate',\n",
       " 'cos',\n",
       " 'cosh',\n",
       " 'count_nonzero',\n",
       " 'cov',\n",
       " 'cross',\n",
       " 'csingle',\n",
       " 'ctypeslib',\n",
       " 'cumprod',\n",
       " 'cumproduct',\n",
       " 'cumsum',\n",
       " 'datetime64',\n",
       " 'datetime_as_string',\n",
       " 'datetime_data',\n",
       " 'deg2rad',\n",
       " 'degrees',\n",
       " 'delete',\n",
       " 'deprecate',\n",
       " 'deprecate_with_doc',\n",
       " 'diag',\n",
       " 'diag_indices',\n",
       " 'diag_indices_from',\n",
       " 'diagflat',\n",
       " 'diagonal',\n",
       " 'diff',\n",
       " 'digitize',\n",
       " 'disp',\n",
       " 'divide',\n",
       " 'divmod',\n",
       " 'dot',\n",
       " 'double',\n",
       " 'dsplit',\n",
       " 'dstack',\n",
       " 'dtype',\n",
       " 'dtypes',\n",
       " 'e',\n",
       " 'ediff1d',\n",
       " 'einsum',\n",
       " 'einsum_path',\n",
       " 'emath',\n",
       " 'empty',\n",
       " 'empty_like',\n",
       " 'equal',\n",
       " 'errstate',\n",
       " 'euler_gamma',\n",
       " 'exceptions',\n",
       " 'exp',\n",
       " 'exp2',\n",
       " 'expand_dims',\n",
       " 'expm1',\n",
       " 'expm1x',\n",
       " 'extract',\n",
       " 'eye',\n",
       " 'fabs',\n",
       " 'fastCopyAndTranspose',\n",
       " 'fft',\n",
       " 'fill_diagonal',\n",
       " 'find_common_type',\n",
       " 'finfo',\n",
       " 'fix',\n",
       " 'flatiter',\n",
       " 'flatnonzero',\n",
       " 'flexible',\n",
       " 'flip',\n",
       " 'fliplr',\n",
       " 'flipud',\n",
       " 'float128',\n",
       " 'float16',\n",
       " 'float32',\n",
       " 'float64',\n",
       " 'float_',\n",
       " 'float_power',\n",
       " 'floating',\n",
       " 'floor',\n",
       " 'floor_divide',\n",
       " 'fmax',\n",
       " 'fmin',\n",
       " 'fmod',\n",
       " 'format_float_positional',\n",
       " 'format_float_scientific',\n",
       " 'format_parser',\n",
       " 'frexp',\n",
       " 'from_dlpack',\n",
       " 'frombuffer',\n",
       " 'fromfile',\n",
       " 'fromfunction',\n",
       " 'fromiter',\n",
       " 'frompyfunc',\n",
       " 'fromregex',\n",
       " 'fromstring',\n",
       " 'full',\n",
       " 'full_like',\n",
       " 'gcd',\n",
       " 'generic',\n",
       " 'genfromtxt',\n",
       " 'geomspace',\n",
       " 'get_array_wrap',\n",
       " 'get_include',\n",
       " 'get_printoptions',\n",
       " 'getbufsize',\n",
       " 'geterr',\n",
       " 'geterrcall',\n",
       " 'geterrobj',\n",
       " 'gradient',\n",
       " 'greater',\n",
       " 'greater_equal',\n",
       " 'half',\n",
       " 'hamming',\n",
       " 'hanning',\n",
       " 'heaviside',\n",
       " 'histogram',\n",
       " 'histogram2d',\n",
       " 'histogram_bin_edges',\n",
       " 'histogramdd',\n",
       " 'hsplit',\n",
       " 'hstack',\n",
       " 'hypot',\n",
       " 'i0',\n",
       " 'identity',\n",
       " 'iinfo',\n",
       " 'imag',\n",
       " 'in1d',\n",
       " 'index_exp',\n",
       " 'indices',\n",
       " 'inexact',\n",
       " 'inf',\n",
       " 'info',\n",
       " 'infty',\n",
       " 'inner',\n",
       " 'insert',\n",
       " 'int16',\n",
       " 'int32',\n",
       " 'int64',\n",
       " 'int8',\n",
       " 'int_',\n",
       " 'intc',\n",
       " 'integer',\n",
       " 'interp',\n",
       " 'intersect1d',\n",
       " 'intp',\n",
       " 'invert',\n",
       " 'is_busday',\n",
       " 'isclose',\n",
       " 'iscomplex',\n",
       " 'iscomplexobj',\n",
       " 'isfinite',\n",
       " 'isfortran',\n",
       " 'isin',\n",
       " 'isinf',\n",
       " 'isnan',\n",
       " 'isnat',\n",
       " 'isneginf',\n",
       " 'isposinf',\n",
       " 'isreal',\n",
       " 'isrealobj',\n",
       " 'isscalar',\n",
       " 'issctype',\n",
       " 'issubclass_',\n",
       " 'issubdtype',\n",
       " 'issubsctype',\n",
       " 'iterable',\n",
       " 'ix_',\n",
       " 'kaiser',\n",
       " 'kernel_version',\n",
       " 'kron',\n",
       " 'lcm',\n",
       " 'ldexp',\n",
       " 'left_shift',\n",
       " 'less',\n",
       " 'less_equal',\n",
       " 'lexsort',\n",
       " 'lib',\n",
       " 'linalg',\n",
       " 'linspace',\n",
       " 'little_endian',\n",
       " 'load',\n",
       " 'loadtxt',\n",
       " 'log',\n",
       " 'log10',\n",
       " 'log1p',\n",
       " 'log2',\n",
       " 'logaddexp',\n",
       " 'logaddexp2',\n",
       " 'logical_and',\n",
       " 'logical_not',\n",
       " 'logical_or',\n",
       " 'logical_xor',\n",
       " 'logspace',\n",
       " 'longcomplex',\n",
       " 'longdouble',\n",
       " 'longfloat',\n",
       " 'longlong',\n",
       " 'lookfor',\n",
       " 'ma',\n",
       " 'mask_indices',\n",
       " 'mat',\n",
       " 'matmul',\n",
       " 'matrix',\n",
       " 'max',\n",
       " 'maximum',\n",
       " 'maximum_sctype',\n",
       " 'may_share_memory',\n",
       " 'mean',\n",
       " 'median',\n",
       " 'memmap',\n",
       " 'meshgrid',\n",
       " 'mgrid',\n",
       " 'min',\n",
       " 'min_scalar_type',\n",
       " 'minimum',\n",
       " 'mintypecode',\n",
       " 'mod',\n",
       " 'modf',\n",
       " 'moveaxis',\n",
       " 'msort',\n",
       " 'multiply',\n",
       " 'nan',\n",
       " 'nan_to_num',\n",
       " 'nanargmax',\n",
       " 'nanargmin',\n",
       " 'nancumprod',\n",
       " 'nancumsum',\n",
       " 'nanmax',\n",
       " 'nanmean',\n",
       " 'nanmedian',\n",
       " 'nanmin',\n",
       " 'nanpercentile',\n",
       " 'nanprod',\n",
       " 'nanquantile',\n",
       " 'nanstd',\n",
       " 'nansum',\n",
       " 'nanvar',\n",
       " 'nbytes',\n",
       " 'ndarray',\n",
       " 'ndenumerate',\n",
       " 'ndim',\n",
       " 'ndindex',\n",
       " 'nditer',\n",
       " 'negative',\n",
       " 'nested_iters',\n",
       " 'newaxis',\n",
       " 'nextafter',\n",
       " 'nonzero',\n",
       " 'not_equal',\n",
       " 'numarray',\n",
       " 'number',\n",
       " 'obj2sctype',\n",
       " 'object_',\n",
       " 'ogrid',\n",
       " 'oldnumeric',\n",
       " 'ones',\n",
       " 'ones_like',\n",
       " 'outer',\n",
       " 'packbits',\n",
       " 'pad',\n",
       " 'partition',\n",
       " 'percentile',\n",
       " 'pi',\n",
       " 'piecewise',\n",
       " 'place',\n",
       " 'poly',\n",
       " 'poly1d',\n",
       " 'polyadd',\n",
       " 'polyder',\n",
       " 'polydiv',\n",
       " 'polyfit',\n",
       " 'polyint',\n",
       " 'polymul',\n",
       " 'polynomial',\n",
       " 'polysub',\n",
       " 'polyval',\n",
       " 'positive',\n",
       " 'power',\n",
       " 'printoptions',\n",
       " 'prod',\n",
       " 'product',\n",
       " 'promote_types',\n",
       " 'ptp',\n",
       " 'put',\n",
       " 'put_along_axis',\n",
       " 'putmask',\n",
       " 'quantile',\n",
       " 'r_',\n",
       " 'rad2deg',\n",
       " 'radians',\n",
       " 'random',\n",
       " 'ravel',\n",
       " 'ravel_multi_index',\n",
       " 'real',\n",
       " 'real_if_close',\n",
       " 'rec',\n",
       " 'recarray',\n",
       " 'recfromcsv',\n",
       " 'recfromtxt',\n",
       " 'reciprocal',\n",
       " 'record',\n",
       " 'remainder',\n",
       " 'repeat',\n",
       " 'require',\n",
       " 'reshape',\n",
       " 'resize',\n",
       " 'result_type',\n",
       " 'right_shift',\n",
       " 'rint',\n",
       " 'roll',\n",
       " 'rollaxis',\n",
       " 'roots',\n",
       " 'rot90',\n",
       " 'round',\n",
       " 'round_',\n",
       " 'row_stack',\n",
       " 's_',\n",
       " 'safe_eval',\n",
       " 'save',\n",
       " 'savetxt',\n",
       " 'savez',\n",
       " 'savez_compressed',\n",
       " 'sctype2char',\n",
       " 'sctypeDict',\n",
       " 'sctypes',\n",
       " 'searchsorted',\n",
       " 'select',\n",
       " 'set_numeric_ops',\n",
       " 'set_printoptions',\n",
       " 'set_string_function',\n",
       " 'setbufsize',\n",
       " 'setdiff1d',\n",
       " 'seterr',\n",
       " 'seterrcall',\n",
       " 'seterrobj',\n",
       " 'setxor1d',\n",
       " 'shape',\n",
       " 'shares_memory',\n",
       " 'short',\n",
       " 'show_config',\n",
       " 'show_runtime',\n",
       " 'sign',\n",
       " 'signbit',\n",
       " 'signedinteger',\n",
       " 'sin',\n",
       " 'sinc',\n",
       " 'single',\n",
       " 'singlecomplex',\n",
       " 'sinh',\n",
       " 'size',\n",
       " 'sometrue',\n",
       " 'sort',\n",
       " 'sort_complex',\n",
       " 'source',\n",
       " 'spacing',\n",
       " 'split',\n",
       " 'sqrt',\n",
       " 'square',\n",
       " 'squeeze',\n",
       " 'stack',\n",
       " 'std',\n",
       " 'str_',\n",
       " 'string_',\n",
       " 'subtract',\n",
       " 'sum',\n",
       " 'swapaxes',\n",
       " 'take',\n",
       " 'take_along_axis',\n",
       " 'tan',\n",
       " 'tanh',\n",
       " 'tensordot',\n",
       " 'test',\n",
       " 'testing',\n",
       " 'tile',\n",
       " 'timedelta64',\n",
       " 'trace',\n",
       " 'tracemalloc_domain',\n",
       " 'transpose',\n",
       " 'trapz',\n",
       " 'tri',\n",
       " 'tril',\n",
       " 'tril_indices',\n",
       " 'tril_indices_from',\n",
       " 'trim_zeros',\n",
       " 'triu',\n",
       " 'triu_indices',\n",
       " 'triu_indices_from',\n",
       " 'true_divide',\n",
       " 'trunc',\n",
       " 'typecodes',\n",
       " 'typename',\n",
       " 'typing',\n",
       " 'ubyte',\n",
       " 'ufunc',\n",
       " 'uint',\n",
       " 'uint16',\n",
       " 'uint32',\n",
       " 'uint64',\n",
       " 'uint8',\n",
       " 'uintc',\n",
       " 'uintp',\n",
       " 'ulonglong',\n",
       " 'unicode_',\n",
       " 'union1d',\n",
       " 'unique',\n",
       " 'unpackbits',\n",
       " 'unravel_index',\n",
       " 'unsignedinteger',\n",
       " 'unwrap',\n",
       " 'ushort',\n",
       " 'vander',\n",
       " 'var',\n",
       " 'vdot',\n",
       " 'vectorize',\n",
       " 'version',\n",
       " 'void',\n",
       " 'vsplit',\n",
       " 'vstack',\n",
       " 'where',\n",
       " 'who',\n",
       " 'zeros',\n",
       " 'zeros_like']"
      ]
     },
     "execution_count": 3,
     "metadata": {},
     "output_type": "execute_result"
    }
   ],
   "source": [
    "# Verificando todos os módulos e atributos disponíveis no pacote\n",
    "dir(numpy)"
   ]
  },
  {
   "cell_type": "code",
   "execution_count": 4,
   "id": "e3e3a6e2-d5b0-4476-bc1a-72ff71fe300b",
   "metadata": {},
   "outputs": [
    {
     "name": "stdout",
     "output_type": "stream",
     "text": [
      "A raiz quadrada de 25 é: 5.0\n"
     ]
    }
   ],
   "source": [
    "# Usando método sqrt(raiz quadrada) do pacote Numpy\n",
    "num = 25\n",
    "print(f'A raiz quadrada de {num} é:',numpy.sqrt(25))"
   ]
  },
  {
   "cell_type": "code",
   "execution_count": 5,
   "id": "dac99640-1463-4605-b199-3b8dd746b60c",
   "metadata": {},
   "outputs": [
    {
     "name": "stdout",
     "output_type": "stream",
     "text": [
      "A raiz quadrada de 49 é: 7.0\n"
     ]
    }
   ],
   "source": [
    "# Import apenas um dos módulos do pacote Numpy\n",
    "from numpy import sqrt\n",
    "#usando este módulo importado\n",
    "num = 49\n",
    "raiz_quadrada = sqrt(num)\n",
    "# Imprimindo este resultado\n",
    "print(f'A raiz quadrada de {num} é:', raiz_quadrada)"
   ]
  },
  {
   "cell_type": "code",
   "execution_count": 6,
   "id": "00c56d17-c117-4919-bb84-3fc972aa712f",
   "metadata": {},
   "outputs": [
    {
     "name": "stdout",
     "output_type": "stream",
     "text": [
      "['ALLOW_THREADS', 'BUFSIZE', 'CLIP', 'DataSource', 'ERR_CALL', 'ERR_DEFAULT', 'ERR_IGNORE', 'ERR_LOG', 'ERR_PRINT', 'ERR_RAISE', 'ERR_WARN', 'FLOATING_POINT_SUPPORT', 'FPE_DIVIDEBYZERO', 'FPE_INVALID', 'FPE_OVERFLOW', 'FPE_UNDERFLOW', 'False_', 'Inf', 'Infinity', 'MAXDIMS', 'MAY_SHARE_BOUNDS', 'MAY_SHARE_EXACT', 'NAN', 'NINF', 'NZERO', 'NaN', 'PINF', 'PZERO', 'RAISE', 'RankWarning', 'SHIFT_DIVIDEBYZERO', 'SHIFT_INVALID', 'SHIFT_OVERFLOW', 'SHIFT_UNDERFLOW', 'ScalarType', 'True_', 'UFUNC_BUFSIZE_DEFAULT', 'UFUNC_PYVALS_NAME', 'WRAP', '_CopyMode', '_NoValue', '_UFUNC_API', '__NUMPY_SETUP__', '__all__', '__builtins__', '__cached__', '__config__', '__deprecated_attrs__', '__dir__', '__doc__', '__expired_functions__', '__file__', '__former_attrs__', '__future_scalars__', '__getattr__', '__loader__', '__name__', '__package__', '__path__', '__spec__', '__version__', '_add_newdoc_ufunc', '_builtins', '_distributor_init', '_financial_names', '_get_promotion_state', '_globals', '_int_extended_msg', '_mat', '_no_nep50_warning', '_pyinstaller_hooks_dir', '_pytesttester', '_set_promotion_state', '_specific_msg', '_typing', '_using_numpy2_behavior', '_utils', 'abs', 'absolute', 'add', 'add_docstring', 'add_newdoc', 'add_newdoc_ufunc', 'all', 'allclose', 'alltrue', 'amax', 'amin', 'angle', 'any', 'append', 'apply_along_axis', 'apply_over_axes', 'arange', 'arccos', 'arccosh', 'arcsin', 'arcsinh', 'arctan', 'arctan2', 'arctanh', 'argmax', 'argmin', 'argpartition', 'argsort', 'argwhere', 'around', 'array', 'array2string', 'array_equal', 'array_equiv', 'array_repr', 'array_split', 'array_str', 'asanyarray', 'asarray', 'asarray_chkfinite', 'ascontiguousarray', 'asfarray', 'asfortranarray', 'asmatrix', 'atleast_1d', 'atleast_2d', 'atleast_3d', 'average', 'bartlett', 'base_repr', 'binary_repr', 'bincount', 'bitwise_and', 'bitwise_not', 'bitwise_or', 'bitwise_xor', 'blackman', 'block', 'bmat', 'bool_', 'broadcast', 'broadcast_arrays', 'broadcast_shapes', 'broadcast_to', 'busday_count', 'busday_offset', 'busdaycalendar', 'byte', 'byte_bounds', 'bytes_', 'c_', 'can_cast', 'cast', 'cbrt', 'cdouble', 'ceil', 'cfloat', 'char', 'character', 'chararray', 'choose', 'clip', 'clongdouble', 'clongfloat', 'column_stack', 'common_type', 'compare_chararrays', 'compat', 'complex128', 'complex256', 'complex64', 'complex_', 'complexfloating', 'compress', 'concatenate', 'conj', 'conjugate', 'convolve', 'copy', 'copysign', 'copyto', 'corrcoef', 'correlate', 'cos', 'cosh', 'count_nonzero', 'cov', 'cross', 'csingle', 'ctypeslib', 'cumprod', 'cumproduct', 'cumsum', 'datetime64', 'datetime_as_string', 'datetime_data', 'deg2rad', 'degrees', 'delete', 'deprecate', 'deprecate_with_doc', 'diag', 'diag_indices', 'diag_indices_from', 'diagflat', 'diagonal', 'diff', 'digitize', 'disp', 'divide', 'divmod', 'dot', 'double', 'dsplit', 'dstack', 'dtype', 'dtypes', 'e', 'ediff1d', 'einsum', 'einsum_path', 'emath', 'empty', 'empty_like', 'equal', 'errstate', 'euler_gamma', 'exceptions', 'exp', 'exp2', 'expand_dims', 'expm1', 'expm1x', 'extract', 'eye', 'fabs', 'fastCopyAndTranspose', 'fft', 'fill_diagonal', 'find_common_type', 'finfo', 'fix', 'flatiter', 'flatnonzero', 'flexible', 'flip', 'fliplr', 'flipud', 'float128', 'float16', 'float32', 'float64', 'float_', 'float_power', 'floating', 'floor', 'floor_divide', 'fmax', 'fmin', 'fmod', 'format_float_positional', 'format_float_scientific', 'format_parser', 'frexp', 'from_dlpack', 'frombuffer', 'fromfile', 'fromfunction', 'fromiter', 'frompyfunc', 'fromregex', 'fromstring', 'full', 'full_like', 'gcd', 'generic', 'genfromtxt', 'geomspace', 'get_array_wrap', 'get_include', 'get_printoptions', 'getbufsize', 'geterr', 'geterrcall', 'geterrobj', 'gradient', 'greater', 'greater_equal', 'half', 'hamming', 'hanning', 'heaviside', 'histogram', 'histogram2d', 'histogram_bin_edges', 'histogramdd', 'hsplit', 'hstack', 'hypot', 'i0', 'identity', 'iinfo', 'imag', 'in1d', 'index_exp', 'indices', 'inexact', 'inf', 'info', 'infty', 'inner', 'insert', 'int16', 'int32', 'int64', 'int8', 'int_', 'intc', 'integer', 'interp', 'intersect1d', 'intp', 'invert', 'is_busday', 'isclose', 'iscomplex', 'iscomplexobj', 'isfinite', 'isfortran', 'isin', 'isinf', 'isnan', 'isnat', 'isneginf', 'isposinf', 'isreal', 'isrealobj', 'isscalar', 'issctype', 'issubclass_', 'issubdtype', 'issubsctype', 'iterable', 'ix_', 'kaiser', 'kernel_version', 'kron', 'lcm', 'ldexp', 'left_shift', 'less', 'less_equal', 'lexsort', 'lib', 'linalg', 'linspace', 'little_endian', 'load', 'loadtxt', 'log', 'log10', 'log1p', 'log2', 'logaddexp', 'logaddexp2', 'logical_and', 'logical_not', 'logical_or', 'logical_xor', 'logspace', 'longcomplex', 'longdouble', 'longfloat', 'longlong', 'lookfor', 'ma', 'mask_indices', 'mat', 'matmul', 'matrix', 'max', 'maximum', 'maximum_sctype', 'may_share_memory', 'mean', 'median', 'memmap', 'meshgrid', 'mgrid', 'min', 'min_scalar_type', 'minimum', 'mintypecode', 'mod', 'modf', 'moveaxis', 'msort', 'multiply', 'nan', 'nan_to_num', 'nanargmax', 'nanargmin', 'nancumprod', 'nancumsum', 'nanmax', 'nanmean', 'nanmedian', 'nanmin', 'nanpercentile', 'nanprod', 'nanquantile', 'nanstd', 'nansum', 'nanvar', 'nbytes', 'ndarray', 'ndenumerate', 'ndim', 'ndindex', 'nditer', 'negative', 'nested_iters', 'newaxis', 'nextafter', 'nonzero', 'not_equal', 'numarray', 'number', 'obj2sctype', 'object_', 'ogrid', 'oldnumeric', 'ones', 'ones_like', 'outer', 'packbits', 'pad', 'partition', 'percentile', 'pi', 'piecewise', 'place', 'poly', 'poly1d', 'polyadd', 'polyder', 'polydiv', 'polyfit', 'polyint', 'polymul', 'polynomial', 'polysub', 'polyval', 'positive', 'power', 'printoptions', 'prod', 'product', 'promote_types', 'ptp', 'put', 'put_along_axis', 'putmask', 'quantile', 'r_', 'rad2deg', 'radians', 'random', 'ravel', 'ravel_multi_index', 'real', 'real_if_close', 'rec', 'recarray', 'recfromcsv', 'recfromtxt', 'reciprocal', 'record', 'remainder', 'repeat', 'require', 'reshape', 'resize', 'result_type', 'right_shift', 'rint', 'roll', 'rollaxis', 'roots', 'rot90', 'round', 'round_', 'row_stack', 's_', 'safe_eval', 'save', 'savetxt', 'savez', 'savez_compressed', 'sctype2char', 'sctypeDict', 'sctypes', 'searchsorted', 'select', 'set_numeric_ops', 'set_printoptions', 'set_string_function', 'setbufsize', 'setdiff1d', 'seterr', 'seterrcall', 'seterrobj', 'setxor1d', 'shape', 'shares_memory', 'short', 'show_config', 'show_runtime', 'sign', 'signbit', 'signedinteger', 'sin', 'sinc', 'single', 'singlecomplex', 'sinh', 'size', 'sometrue', 'sort', 'sort_complex', 'source', 'spacing', 'split', 'sqrt', 'square', 'squeeze', 'stack', 'std', 'str_', 'string_', 'subtract', 'sum', 'swapaxes', 'take', 'take_along_axis', 'tan', 'tanh', 'tensordot', 'test', 'testing', 'tile', 'timedelta64', 'trace', 'tracemalloc_domain', 'transpose', 'trapz', 'tri', 'tril', 'tril_indices', 'tril_indices_from', 'trim_zeros', 'triu', 'triu_indices', 'triu_indices_from', 'true_divide', 'trunc', 'typecodes', 'typename', 'typing', 'ubyte', 'ufunc', 'uint', 'uint16', 'uint32', 'uint64', 'uint8', 'uintc', 'uintp', 'ulonglong', 'unicode_', 'union1d', 'unique', 'unpackbits', 'unravel_index', 'unsignedinteger', 'unwrap', 'ushort', 'vander', 'var', 'vdot', 'vectorize', 'version', 'void', 'vsplit', 'vstack', 'where', 'who', 'zeros', 'zeros_like']\n"
     ]
    }
   ],
   "source": [
    "print(dir(numpy))"
   ]
  },
  {
   "cell_type": "code",
   "execution_count": 7,
   "id": "b3ece4df-df94-4edf-8982-5615dd453b53",
   "metadata": {},
   "outputs": [
    {
     "name": "stdout",
     "output_type": "stream",
     "text": [
      "Help on ufunc:\n",
      "\n",
      "sqrt = <ufunc 'sqrt'>\n",
      "    sqrt(x, /, out=None, *, where=True, casting='same_kind', order='K', dtype=None, subok=True[, signature, extobj])\n",
      "    \n",
      "    Return the non-negative square-root of an array, element-wise.\n",
      "    \n",
      "    Parameters\n",
      "    ----------\n",
      "    x : array_like\n",
      "        The values whose square-roots are required.\n",
      "    out : ndarray, None, or tuple of ndarray and None, optional\n",
      "        A location into which the result is stored. If provided, it must have\n",
      "        a shape that the inputs broadcast to. If not provided or None,\n",
      "        a freshly-allocated array is returned. A tuple (possible only as a\n",
      "        keyword argument) must have length equal to the number of outputs.\n",
      "    where : array_like, optional\n",
      "        This condition is broadcast over the input. At locations where the\n",
      "        condition is True, the `out` array will be set to the ufunc result.\n",
      "        Elsewhere, the `out` array will retain its original value.\n",
      "        Note that if an uninitialized `out` array is created via the default\n",
      "        ``out=None``, locations within it where the condition is False will\n",
      "        remain uninitialized.\n",
      "    **kwargs\n",
      "        For other keyword-only arguments, see the\n",
      "        :ref:`ufunc docs <ufuncs.kwargs>`.\n",
      "    \n",
      "    Returns\n",
      "    -------\n",
      "    y : ndarray\n",
      "        An array of the same shape as `x`, containing the positive\n",
      "        square-root of each element in `x`.  If any element in `x` is\n",
      "        complex, a complex array is returned (and the square-roots of\n",
      "        negative reals are calculated).  If all of the elements in `x`\n",
      "        are real, so is `y`, with negative elements returning ``nan``.\n",
      "        If `out` was provided, `y` is a reference to it.\n",
      "        This is a scalar if `x` is a scalar.\n",
      "    \n",
      "    See Also\n",
      "    --------\n",
      "    emath.sqrt\n",
      "        A version which returns complex numbers when given negative reals.\n",
      "        Note that 0.0 and -0.0 are handled differently for complex inputs.\n",
      "    \n",
      "    Notes\n",
      "    -----\n",
      "    *sqrt* has--consistent with common convention--as its branch cut the\n",
      "    real \"interval\" [`-inf`, 0), and is continuous from above on it.\n",
      "    A branch cut is a curve in the complex plane across which a given\n",
      "    complex function fails to be continuous.\n",
      "    \n",
      "    Examples\n",
      "    --------\n",
      "    >>> np.sqrt([1,4,9])\n",
      "    array([ 1.,  2.,  3.])\n",
      "    \n",
      "    >>> np.sqrt([4, -1, -3+4J])\n",
      "    array([ 2.+0.j,  0.+1.j,  1.+2.j])\n",
      "    \n",
      "    >>> np.sqrt([4, -1, np.inf])\n",
      "    array([ 2., nan, inf])\n",
      "\n"
     ]
    }
   ],
   "source": [
    "help(sqrt)"
   ]
  },
  {
   "cell_type": "code",
   "execution_count": 9,
   "id": "fcb789ca-ea9d-45d1-a051-527c3bc5904b",
   "metadata": {},
   "outputs": [
    {
     "data": {
      "text/plain": [
       "array([1., 2., 3.])"
      ]
     },
     "execution_count": 9,
     "metadata": {},
     "output_type": "execute_result"
    }
   ],
   "source": [
    "sqrt([1,4,9])"
   ]
  },
  {
   "cell_type": "code",
   "execution_count": 13,
   "id": "c0813616-3103-4247-8f93-3078483aa4de",
   "metadata": {},
   "outputs": [],
   "source": [
    "import random"
   ]
  },
  {
   "cell_type": "code",
   "execution_count": 18,
   "id": "c8d051d2-665b-4019-a5db-7b2974e5aa16",
   "metadata": {},
   "outputs": [
    {
     "data": {
      "text/plain": [
       "'Banana'"
      ]
     },
     "execution_count": 18,
     "metadata": {},
     "output_type": "execute_result"
    }
   ],
   "source": [
    "random.choice(['Abacate','Banana','Laranja'])"
   ]
  },
  {
   "cell_type": "code",
   "execution_count": 19,
   "id": "b67d43e1-33a1-4ee9-9e68-fa48cdae878c",
   "metadata": {},
   "outputs": [
    {
     "data": {
      "text/plain": [
       "[39, 38, 41, 27, 99, 47, 6, 22, 86, 63]"
      ]
     },
     "execution_count": 19,
     "metadata": {},
     "output_type": "execute_result"
    }
   ],
   "source": [
    "random.sample(range(100),10)"
   ]
  },
  {
   "cell_type": "code",
   "execution_count": 21,
   "id": "05a709b5-831c-4176-acb5-7bea43b10f33",
   "metadata": {},
   "outputs": [],
   "source": [
    "#help(random)"
   ]
  },
  {
   "cell_type": "code",
   "execution_count": 22,
   "id": "466e01a8-214e-492b-8b4e-09f838529923",
   "metadata": {},
   "outputs": [],
   "source": [
    "import statistics"
   ]
  },
  {
   "cell_type": "code",
   "execution_count": 23,
   "id": "450c7300-05d8-4c11-bf25-ff9ac805d5ea",
   "metadata": {},
   "outputs": [],
   "source": [
    "dados = [2.75, 1.75,1.25, 0.25,0.5,1.25,3.5]"
   ]
  },
  {
   "cell_type": "code",
   "execution_count": 24,
   "id": "3596e545-eb4b-497d-935c-f3b9cec7a433",
   "metadata": {},
   "outputs": [
    {
     "name": "stdout",
     "output_type": "stream",
     "text": [
      "[2.75, 1.75, 1.25, 0.25, 0.5, 1.25, 3.5]\n"
     ]
    }
   ],
   "source": [
    "print(dados)"
   ]
  },
  {
   "cell_type": "code",
   "execution_count": 25,
   "id": "5574e205-3897-46f1-ae15-edf2f3e18933",
   "metadata": {},
   "outputs": [
    {
     "data": {
      "text/plain": [
       "1.6071428571428572"
      ]
     },
     "execution_count": 25,
     "metadata": {},
     "output_type": "execute_result"
    }
   ],
   "source": [
    "statistics.mean(dados)"
   ]
  },
  {
   "cell_type": "code",
   "execution_count": 27,
   "id": "6a5becf7-6439-442c-8cf4-cf27746ea143",
   "metadata": {},
   "outputs": [
    {
     "data": {
      "text/plain": [
       "1.25"
      ]
     },
     "execution_count": 27,
     "metadata": {},
     "output_type": "execute_result"
    }
   ],
   "source": [
    "statistics.median(dados)"
   ]
  },
  {
   "cell_type": "code",
   "execution_count": 28,
   "id": "8edcd2fc-c730-4933-9c57-c8ec1da120e6",
   "metadata": {},
   "outputs": [],
   "source": [
    "import os"
   ]
  },
  {
   "cell_type": "code",
   "execution_count": 29,
   "id": "c06f8d27-fd64-45ac-a59b-08e45bfb8d94",
   "metadata": {},
   "outputs": [
    {
     "data": {
      "text/plain": [
       "'/home/mauro-lucio/Documentos/projetos/python_projects/pythonanalisedadosdsa/work/cap6'"
      ]
     },
     "execution_count": 29,
     "metadata": {},
     "output_type": "execute_result"
    }
   ],
   "source": [
    "os.getcwd()"
   ]
  },
  {
   "cell_type": "code",
   "execution_count": 31,
   "id": "430ab979-8c30-4cb6-8956-26fc98faedab",
   "metadata": {},
   "outputs": [],
   "source": [
    "#print(dir(os))"
   ]
  },
  {
   "cell_type": "code",
   "execution_count": 13,
   "id": "4ed58a0e-c3e7-4673-8262-8e41be2bf0a3",
   "metadata": {},
   "outputs": [],
   "source": [
    "# Importando o módulo request do pacote urlib, usado para trazer url's\n",
    "# para dentro do nosso ambiente Python\n",
    "import urllib.request"
   ]
  },
  {
   "cell_type": "markdown",
   "id": "c01d5474-9e4d-4ee3-84b5-65d9ee5b2b28",
   "metadata": {},
   "source": [
    "<a href=\"http://python.org\">http://python.org</a>"
   ]
  },
  {
   "cell_type": "code",
   "execution_count": 14,
   "id": "e349d62c-7ceb-4ca6-a03d-23a97b93ad49",
   "metadata": {},
   "outputs": [],
   "source": [
    "# A variável resposta armazena o objeto de conexão à url passada como parâmetro\n",
    "resposta = urllib.request.urlopen('https://python.org')"
   ]
  },
  {
   "cell_type": "code",
   "execution_count": 17,
   "id": "3b254d8e-affa-4729-9a98-c8b828bc6782",
   "metadata": {},
   "outputs": [
    {
     "name": "stdout",
     "output_type": "stream",
     "text": [
      "<http.client.HTTPResponse object at 0x73a0ffb3b8e0>\n"
     ]
    }
   ],
   "source": [
    "# Objeto resposta\n",
    "print(resposta)"
   ]
  },
  {
   "cell_type": "code",
   "execution_count": 16,
   "id": "ee7f0367-a95a-47a1-b7b9-5fd83bf4e797",
   "metadata": {},
   "outputs": [
    {
     "name": "stdout",
     "output_type": "stream",
     "text": [
      "b'\\x1f\\x8b\\x08\\x00\\x00\\x00\\x00\\x00\\x00\\x03\\xed]\\xe9r\\x1bG\\x92\\xfe\\xaf\\x88y\\x872\\x14+Rc5@\\xf0\\x16E\\xc2\\xa3\\x83\\x92\\xe9\\xd1e\\x93\\xb2v\\xd7\\xabP4\\x1a\\r\\xa0I\\xa0\\x1b\\xea\\x83$<3\\x11\\xfb\\x0e\\xfbk_o\\x9fd\\xbf\\xcc:\\xba\\xba\\xd1\\x8d\\x83\\xa2e;B;k\\x11}Uee\\xe5UY\\x99Y\\x87\\xdf\\xf4\"/\\x9dN|1L\\xc7\\xa3\\xce\\x9d\\xc3o\\x1c\\xe7\\x97\\xa0/F\\xa989\\x16{\\x1f:B\\x88Cz$\\xbc\\x91\\x9b$G\\x8d0r\\xce\\x13\\x11\\xf8\\xbbx\\xc5\\t\\xfc=\\xf9g_\\xfey\\xd8\\xe0\\xf7\\xbf\\xf9\\xc5\\x0f{A\\xff\\x83\\xe3\\xe4\\r\\x9a\\xd6\\xea\\x1a\\xacj\\t\\xef\\xd2\\xff\\xd55\\xb8\\xcf\\xe0\\xd1\\x0bU\\x10\\x16`\\x92\\xef\\xe9\\x7f+\\x1b\\x1c\\xf0\\x90\\xd1&\\xe1\\xa03\\xdbdC\\x8c\\xdcpp\\xd4\\xf0\\xc3\\x86\\xe8\\x05\\xf1Qc\\x94\\xc64^z\\xbd\\xd0\\xe0\\x9d\\xc3\\xa1\\xef\\xf6:w$\\xe8\\x8e#^D\\xd1`\\xe4\\x8b\\xd4\\x1d\\x88\\xf5\\x01\\xfem\\x9e\\'\\xf7\\x05!\\x87\\xdfH\\xbc8\\x98\\xa4\\xc2M\\xa6\\xa1\\'\\x92\\xd8;j\\x0c\\xd3t\\x92\\x1c\\xb4ZWWW\\xcd\\x01\\x7f\\x8b\\x8f\\xc6n\\xe8\\x0e\\xfc\\xb8\\xe9E\\xe3\\x165\\xd2:O\\xbe\\x0bzG/\\x9c\\xb3\\xe7[;\\xff\\xf1\\xfc\\xe1\\xd3\\x9f\\xbfot\\x0e[\\xb2\\xb5B\\xd3\\xf2B\\x88\\xab \\xecEW\\xcd\\x9e\\x9b\\xba/\\xdd\\xa9\\x1f\\x8b\\xa3\\xd9[\\xff\\xfc\\xa7\\xf8\\xe5\\xc3#\\x06L\\x88~\\x16zi\\x10\\x85\\x82\\xfa[\\xbf\\xff\\x0f\\xf3es\\x92%\\xc3u7\\x1edc?L\\x93\\xfb\\x8f\\xfe\\xa5\\xbe\\xe0\\x17\\xd7\\xce\\x93\\xb5\\x07\"\\xf4\\xaf\\xc437\\xf5\\xd7\\xef\\xdf\\xd7\\xed\\xc9\\xa7^\\x14\\xf6\\x83\\x01\\xdeX\\xb3a_So\\x95F\\x00\\xdc\\x8a\\xb7#7K\\x82\\xee\\xc8o\\x06\\x91\\x00\\x16F\\xd34\\xf0\\x92\\x19\\x04\\xf6\\xfc>\\xc6D0:\\xbdh\\xec\\x06\\xe1Qc2M\\x87Q\\xd8\\x8c\\xe2A\\xa3\\x88\\xd9\\x89\\xd5$\\x10\\xa9\\xb0\\x86y\\xb1Q(\\xa7g\\x0c\\xe4\\x0bo\\xe8\\xc6\\x89\\x9f\\x1e5\\xb2\\xb4\\xef\\xec7\\x14z\\xf9\\x11M\\x96\\xe3\\x7f\\xca\\x82\\xcb\\xa3\\xc6\\xbf;\\xef\\x1e;O\\xa3\\xf1\\xc4M\\t\\xde\\x86\\xc0XS`\\xe8\\xa8qr|\\xe4\\xf7\\x06>\\xbe\\x94\\xad\\x8e\\x82\\xf0B\\xc4\\xfe\\x080\\xc6\\x80;\\xf5\\x86\\r1\\xc4\\xaf\\xa3F\\xab\\xe5\\x9e\\xbb\\xd7j\\xde\\xddI\\x90\\xf0\\x8c\\xd3\\xbd\\xd6(\\xe8&\\xad\\xf3O\\x99\\x1fO[\\xed\\xe6~sS]4\\xc7A\\xc8\\xb0\\xdfN\\xdbY\\x80\\xd6\\xdb\\x9b\\xcd\\xb6j\\xde\\xc9\\x82\\xbc\\x07\\x0b)\\xa1;\\xf6\\x8f\\x1a\\xeed2\\n<\\x0c8\\n\\x1d\\xbac\\r\\xfam\\x8e~\\x1bc\\xf2\\xbbqb\\x7f\\x99F\\xd1(\\r&\\xd6\\xc7gC_D\\xfd~\\xe0\\x05\\xeeH\\x0c\\xa31]\\x89\\x147e\\xab\\xe2m\\x1c\\rbw\\x8c\\xa1\\x0f\\xc4K0f\\x06\\xee(LL\\x0e\\x9e\\xef\\x8c\\xa3n0\\xf2\\x9d+\\xbf\\xeb\\xa0W\\'\\r\\xd2\\xc2\\xec\\xcc\\x05\\x94\\xc0\\x9ci\\xc1s\\'nq\\x86\\xa7\\xbe\\x99\\x00\\xa6\\x8b9\\xdd\\'\\xa9\\x9bf\\x89\\xd3uc\\'I\\xa7\\x05H\\xba#\\xd7\\xbb0Tb5t\\x19\\xf8W\\x93(N-\\x0c]\\x05\\xbdtx\\xd4\\xf3/\\x03\\x0fC\\xa3\\x8b\\x07\"\\x08\\x83\\x14\\x08s\\x12\\xcf\\x1d\\xf9G\\xed\\xe6F\\x05J\\xbew\\xc3\\xde\\xd0\\x1f\\xf5\\x9e\\xc7\\x01\\xe4\\xf4hj#=\\xce\\xaa\\x90\\xd8\\x8f\\xe2\\xb1\\x9b:=?\\xf5Y X_\\xa4\\xfe\\xc8\\x9f\\x80\\xc9\\xfc\\xa30\\xaa\\xe5\\x0bo\\xe4\\xbb1i\\x19\\xebC\\xb4R\\xc7F\\xc1\\x18sI\\x14\\x01\\x0cY_\\xf4\\xddQ\\x92s\\x90-6\\x95\\xf4\\x91R\\xab B\\xc7~/p\\x9b~:\\x04\\x89\\x8e\\xdc^\\x02\\x11\\xd2\\xe2{-o\\x84\\xd1\\xa7\\xad\\xcbvs\\xbb\\xb9\\xd1\\xb2\\xdeP\\xccTh3\\x00\\x1b\\x0f\\xe2 \\x9d\\x1e5\\x92\\xa1\\xbb\\xb9\\xb3\\xeb\\xbc\\xdb\\x1a\\xfe\\xfdY\\xd0\\xcbz\\'\\xee\\xf5\\x93g\\xc7\\xbf^\\xbd\\xf8\\xe1\\xf1\\xe4\\x87\\xc1\\xdb\\xe3\\xfe\\xe6\\xf8\\xfd\\xc5\\xae\\xd7\\x7f\\xf5~0\\x8c\\x1f\\xbb\\xbb\\xc1\\xc6\\x91\\xc07[\\xfb\\xdb\\xce;o\\x9c<\\xfd\\xe4\\xbd\\xfe\\xe9\\xf4\\xe5\\xfbV\\xef\\xe7\\xad\\x97Q;z\\x1al\\xb6~v\\xb3\\xf8\\xdf\\xbbAww\\xb2\\xfd\\xfd\\xf4\\xdd\\xf1\\x1b\\xff\\xc4mm\\xbf\\x99$q\\x98yq6x\\xec\\xf7\\x7f\\xfd\\xf9?\\x7f\\xe8\\x9fP;;\\xedM\\xe7\\xd3v\\xda~\\xb9}}|\\xfe\\xe2\\xe7\\xcd\\x9f\\xb6\\x87\\xbf~z\\xean\\xb7\\xdf\\xee\\x9f\\xc7\\x83\\xe7\\xefN\\xf7\\xaf\\xcf\\xba\\xfbq\\xef\\xf5\\xe5\\xf6\\xf3\\x17\\x97W{\\xcf\\'\\xd3\\xde\\xcf\\xe7\\xad\\x8b\\x8b\\xeb\\'?|\\xff&p\\xa3\\xeb\\xef\\xdd\\xfdh\\xf4\\xd4\\xbbn\\x9f\\x8e.\\x1e\\xfe\\xfd\\xdb\\xad\\xe4u7y\\xb5\\x9d\\r\\x8e\\x8e\\x1a\\x851{q\\x94$Q\\x1c\\x0cH\\x92\\xbaa\\x14N\\xc7Q\\x96\\xc8w\\xaa\\x15\\x8d\\x94\\xb1-\"\\xef\\xc0#\\xb1\\xca\\x02k\\x1c\\xf5\\xfc8\\x0c~\\x8d+\\xc5+\\x0bB%\\xf9\\xd4\\x87\\xcc\\x13\\xc9\\xd0\\xf7S\\x08f\\xfa\\xddl{\\x1b\\xfd\\xad\\x9d]\\xbf\\xbf\\xe5\\xed5\\xbd$iH\\xd1\\x99\\xbf\\xd8\\x10D]G\\x8d\\xd4\\xbfN[\\xfc\\x02O2\\xe0\\x1e\\x8d\\xf0\\x8c\\xd8\\xfd\\xa8\\x01\\x05\\xe1f#pP\\xcb\\x16\\x94\\xf5}\\x8f?5\\xfb\\x0f\\xdb\\xfb{\\xdb\\xdb\\xdb\\xee\\xb6\\xdb^\\xad\\xe30J\\xc5$\\x06\\xdd<\\x10\\xdd\\xd8\\rF#\\xff\\x81\\xf0\\xc7]\\xa0\\xd4\\xef=\\x10\\xc9\\xc4\\xf7=\\xb0k\\x9a\\x82\\xfb\\x96\\x04\\x07\\x96\\x17 \\xea\\xf67\\xbc\\xed\\xcd\\x1d\\xaf\\xd7\\xdd\\xdbZ\\r\"0\\x8cO\\xb6\\x8b\\xeaN)\"e\\xef\\xad\\x8fR\\x9f\\xcd\\x9f\\xfb\\xf7\\xd6\\xbf99~\\xc5\\xf2\\xf2\\xfe\\x87\\xe5\\x10u\\xdb\\x90\\x11\\x1fK=c[\\x92t\\xf70\\xd7\\x9b\\xf6\\xe4\\xaf\\xa29s\\xed\\x06e2\\xf6Ab\\xe3(J\\x87\\xa1\\x9fh\\xddJ\\xfa\\x8ehH\\xe9\\xea\\xb2R\\r\\xa0\\xd45\\xbd\\xb1\\xa4j];\\xf2^\\x91\\x94\\xfa.\\x043\\xac\\x0f\\xfc3\\xab\\x99\\xa5RI\\xa3\\xcc\\x1b\\xf2\\xc7\\x0e\\xcc\\x00\\xe8\\xf9I\\x04\\xf2\\x80\\xad\\x12\\xfc\\xea\\xc3\\xd6noo_\\xe3?c\\x19(\\xfe\\x98\\xf9V\\xbdg\\xb7\\xd1\\x9c\\x84\\x83\\x9b\\xf6\\xdaF\\xaf\\xed%z\\x95\\xef\\xddR\\xaf{\\x9b\\xd7{\\x9b\\x0bG\\xcao}n\\x8f\\xc5i\\x9a\\xc1\\xa65\\x13\\xcbaq!\\xd4\\xb3-2M\\xcd\\x98RE\\x93\\xe8\\x0c\\x1cxB\\xf4e\\xa9@-[a\\x18\\xc4\\x91$\\x9c\\xda\\xc9\\xa7u\\x89\\xb8\\x1a\\x06`l\\xe8\\r\\xac\\xf0\\xcc\\x8a\\xc32+f\\xbb|\\x1a\\x8d\"[\\xeb\\xde\\xdd\\xda\\xdd\\xdbrw`\\x18S{\\xd2\\xa2\\x16\\xddQ\\xb6L{\\xa1{\\xd9\\xcd\\xd2\\x14\\xe4\\xed\\xd5\\xb5\\xaa\\xc4\\x10\\x8b\\xe8\\xce{\\x7f\\x04&\\xc0J)RV\\x1e\\x99\\xee\\x87-\\xf9P\\xbdi\\x01\\xdf\\xf3\\xa5\\x11P\\xb4Hn\\xc9p\\xbc\\xf0\\xa7WQ\\xdc\\x83*1F\\xbc\\xb2<\\'\\x96\\xe5IKB\\xb2<E\\xd4=\\x87m$\\xa0/aU\\xf8=\\x01SS\\xf4!pE4\\xf1C\\x91DY\\xeca\\x1e\\xa2~z\\xe5\\xc6\\xbe\\x80\\xc5\\xec\\x87\\x89/\\xb0\\xf8\\xe6%\\x14\\x9b\\xcf\\xb8\\xba\\nG\\x91\\xdbC\\x8f\\xe3q\\x06KnZ\\x94A<t\\xf4>\\xf1aL\\x1d5\\xa2\\xc1A\\xc9\\xa6B\\xa7\\t\\xe6\\xbb`X\\x15\\xde\\xa7\\xa7\\x1f\\x97\\xb3\\xd2\\x8b\\xfd\\x94\\x0c\\xe6\\xca\\x89\\xaa\\xef\\xf6\\xd6\\'\\xcab\\x9d\\x02\\x9c,\\x8f\\xad\\x19\\xb3W\\xd2\\xf9bPs\\x11M\\r\\xd6\\x10\\x13%\\x82776\\xae\\xf1\\x9f\\xcd\\xf4\\xb3\\x18\\xe7\\x1e\\x0e\\x12\\xdf\\xcbb\\xffc\\x16\\xc3\\xba0\\xe4\\xf1\\x99\\x9d\\xd5\\x8di\\xa9N4\\xa1X\\n\\xd2\\xcd\\xb0\\xf8\\x05\\'+q7\\xcc\\xe0AH\\x9a\\xe9uZ\\xf5.\\xd4\\x7f\\x1cb\\xb5\\xae\\x15\\x9b\\xb56k\\xc5I\\xf2\\xed\\xf58\\xb7\\xa3\\x14\\x1b\\x1c\\x87C7\\xf4\\xa0B\\xc3\\x94\\x16cP]\\xb0\\xcfm\\x13Rv\\xac\\xb12\\xf1\\'I\\xd3\\x9a\\x03\\xbeF\\xd3\\x15Z\\xea\\x06\\xc0\\xfc\\x10u\\xc5\\x9b\\t-\\x90\\x88o\\x02\\xac\\xc5,[\\xb6\\x08\\x08yU,8\\xce#\\xd8\\xa8}\\xdf\\xef\\xd18[\\xb7\\x03\\xcd\\xa9\\xe6\\xf3\\xe7Q\\x16\\xc2#A\\xcc\\xfd\\xda\\xbf\\x9a\\x03\\x14\\x01\\x904\\xe9\\xdfn\\x16\\x87\\xca\\xcd#\\x11\\xad\\x1b\\xcb\\xdb\\xe2\\xa6f\\x16\\xfb\\xee\\r\\xd0v\\x12&\\x01\\xac\\xf3zd\\xcd\\x81K\\x7f\\xab\\xcd$K\\xa7\\xa9\\xb5\\x99\\xb4\\xc9mR\\x1a\\xf5\\xbe=O\\xcc\\xcaO\\xfcCOR\\xe3o\\xccE\\xa0\\xcd\\x03a\\xdc_\\x89\\x07\\x03\\xcde\\xef\\xcd\\x83\\xfcE\\x16yx\\xeb\\xbd\\xdf=%Y\\x97?\"F\\xb1>/\\xcd\\xb3\\xf5\\xe2$\"\\xa7\\x0c\\x96\\xc9\\x8f\\xe5j\\xf6 \\x07D\\x88\\xc6\\xdft\\x0f\\xa7X\\xb4zC\\xf5\\x8e\\xe9\\x06o\\xa4\\xf0|\\xf9\\x05PK}%\\xfce\\xeb\\xbbOG\\xff\\x90??\\x82\\xbd\\xc6\\x1f\\x93\\x14\\x0b\\x82\\xc1\\xbfrH\\xd0\\x16{s\\x9c \\x9cd\\xdc`L\\x9e\\xa4\\x18\\xfa\\x83\\xdd\\x07\\xb3\\x1f\\x9b\\x99R\\x1e7\\xf9\\'w\\x9a\\xd5M\\x02/\\x8c\\xce\\xddKWN\\x8d\\xa2\\x9eK7\\x16\\x1f\\x07\\xee\\'x\\x02\\xf9\\x8f\\xe5\\xfd\\xa3k\\xe9\\xe6\\xfbe\\xed#\\\\_\\x8f=\\x0f\\xb4\\x9c\\x92\\xdb\\x0e>\\xae\\xad\\x87\\x1b;;\\x0f\\xf7\\xb6\\x9c\\xf6\\xda\\x07\\xe5\\xb8+|\\x90\\xc6pc\\xbc\\x85\\xa4$\\xb7\\x05\\xbf\\xc2\\x80\\xadk\\x8f\\xe2\\xfa}\\x0b\\xe5\\x04\\xc5\\xc0\\x05\\x0cZ\\x1b6\\xb1R\\x81,:\\x1e\\xb1pY_\\x930\\xc3C\\x88\\xd7\\x9a\\xec\\xac>\\x12k\\xa5\\x11\\xad\\xf1C\\xe9D=\\x12)\\xfc\\x18\\xda\\xeb(\\xe8\\x01\\x9c\\x02\\xf8h}MJ\\xa35qd\\xf56\\x8a\\xa4\\xfb\\xaa\\tU\\x92F\\xb0T\\xc4wB\\xbd\\xd8j%\\xc9hM\\x1c\\xc8k\\xe9\\x92]\\xbb/\\xbe\\x15k\\xcaA\\xe7\\x18\\x7f\\xa4t\\xcc\\xbaX\\xe4\\xae\\xe5=\\xd3\\xd0\\x12{d\\xa0\\x1b5\\xac\\xe4\\xc9\\xf4\\xcc\\x1d\\xbc\\xc64\\xe7\\x03\\xfce\\xe3\\xc3#\\x01)\\t\\x13!L_c\\xdd\\xdc\\x0c`%\\xc4\\xe9\\x13\\x1f\\x1e\\x18\\x7f}\\xe0b\\xe5\\xa8\\xd0\\xfd\\xaf\\xfb\\xeb\\x95\\x1e\\xd3;\\x87-\\xe9}\\xbes\\xd8\\x8dzS\\xed\\xb6Wv\\x1b\\xf9\\xd1\\x1a\\x02n\\xe3\\x06\\xfd\\x9aH\\x97\\x99T<\\xbd\\xe0\\x92\\x1f\\xf0\\x9a\\x04\\x86\\x9bs\\x05\\xcd\\x08KCk\\x0b^~\\xe9\\x97\\xc2\\x08\\xeeF\\xddv/r\\xb0\\xda\\x85U\\x8e\\xd5\\xae\",z\\x99?\\x98t\\x0eA\\xf5Q8\\xe8\\xbc\\x8e\\xe0\\x14\\xf0\\x0f@\\xaa\\xf2Z\\xbc\\x1f\\xc2\\xc0\\x15?\\x80&O\\xa5\\x07<H\\x04\\xad\\x9a\\xb1\\x10\\x93\\xdc)0hx\\xfcp[\\xd95\\x0f\\xc4\\x14v\\x14|\\\\\\xe0&Wz\\xa6\\xaf\\x82t\\xc8^A\\xa5\\x85\\xe1\\xd1\\x1e\\x8dD\\x97,\\xac1\\xa4C\\xaf\\t\\xef\\xb1\\xef\\xc2\\xd2J!V\\xed\\xce \\x91e\\xf3>\\xdc\\xdc\\xf8\\xc4\\xbf\\xc6Xa\\xbby~S\\x1c\\xb6&\\xdag\\x8e!\\xb40h%\\xe3xHj\\xc5\\xac\\x17\\xccj\\x8d\\xcc\\x8f4z\\xa2Q/\\x80K\\xce\\x85\\xdb\\x03\\xcb\\xb0\\xe5\\xf0d\\xe9+\\x85\\xbb:\\xc4\\xfd\\x07!\\xa1\\x1bGW \\r\\x01\\xec\\x1c\\xfa\\xe3\\x0e41\\x19\\x9e\\x87-\\xfc\\xd6c\\x9em\\x11\\xdej\\xf61\\x13\\x17\\x80\\x98e\\x1bX\\x1bL\\xa6L\\xbd\\x8dN6\\x81=\\xd4c\\x03\\xdc\\xc5&G\\x1f\\x1euR\\xef\\xaa\\xb3\\xc3\\x96\\xdb\\xa1G9\\xae\\xf0V\\xd7O1\\x1d4E\\xcdB\\x87UH\\x94\\x03#\\x1cZ;D\\xe6+^`\\x9c\\x06\\t5G\\xa2]\\xbc\\x84o(\\xf7\\xf3\\x170\\x9cF\\xe4+\\x96[R\\xf8M\\xbeT\\x88\\x8f\\x02\\x1d\\x16\\xa1\\x01E\\xeb\\xf7\\xc9\\xa8\\x83\\xab\\xfa2\\x18H\\xcdL\\xa4\\x83\\xed\\x02\\x90\\xba\\x88#r\\x14\\xe5\\xcfl\\xe2\\xd7\\xc0\\xcf\\xa2\\x95\\xa6]\\xc1\\x92\\\\\\x04\\x13\\x87\\x9d\\x14\\xd2\\xdd\\xe2@\\x92A\\xc1:\\xac\\xdbr\\xa2\\xd2m\\xf1\\x98\\xf4\\xac\\xdcU4l\\x1cV\\xa7h\\x8c\\xf0\\xad\\xefwJ7h>f\\xa1)\\xd1k=\\xd8.\\xf3\\xbb7\\x82\\xcf\\xc1\\x91\\xf2\\xc1\\t\\xfd\\x14\\x8b\\x9e\\x0b\\x83\\xda\\xf3l,\\x87\\xa3\\xcd\\xc8\\xbb\\xe5\\x17\\xdd8p\\x9da\\xd0\\xeb\\xf9\\xf0\\x12\\x92\\xd8\\xad\\x1be2qC1\\xfb\\xb6F\\x1c;A\\xdc\\x18T\\x8d\\xdd\\x9b+\\xf8\\x86\\x0f\\xe9\\x83\\xce\\xbd\\xbb\\x0fww7\\x1eAj\\xd0\\x95\\xfa#\\x9e\\x12\\xcc\\x15#\\x07:f\\xee\\xde\\xb9s\\x98\\x99\\xddK\\xe8\\x93L\\xcfr\\x8a\\xd5\\x99\\x02\\x96?\\x82\\xe9\\\\\\x94\\x96\\x0e[\\xff0\\xf4\\x89\\x07>\\x82 \\xc7\"\\x81\\xb7\\xdb\\x83X\\xd17\\xe1\\xda\\x0b\\xbd\\xa1\\xb9m\\x8d\\xdd\\xccj\\xcbL\\'-L\\x95\\xed\\\\\\xb9y\\xa1{_\\xadG\\xd9\\xa2!\\x85C8]%Q\\xcc\\x0c*\\xe9\\xcb\\x11UAY\\xb3v\\x99$\\xfdJ\\xf8+\\x0c\\xdc\\x86\\xe8\\xbc=}\\xbe\\x04\\x1c\\xd0\\xf2\\xc9b@\\xe8-\\xcbL7HT\\x08|f/\\x9c\\xd15\\xae\\x93%\\xfa\\x9eL\\'\\xc1\\xe2\\xbe\\xe9-2;\\xf3\\xa1\\xebi\\x83UC\\x8b\\xfd\\x93\\xb0\\xe7_\\xd3\\x80\\xa7oO\\x96\\xe8\\x95\\x96\\x18\\xf5\\xbd\\xb6x\\x05R\\x1e -h\\x9eDn\\x0co`\\x07\\xbf\\x97\\x19\\\\2\\x84 d\\x9a\\xad\\x9a\\xe1\\x96q*8pZ\\xf4\\xa0\\x98\\xd0\\xa7\\xe8<\\xd5\\xae\\x86\\xaaq\\x1c\\xb62\\xc4\\x04\\xcc\\xf2\\x14\\x88\\x9bDGY\\x16(\\x198+4XZ\\xcf\\xf2\\xfe\\xac\\xf0b>\\\\^Rd\\x13[N\\xec\\xcc\\xc8\\t\\x8b\\xe3^K\\xc96#\\x1ex\\xd8EU\\xd1\\x82\\xfc\\xb7\\x15~\\x85\\x01 \\xbeg\\xb1. \\x0ex\\x07\\xdc\\xf8\\xd6x\\x00d\\x80\\xe1\\xa1B\\x07mE;\\xf2\\x96\\x16=]7$uS\\x1c?[\\x0f\\xea\\x9b\\\\%UH\\xb4\\xc3a\\xdb\\xa8\\x1bH%n\\x1b*\\xa7V\\xf2j\\xfd\\x02\\xfd~\\x18\\x8c\\x07%!7\\x8a\\x06\\x91\\xda\\x1d\\xd7~\\x11\\xbc\\xd4RsKO\\xd9!\"\\xb0\\xbc\\xd43~\\x0f\\xe6}\\xcf\\x7fD{\\xe5\\x95\\nh\\xd8\\xae\\x82\\xda\\x1a^4\\xa1%\\xb1\\xdc\\x015C-\\xebo\\xad\\xb8\\xec\\xbfF\\xaa\\x1a\\xafB\\xd2\\x1fc[\\x05\\x0bf\\xe2W/\\x80\\xcb=\\x1e\\x83\\xd4C,\\xb5\\xe0z\\xf4[\\x005L`,~\\x17\\xfb\\xb4\\x81\\xdf\\xbe\\x07\\xc2\\x85\\x9fY\\xe1\\xb9\\x17\\x91\\xd3\\xc3\\x91N\\xca\\x06\\xa4\\x08]V\\x8e\\x8a\\'\\xb6z\\x085\\x1a\\x8f\\xbe\\x98!7=\\x18\\xc5A\\xe4\\x8fs\\xc6\\xae\\xd6\\xb16\\x03\\xa5\\xd8\\xeeam%M\\xb6\\xbb\\xfaUE\\xf1\\x86\\xba\\xf0\\x8e\\xdc~\\xe8\\xdc\\xe3(\\x04\\xad+\\xc5+<\\xa1\\xa1\\x1c\\xd2\\xee\\xad!\\x18^\\x99:\\xb0\\x98\\x1d\\xf6\\x14\\niG#\\xec@\\xadYi\\xe7\\x0c~#p7-q\\xab9\\xd4\\x0c\\xa2\\x1f`\\x1b\\x19h\\xd5;lr\\xc5l\\xf9n\\xd1@-\\nL+\\xcb\\xf0\\xbb\\x84\\x8e\\xa33\\xc8\\x10X\\xa2\\xd5\\x91\\xdb\\xf5\\x8d\\xde\\xaf0\\xc6\\xc8\\xfc?j\\x04=G6\\xed\\xf0X\\x1a\\x1d5\\x843Zv\\x90\\x11\\n}J\\r\\xcdG\\x04\\x13\\x07\\xaf\\xe1Y.\\x96\\x1bU\\xb1\\x00\\x9f\\xb4sM\\rFY\\x9bd\\x1av#\\xa8\\x13mB\\xca)\\x92\\xf0\\x08D\\xaax\\xfe\\x10\\x0b\\n\\x1f\\xd0J\\xe0\\x1a\\xe2\\xd2\\x85\\xff\\xfd\\xa8\\x81\\xf6\\xdc.\\x82z\\xfck\\xec\\x15-\\x85jI\\xe8j\\xb34\\xc9\\xbaX#5\\x14t\\xfa\\x8a\\x06\\xa0\\x7f\\x17!R\\\\b&\\x9b?\\x97\\x0b4\\rX\\x0e\\xcf\\xd6\\x02\\xda\\xd1\\xb3\\xff\\xe2\\xcdb\\x02i\\xc9\\x9e\\x97\\x98\\xf5\\xc5m\\xa9\\xd5\\xdb\\xc91\\xe2\\xbc\\xe4\\x8c\\xe5;\\xc7\\x10\\x83\\xb4\\xdd\\x8c\\x9d\\xe2 \\x01\\xde\\xa7\\x07X\\x8f\\x86\\x90sX\\t%\\x14\\xed\\x01\\xcc\\xe8_r\\x8f\\x8e\\xd0n\\xcd\\xc16m\\x92T\\xadl\\xf4`\\xed\\xbf\\x87-\\xcd=\\xf5\\xb4\\x85w\\xc0\\xbb\\xd2\\x14\\xd6\\xe4\\xd1\\xc5\\x8a\\xe2\\x82\\x94\\x87\\xb6\\x89-\\xa1\\xe4\\xf6\\xce\\xb3$u\\xfa\\x10\\x7f`\\xef_\\x89\\xbd\\x974\\xcf\\r3\\xe6\\xb6\\xb2\\xb5B\\x92\\x82\\x88\\xdbbn8j<\\xe6\\x9e\\xc4\\x19h\\x17l\\xf2+\\xb69BA\\xfe\\x9e%f\\xdd\\xb2\\xb3\\xe1\\xa8\\x8d\\x9d6\\xe2\\xea\\x12\\x90\\xa1\\x04\\xd5M&\\xd1$\\x9b\\xcc]K\\x94\\xd1\\x99\\xaf\\xa0\\x0c\\x13I\\xb1\\xe6@\\x0b\\x0c\\x104G2Sz\\x1d\\x0e\\x931B\\x02:\\x8f\\x81<\\xfe!\\xe8\\x97zT\\xa5\\xcc\\xca]1\\xa7\\xe78\\x02\\xa3\\xd0\\xc2\\x92\\xf1S?\\x8d\\xe5F\\xca\\x18\\xd8\\xd4v\\x84\\x03r\\x92KPZ\\x9c\\xd0\\x8a\\x03\\x90c\\t\\xa2\\xd6\\xb9@\\xb6\\x93\\x0c\\xe1f\\xc1\\x02M\\xc54\\xbc\\x02-\\xa8Y\\xa0\\xf1\\xd0\\x1aV\\xea\\x8b\\xdc\\xd7w\\x00E}*\\x1f\\xb2:0\\x0b\\x842XU\\xd7\\xf5\\xa0B\\x89.\\x00u\\x80\\xc5\\\\\\x05\\xa0/\\xc9{Z\\x03\\xa7|v\\x9b`n-\\x04\\x93\\r\\x03\\x03\\xe7Ot\\x85(\\xc3)\\xf4\\x03<\\x1f\\xc4E\\x14\\xfd\\x17\\x0e\\xfcD\\x9c\\x88\\xa1{\\xe9\\x8b1\\x8c\\x9fj4\\xf3\\xc7\\xabA/M\\xec*\\xd4\\xdb\\xf7\\x16O\\xda\\xfcv\\xa4\\x13\\xcb\\xb6_\\x10\\x0czA\\xff9a\\x86\\xb8D\\xfeg\\x01\\x05[d?W4\\x9cF\\x1c\\xb2\\xf7\\x8a\\x02p\\xc4k\\xe3fY\\xd0:3V\\xbe\\x02\\xffr\\x92A\\x82\\x8bi\\xae5\\xfb\\xca\\x93\\xf3\\xc5\\xf9\\x7fv\\xff\\x8a<L\\xc0o\\xc8n;\\xfc\\x07\\x9bh\\xaaMv\\xbd\\xc9\\x0c5\\xa07\\x9f\\xd8\\xf2\\xaf\\xd0\\x05Z\\xb2\\xf4]\\xd1\\x87hW\\x8d:\\xc9\\xa7\\x0c\\x1eh\\xd20A\\x87|p~\\xef$\\\\\\x8d\\xaa\\xabf3\\x97r\\xd5\\xa2\\xa38\\xca>\"\\xa5\\xd2\\x08\\xf69\\x1b\\xf6\\x7f\\xc3J\\x0e\\xde\\x05m\\xfb\\xcej5=\\x12v#\\x8d\\xa1O\\xe8S\\xa3#_\\xa9\\x1b\\xb79\\x88j\\xc1\\xa26[\\xcdZ\\xbb\\x15\\xc4\\x1ea\\x7f\\x19\\x1b\\x97\\xc2\\x05B8\\xfd\\r\\xd8O\\x87.\"\\nBq\\xf2\\xd3\\xd3\\xdb\\x84\\x1c\\xa1=\\x15\\x92\\xbb\\x88\\xfe\\x14\\x8eu\\xf8a\\x99\\xbeV\\xc2\\xbd\\xfa\\xd0\\x8c\\xe1L6\\xb4\\x1a\\xfc\\xf3\\x85\\x99\\xe6\\xc7\\xdb\\x11\\x8a\\xb5&\\xa3\\x9c3\\x8e\\'\\xa7\\xf4\\x02\\xec\\xd1y\\xa3\\xac\\x07\\xeb\\xb0E;\\xeb\\xb4E\\x81m#Dk\\x995IYN0\\x13\\xb0\\xf3\\x80=\\xdb\\x88\\xb5E0\\x88Y\\xf8\\x16\\\\\\x06\\xf9\\x90\\x8a\\x9b\\r\\xe6>Y\\x19d\\x99\\x933\\x01\\xbf\\x8d\\x9d\\xa3]0\\xb97\\x9b\\xdd\\r\\x96\\x80.x\\xc5\\xab\\x1c\\xdcU`\\xd7\"\\xc5v\\xa6\\xceh\\x01IUd\\x0cq\\xe0\\xaem/\\xbe\\x02Tee\\xc0\\x9d\\xe4\\xff\\x90\\xf4\\xa7!\\xba\\xdd\\x08{\\xa1\\xc6\\xe8\\x91&\\xa2r\\xb4\\xc0X\\x14\\x8b,\\xc5\\xdc\\xf3\\xca-\\xe5\\x9e5\\xd3f\\xa3\\xf3\\x98\\x9e\\x14\\x04~a\\xc4\\x05\\x9f\\xb1m\\xe3)\\xfcY\\xf6p\\x85\\xeb\\xdb4U\\xd6g\\x8b\\xec<%<$\\xd8\\xd8\\x95\\xb1\\xbc\\x82\\x009\\x8f\\xb3gg`\\xc9\\xd1\\xcb\\xc4V\\xd2\\x9f\\xcbI\\xdc\\x96\\xec\\xefS\\x86]\\xf1B\\x8f?\\xf2\\x9d\\x95\\xfb\\x9a+\\x18e_p-\\xa4p@\"\\x9e1\\x06\\x07Y3\\xd4y!\\x9f\\x88S\\xf9h\\xe5\\xce\\xe7\\xc965P\\x84\\xbeO\\xec.\\xbf\\xc7\\xf5\\xca\\xfd\\xec,\\x90\\xa1rw\\xcd\\x1b\"J\\xa8\\x89\\xd1J6\\xc5nn?\\xb2\\xbbVn\\xe5\\'q\\xc4o\\x96\\xa0P\\xdeW\\xcd\\x9fLV\\xa5Y\\x9f\\xe5\\x1e\\x1dC\\x96o\\xcf*SJs\\xd0\\xe6*\\x1cdZ\\xab\\xe4\\xa2g*^-wN\\x1b\\x8e6@\\xdb\\x02\\xe3\\x8bsR\\x15\\xf8\\x9d\\xc7\\xd8\\xedE\\xe6\\r\\xed\\n\\xafN\\xdc\\xf3L\\x97V\\xde\\x9d\\x8c\\xf7\\xb3\\xa7\\xfaTF\\x00z\\xd0\\xef+\\x13\\xdb\\\\\\x8e\\xca;\\x95\\xf9]\\x05\\x16~\\xcf)_\\xab\\x0fs.\\x1b\\xe5=\\x8e]/*\\xf4\\x87\\x1boNW\\x1e\\xdf<f2Hm!H\\xdb\\x8fm\\x94\\xbe\\xa1\\x1b\\x94\\x1d\\x96\\x92\\x97d\\xf5A\\xee.\\xe0aJ\\xc1+mC\\xb5\\xb6\\xb0z\\xe6\\xd0\\xcd&\\xd9\\x04f\\xd5\\xd8\\x80\\x9d\\xcc\\xb7W\\x1e\\xfb\\xde\\x1c \\xf2\\xb1\\xeb\\xd8\\xae\\xe0\\x12\\x91mz\\xed\\x0f\\x9d\\xa0B\\xbep[\\x9c\\x8c\\x91\\xa6D\\x9b\\x11\\xbc\\xa9]\\xc6\\xc6\\re\\x89\\x15\\x9dZ\\xa7\\x91\\xb7V\\x93\\'\\xb0\\x86\\r\\xfcZ\\xc7\\x93\\xe3\\xdd\\xea\\x89pht\\xe8\\x1fH/\\x83\\x16l\\xf2\\xd3[\\x8e\\xb7\\xa7\\x88\\xa9\\x03\\xb2\\xed\\x94o\\x07\\xf3\\x9b\\xf5\\x90\\xaf\\xf4s\\x90dXP\\x9f\\xb9\\xa3\\x8b\\xf2\\xb4j1[\\xaf\\xf9\\xe7\\xc9\\x0e\\xb3\\xe9\\x1b\\\\\\x04vH\\xe48\\n\\xc2\\xd6\\x13\\x1f\\x89?\\xd8\\xa5J^d\\x08\\x11\\xb4\\x80\\xd2\\x0f\\xee\\xdd\\xddz\\xf8(\\x11\\xfcxe\\xb2\\x9f\\'`4X\\xc8l\\x1bP\\xe36h\\x16\\x1c\\xcf\\xfcK\\x7fD\\xb1\\xd0\\x9f\\x05\\xc8<\\xd9c\\x00)\\xeeE\\xb7\\xfa\\xee\\'\\x9b\\x10\\x9e?\\xfeq\\xe5\\xf1/\\x92=\\x14jV5+:\\xd3\\xd1\\x96\\x02\\xaf\\xb1\\xe4=\\x0e\\x07\\xa3 \\x19\\x8a\\x1b\\x11\\xe5<\\x19T\\x13\\xbek\\xcd\\xc3\\xdb\\xe3\\xb7rC|e$\\xec\\xcf\\x91}siS\\xdaMO\\xa2\\xe8\\xc2\\xc6\\x83\\xb6\\xa6\\xe8\\xf6\\xca\\xb0<\\x9c\\x03\\x0bi\\x81\\x16\\xc2\\xd2\\xdciA\\xd9\\xa9\\xfe\\x8e\\xf9A\\xa9\\xc3\\x1b\\xc9[\\xe35\\xa8\\x93\\xb5\\xdb\\xab\\xc8\\xda\\xdc\\x07Q%q\\x9f\\xce\\xec\\xfb\\xff\\xc1l\\xb7\\x1c|,\\x89!\\x86\\x90\\rQ\\x90\\xbe\\xfa\\xe6\\xca3=\\xd7\\x84\\xcb{\\x05;!\\xff\\xd0\\xa2s,a\\xe1!C\\xb21=X\\xb9\\xd7yr8\\x0f\\xcd\\x90\\xee\\xa2\\\\\\x01\\xccx~\\x96X[\\xce\\x13\\xadVO\\xb0\\x99\\xb2qa\\x80\\xcf\\xf9\\xce\\xca#\\x9b\\'A[\\x14@\\x84`\\x07\\xe8/D\\xc2Qx~ksc\\xb3m\\xa3\\x15n=\\xf1\\x98\\xdf \\x13\\x06\\xfb6\\xe2\\'~qe8\\xe6\\x89Tk\\xdc\\x14\\xdfF\\x912U\\xac\\xfc\\x14\\xa5\\t(\\xe2\\xd1\\xbb\\xc1\\xca`\\x9e\\x10\\xb5\\xbaO\\x82A\\xa1\\xe7\\xd3\\x89\\xcf\\xee\\xf2\\x13\\nj\\xf5\\xb1\\xa5\\xf6\"\\x8e\\xb2\\xc9\\xea\\xb30O\\x96Z\\xddS<G\\xd5\\xc8_\\xe2\\xfe\\xca\\x18\\x9f\\'3\\xe7\\xcao[{p\\x8d\\x00\\xf1\\x1e\\xcan\\xe5\\xfe\\xdb\\x1b\\xf3\\x846\\x91\\x1e\\xbc\\xc1\\xbd\\xcc\\xb3}@\\x08xB|+J\\t`\\xae\\xe9\\xd1\\xea\\x9dV\\xef\\xd1\\xcd8~]\\x84\\xffR\\xf6\\x981\\xe6\\x8c\\xc4\\x15\\x8f\\xf9\\xd1\\xea=\\xcf\\x95\\\\4\\\\x\\x1a\\xe0\\xa6\\xbc\\x8cF\\x973^\\x15\\x10\\x98\\xbc\\xbfz\\xb7sE\\x97\\xc4\\xb2JWC9\\x03J\\x80+\\x128Jg \\x9f\\xe1T>)\\xf5~#5\\x99d\\x1e\\x184\\xd1\\x9d\\xd5)\\xcb\\x9dU\\x94e\\xa9\\xcd\\\\@\\xd5u\\x86=U\\t\\x86=\\xb2?\\xe2\\xaa\\xa5<2rZ\\x0f\"T\\x10\\x81\\xef\\xad0Q\\x8fq\\xbd2q\\xcc%\\xc9\\xda\\xae\\xbb\\xa8\\xe7\\xc2\\t\\xd7\\xf6\\xb2B\\xdd[\\x19\\x84\\xb9\\xe4Y\\x0b\\x82\\x0f\\xe6\\xe7\\x95\\xb2\\r\\xc3\\xb1\\xbe\\xb92\\x10s\\x95n=\\x10!\\xd6X>\\xf2\\x0e8\\x18\\xd3H\\n\\x18\\xf3\\xfa\\xf6\\xca\\x80\\xcc\\xd5\\xc6\\xb5\\x80\\x0c\"\\x98X!y\\x0fl8^\\x98\\xbb+\\x831W\\x19\\xd7\\x82\\x91p\\x12C\\x80\\xa2/6\\x18\\xa7\\xe6\\xee\\xca`\\xccU\\xca\\xf5`\\xa8\\xf4=\\x14<\\xe1%f\\x19/&\\xfaY-A\\xe9\\xf9m\\x086\\x94L\\x82\\xc2\\xd0\\xd1\\x1e\\xc5\\x8d\\x8f\\xddU\\xa4Y\\x17j\\xdeb.\\xca\\x17D2r4\\xc6\\x96\\x0c\\xed\\t\\xdbet`\\x0e!\\xec-\\xf7\\xc4\\xd0\\xbb4\\x96?\\xa2(+\\rK\\xad\\xbfT\\x1e\\xa2x\\x82A\\x8b\\xb7\\x11\\x8c\\xf3\\x06\\x02\\xb3\\xd9\\xaa\\xd0\\x83\\xb9=\\x17\\r\\xa9;\\x9a&\\x94\\xe4\\x82\\xbd\\x96S\\xa9\\xea\\xb0\".\\x9e\\x81\\x90\\xaf\\x03.\\x18\\xbb\\xf9\\xf5\\xca\\xe4<O\\xd4\\x91\\xc1\\x05\\xaf\\xc1d\\xca\\xdb\\xfeM\\xc6\\x15\\x12\\x1deb\\x8f\\x96-\\xd4?\\xe1)\\x87de\\x18\\xe6I:\\x03\\x03\\xec\\xae:\\x08\\xa60\\xbc4\\x0c\\xfc\\xfb\\xdd\\xe9\\xcd\\xe6i\\x9e\\xa4\\xd3\\x80 \\xd2\\xddl\\xbe\\x14\\x03\\xfa\\xf9\\x89\\x8aTmtr\\x0e\\x81O\\x19\\xa6\\xa1\\xb2gn\\x83\\xa9!B\\x10 ^\\xc7\\xd6{\\xab\\xb0\\xb5l\\xca\\x12\\x8d9\\xdb\\x1es/\\x7fT\\xc6U\\x80\\xcb]0gf\\x18\\x9a]\\xf3A\\xdc\\x1e\\xc3\\x16\\xbb\\xce\\x902\\xe7 .-+\\xec\\x00\\xbe\\xa3D:^w\\x89\\x1b\\x820\\x8f1[\\x95\\xa3\\x9f $\\xc5Vr\\xda\\x99\\xc4\\xf3(\\x1e#H\\x1b\\x0e\\x8e[e\\xce\\x12\\x1c\\x16*\\xca\\xb0\\xcc\\xe0\\xe3\\xc6\\xf0,\\xe2Q\\xaerX\\xe5\\xe7\\x94\\xe8\\x90\\xb3\\xf1\\x14\\xa5\\xcc\\x90E\\x1f\\xdf=\\xe5\\x88c\\xda9\\xfe\\xe8\\x86\\x1f\\xf9\\xa1e5\\xc9\\xa7\\x08\\xdd\\x93\\x93\\xf89\\xbc\\x0b\\xe5\\x87<Z\\xce}\\xd1\\x1ev\\xfb\\xef\\xcc\\xcd\\xc3R\\xca\\x88q\\xcb[\\xb1\\xb92\\x03\\x04\\x89\\x8a\\xe4TG\\x86\\x0e\\'\\x92r\\x0e\\xaa\\x0c\\n\\x81\\x0f\\xa0Q\\x8c\\xd5`C\\xa02L\\xa4\\xe0\\xaa3Y\\xa7\\xe4\\'\\xc3\\xf2\\x0f\\x89\\x03\\x92\\xd1\\x8c\\xcc\\xe9\\x8f\\xfck\\'\\x19\\xc1\\x95\\x0e\\xc7\\xc7\\x950\\xbf\\xca!\\xe3V`\\x1b\\xea#\"\\xb1\\r\\xd1\\xa6>vKe\\xb8\\x03\\xc5f\\xd8\\xb7+\\x02\\xfa\\xb0\\rQ\\x1d\\x05\\x9b\\x07\\xb1\\xaa\\x08t\\xa4Z\\x8f\\'\\x98=\\x8e6\\xa7\\xbd~\\xd9\\x15B\\xad)\\xde\\x86\\xbbE\\xcd\\x18\\x95\\x97y\\xd4\\xb8;;6\\xb5\\xe0\\xe6W\\x11auo\\x90>\\xfa831f\"8\\xfeJYV(\\xfa\\x94p\\xa8\\xf2K\\x1e\\xa4t\\xbdP\\xc00v\\xd1N\\xa99\\x9ddP5\\xf7\\x05\\x11k\\x9a\\x9f\\x89\\xa9\\xad\\xa0\\x1e;l\\x90\\xe7\\xa2.lxf\\x14\\xf5h\\xb5\\xe8\\x8bg\\x158\\xe3\\xf81T\\x1c\\xea\\x1c\\xd2\\xefb\\xec8y7\\x89i:wu\"\\xe2\\xd6\\x81x\\x1et\\x91\\xf6\\xe2y\\x01\\xd2\\x18i\\xf1. \\x06\\x91t\\x8a\\x88?N\\xb5\\xf8\\xcb\\x9dN\\xa7#P;M\\xf4\\x83\\xeezx\\xff@\\xde\\xa0\\xa1#\\x1d\\xbd\\x8b\\xe4\\xf6\\x8d\\x07\\xa2\\x9d\\xdfD\\xc5!\\xa4u\\xbb\\xe2\\xde(}$B\\xebm\\xfa\\x82s\\xc4\\xd7\\xf1\\x1d\\x18\\xfahM\\xac\\xdd\\xcf\\xbf\\xb3\\x1a\\xec>\\x10\\xee\\xb7\\xdd\\xfc\\x91\\xfcJ\\xbdKP\\xb4766p)#\\xb4\\xd4\\xac\"\\xa0\\x87j(t6D\\x1b\\xff\\xdb\\x14[bG\\xec\\x8b\\xf6\\x96\\xd8l\\x8b\\xadm\\xb1\\x83\\xab\\x87\\x02\\xc5\\x92\\xc4\\xe6\\xd6\\x96\\xd8\\xda\\xdb\\x13\\xbb\\xed\\r\\xf1p\\x7f\\xcf\\xa4\\x96Jt\\xb5\\x18u2\\xe5\\xabr\\xfe+P>A\\x9d\\x1e$eu\\x9e\\xabz\\xa9\\x89x\\xe6\\xf7\\xb1\\x82\\xeb!\\x17\\xbf\\r\\x04\"\\x0b\\x9e2\\xd1<\\xe4\\xf0\\x93\\xe7\\ta\\xdc\\xd8*\\xa6\\x02\\xa1T\\xcc\\xc7\\x14\\xb1D\\xc2\\t\\xb0\\x8c\\x02\\x8e\\xf01\\xeb:\\t\\tr\\xb9\\xa5)\\x8b\\xe0nl\\xe4#\\xf6\\x98\\xea\\x89`\\xf9\\x0e9\\xa7\\xc3\\xc9 9L)\\xd6\\x07B\\xd5-\\xb2o\\xd1\\xab\\xa4\\x84p\\xaf\\x1b !\\x8a\\xbeV\\xb5[\\x91\\'\\x0f\\x83\\x19)\\xef&I\\xacb\\xcb;\\xcd\\xc8y\\xe3\\x8ed^U4\\xea\\x03\\x14\\xde\\xff\\xbe\\xab\\x01v\\x0c\\xc0\\x8d\\xce+\\x1a&\\xc7\\xf9T\\x8c\\x07\\xc9\\xfbjD\\xf7\\xc2n2y\\xb4%\\xc54\\xca\\x04T\\xa3\\xbc:\\xc6\\xef\\x0bs\\x08y\\xfc\\xa9&\\x13H\\x03q\\x7f\\x89\\xdc^\\xb7\\x98\\xa3\\x1fg\\x01\\x94\\xf6\\x91\\xf8e\\xed\\t\\xeaA\\x84.U\\xc9\\xa0x-\\x9f~\\xbc\\x0c\\xc6\\xfe\\xda\\x07I\\xcd\\xa3(\\xeb}\\xcc_\\xe7_\\xcd\\x8c\\xca,\\xa0\"\\x06\\xe9\\x02\\xbeCH\\x92/\\xa9\\xcf$\\x03X\\x1f\\xd7\\x11?\\x00x\\xfc\\x1a\\xffc\\x00\\xde\\xbe}y\\xcc\\x00\\x9c\\xbc:^\\xfb`\\xd8\\xb9\\xc47\\x96L\\xe0q\\x12\\xb1\\x90\\x11\\x8c(\\xbe1\\xca, \\r_\\xcfmA \\x10\\xdd\\xac\\x9bw\\xd6%\\xb8\\xf7k\\xe1Z\\x87\\x90\\xd0\\xc8\\xb9\\xff@\\xac\\xb7\\r\\x86\\xe8jS\\xa3\\xe9\\xbe\\x06\\xf3\\x10\\xb4F\\xd2\\xebs\\xd8\\x11f\\xfc\\x84\\x97\\xbb(C\\xec\\x8a3\\xd4\\r\\x81\\x81\\xac\\x19\\x92wq\\xc4\\xfaE\\x88\\x18&\\xd4^\\x06C\\xc4\\xd8\\xc5#\\xccs\\x9c\\t\\xd7z\\xa6\\xc2^\\xa8\\xd4L\\x05\\xbb\\x90\\x07\\xa4\\xeb\\xcf\\x12!p\\xb3\\xa4\\xaa8\\x95*\\x01\\xc2\\x10\\xa9\\xab8\\x15\\x8f\\xb0]\\x95\\x02\\x8f\\xe0+\\xd9\\x8d\\x07\\xe5\\x83\\x9a\\x14\\x9c\\xaa\\xc5\\xe5\\x1f)\\x88\\xa4\\xc7\\xa8\\x06C\\x07\\x93\\x0c1,T3\\x8c\\x8aY\\xc8\\xee\\xbbY@\\xf5\\xb5A\\x07Z\\xa6,\\xcb\\xa3\\x10\\xb0qD\\x9em\\x90\\xa9dRf\\xf1\\x02_\\xf2\\x9d?%+\\x9e\\x06\\x14\\xe6B\\xa1\\xa5\\xe9\\x10\\x89\\x8a\\x81W \\xca\\xb6h\\x89\\xcd:\\xbd\\xd0\\xdc)\\xbc\\xbb)\\xfe\\xfaW\\xb1U\\xf3\\xf2~\\xb1\\xd9=\\xb4\\x8b8\\x97\\x82\\xbe\\xb1\\xf8\\x865P\\xe0!M\\xec2 \\xe9\\x80\\xf02*7\\x02\\xa2\\x12\\x10\\x95.|CJXT*\\xac\\x9d\\xe6n\\xe1\\xff\\xb4F\\x92\\x12\\xa3\\x8d\\xbe\\xe7v\\x8e\\x1e 7t\\xd7\\x0b\\xba\\xbaEe\\x87\\r+\\x88*\\x8e<\\xa2\\xad+\\xc8F\\x19y\\x94\\xb3\\x18\\xecv\\x8f(\\x9b\\xe4%3Q\"\\'\\x8f\\xc9\\\\2\\x0b\\x14=\\xe9\\xa6k|\\r\\x0c\\x02s(\\x82\\x9e\\xba\\xd7T\\xd5\\x04YYn0\\x18Rl\\x17m\\x97\\x1c\\xb0P\\xa2p\\x0fR\\x7f(z\\xc2\\xf2\\xe1[%\\'\\x1e\\xa8k\\xa7t\\xfdWu\\xcd\\xdd\\xc8OZ\\xfa\\x16m\\x04\\x12\\xe7S5\\x13\\xaa\\xe9\\xf0H\\xc8\\xba;C$\\xf1\\xe8\\xf6\\xd7\\xef\\xeb\\xb7\\x15\\x0bc\\xd5\\xd4cA\\xcd\\x8bH\\xa8j\\x8b-\\x95\\xd3a6d\\xcc\\xe8\\xcfY\\xde$\\xa7\\xf7@W\\xdfp\\x13\\xc7uP\\xa7\\x98\\xb1\\x86\\xd2m\\xb6*U\\xb8C\\x19\\xe6a.\\x13*Y\\xb8I\\x95W\\xfex\\xea\\x14\\xbb\\xcb\\x02\\xa4:\\xa1\\x84\\x06\\x97\\xcd\\x8e\\x02\\x8fA\\xdb \\x8b\\x9b\\x95(\\xb4\\xc1\\xf6\\x03\\xb1\\xfb\\x00\\xb5\\xf8%\\x0f\\xc0J\"\\x81\\x86g\\xca\\xce\\xa4\\t\\x90\\x1f\\x10\\x06\\xd4\\xa705\\x9b\\xcd\\xa6\\xb42\\xf5\\xfb\\xfa\\xcb\\xbf\\xaa\\x97\\xe4+\\xbaU\\xb2E\\xd7\\xc82\\xd3\\xaf\\x05\\xc9\\x01\\x14\\xa6\\xba\\xaa\\xd3e\\xa5\\x0f\\x04*;\\xdf\"[Qt*Q\\xfas\\xd8X\\x02\\x95~\\xee\\xc5\\xc8\\xc6\\x89\\x1e\\xf5\\xc41\\x93i\\xce]J\\xdb\\x90\\x02#\\xfd\\xe3\\x8b\\x8c\\xa3\\xc4h\\xd1\\x848|\\x12<X\\xe9\\x81%U\\x81\\x02\\xd6P%\\xd5Fe\\x88\\xdd\\x0bqo\\xdcs\\x93\\xe1#\\xc5\\x1fA\\xbf\\xc4C@v\\xe9\\x0e\\x9b\\xf8\\xb3\\x9c\\x85L\\xfb\\x81\\xb9\\xad\\x1befOT\\xf9v\\xb2\\x92H\\xdf\"I\\x04\\n\\xe8\\x01iTT\\x15Ce\\xfde\\x95\\x9b\\x1a\\x9d1@\\x15\\x8b\\x14\\x06M\\x85\\xc3\\xffL\\xcaM\\xa94\\xb9~\\x11\\xeb\\x8c\\xb0w!\\x12\\x99z>\\xa4\\x8fefJ+\\xb0\\x81x\\xf5Q\\xf4@\\x9c\\xac\\x8d\\x95\\x10\\xfd\\xa6QG\\xaa\\xb3\\xafV\\xeb\\x07K\\x97\\x9dP\\x16;\\xc42\\xc4\\xf1\\x807\\x84\\x8a\\\\\\x8are`CN\\x9c^_{O4\\x05Q\\xcdU\\xb9\\xa8`\\xddw\\xff\\x15\\xd2\\x92\\xaeR\\xcd\\xcd\\xbe\\xfc\\x97;\\x92\\x86+\\x06\\xd9_\\xfb>x \\xfeAm\\xfe\\xabY\\xdb$\\xbd#\\x9b\\x80\\xcccD)\\xa2\\x04\\x08\\x9fc8\\xfe\\x98\\x05\\x1e\\xd8\\xc2\\x1dO\\x1e\\x89c\\x94\\x94\\xa3\\xe5\\xf0Kd\\xe5cI\\xac\\xcdG\\xe2FY.\\xacg\\x16q$\\xbe \\x8e(w\\xb4\\xc8h\\x82\\x94\\xc7\\x84\\xda\\xc4\\xd2Z\\xf1-\\xf6\\xdb\\xa6\\x02\\xf5\\x1a\\xbc\\x8b\\xd1Tj\\xc1\\xae\\x0e\\xb8\\xc4B[\\xd9\\xe0T7\\xdf\\xe8DRadA\\xeaj\\xb1P\\x90\\x10\\x8aH\\x1b\\x10\\x08eg\\x18\\xa9\\xca~\\xb8,+5:\\xef\\x87\\xf0\\x80\\xf3\\xdcQ\\xa17\\xec>\\xb2\\xbfQY\\xa1\\xb8+!U\\xeb4A{\\x81T\\xcd\\xef3\\xd5K1\\xb5K\\x17W\\x9b]\\xd0-\\xaabe\\xe7\\xb2\\xdaj\\xb5\\xe4\\x95\\xc2\\xd2[!\\x1ct\\xca\\xc5s\\xcdz[[\\xf8\\xd2x\\xc7\\x0e\\r\\x13\\xb2`\\xb3@ML\\xd1\\xe2+g\\xde\\xcb\\t\\xa1\\x83\\x01h\\x95\\x94LQ\\xb8l\\x8c\\x15:-\\x7f}TNc\\x87\\xd2h\\xca\\xf3\\xa1|\\x14T\\x0c\\x8c\\x9e\\x9b\\xa2\\xac\\x1cR\\xdca\\xda\\x12\\xb4n\\xd6\\xaba\\x83\\x8fj\\x04\\x95\\xb2\\xca\\xb0\\xc7\\xa3<e\\xc5:4\\\\\\t\\xd0\\x8f\\xedZ6\\xe4\\xbd \\x9f\\x1b}\\xc1\\xeeS\\x05\\x99\\xba\\xb6\\x8a\\xfe\\xd9\\xce\\x0fvUr\\n\\x176l\\xe8;\\xfc\\x1de\\xe3p\\xc69\\xb9|\\r\\x1bT\\xd0\\xe5\\xb2\\xa8\\xda\\'GYk\\n\\x08dx\\xa9L2\\xdc,\\xfb(5X3\\x14C\\x0fj\\xdc\\xb5K\\xbek\\x03\\x8fB\\x84\\xb4\\r-\\x8f5\\xa1\\xe2r\\xe5\\x1b\\x8e\\x93d\\xf1\\xa5\\x8f\\xf2\\xfd\\xaafD\\x17\\xb5\\xa1\\xc8(\\x0c{\\xb2\\xd8\\xf5\\x81\\xb8\\xdb\\xef\\xf7\\xfa{\\xbb\\x8f\\xa0\\xe3PR\\x1b\\xd7\\xbb\\xbb\\xdb\\xfe\\xc6\\xf6#\\xd1E]i\\xecC\\xe8\\xdb\\x1b\\x1b\\xdb\\xbd=\\xf7\\x91\\xa0B \\x8e;\\x82\\xdc=\\x10H&\\x80Q\\x8dWg[\\xd5\\xaf\\xeb\\xcf\\xfb\\xfd>\\x99\\xae=*\\xe9t \\xda\\x1b\\x93\\xebGXU\\xc6\\x08!8\\x10\\xcd\\x1d\\x7f\\x8c\\x87\\x11\\xa2\\'\\x81\\xec\\x03\\xca{\\xc1\\x90.\\xfdG\\xe0r\\x9c\\x17r \\x1e\\xee\\xfc[e\\'+\\x82\\xaeF\\x84\\xb2@A\\x96\\x00\\x08\\xf4\\xca\\x8cX\\xd0\\x04e\\x14~\\xfc\\xc8e\\xf3\\xa5\\xc7\\x18\\xf9\\xc9\\x8a\\x14d22\\x9d\\xb8\\x93RJru\\x11\\x0bJM\\xa6\\xf6U9\\x98\\x85=\\x19\\x9f/Yo\\x08A\\xdc\\x16\\xbc\\x15J\\x05\\xb6\\x04\\nrJZ\\x84\\x88x\\x83\\x92\\xd0\\x07\\xe2\\xa4\\xcf\\xa2\\x80\\xd6,\\xae\\xb8\\x04)\\xc0%\\'\\xcb\\x0c\\x99Ch\\xf05\\x9bT.\\x8e\\xa8\\x89q\\xd8D^\\x9a\\x12\\x01\\x0c\\xa0k\\x88c,\\'\\xb0@\\rp\\x18\\x10-\\xfd\\xf1:\\xa9J\\xb0\\xfa\\xff\\xfd\\xf7\\xffb\\xd5\\xa1:}\\x80\\xca\\x898+I7\\x80\\xce\\xfco\\x84\\x94\\xb9\\xf2\\xdf\\x19\\xd7\\xb9\\xaa\\xa8\\xee`G\\xe4B\\xe8\\x0b\\xaefa\\xae`)\\x80\\x02r\\xda4\\x04\\xb8\\xb1\\x8b\\xffU\\x10\\xe0n\\xcf\\xc5\\xfa\\xa7\\x92\\xd8\\xf8\\x91\\x16X&\\x1a\\xbcj\\x97\\x99\\xd0\\xda\\xda\\xd8k\\xc1\\x18u\\xe8\\xb7\\x83\\xcdr\\xa7K(v\\xf4h\\x9d q\\xa8\\xea\\xb6\\xca\\x9eA\\xed\\x14\\xaa\\xa4{\\xd4\\xf8\\x88so\\xa8\\xaa\\x05\\x9f\\x88\\x14b\\x95\\xe0s},v%\\x9e iN{\\xdd\\xf5|W\\x8bEH\\x00\\x9b\\x87\\xa9\\xfcD\\xcd\\x0e\\x8e\\xfd\\x1a\\xa3\\x8e\\xce\\xcf\\x01$\\x82\"\\xe8TZ\\xa2\\xbaU\\xb1\\xcd\\xa1e\\xd0\\xe1pS\\x13\\xad\\xfc\\\\\\x1d,\\xb4\\\\\\xba\\xb7\\xd5\\x95\\xc9!F\\xfac\\x9e\\xfa8\\xdc\\x94\\xbec\\xd2\\xd3\\xe4\\x92\\x02I\\xae\\x01\\x1f\\x08?`\\xea\\xb2T\\x19\\x96C\\xb0\\x13\\xf2\\xb2\\x9c\\xf0M\\xc1\\xdf\\xcb\\xc9\\x118\\x12(]\\x03\\xb9\\xd9&\\x02\\xaf\\x86\\xb1\\x92\\xcd\\x8d\\xa7\\x89\\xec\\xa9\\x9c:\\x0b\\x10\\x0by\\x9a\\x1dN\\xcb\\xcc-\\x04\\x93\\n\"\\x17)\\x85d\\x10\\xab\\x84jA\\x95\\xd4(vz\\xa7vVt\\xc6\\xd9o=%\\xba\\x1f3\\x1f:\\xc3\\x11\\x86\\xdf&\\xce\\xb23\\xc6\\x84\\xaa\\xe7O6:#\\x13ezS.\\xbf\"\\x1d\\x1d\\xa8i\\x1b\\xa0P\\x0e\\x1cU\\xb4R\\xd5\\xad\\xf2\\x05\\xb1)\\x87\\xb3\\xc3)\\xf2\\r\\xd7HE\\xab/!\"\\x92\\xf4\\xc0\\xf2\\xc2\\xe79v*UQWw\\xd8j\\x83\\xc9L\\x80\\xcb\\x16\\x9d\\xd3\\x85\\xe5\\'\\xa5\\x03\\xdf.\\xc2\\xad|\\xac\\xdf\\x1e\\xebv\\x9a\\x99N\\xa7\\x97\\x99,\\x9a\\x07pe\\x1d\\x94@\\x88\\x94f\\x1dH\\x9b]\\xad$\\xc7q\\xda\\x10\\xedm\\xc0\\x9a\\x1e\\xa1\\xe0\\xb0\\xa4R\\xedz\\xc1\\xbc`\\x9a8\\x9d\\x08\\xebN\\x16\\xecf\\x8e\\xa2\\x90\\xd4\\x0c\\xdb\\xb5\\xbcWc\\xb8@K\\xbb\\x92G\\xa7\\xd1)\\xdd\\xb8}\\xfcs\\xc5H%\\x92\\xb8:R\\xf5\\xb6*3\\xcdg\\t!\\xea\\xc8P\\xbb\\xac3\\xa9Q\\xfe\\x12y4\\xbc\\x17\\x05d\\xb3Q\\x8c\\xbf\\\\\\xff\\xc6\\xd5k\\x18\\xb6&\\xa0\\xb9\\xb4}!5\\xa2\\x12Si<\\xa5\\xaf!\\xa9\\x86(hN\\xad|\\'\\xde`U\\xa1+1\\xd1\\xc7\\xb4\\xfd\\x8a\\xefi\\xf9\\xc9\\xc7]8q\\x16\\n\\x80\\x04\\x0b\\t\\x13\\na\\xafJECq\\x92\\x87\\x83k\\xa1Q\\x8b\\xa8I8;[-.\\xa4i\\xd7\\x0c\\xed\\x94n\\xdch\\x9e\\xb4\\xaa\\xb1\\x85XYX\\x917KMW\\x02\\xdbu)\\xb5C\\x07Tec=\\xc9\\x14\\xae\\xb5\\x98\\xcf*\\r\\xd920\\xa8\\x10\\x95u\\xe1K\\xa3\\xc3C\\xca@\\xeb\\xeb\\xda\\x07\\x9fOQ\\x14\\x1dg(J\\n6\\x15\\xdfE\"\\xb4\\x0e \\xeew\\xa2\\xb5\\xe9\\x80\"\\x19\\xc6t\\xe8\\x1e\\x97\\xa1\\xb1\\xcbVS\\xc4\\x08!\\xab\\xaa6,\\x9b\\x0b\\x14\\xca%-\\x87\\xb9\\xd3\\xbd\\x1c&J\\x95\\x83\\xe7\\xc3OM\\xce\\x1d\\xe0R/\\xf0f\\xffa\\x8aMC\\xda`\\xc2\\xb2\\x9c\\x0eYdsjc\\xcfi\\xb7\\xcf\\xda\\xfb\\x07[\\xdb\\x078\\xa6\\x04{\\xe0\\x1b\\x1b[\\xdfnl\\xe0\\x02H\\xb2#\\x1c\\x90\\x90\\x86R\\xd8\\n}\\xfc\\xad2\\x9c\\xb8\\t:Pg\\xecc,3\\x88\\xad\\x0c\\x1e\\xd4f\\x1d\\x02W\\xb0\\xba\\xf1\\xc8_\\r\\x9f\\x01JE_a\\x7f\\xaa\\x1fC:)?\\x844\\xea:H\\xe6Q\\xef1\\xbfc>\\xc8\\x84\\xb3\\xde\\x13:\\xbeYNP]\\xcc\\x88M*\\x0b\\xd1:\\x17k\\x1b\\x9bgm\\xa0l\\xc7`\\xad\\xbd2\\xd666o\\x88\\xb5\\xa5\\x8da\\x0e\\x11X\\xb02\\x81\\xc1\\xb0l\\x01\\xb7\\xcf\\xc1\\xd8\\xae\\xb3\\xb9w\\xd6~x\\xb0\\xb3wc:\\xa3&\\xe6a\\x8c\\xc2sa4\\xd1\\xe1#\\xc5@QIm\\xbb\\xb9\\xb9\\xb3\\xb5\\xe1\\xa0\\xc4\\xbc\\xebl!\\x81\\x8c\\x8b6\\xf4\\x14\\x9d)\\xbf\\x0eL\\xa0\\xad\\xe6\\x06\\x95\\xa1w\\xb1G\\xa7\\xdf\\xf9\\x92\\x88\\xda\\xff-\\x11U\\x11\\xcd\\xabQd1d\\xbe\\xd2\\x82\\xab\\xb1\\x17\\x90\\xe0HP\\xff+\\xe6u\\xd8,_\\x922\\xcd\\xd7\\xbfO\\xcd\\'\\xac\\xeb\\xe9\\x93/Gh;g\\xed\\xbd\\x83\\xad\\xfd\\x1b\\xb3&\\x08\\r\\xfb\\xba7\\x10h\\xbb\\x94\\xc6\\xcd8\\xc2J\\x8a\\xcf\\xddsT\\x9d?\\x87\"\\xe8h\\xe9:\\x1d\\xb9W\\x89\\xc2\\x1e\\x92\\xbc\\x19;o\\xd5\\xcb\\x02\\xc5\\xb9\\xb8( \\xcc\\x11F%\\xbf|Kd7\\xbf\\xfeU\\xd9\\xfbg\\x14>\\xbb\\xe3*\\x19\\xbf\\xce\\x88a\\xb5kE4\\x15\\x8d\\x12\\x0e\\\\]\\xd2\\x0c\\xad\\xec\\xb6\\xdc\\xfc\\xefl\\x9a\\xd0\\x99\\xb8\\xb4T0\\xe6\\xc9\\xbb\\tLO\\xb2Ru\\xd8\\xefg\\x9b(:\\xc8Vweea\\xb0u\";\\xfa3\\xdb\\'\\xb5\\x13\\xad\\xf5\\xf5\\\\U\\xdc\\xde9c\\x83\\x05\\xff\\xbf\\xb2\\x0enW0zupu{oo+_$#\\x0e\\x88\\x97\\x17\\x14\\xdb\\xe8\\xd0\\xd6\\x9aJ\\'\\'_\\xde\\xb3\\x08\\x9b\\xa6\\xee-\\xb1\\xedR\\xf6\\xddg\\xe2o\\xeflc\\xf7`\\xebf\\xf8\\xab\\xd0\\xc8\\xf5A\\xe1\\xed\\xbd}\\xc2\\xe1\\xeb\\xff|\\xfb\\xee\\x85\\xf38\\xc3>\\x15\\xd4\\xc4\\x81\\x89\\xdbx\\x85%v\\xf4\\xec\\x89\\xdc\\xbaz\\xcc\\xa7 T\\xc7\\xea\\xd9f\\xdc\\xed \\xe8\\xf30\\xb8\\xb9}\\xd6\\xde\\xbd!\\x05n\\xc2\\xd5RV5s1\\xb8\\xcfT\\xf8\\x12nq\\xd0\\xde\\xe31\\x1dm\\xd3s\\xc7\\xa0\\xc2\\xf7*\\x0b]\\xac?q\\x11:\\xe4p\\x0c\\r\\x9fY\\x8cm\\xc1\\x119\\xef\\xb0\\xf7\\xfb\\xa7A\\xe9\\xee\\xcd\\x99zsw!JY\\r%\\xad\\xf6\\xde\\xd6.\\xa3\\x13{P\\xe2\\xa7\\x0c\\x1b\\xd4.\\xdb*\\x7f\"<\\x81yo*\\xfc\\xaa\\xcc\\xe9:\\xe1\\xb7-\\x85\\xdf\\x9ba\\x10}Q\\x0c-c\\xb6\\xacf\\x9f\\xd4\\xd9-7p\\xf3\\x17M\\x9bR\\xee\\xe7\\x12\\xae\\x97\\x8acP\\x8c\\xc6\\xb3c\\xc2\\x97\\xf0\\xbe\\xb0\\x18\\x9c+\\xc5>\\xcf\\xa9W\\x1a\\x9c1wN\\xcb\\x19\\xeb\\x9fo\\xee\\x94shM>\\x0e[;\\xa5\\x0eKf\\xcf\\\\\\x0c\\xcc}X\\xd8(\\xb0\\xaa\\x01\\xe0 E\\xaa\\x99.\\xb3J\\n\\xf7\\xdb\\x9b\\xed\\x85\\'$\\x1c\\xc2\\xaf\\xe4]p\\x1d\\xcc\\xc5\\x8e\\x9e|\\xab\\xa4\\x8c\\x82\\xd8\\xa73b9\\x8e\\x1f{t\\x94\\xcdB\\xf9\\xcb\\x1e\\xce\\x83Cd\\x8f\\x0e\\xf5\\xeb\\xd2B\\x96\\xb6\\xc2d8#<)\\x8e\\x1f\\x84]\\xc4\\x05_$\\x0e\\xa2H\\xa9`\\n\\x96r8\\xaf\\x11\"\\xefX=\\xc1\\xeaV6\\xcd\\x11\\xc7(D\\x8e\\xed\\x07\\x04\\x0ep\\x1c\\xb2\\xea\\x84=\\xb5\\x1c\\xfbE\\x91(\\xb4\\xf3\\x8c}\\x88\\x08\\x9dP\\xa0f\\xe1E\\xd9\\xfa\\x03\\x81g\\xb4\\xb9\\x84\\xcdL\\x19\\x97\\x17b\\x87\\x92v\\xbb\\xfd.\\xfc\\xbfMVTd!\\xcb\\xe6\\x18\"\\x84\\x86_\\x068\\xd3\\x8f\\xa2\\x83`C\\xa1b\\n\\xe7% \\xa9\\xa0w\\xe9\"\\x10\\x81VE\\xb2X.}8\\xa2\\x9e-8\\xa2\\x90l\\x06\\xda\\xac\\xc2\\xc1,\\xf4L\\x8e\\x16_@\\x03\\xf6\\xe1\\xe0\\x95&\\x85\\x8a\\xd5\\xa0\\xb0P\\xfe~\\x8c\\x88#y\\\\\\x1b\\xce\\xec%w=\\x9cJrK\\x95wYG\\xf8\\xec\\xca\\xc7\\xce*\\xb6W\\x86\\x08\\x1b\\xc5.\\xfa\\x90j\\'\\x9b\\xa8m\\xa4E\\x88+\\x8a\\xf0\\xe6\\xb7@\\x9b\\tJ\\xe6\\x02\\xbc\\x1c\\')\\x07E\\x93z\\xff\\xbf\\xff\\xfe\\x1f\\x8a\\x8a1\\xb3\\x03,\\xa8\\xa6\\x07\\x11\\xfa\\xc4&\\xff`\\xc8\\xc8\\xcd(\\x16\\x19V$\\xbd-\\xb3;\\xf4\\x84\\x02\\x9a\\xe1T\\xfb\\xc9)\\x9a\\x15\\x87*\\xd2\\'p\\x95Q\\xb5\\x17\\xda\\x1a\\xd6\\x1f\\x9aC\\xa1\\x13\\xc4T\\xd0\\xde\\xb1D\\x00ejak\\xd8\\xcd\\x06\\x84gx\\xc9\\x19$\\xc26\\xc0\\xc60(L\\xcc\\xa5]\\xbc\\x1c\\xd0\\x1c\\x87MA\\xde$x\\xe7\\x81S\\xdar\\xa2\\x18Az\\x95\\x97\\xab\\x1eNn\\xc0\\xb2\\x07\\x85\\xed\\xf5> ( @3\\x88\\xcc3c\\xa6\\x01\\x04\\x80\\xd9\\x8e{U\\xc1M\\x86\\x1c5\\tQ38b\\x9c\\xca|X!\\xec\\xe65\\xee\\x18\\x0e\\xfb\\x8a\\xb3\\x82l\\xe3\\xf0\\x90\\xfc\\xba\\x86\\xff\\xe6\\xf3?\\xce\\x19\\x01\\xe6=D\\xc2\\xa9\\xc0\\x87\\xa3\\x06j\\xc1\\xd05\\xdc\\xa0\\xe4\\xa2\\xe4k\\x19\\x95\\xc0?9\\xdc\\x01\\xc7ull\\xfc\\x9b\\x89yaNw(/~\\x8e\\xa7\\xdc\\xc8x\\x9c\\xd1\\xd2\\x9b.\\x96\\x0b\\xf4\\xfea\\x8a\\x98\\x1b{h\\xf3~/\\xfd\\xe2a\\xdaCbW\\xee\\ro\\xfd\\xf6\\x82\\xe7\\xa7\\\\\\x94\\x95\\xa4L\\x1e\\xc2\\x8d\\x8cF\\x8a\\x89\\xce#\\xb3A%z\\xea9\\xd2A\\xf1\\xb7$\\x16\\xa2\\x02>\\xb0\\xb2;\\x15O|\\xcfs\\xc1Z!\\x8ex\\xc7\\x1d\\x19\\xb6\\x8cA.\\x85\\x11X\\x8dK \\x19o-\\x9e6\\xbcD\\xe44\\xbf_e\\x89\\xcc\\x9d\\xc9Z\\xc0\\xbf\\x98\\xc7\\xc6:ky\\xe9\\xfd\\xc3\\x1b\\x18/\\x9fg\\x9eL8\\xa3-w\\xc2\\x98@\\x04r\\xb0\\xdd\\xa3\\x04\\xcc`\\x82S\\xac\\xd4>\\xe4\\x82=!U\\xd4\\x99\\xaae\\x17m\\x0f\\xbb^v\\xd1\\xf0\\xf8\\xcb\\x1dl\\xf3\\x96wv\\xfe\\xc2\\x93G\\xbe\\x8b\\xc3n\\x07gK#\\x85\\xcf\\xd4\\xfe\\x80d\\xea \\xba\\xdc\\x88\\x02{\\xab\\x05\\xea.\\x0f\\x9a\\xcbcup\\xdb\\x8e\\x99\\x91\\'\\x077{\\xe7\\xf0\\x19F\\xf07\\x9e#\\xe2H\\x1d\\xb9\\xfa\\x8c\\xef\\x11_ \\x89!?\\xeb\\xa5\\xf2\\xfb\\xc9\\x14;\\xdb\\x89\\xfe\\x9e\\x0b\\x1a`=\\x14\\xbb\\xe3\\x00\\x9b\\xa5\\x8b\\x1a\\xe8Fi:\\xf2q\\xd4+\\x1d\\xa8\\xddy\\xc2W\\x8b\\xbfB\\x1eB\\xe8\"\\x1a\\x01\\xc7\\xbb\\xf2wg\\xf2\\xda|\\x98\\x1f\\x1b\\x801\\xf6\\xb1W}\\xd1\\x9cD^\\x14\\xa9\\xf3\\x13UL\\x17\\xa1\\xa3\\xf3\\x9c\\x9e.\\xee\\x91\\xce\\xd2Fw\\x9b\\xe6PZy!\\x97y*\\xca\\x17\\xd3T\\x98\\xb0\\x17\\xefNn\\x7f\\xc2\\xaa\\xf2\\xd2\\xcf.x\\xa5\\xde\\xe8\\xa4\\xf2\\xc7\\x82\\xe1\\x98\\xfc\\xf6A\\x88\\x10x\\xc6\\t\\x1c\\xc84\\xfbI\\xeb\\xed\\xf4\\xc5\\x9b.\\xfd\\xa49T?\\x174\\xa7\\xc8(&\\x0f\\x16\\x12\\xc9/\\xa4Y\\x04u\\x07Zjf\\x17-mJ`\\xf7\\xe4S\\xda\\xe2\\xb0Xj\\xfcG\\x04q\\xcf\\xa5\\x0e\\x03\\xe6\\xa7\\xb4\\x89\\x82\\xb3o\\xa7\\xa7T\\xf2\\x15_\\xd2\\xdf%\\xbe\\xbd\\x08.\\x99\\xac@\\x8e\\x7f\\xc7\\xcf\\x05_\\xa8Q\\\\]KA\\xa0>\\xbc\\xba\\x96\\x1b:\\x0b>\\xe6\\xa2\\xcc0Q\\'S\\x04s4)\\xa0\\x16\\xc6\\x0b\\xc7c\\x00p?\\xc4im\\x14J\\x03@\\x9e\\xe1%\\xe05Se\\xe5j\\x08\\'\\xaf-\\xc4\\xc6\\xd0k\\xcay\\xa4\\xa4\\xb2%\\x19\\x1e\\x82d\\x01\\xcb\\xc2.\\xd7,\\x87\\xbe\\xde.\\x81\\x1b\\xd8\\xc5\\xc8\\xc7\\xc0\\xfe6\\x99\\xa6\\n9o\\xf9\\x9eAM\\x81\\xe9\\xd0>\\xc9SfO-,\\x99\\xdfNr\\x84\\x9a\\xf0\\xf82\\xe3T\\x972Zr\\xf4\\xf3\\xc6N\\t\\x8c=\\x88\\x9c&\\xca\\xac`6\\x9e\\xa8\\xcb\\x05\\xb3\\x8b\\xc9\\xa5\\xa3\\xe3\\x9b>\\x82\\xf1\\xae`\\xb7\\xaa\\xe1\\x9f\\xe1\\xde\\xe2/9\\xf86\\x9b4ep\\x16t\\xc9\\xc0W\\xbd\\xff$\\x9fP\\x13\\xf5\\x98\\xe0\\xf8m\\xf1\\xb8\\x87\\r\\x01\\xac\\x04h\\xc9\\x14!\\xe0\\xff\\x16PA\\x02\\x8d\\xd6:\\xb01H\\xe6\\xa3\\xac\\xb3\\xbcX0\"\\xa2\\xf4\\x04\\x85\\xbf\\xb5\\xb8\\x0f\\xc0\\xcb\\xa7\\xb8^\\xe23\\xea\\x91b(\\x11\\x1a\\xe5]H\\xb9\\xfd\\x06\\x97\\x88\\xde\\xf3\\x16\\t`\\xea\\xf5\\x1a\\xd4\\x94\\x0c\\x1b\\x1d\\xfcM\\x86\\xb3H[\\xc6\\xcdcN<AC*\\x1ce&X\\xdc\\xe8\\xd3\\x9a\\x90\\xc0:\\xe7\\xcf\\x8c\\x99e\\xbb\\x03&\\xfe$w\\xe6\\xcc\\xbc\\xc9:\\xbe.`\\xaa\\xf2m\\xfe\\xc2V\\xf8\\x98\\x0e\\xaa\\\\\\xc1\\x05\\'\\xf4\\x7f\\x8a\\xa8\\xec\\xf8=\\xff\\xb2\\x05Ph\\xf5\\xae\\xf6\\xa9\\x8fC\\xac\\xb0=\\xce\\xc6R\\x9b\\x88\\xee(\\xa9\\x8f\\xda\\x10\\xeb\\xa8\\xab\\x9c\\xe8\\x04 \\x9a\\x84\\x03^\\xd3\\xf53N\\xf9\\xc0\\xa2Sqwm\\xdc\\x07e\\xe6\\xe0\\xb8B\\xac\\xf6\\xc8>\\xc7\\x1a\\x9fB\\xdcX\\x0c\\xd6\\x0f\\xd4\\xa5\\xcc\\xda\\xd2y\\xde&y\\x01%\\x17\\xe9\\x88\\xa8<yA\\x8f\\x91\\x06\\xda\\x8c\\x13\\n\\xfb\\xb1\\xa1\\xe1\\xb3\\x98\\xfa\\x08m6\\xa6\\x9e\\xf8\\xe9\\xf4\\x94\\x86R\\t\\x80\\x8c\\xb1\\xac\\xf6\\x8bU~0s\\xb3\\x8e`4\\xa1\\x19\\x82\\xb3L^\\xda\\xe8\\x95\\x81v\\xcb\\xc4\\nKQ\\xebP\\x15U\\x1a\\x14\\xda\\xa9\\x1e\\xcb\\x0chs\\tO\\x992\\xabS\\x19U#3\\x04VQ{\\x8cpM\\xb9P:\\xa4\\x8f\\x08h\\x1c\\xc8L[P\\x10\\x87\\x01\\xc8\\xf2\\x12\\x15\\x1f\\x13\\xfd\\xc88\\xe31\\xd6\\xc9\\x9c\\x16\\x99\\xc2ZQ\\xee\\x19r\\xf5P0^\\xde\\x04\\x9e\\xcf\\xe4\\xd6\\xc8\\x97\\xd1J\\x82\"\\x07(\\xea\\xcbJ\\x16N\\x1eTR\\xa6\\xd4D\\xfe\\x9c\\x8e\\t\\xa4\\xbc\\xf7>\\xdc\\x19@(|\\x05:\\xa6\\x16\\x86\\x16\\xce\\xe3\\x85\\x18\\xe6\\xbcF\\x15#\\x98\\x93\\xbe\\x9dx57\\xcbF\\xa2If\\xd9PH\\x19\\xa1\\x05\\xa9\\x032\\xdc\\xd3d\\xc0\\x90\\xef\\x8d\\x0e\\xc6M`\\xf9\\xa8\\x191\\xba]\\x1f}\\xaa\\x8a\\xce\\xb0G\\xa3%3\\x02\\x92a\\x80bR\\x1d,f)\\xc9\\xd1\\xc5\\xb9w\\x94\\xc8*1\\xcf\\xb3^\\xd7\\x08A\\xc5\\xe7\\x0fS(0\\x19,|\\xf80\\xa1\\x9c\\x91*\\xcfR\\xe7L\\xb6Y\\x1a\\xd3\\x94^\\xe1\\x94\\x06\\x8f\\xcbt\\x86\\x8aP\\x80\\x19\\xb2\\x9c\\xe5\\xb6\\x8aW\\n\\xb7\\xcaK\\xd9\\xba\\xd4#b\\r\\xa3\\x04\\xee\\xea\\xcc\\x1e\\xceT\\xe2\\xa0\\x82\\x98r\\xce\\xe2b\\xc4\\x02\\xbf\\xff<\\x02\\x99Q<;|J\\xf2$A\\xde\\x16\\xe3\\x8c\\xe1\\x82\\n1`\\xe1\\x80c\\xfe\\x84k\\t\\xa9\\x03\\x95\\x8d%\\xc4\\xc7a\\xc9\\x17tZ\\x91\\x82\\x81\\x0e\\xe3)9~\\n\\xa1\\x10\\xf9\\x87,\\xf6 \\xddfpc\\xbfo\\x10Q\\'Gf\\xbeV\\xd4A`S\\xe6\\x05\\x85\\x9d\\xe0\\xa0t:\\x03T\\xad\\x9af\\x0fRW\\xf2\\x076\\x15\\xf9y\\xb5\\xbc\\xad\\x97\\xd9,\\x82Q\\xda\"\\xbar\\x16\\x9d\\x95\\xfe\\x04 \\x10\\xf1\\x9dE|\\x1a\\xd2,e\\x10\\xb8\\xc5\\x83\\xb1\\xc8\\xd9\\xeeN\\x90\\xf9y\\x19\\x0c\\xa4o\\x96*E\\x15\\xcf\\xf1\\xb6\\x8e\\x9a\\x93~y\\x1bO\\xdc$\\xa3a\\xe6\\xe4Gs\\xe0\\x97\\x85\\xf6\\xdc\\xe7.\\x8f\\x91j\\x88\\x1b\\x1f\\xe4%\\xe72\\'\\xa1\\xda\\x93\\xb3\\xe6V{\\xfezR\\xd7\\xe0\\xebI]\\xb3\\xb5\\xe2$I\\x9b\\x9a`\\x0b(|\\xb3\\x92\\xc2\\xf3\\x04\\x10P\\xb9NC\\xb9I\\x81\\xc7\\xdb\\xa1t\\x1b\\x9c\\xfcx\\x9a\\xaf\\'i\\x91\\xf0\\xaa\\x90_\\xf9\\xc9{\\xf3\\xca\\xa5Z\\x07\\x86}=I\\xcbP\\xd5\\x9f\\xff$\\xadzm\\xb6U\\xc3\\xebT\\xef\\xfa\\xb3\\x0f\\xc1\\xba-N\\xffz\\xcaU\\x83\\xecyy\\xfc\\xd5g\\x1d.5\\x8f\\xf9Mr\\xd9\\xd7S\\xaef\\xce\\x1e\\xfbz\\xca\\x15\\x9d\\xc0&\\x97\\xe6\\x7f\\xf2S\\xae\\xeae\\xe1v\\xa5,4\\xeb|\\x92\\x88:r\\x97\\xbd\\xe6\\xc6X/,\\xa4j\\x8f\\xea\\xbd\\x1di\\x98\\x83#]\\x13_O\\xa1\"sg\\x89u\\xd3<\\xd1\\xf7\\xf5\\x14\\xaa\\x16-\\xdf\\xbf\\x9eBel>\\xe5\\x85\\xfcz\\n\\x15s\\xd6\\x12\\xec\\x85hF\\xcb\\xb3\\xc2Q\\x8fVdP.\\xb5\\xbe\\x9eB5B\\xfa,6\\xce>\\xf3\\x14\\xaaz5\\xb6S\\xa9\\xc6\\xca\\xb1Y&6e&6w&(\\xf7w\\xd2te\\x88\\xbf\\x9e\\x13\\xc5\\xa7d}=\\'\\n\\xc7\\xb9\\x19Z\\xf8zN\\x94\\x8d\\r\\x1dn\\xf3\\xdb\\x9e\\x13U/zv+EO\\xe9\\x94\\xa4\\xfch\\x9b\\xba\\xc3\\x9f\\xf8\\xf4\\x9b\\xdf\\xcd\\xc2.\\x81\\xab,\\x81\\xaf\\x87:\\xc5~\\xff\\xa8\\xf1\\xf5P\\'\\xcb\\xac\\xf9\\xdd\\x0eu\\xaa\\xe7\\xc0\\xbdJ\\x0eT\\tkX\\xc0\\xea\\xbc\\xe2\\xdfI\\xa7+@\\xd4\\xae\\xa1\\x01\\xablv\\xe7P~=w\\xe9\\xeb\\xb9K\\x88%\\x94\\x04\\xf1\\xa5\\xce]\\xaag\\xaf\\xfdJ\\xf6Bm;\\xe9\\x1cB|k\\x80\\xc8\\x0c\\xc4\\xbf\\xfe^\\xda\\xeb\\x8b:q\\xe7\\x9d\\xb5\\xaa\\x01\\x19 1#\\xebrh\\xb9\\xe4\\xfa\\x96\\xa7\\xfe\"\\xec\\'\\xf3\\xed\\xf3\\x88O\\xe8\\x86\\xa0\\xd0\\xca\\x0b\\x19\\xaf\\xb2\\x12\\xf3\\xcf;\\xf1L\\x03\\x83\\xd8\\x8bQ\\xc1\\xb7\\x8bk$\\x8aac4\\xc1\\xa4\\xf5#]\\xe4\\x05\\x13j\\x9d\\xe3\\xa5\\xa4\\x15n\\xaa*\\xf1v\\x1a\\xf4\\x12K\\xe3\\xb9\\x9e\\'\\xa2\\x1d\\xca\\xd4Bu)\\x1c\\x94\\x15\\xcb\\xe0\\x1d\\xfb\\x8cf\\xc4\\xd6\\xbd2\\x8f\\x88\\xacV\\xc2\\xca\\xbc\\xf3\\xce\\x10\\xb6|I\\xb19\\x19\\xce\\xae(\\x1ce/\\xcf;G\\xe8\\xd0\\xa9z(xjJ\\x9d/8*Y=.\\xf8F\\xe5\\xde$\\x87 \\x95\\x83L@K\\x7f\\x84 \\x13\\r\\xa1\\xfdw6\\xf2d\\xb9\\x98#jC\\xbe)\\x8fVC\\xa9\\x0f\\xd1\\xb4\\xc2\\x7fd\\x14\\xcfl\\x8d\\x94B2)\\x85\\x0fQB\\x93%x\\x0c\\x16\\xad\\xa8\\xc1r\\x10Ky\\x1c\\xd5\\xd3\\x90\\xe7\\x9c\\xc8\\x80$\\x05\\xd1\\xd2\\xf13\\xb3\\x01H\\x06\\xb6y\\xf13\\xe5\\xb0\\x19d\\xd8P\\xc4\\x1a\\x8a\\xc3OT\\x91\\xf3\\xfa0\\xd4\\x17T\\x88\\xd5\\xd5\\'\\xa2q\\xf9g\\x9c\\x94V$\\xcd\\xf2\\xe0y\"j\\x01B\\xb8C\\x0eP\\xa5{\\xbd\\xf3\\xccT\\xe8\\xa8\\x07\\xec\\x84\\nzpZ+\\x96.*\\xb8\\x7fQ\\xbd\\x84z\\xa0\\xb0/k\\x80\\xaa\\x17\\xa5R2\\xf5\"\\x08\\x8eAK\\xc9S\\x1c\\x03N\\x87\\x12\"\\x8d\\xadK\\xb1g\\xe2I\\xc6\\xcah~-\\x8cz@\\xecM\\x91J\\xbc\\x96k\\xe1\\xd1\\x11\\x0f\\x99]\\xf5\\x103\\x8b8o\\xdc+\\x85-s\\x9c\\'\\xd5\\xb6\\xc5#\\xa4\\x1b\\xf7\\xa8\\xb85\\x8a\\x1f\\xe1\\x04/7\\x1b\\xa9\\x93\\xf8\\x94\\xe8-\\xbfd\\xe2w\\x0bj\\xb6\\x0c^\\xfd\\x90+\\x0e\\xc3\\xabf\\xaa\\xc94\\xa6\\xbc\\xdd\\n\\xe63\\xef#\\x01\\x92\\x0b\\xf6\\xd6\\xf3\\x02\\x93_1\\x96\\x16\\xec\\xfc4R\\x8d\\x8b{\\x1e~>\\xda\\xdc\\xd8h\\xcb\\xeaX\\x8b\\x82\\xa2\\xa9=U\\x8ay\\xa6\\xd5\\x9c\\x92)\\x8e\\x98*\\xa4\\xc0\\x18Y\\x18\\x92{;=\\xca\\xe0\\xb3\\x91?\\xc0\\xc1lTC\\x1e\\x7f)\\x18K\\x1d\\xf8!\\x89p~\\xb8\\xf7\\x92#C\\xba\\x91\\xebAcu\\xde\\xca_8d\\x19\\xb1\\xb2\\xbc\\'\\xb7\\xccH(\\xaas)\\xfc\\xe5\\xdbB\\xa5\\xc2\\x82\\xe8\\x19\\th\\x94^\\x8c\\xacQ*\\xb6e\\xf6\\x05K\\x95\\x05-\\x90\\xa8\\x14V\\x99B\\r\\x11\\xb5$\\tU\\x86\\xd62\\xf9\\xcc\\xcdH\\xc8s\\x1b\\x8c\\x1a\\x98\\xc9m(\\xab,\\x8eK%\\xc5R\\x8axmIM`mn2\\xd4\\xa5\\xcf\\xef\\xa6\\x11\\xf2\\xc7\\xa1\\'f\\xe3f\\xe5\\xeb\\x89\\x17\\x07\\x93T$\\xb1w\\xd4h\\xb5\\xdcs\\xf7\\xba9\\x88\\xa2\\x01\\xea\\xe5M\\x82\\x84\\xadA\\xba\\x07\\xc3\\xab\\x9b\\xb4\\xce?e(\\x0e\\xdaj7\\xf7\\x9b\\x9b\\xea\\xa2\\x89\\x9c\\x97\\xe6\\xb9,\\xdb\\xc9-Ix\\x0ee\\xb3\\x9d+\\x88\\x0b\\x9c\\xf8w\\xfe#}(\\xfe\\xf9ODx\\xcaj\\xbc\\xcd+\\xd82\\xfe\\xfa\\x9azQ\\xf5O\\xe2\\x03\\'\\xb8\\x9f\\'v\\x7f\\x0e\\xf7\\x97w\\xf4_-\\xd5\\xf8\\x1a\\xe58\\xccv\\xba\\xcaX\\xb2\\x00\\xa3A!\\xe4\\xb6\\x1a\\x8e\\x83\\xcc\\xb0/0\\xa2,\\xc0\\xa0\\xa8\\xdb\\x05\\xa3\\xaa\\x98\\xa2\\x12\\x8a\\xc6n\\x12\\x85\\xf1\\xb49\\xb9\\x18\\xf4\\xe6C^\\x8db:\\x8b\\x11<\\xe3\\x8d2\\x947.Md\\xa1w:\\xad\\xee\\xa8A\\x07\\r\\xb4\\xceQ\\x00Y\\xe2\\x1dG\\x180\\xdd\\xe4@\\xb1\\xd5D\\x18\\xec\\xefl\\xef\\xef\\xe1l\\xd0\\xfe\\x1e\\xca.\\x82@\\x04\\x95\\xe5O\\xa8b{\\x96\\xf6\\x1d,\\xcf\\x8as\\'M7\\xe2\\x8f_\\x82\\xbe\\x18A\\x1d\\x9e\\x1c\\x8b\\xbd\\x0f\\x05j\\xe2\\x13\\xf3\\x96\\x80a2\\xca\\x10\\x81\\x93\\xb4N\\x8e\\xf7\\x19\\x94}\\xb7\\xbf\\xebo\\xeez{\\xeeVw\\x19P\\x88\\x8d\\xe4\\xd8\\xbf\\xf9\\x05\\xa6`\\xd0\\xff`\\xaa\\xe3\\x95\\x00\\xdc\\xff<\\x00Q$\\x1d\\xf2\\x08\\xe5)\\xfc\\xdei:\\x1dai\\x01h{\\xdb\\xed\\xde\\xbe\\xd7{\\xb8\\xdfG\\xa5\\xd6%\\x107\\x07Z\\x89T\\x1e\\n\\x82\\x1dZ2\\x9f\\x1d9\\x1d\\x98\\xf3\\xce\\x9d\\xff\\x07\\xfdb6\\x1f\\xc0\\xcb\\x00\\x00'\n"
     ]
    }
   ],
   "source": [
    "# Chamando o métdodo read() do objeto resposta e aramazenando o código html na variável html\n",
    "html = resposta.read()\n",
    "print(html)"
   ]
  },
  {
   "cell_type": "code",
   "execution_count": null,
   "id": "81b56f89-6b8f-401f-8a6d-e6ac068d5ff2",
   "metadata": {},
   "outputs": [],
   "source": []
  }
 ],
 "metadata": {
  "kernelspec": {
   "display_name": "Python 3 (ipykernel)",
   "language": "python",
   "name": "python3"
  },
  "language_info": {
   "codemirror_mode": {
    "name": "ipython",
    "version": 3
   },
   "file_extension": ".py",
   "mimetype": "text/x-python",
   "name": "python",
   "nbconvert_exporter": "python",
   "pygments_lexer": "ipython3",
   "version": "3.11.7"
  }
 },
 "nbformat": 4,
 "nbformat_minor": 5
}
