{
 "cells": [
  {
   "cell_type": "markdown",
   "id": "1f778b7e-2c75-4afc-bcd3-38ae79faa6be",
   "metadata": {},
   "source": [
    "# Lab 3 - Expressões Regulares em Python para Análise de Data Science\n",
    "`Expressões Regulares são uma sequência de caracteres que definem uma busca padrão em strings. Em Python, as Expressões Regulares são suportadas pelo pacotere. Ele fornece uma série de funções para pesquisar e substituir padrões em strings. Algumas das tarefas mais comuns que podem ser realizadas com Expressões Regulares incluem verificar se uma string corresponde a um determinado padrão, extrair informações de uma string combase em um padrão específico e substituir trechos de uma string com base em um padrão`"
   ]
  },
  {
   "cell_type": "code",
   "execution_count": 1,
   "id": "206b7189-9d5d-444c-96ac-c33a6b1f6fbc",
   "metadata": {},
   "outputs": [
    {
     "name": "stdout",
     "output_type": "stream",
     "text": [
      "Versão da linguagem Python usada neste Jupyter Notebook. 3.11.7\n"
     ]
    }
   ],
   "source": [
    "# Versão da Linguagem Python \n",
    "from platform import python_version\n",
    "print(f'Versão da linguagem Python usada neste Jupyter Notebook.', python_version())"
   ]
  },
  {
   "cell_type": "code",
   "execution_count": 2,
   "id": "e2105598-da91-4787-8146-89005886511a",
   "metadata": {},
   "outputs": [],
   "source": [
    "import re"
   ]
  },
  {
   "cell_type": "code",
   "execution_count": 3,
   "id": "81ec22b7-2796-48d4-8725-7eef7663020d",
   "metadata": {},
   "outputs": [],
   "source": [
    "texto = 'Meu e-mail é exemplo@gmail.com e você pode me contatar em outro_email@gmail.com'"
   ]
  },
  {
   "cell_type": "code",
   "execution_count": 4,
   "id": "6cf8e55c-5f58-4bc5-9e9e-1b31ed300c65",
   "metadata": {},
   "outputs": [],
   "source": [
    "# Expressão regular para contar quantas vezes o caracter @ que aparece no texto\n",
    "resultado = len(re.findall(\"@\", texto))"
   ]
  },
  {
   "cell_type": "code",
   "execution_count": 5,
   "id": "e8dbf3dc-0366-4f92-bb01-fc208faf18b2",
   "metadata": {},
   "outputs": [
    {
     "name": "stdout",
     "output_type": "stream",
     "text": [
      "O caracter '@' apareceu 2 vezes no texto\n"
     ]
    }
   ],
   "source": [
    "print(\"O caracter '@' apareceu\", resultado, \"vezes no texto\")"
   ]
  },
  {
   "cell_type": "code",
   "execution_count": 6,
   "id": "215a5eb5-2982-4916-a834-2753b4260496",
   "metadata": {},
   "outputs": [],
   "source": [
    "# Expressão regular para extrair a palavra que aparece após a palavra \"você\" em um texto\n",
    "resultado = re.findall(r'você (\\w+)', texto)"
   ]
  },
  {
   "cell_type": "code",
   "execution_count": 7,
   "id": "7d777b41-4fb4-4dc4-910d-dc39a1d70a7e",
   "metadata": {},
   "outputs": [
    {
     "name": "stdout",
     "output_type": "stream",
     "text": [
      "A palavra após 'você' é: pode\n"
     ]
    }
   ],
   "source": [
    "print(\"A palavra após 'você' é:\", resultado[0])"
   ]
  },
  {
   "cell_type": "markdown",
   "id": "e9b5b5cc-feef-4b1a-930a-30df51ddfd01",
   "metadata": {},
   "source": [
    "`Nota: O \"r\" antes da string que representa a expressão regular em Python é usado para indicar que a string é uma string literal \"raw\". Isso significa que as barras invertidas() não são interpretadas como caracteres de escape, mas são incluídas na expressão regular como parte do padrão.`"
   ]
  },
  {
   "cell_type": "code",
   "execution_count": 8,
   "id": "74c3e087-9152-4d19-b396-52ff97f6ee9e",
   "metadata": {},
   "outputs": [],
   "source": [
    "# Expressão regular para extrair endereços de email de uma string.\n",
    "emails = re.findall(r'\\b[A-Za-z0-9._%+-]+@[A-za-z0-2._]+\\.[A-Z|a-z]{2,}\\b', texto)"
   ]
  },
  {
   "cell_type": "code",
   "execution_count": 9,
   "id": "30e0df43-80b2-4c8f-89d4-34fcb080aafa",
   "metadata": {},
   "outputs": [
    {
     "name": "stdout",
     "output_type": "stream",
     "text": [
      "['exemplo@gmail.com', 'outro_email@gmail.com']\n"
     ]
    }
   ],
   "source": [
    "print(emails)"
   ]
  },
  {
   "cell_type": "code",
   "execution_count": 10,
   "id": "81b59b08-5cca-4240-b6a9-c59e3941787f",
   "metadata": {},
   "outputs": [],
   "source": [
    "text = \"O aluno aprendeu rapidamente e incrivelmente na DSA.\""
   ]
  },
  {
   "cell_type": "code",
   "execution_count": 11,
   "id": "fca1b356-2d04-4e93-b67b-d71626328b3c",
   "metadata": {},
   "outputs": [
    {
     "name": "stdout",
     "output_type": "stream",
     "text": [
      "17-28: rapidamente\n",
      "31-44: incrivelmente\n"
     ]
    }
   ],
   "source": [
    "# Extraindo os advébios da frase\n",
    "for m in re.finditer(r\"\\w+mente\\b\", text):\n",
    "    print('%2d-%2d: %s' % (m.start(), m.end(), m.group(0)))"
   ]
  },
  {
   "cell_type": "markdown",
   "id": "e0bf484c-0e34-4be6-b1f0-b2245a228b36",
   "metadata": {},
   "source": [
    "# REGEX com ChatGPT\n",
    "`Bênçãos Que Não Têm Fim`</br>\n",
    " `Canção de Isadora Pompeo`"
   ]
  },
  {
   "cell_type": "code",
   "execution_count": 12,
   "id": "860565bd-d80e-4998-8036-7fcd79fd8d27",
   "metadata": {},
   "outputs": [],
   "source": [
    "# Variável do tipo string\n",
    "musica = '''\n",
    "Ainda me lembro quando um milagre eu pedi\n",
    "Com pouca fé, sim, eu temi\n",
    "E hoje eu posso ver, foi muito além do meu pensar\n",
    "São tantas bênçãos pra contar\n",
    "Um, dois, três\n",
    "Bênçãos que não têm fim\n",
    "Perco as contas\n",
    "E agradeço o que fez por mim\n",
    "Deus, eu tenho tantas bênçãos\n",
    "Posso em minha vida enxergar\n",
    "Quanto mais vejo os detalhes\n",
    "Sua bondade posso encontrar\n",
    "Pai, e enquanto eu viver\n",
    "Sempre irei me lembrar\n",
    "Ainda que sejam infinitas\n",
    "Suas bênçãos, eu irei contar\n",
    "E nenhuma fase dura para sempre\n",
    "Por isso, eu não vou me esquecer\n",
    "Cada motivo que tenho pra ser grato\n",
    "Por ter sido tão fiel a mim\n",
    "Deus, eu tenho tantas bênçãos\n",
    "Posso em minha vida enxergar\n",
    "Quanto mais vejo os detalhes\n",
    "Sua bondade posso encontrar\n",
    "Pai, e enquanto eu viver\n",
    "Sempre irei me lembrar\n",
    "Ainda que sejam infinitas\n",
    "Suas bênçãos, eu irei contar\n",
    "Um, dois, três\n",
    "Bênçãos que não têm fim\n",
    "Perco as contas\n",
    "E agradeço o que fez por mim\n",
    "Deus, eu tenho tantas bênçãos\n",
    "Posso em minha vida enxergar\n",
    "Quanto mais vejo os detalhes\n",
    "Sua bondade posso encontrar\n",
    "Pai, e enquanto eu viver\n",
    "Sempre irei me lembrar\n",
    "Ainda que sejam infinitas\n",
    "Suas bênçãos, eu irei contar\n",
    "Ainda que sejam infinitas\n",
    "Suas bênçãos, eu irei contar\n",
    "'''"
   ]
  },
  {
   "cell_type": "code",
   "execution_count": 13,
   "id": "f4908141-f67e-49c7-80ac-8d30c0c08d3d",
   "metadata": {},
   "outputs": [
    {
     "name": "stdout",
     "output_type": "stream",
     "text": [
      "\n",
      "Ainda me lembro quando um milagre eu pedi\n",
      "Com pouca fé, sim, eu temi\n",
      "E hoje eu posso ver, foi muito além do meu pensar\n",
      "São tantas bênçãos pra contar\n",
      "Um, dois, três\n",
      "Bênçãos que não têm fim\n",
      "Perco as contas\n",
      "E agradeço o que fez por mim\n",
      "Deus, eu tenho tantas bênçãos\n",
      "Posso em minha vida enxergar\n",
      "Quanto mais vejo os detalhes\n",
      "Sua bondade posso encontrar\n",
      "Pai, e enquanto eu viver\n",
      "Sempre irei me lembrar\n",
      "Ainda que sejam infinitas\n",
      "Suas bênçãos, eu irei contar\n",
      "E nenhuma fase dura para sempre\n",
      "Por isso, eu não vou me esquecer\n",
      "Cada motivo que tenho pra ser grato\n",
      "Por ter sido tão fiel a mim\n",
      "Deus, eu tenho tantas bênçãos\n",
      "Posso em minha vida enxergar\n",
      "Quanto mais vejo os detalhes\n",
      "Sua bondade posso encontrar\n",
      "Pai, e enquanto eu viver\n",
      "Sempre irei me lembrar\n",
      "Ainda que sejam infinitas\n",
      "Suas bênçãos, eu irei contar\n",
      "Um, dois, três\n",
      "Bênçãos que não têm fim\n",
      "Perco as contas\n",
      "E agradeço o que fez por mim\n",
      "Deus, eu tenho tantas bênçãos\n",
      "Posso em minha vida enxergar\n",
      "Quanto mais vejo os detalhes\n",
      "Sua bondade posso encontrar\n",
      "Pai, e enquanto eu viver\n",
      "Sempre irei me lembrar\n",
      "Ainda que sejam infinitas\n",
      "Suas bênçãos, eu irei contar\n",
      "Ainda que sejam infinitas\n",
      "Suas bênçãos, eu irei contar\n",
      "\n"
     ]
    }
   ],
   "source": [
    "print(musica)"
   ]
  },
  {
   "cell_type": "code",
   "execution_count": 14,
   "id": "c9944a19-ab67-4cbc-8bf5-bb1d50be7be4",
   "metadata": {},
   "outputs": [],
   "source": [
    "# 1 - Crie um REGEX para contar quantas vezes o caracter \"a\" aparece em todo o texto da música.\n",
    "# 2 - Crie um REGEX em Python para contar quantaz vezes a palavra bençãos aparece na musica.\n",
    "# 3 - Crie um REGEX em Python para extrair as palavras seguidas por virgulas.\n",
    "# 4 - Crie um REGEX que extrai qualquer palavra cusjo antecessor seja a palvara \"bençãos\" e o sucessor seja a palavra \"que\"\n",
    "# 5 - Crie um REGEX que retorne as palavras com acento, mas somente os caracteres na palavra que são anteriores ao caracter \"s\""
   ]
  },
  {
   "cell_type": "code",
   "execution_count": 15,
   "id": "d0ace9b3-e449-4249-83e2-03d205c39b85",
   "metadata": {},
   "outputs": [
    {
     "name": "stdout",
     "output_type": "stream",
     "text": [
      "A quantidade de caracteres 'a' econtrados foram: 90\n"
     ]
    }
   ],
   "source": [
    "# 1 - Crie um REGEX para contar quantas vezes o caracter \"a\" aparece em todo o texto da música.\n",
    "resultado = re.findall(r'a', musica)\n",
    "print(\"A quantidade de caracteres 'a' econtrados foram:\", len(resultado))"
   ]
  },
  {
   "cell_type": "code",
   "execution_count": 16,
   "id": "5f213d7b-24d0-4969-95c8-a93017b20d91",
   "metadata": {},
   "outputs": [
    {
     "name": "stdout",
     "output_type": "stream",
     "text": [
      "O caractere \"a\" aparece 90 vezes na letra da música.\n"
     ]
    }
   ],
   "source": [
    "count = len(re.findall(\"a\", musica))\n",
    "print('O caractere \"a\" aparece', count, 'vezes na letra da música.')"
   ]
  },
  {
   "cell_type": "code",
   "execution_count": 17,
   "id": "ef9a74ff-b474-4473-b31d-a549210792b8",
   "metadata": {},
   "outputs": [
    {
     "name": "stdout",
     "output_type": "stream",
     "text": [
      "A quantidade de ocorrências da palavra \"bênçãos\" encontradas foram: 8\n"
     ]
    }
   ],
   "source": [
    "# 2 - Crie um REGEX em Python para contar quantaz vezes a palavra bençãos aparece na musica.\n",
    "bencaos = re.findall(r'\\bbênçãos\\b', musica)\n",
    "print('A quantidade de ocorrências da palavra \"bênçãos\" encontradas foram:',len(bencaos))"
   ]
  },
  {
   "cell_type": "code",
   "execution_count": 18,
   "id": "e6be5a66-8eb8-4baa-b52b-b3dd448bc5e1",
   "metadata": {},
   "outputs": [
    {
     "name": "stdout",
     "output_type": "stream",
     "text": [
      "A quantidade de ocorrências da palavra \"bênçãos\" encontradas foram: 10\n"
     ]
    }
   ],
   "source": [
    "def contar_bencaos(bencaos):\n",
    "    regex = r'\\bb[eê]n[cç][aã]os?\\b'\n",
    "    count = re.findall(regex, musica, re.IGNORECASE)\n",
    "    return len(count)\n",
    "quantidade = contar_bencaos(musica)\n",
    "print('A quantidade de ocorrências da palavra \"bênçãos\" encontradas foram:',quantidade)"
   ]
  },
  {
   "cell_type": "code",
   "execution_count": 19,
   "id": "293600a5-6f1c-4f96-983c-6f69fb50ee7d",
   "metadata": {},
   "outputs": [
    {
     "name": "stdout",
     "output_type": "stream",
     "text": [
      "As palavras seguidas de vírgula foram: ['fé', 'sim', 'ver', 'Um', 'dois', 'Deus', 'Pai', 'bênçãos', 'isso', 'Deus', 'Pai', 'bênçãos', 'Um', 'dois', 'Deus', 'Pai', 'bênçãos', 'bênçãos']\n"
     ]
    }
   ],
   "source": [
    "# 3 - Crie um REGEX em Python para extrair as palavras seguidas por virgulas.\n",
    "# Expressão regular para encontrar palavras seguidas de vírgula\n",
    "\n",
    "# Explicando o padrão r'\\b\\w+(?=,)':\n",
    "# \\b indica uma fronteira de palavra, garantindo que estamos correspondendo apenas palavras completas.\n",
    "# \\w+ corresponde a um ou mais caracteres alfanuméricos.\n",
    "# (?=,) é um lookahead positivo, que garante que a correspondência seja seguida por uma vírgula (mas a vírgula não é incluída na correspondência).\n",
    "virgula = r'\\b\\w+(?=,)'\n",
    "\n",
    "# Encontrando todas as correspondências no texto\n",
    "resultado = re.findall(virgula, musica)\n",
    "# Imprimindo os resultados encontrados\n",
    "print(\"As palavras seguidas de vírgula foram:\", resultado)\n"
   ]
  },
  {
   "cell_type": "code",
   "execution_count": 20,
   "id": "07cb3e40-ef34-45c3-8a7c-8a7614bfabba",
   "metadata": {},
   "outputs": [
    {
     "name": "stdout",
     "output_type": "stream",
     "text": [
      "As palvaras cujo antecessor é \"bênçãos\" e sucessor é \"não\" são: ['que', 'que']\n"
     ]
    }
   ],
   "source": [
    "# Crie um REGEX que extrai qualquer palavra cusjo antecessor seja a palvara \"bençãos\"\n",
    "# e o sucessor seja a palavra \"que\"\n",
    "\n",
    "# Expressão regular para extrair a palavra entre \"bençãos\" e \"que\"\n",
    "regex = r\"(?<=\\bBênçãos\\s)\\w+(?=\\snão\\b)\"\n",
    "\n",
    "# Usando re.findall para encontrar todas as ocorrências\n",
    "resultado = re.findall(regex, musica)\n",
    "\n",
    "# Imprimindo o resultado\n",
    "print('As palvaras cujo antecessor é \"bênçãos\" e sucessor é \"não\" são:',resultado) "
   ]
  },
  {
   "cell_type": "code",
   "execution_count": 21,
   "id": "7d8f3537-74b2-406c-93f9-6c4e7aac1a88",
   "metadata": {},
   "outputs": [
    {
     "name": "stdout",
     "output_type": "stream",
     "text": [
      "As palavras com acento são e o caracter anterior é \"s\" são: ['po', 'pe', 'tanta', 'bênção', 'doi', 'trê', 'Bênção', 'a', 'conta', 'Deu', 'tanta', 'bênção', 'Po', 'mai', 'o', 'detalhe', 'po', 'infinita', 'Sua', 'bênção', 'fa', 'i', 'e', 'Deu', 'tanta', 'bênção', 'Po', 'mai', 'o', 'detalhe', 'po', 'infinita', 'Sua', 'bênção', 'doi', 'trê', 'Bênção', 'a', 'conta', 'Deu', 'tanta', 'bênção', 'Po', 'mai', 'o', 'detalhe', 'po', 'infinita', 'Sua', 'bênção', 'infinita', 'Sua', 'bênção']\n"
     ]
    }
   ],
   "source": [
    "# 5 - Crie um REGEX que retorne as palavras com acento, mas somente os caracteres na palavra que \n",
    "# são anteriores ao caracter \"s\n",
    "regex = r'\\b(\\w*[aeiouáéíóúâêîôûãõçàèìòùäëïöü])(?=\\w*s)'\n",
    "\n",
    "# Usando re.findall para encontrar todas as ocorrências\n",
    "resultado = re.findall(regex, musica)\n",
    "\n",
    "# Imprimindo o resultado\n",
    "print('As palavras com acento são e o caracter anterior é \"s\" são:',resultado)"
   ]
  },
  {
   "cell_type": "code",
   "execution_count": 22,
   "id": "38beb9ca-cf7f-4a99-bf33-83fc506baff6",
   "metadata": {},
   "outputs": [
    {
     "name": "stdout",
     "output_type": "stream",
     "text": [
      "3\n"
     ]
    }
   ],
   "source": [
    "# REGEX para contar as palavras PAI, Pai e pai em todo o código\n",
    "regex = r'\\bPai\\b'\n",
    "resultado = re.findall(regex, musica, re.IGNORECASE)\n",
    "print(len(resultado))"
   ]
  },
  {
   "cell_type": "code",
   "execution_count": null,
   "id": "3f673ab8-27e0-46ff-99fe-156413560ca5",
   "metadata": {},
   "outputs": [],
   "source": []
  }
 ],
 "metadata": {
  "kernelspec": {
   "display_name": "Python 3 (ipykernel)",
   "language": "python",
   "name": "python3"
  },
  "language_info": {
   "codemirror_mode": {
    "name": "ipython",
    "version": 3
   },
   "file_extension": ".py",
   "mimetype": "text/x-python",
   "name": "python",
   "nbconvert_exporter": "python",
   "pygments_lexer": "ipython3",
   "version": "3.11.7"
  }
 },
 "nbformat": 4,
 "nbformat_minor": 5
}
