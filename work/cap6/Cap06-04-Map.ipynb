{
 "cells": [
  {
   "cell_type": "markdown",
   "id": "54064139-8bbc-4b04-8aa7-5259cca5dc5c",
   "metadata": {},
   "source": [
    "# Capítulo 6 - Função Map"
   ]
  },
  {
   "cell_type": "code",
   "execution_count": 29,
   "id": "3afc32f9-2f21-44ae-836c-759ccdeb7bed",
   "metadata": {},
   "outputs": [
    {
     "name": "stdout",
     "output_type": "stream",
     "text": [
      "A versão da lainguage Python usada neste Jupyter Notebook: 3.11.7\n"
     ]
    }
   ],
   "source": [
    "# Versão da Linguagem  Python\n",
    "from platform import python_version\n",
    "print('A versão da linguage Python usada neste Jupyter Notebook:', python_version())"
   ]
  },
  {
   "cell_type": "markdown",
   "id": "5fa1f87c-88ac-4eb3-9f97-303d30291281",
   "metadata": {},
   "source": [
    "# Função Map\n",
    "`A função map() em Python é uma função que aplica uma determinada função a cada elemento de uma estrutura de dados iterável (como uma lista, tupla ou outro objeto iterável). A função map() retorna um objeto que pode ser convertido em outra estrutura de dados, como uma lista, se necessário.`"
   ]
  },
  {
   "cell_type": "code",
   "execution_count": 30,
   "id": "d33136d6-e076-4920-b60a-22e5c0d414d6",
   "metadata": {},
   "outputs": [],
   "source": [
    "# Função Python que retorna um número ao quadrado\n",
    "def potencia(x):\n",
    "    return print(f'O quadrado de {x} é: ', x ** 2)"
   ]
  },
  {
   "cell_type": "code",
   "execution_count": 31,
   "id": "df95d191-8b63-410c-853c-2b9ae210008a",
   "metadata": {},
   "outputs": [
    {
     "name": "stdout",
     "output_type": "stream",
     "text": [
      "O quadrado de 1000 é:  1000000\n"
     ]
    }
   ],
   "source": [
    "potencia(1000)"
   ]
  },
  {
   "cell_type": "code",
   "execution_count": null,
   "id": "4e7fd4de-059e-44c7-af7e-0a41a20d8026",
   "metadata": {},
   "outputs": [],
   "source": []
  },
  {
   "cell_type": "code",
   "execution_count": 32,
   "id": "b35f2f44-d52c-4492-9251-cb83cce858cc",
   "metadata": {},
   "outputs": [],
   "source": [
    "numeros = [1,2,3,4,5]"
   ]
  },
  {
   "cell_type": "code",
   "execution_count": 33,
   "id": "eff0abb3-68bf-4281-8b35-a710a408d470",
   "metadata": {},
   "outputs": [
    {
     "name": "stdout",
     "output_type": "stream",
     "text": [
      "O quadrado de 1 é:  1\n",
      "O quadrado de 2 é:  4\n",
      "O quadrado de 3 é:  9\n",
      "O quadrado de 4 é:  16\n",
      "O quadrado de 5 é:  25\n"
     ]
    }
   ],
   "source": [
    "numeros_ao_quadrado = list(map(potencia, numeros))"
   ]
  },
  {
   "cell_type": "code",
   "execution_count": 34,
   "id": "df776047-4565-4305-a27b-111d6ecbf09f",
   "metadata": {},
   "outputs": [],
   "source": [
    "# Criando duas funções\n",
    "# Função 1 - Recebe uma temperatura como parâmetro e retorna a temperatura em Fahrenheit\n",
    "def fahrenheit(T):\n",
    "    return ((float(9)/5)*T + 32)\n",
    "# Função 2 - Recebe uma temperatura como parâmetro e retorna a temperatura em Celsius\n",
    "def celsius(T):\n",
    "    return (float(5)/9)*(T-32)"
   ]
  },
  {
   "cell_type": "code",
   "execution_count": 35,
   "id": "f22916ff-8822-468d-bcb9-fd8f4ac6124a",
   "metadata": {},
   "outputs": [],
   "source": [
    "# Criando uma lista\n",
    "temperaturas = [0, 22.5, 40, 100]\n"
   ]
  },
  {
   "cell_type": "code",
   "execution_count": 36,
   "id": "eea086fb-6f27-4fec-8178-925e080aae4e",
   "metadata": {},
   "outputs": [
    {
     "data": {
      "text/plain": [
       "<map at 0x7ca752209690>"
      ]
     },
     "execution_count": 36,
     "metadata": {},
     "output_type": "execute_result"
    }
   ],
   "source": [
    "# Aplicando a função a cada elemento da lista de temperaturas.\n",
    "# Em python 3, a função map() retorna um iterator\n",
    "map(fahrenheit, temperaturas)"
   ]
  },
  {
   "cell_type": "code",
   "execution_count": 37,
   "id": "a8992346-ecf0-4ccd-970f-5c7ed33d7e70",
   "metadata": {},
   "outputs": [
    {
     "data": {
      "text/plain": [
       "[32.0, 72.5, 104.0, 212.0]"
      ]
     },
     "execution_count": 37,
     "metadata": {},
     "output_type": "execute_result"
    }
   ],
   "source": [
    "# Função map() retornando a lista de temperaturas convertidas em Fahrenheit\n",
    "list(map(fahrenheit, temperaturas))"
   ]
  },
  {
   "cell_type": "code",
   "execution_count": 38,
   "id": "e34b4e33-660f-4304-a462-64ea7fa1e417",
   "metadata": {},
   "outputs": [
    {
     "name": "stdout",
     "output_type": "stream",
     "text": [
      "A temperatura convertida para Fahrenheit é: 32.0\n",
      "A temperatura convertida para Fahrenheit é: 72.5\n",
      "A temperatura convertida para Fahrenheit é: 104.0\n",
      "A temperatura convertida para Fahrenheit é: 212.0\n"
     ]
    }
   ],
   "source": [
    "# Usando um loop for para imprimir o resultado da função map()\n",
    "for temp in map(fahrenheit, temperaturas):\n",
    "    print(f'A temperatura convertida para Fahrenheit é:', temp)"
   ]
  },
  {
   "cell_type": "code",
   "execution_count": 39,
   "id": "d5adc201-0adb-4563-bc2d-9e8661626415",
   "metadata": {},
   "outputs": [
    {
     "data": {
      "text/plain": [
       "<map at 0x7ca752217c70>"
      ]
     },
     "execution_count": 39,
     "metadata": {},
     "output_type": "execute_result"
    }
   ],
   "source": [
    "# Convertendo para Celsius\n",
    "map(celsius, temperaturas)"
   ]
  },
  {
   "cell_type": "code",
   "execution_count": 40,
   "id": "b0cdef4a-02d2-4a89-b9df-bdd0979bc8b0",
   "metadata": {},
   "outputs": [
    {
     "data": {
      "text/plain": [
       "[-17.77777777777778, -5.277777777777778, 4.444444444444445, 37.77777777777778]"
      ]
     },
     "execution_count": 40,
     "metadata": {},
     "output_type": "execute_result"
    }
   ],
   "source": [
    "list(map(celsius, temperaturas))"
   ]
  },
  {
   "cell_type": "code",
   "execution_count": 41,
   "id": "74137a31-3ad4-4988-84c2-e9a3919d7216",
   "metadata": {},
   "outputs": [
    {
     "data": {
      "text/plain": [
       "<map at 0x7ca7522098a0>"
      ]
     },
     "execution_count": 41,
     "metadata": {},
     "output_type": "execute_result"
    }
   ],
   "source": [
    "# Usando expressão lambda\n",
    "map(lambda x: (5.0/9)*(x - 32), temperaturas)"
   ]
  },
  {
   "cell_type": "code",
   "execution_count": 42,
   "id": "6274f30c-5b0f-43b7-b949-1c8d19d4ae13",
   "metadata": {},
   "outputs": [
    {
     "data": {
      "text/plain": [
       "[-17.77777777777778, -5.277777777777778, 4.444444444444445, 37.77777777777778]"
      ]
     },
     "execution_count": 42,
     "metadata": {},
     "output_type": "execute_result"
    }
   ],
   "source": [
    "list(map(lambda x: (5.0/9) * (x - 32), temperaturas))"
   ]
  },
  {
   "cell_type": "code",
   "execution_count": 43,
   "id": "2e1c08da-e52c-4402-9e50-9b1750793f98",
   "metadata": {},
   "outputs": [],
   "source": [
    "# Somando os elementos de 2 listas\n",
    "a = [1,2,3,4]\n",
    "b = [5,6,7,8]"
   ]
  },
  {
   "cell_type": "code",
   "execution_count": 45,
   "id": "8e12aafe-277e-461e-a4c6-d961ec5bf357",
   "metadata": {},
   "outputs": [
    {
     "data": {
      "text/plain": [
       "[6, 8, 10, 12]"
      ]
     },
     "execution_count": 45,
     "metadata": {},
     "output_type": "execute_result"
    }
   ],
   "source": [
    "list(map(lambda x,y : x + y, a, b))"
   ]
  },
  {
   "cell_type": "code",
   "execution_count": 47,
   "id": "06fe3385-0960-497a-892a-403585cfc6d4",
   "metadata": {},
   "outputs": [],
   "source": [
    "# Somando os elementos de 3 listas\n",
    "a = [1,2,3,4]\n",
    "b = [5,6,7,8]\n",
    "c = [9,10,11,12]"
   ]
  },
  {
   "cell_type": "code",
   "execution_count": 48,
   "id": "029ff277-0690-457d-b547-c840223fdfee",
   "metadata": {},
   "outputs": [
    {
     "data": {
      "text/plain": [
       "[15, 18, 21, 24]"
      ]
     },
     "execution_count": 48,
     "metadata": {},
     "output_type": "execute_result"
    }
   ],
   "source": [
    "list(map(lambda x,y, z: x + y + z, a, b, c))"
   ]
  },
  {
   "cell_type": "code",
   "execution_count": null,
   "id": "e5b62f35-bf62-4288-bdda-841bd06ce1d2",
   "metadata": {},
   "outputs": [],
   "source": []
  }
 ],
 "metadata": {
  "kernelspec": {
   "display_name": "Python 3 (ipykernel)",
   "language": "python",
   "name": "python3"
  },
  "language_info": {
   "codemirror_mode": {
    "name": "ipython",
    "version": 3
   },
   "file_extension": ".py",
   "mimetype": "text/x-python",
   "name": "python",
   "nbconvert_exporter": "python",
   "pygments_lexer": "ipython3",
   "version": "3.11.7"
  }
 },
 "nbformat": 4,
 "nbformat_minor": 5
}
