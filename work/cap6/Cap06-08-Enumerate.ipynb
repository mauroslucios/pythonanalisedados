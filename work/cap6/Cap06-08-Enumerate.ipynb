{
 "cells": [
  {
   "cell_type": "markdown",
   "id": "c12eedc4-f95c-4cd3-9448-3486c3ef0263",
   "metadata": {},
   "source": [
    "# Capítulo 6 - Função \n",
    "´A função enumerate() em Python é ua funçao que permite iterar sobre uma estrutura de dados (como uma lista, tupla ou outro objeto iterável(). a função enumerate() retorna um objeto enumerado, que pode ser usado em loops para percorrer a estrutura de dados e acessar o contador e o valor de cada elemento.´"
   ]
  },
  {
   "cell_type": "code",
   "execution_count": 1,
   "id": "59edbcfc-1a7a-48a5-ba15-f1450bee5801",
   "metadata": {},
   "outputs": [
    {
     "name": "stdout",
     "output_type": "stream",
     "text": [
      "Versão da linguagem Python usada neste Jupyter Notebook 3.11.7\n"
     ]
    }
   ],
   "source": [
    "# Versão da Linguagem Pyhton\n",
    "from platform import python_version\n",
    "print(f'Versão da linguagem Python usada neste Jupyter Notebook', python_version())"
   ]
  },
  {
   "cell_type": "code",
   "execution_count": 2,
   "id": "8a253b76-bfea-4308-8bfa-465453f81f05",
   "metadata": {},
   "outputs": [],
   "source": [
    "# Criando uma lista\n",
    "seq = ['a','b','c']"
   ]
  },
  {
   "cell_type": "code",
   "execution_count": 3,
   "id": "8c7f6ecb-7484-4bbf-b039-0e8a6d01b7d1",
   "metadata": {},
   "outputs": [
    {
     "data": {
      "text/plain": [
       "<enumerate at 0x746711df8e50>"
      ]
     },
     "execution_count": 3,
     "metadata": {},
     "output_type": "execute_result"
    }
   ],
   "source": [
    "enumerate(seq)"
   ]
  },
  {
   "cell_type": "code",
   "execution_count": 4,
   "id": "d78f7471-8d2a-428a-a49d-22829440cc09",
   "metadata": {},
   "outputs": [
    {
     "data": {
      "text/plain": [
       "[(0, 'a'), (1, 'b'), (2, 'c')]"
      ]
     },
     "execution_count": 4,
     "metadata": {},
     "output_type": "execute_result"
    }
   ],
   "source": [
    "list(enumerate(seq))"
   ]
  },
  {
   "cell_type": "code",
   "execution_count": 5,
   "id": "11d98d0f-d772-4561-b9f6-40fcb83bb2b6",
   "metadata": {},
   "outputs": [],
   "source": [
    "# Imprimindo os valores de uma lista com a função enumerate() e seus respectivos valores"
   ]
  },
  {
   "cell_type": "code",
   "execution_count": 8,
   "id": "e4bf16bc-0a8b-45f5-94ed-857a1928b19a",
   "metadata": {},
   "outputs": [
    {
     "name": "stdout",
     "output_type": "stream",
     "text": [
      "0 a\n",
      "1 b\n",
      "2 c\n"
     ]
    }
   ],
   "source": [
    "for indice, valor in enumerate(seq):\n",
    "    print(indice, valor)"
   ]
  },
  {
   "cell_type": "code",
   "execution_count": 9,
   "id": "94ef8e17-411c-4646-aded-f3a2b608b8e3",
   "metadata": {},
   "outputs": [
    {
     "name": "stdout",
     "output_type": "stream",
     "text": [
      "a\n",
      "b\n"
     ]
    }
   ],
   "source": [
    "for indice, valor in enumerate(seq):\n",
    "    if indice >= 2:\n",
    "        break\n",
    "    else:\n",
    "        print(valor)"
   ]
  },
  {
   "cell_type": "code",
   "execution_count": 10,
   "id": "12c5fa19-4455-404e-aada-a693e13164d1",
   "metadata": {},
   "outputs": [],
   "source": [
    "lista = ['Marketing','Tecnologia','Business']"
   ]
  },
  {
   "cell_type": "code",
   "execution_count": 11,
   "id": "fa0b647a-a426-4827-b55b-13e7737917ac",
   "metadata": {},
   "outputs": [
    {
     "name": "stdout",
     "output_type": "stream",
     "text": [
      "0 Marketing\n",
      "1 Tecnologia\n",
      "2 Business\n"
     ]
    }
   ],
   "source": [
    "for i, item in enumerate(lista):\n",
    "    print(i , item)"
   ]
  },
  {
   "cell_type": "code",
   "execution_count": 12,
   "id": "f09f1805-345a-46b3-b12f-6b7f9b56a36b",
   "metadata": {},
   "outputs": [
    {
     "name": "stdout",
     "output_type": "stream",
     "text": [
      "0 D\n",
      "1 a\n",
      "2 t\n",
      "3 a\n",
      "4  \n",
      "5 S\n",
      "6 c\n",
      "7 i\n",
      "8 e\n",
      "9 n\n",
      "10 c\n",
      "11 e\n",
      "12  \n",
      "13 A\n",
      "14 c\n",
      "15 a\n",
      "16 d\n",
      "17 e\n",
      "18 m\n",
      "19 y\n"
     ]
    }
   ],
   "source": [
    "for i, item in enumerate('Data Science Academy'):\n",
    "    print(i, item)"
   ]
  },
  {
   "cell_type": "code",
   "execution_count": null,
   "id": "9e70941d-0f58-4325-b777-f41c3f77cc17",
   "metadata": {},
   "outputs": [],
   "source": []
  }
 ],
 "metadata": {
  "kernelspec": {
   "display_name": "Python 3 (ipykernel)",
   "language": "python",
   "name": "python3"
  },
  "language_info": {
   "codemirror_mode": {
    "name": "ipython",
    "version": 3
   },
   "file_extension": ".py",
   "mimetype": "text/x-python",
   "name": "python",
   "nbconvert_exporter": "python",
   "pygments_lexer": "ipython3",
   "version": "3.11.7"
  }
 },
 "nbformat": 4,
 "nbformat_minor": 5
}
