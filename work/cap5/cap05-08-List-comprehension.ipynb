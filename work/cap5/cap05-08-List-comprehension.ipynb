{
 "cells": [
  {
   "cell_type": "markdown",
   "id": "185371c8-1fc8-4692-8da9-79c066200048",
   "metadata": {},
   "source": [
    "# List Comprehension"
   ]
  },
  {
   "cell_type": "code",
   "execution_count": 2,
   "id": "c79f06bc-3388-4d08-a4e7-21cb1572e59e",
   "metadata": {},
   "outputs": [
    {
     "name": "stdout",
     "output_type": "stream",
     "text": [
      "Versão Python usada nest Jupyter Notebook 3.11.7\n"
     ]
    }
   ],
   "source": [
    "from platform import python_version\n",
    "print(f'Versão Python usada nest Jupyter Notebook',python_version())"
   ]
  },
  {
   "cell_type": "code",
   "execution_count": 3,
   "id": "307a9b67-e8c4-4267-9fcc-e1621862a631",
   "metadata": {},
   "outputs": [
    {
     "data": {
      "text/plain": [
       "[0, 1, 2, 3, 4, 5, 6, 7, 8, 9]"
      ]
     },
     "execution_count": 3,
     "metadata": {},
     "output_type": "execute_result"
    }
   ],
   "source": [
    "# List comprehension que imprime os números até 10\n",
    "[x for x in range(10)]"
   ]
  },
  {
   "cell_type": "code",
   "execution_count": 6,
   "id": "50ce56c9-c4aa-4c80-8912-4e541da3fdb0",
   "metadata": {},
   "outputs": [],
   "source": [
    "# List comprehension que imprime os números até 10 e grava em uma lista Python\n",
    "lista_numeros = [x for x in  range(10)]"
   ]
  },
  {
   "cell_type": "code",
   "execution_count": 7,
   "id": "c2c17103-27fd-4d00-84c3-b2e5ac81f6b3",
   "metadata": {},
   "outputs": [
    {
     "name": "stdout",
     "output_type": "stream",
     "text": [
      "[0, 1, 2, 3, 4, 5, 6, 7, 8, 9]\n"
     ]
    }
   ],
   "source": [
    "print(lista_numeros)"
   ]
  },
  {
   "cell_type": "code",
   "execution_count": 9,
   "id": "5e0f7c82-bf6b-4eec-af52-a1faa7dcc2b9",
   "metadata": {},
   "outputs": [
    {
     "name": "stdout",
     "output_type": "stream",
     "text": [
      "[0, 1, 2, 3, 4]\n"
     ]
    }
   ],
   "source": [
    "# List comprehension que imprime os números menores que 5 em um intervalo de 1 a 10\n",
    "lista_numeros = [ x for x in range(10) if x < 5]\n",
    "print(lista_numeros)"
   ]
  },
  {
   "cell_type": "code",
   "execution_count": 10,
   "id": "99865b9e-e8c9-4518-9fc7-7b37ad3de29b",
   "metadata": {},
   "outputs": [],
   "source": [
    "# Lista de frutas\n",
    "lista_frutas = [\"banana\",\"abacate\",\"melancia\",\"cereja\",\"manga\"]\n",
    "\n",
    "# Nova Lista\n",
    "nova_lista = []"
   ]
  },
  {
   "cell_type": "code",
   "execution_count": 11,
   "id": "eefeffb6-9800-471d-bcb7-2b7d0bf8faf2",
   "metadata": {},
   "outputs": [
    {
     "name": "stdout",
     "output_type": "stream",
     "text": [
      "['melancia', 'manga']\n"
     ]
    }
   ],
   "source": [
    "# Loop tradicional para buscar as palavras com letra \"m\"\n",
    "for x in lista_frutas:\n",
    "    if \"m\" in x:\n",
    "        nova_lista.append(x)\n",
    "print(nova_lista)"
   ]
  },
  {
   "cell_type": "code",
   "execution_count": 12,
   "id": "18eabcef-e3a0-4710-a50c-45db7b6eb6a4",
   "metadata": {},
   "outputs": [
    {
     "name": "stdout",
     "output_type": "stream",
     "text": [
      "['melancia', 'manga']\n"
     ]
    }
   ],
   "source": [
    "# Mesmo resultado anterior mas com list comprehension\n",
    "nova_lista = [x for x in lista_frutas if \"m\" in x]\n",
    "print(nova_lista)"
   ]
  },
  {
   "cell_type": "code",
   "execution_count": 13,
   "id": "0925ea24-9b3e-42ce-bbfc-039073a9362f",
   "metadata": {},
   "outputs": [
    {
     "name": "stdout",
     "output_type": "stream",
     "text": [
      "{'Bob': 68, 'Michel': 84, 'José': 57, 'Ana': 93}\n"
     ]
    }
   ],
   "source": [
    "# Dict comprehension\n",
    "# Dicionário de alunos e notas\n",
    "dict_alunos = {'Bob':68, 'Michel':84, 'José':57, 'Ana':93}\n",
    "\n",
    "# Criamos um novo dicionário imprimindo os pares de chave:valor\n",
    "dict_alunos_status = {k:v for(k,v) in dict_alunos.items()}\n",
    "print(dict_alunos_status)"
   ]
  },
  {
   "cell_type": "code",
   "execution_count": 14,
   "id": "fbc627b6-8f16-4397-a9c8-9a08736accf7",
   "metadata": {},
   "outputs": [
    {
     "name": "stdout",
     "output_type": "stream",
     "text": [
      "{'Bob': 'Reprovado', 'Michel': 'Aprovado', 'Carlos': 'Reprovado', 'Ana': 'Aprovado'}\n"
     ]
    }
   ],
   "source": [
    "# Dict comprehension\n",
    "# Dicionário de alunos e notas\n",
    "dict_alunos = {'Bob': 68, 'Michel': 84, 'Carlos':57, 'Ana':93}\n",
    "\n",
    "# Criamos um novo dicionário com o status: nota maior que 70, aprovado, senão, reprovado\n",
    "dict_alunos_status = {k: ('Aprovado' if v > 70 else 'Reprovado') for(k,v) in dict_alunos.items()}\n",
    "print(dict_alunos_status)"
   ]
  },
  {
   "cell_type": "code",
   "execution_count": null,
   "id": "80032793-4951-44ce-b150-bf3fec84bdf6",
   "metadata": {},
   "outputs": [],
   "source": []
  }
 ],
 "metadata": {
  "kernelspec": {
   "display_name": "Python 3 (ipykernel)",
   "language": "python",
   "name": "python3"
  },
  "language_info": {
   "codemirror_mode": {
    "name": "ipython",
    "version": 3
   },
   "file_extension": ".py",
   "mimetype": "text/x-python",
   "name": "python",
   "nbconvert_exporter": "python",
   "pygments_lexer": "ipython3",
   "version": "3.11.7"
  }
 },
 "nbformat": 4,
 "nbformat_minor": 5
}
