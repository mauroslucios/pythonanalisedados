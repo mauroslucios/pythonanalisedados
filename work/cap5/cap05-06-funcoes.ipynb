{
 "cells": [
  {
   "cell_type": "markdown",
   "id": "bca68ff6-b328-4ab9-8332-79df35025e24",
   "metadata": {},
   "source": [
    "# Capítulo 5 - Funções\n",
    "`É um bloco de código que pode ser chamdo várias vezes, fazendo chamada aquela função.\n",
    "Quando função faz parte de uma classe é chamada de método`"
   ]
  },
  {
   "cell_type": "code",
   "execution_count": 1,
   "id": "317907ea-7af0-4dd0-ba1e-7fccad67b32f",
   "metadata": {},
   "outputs": [
    {
     "name": "stdout",
     "output_type": "stream",
     "text": [
      "Versão do Python usada neste Jupyter Notebbok 3.11.7\n"
     ]
    }
   ],
   "source": [
    "# Versão da Línguagem Python\n",
    "from platform import python_version\n",
    "print(f'Versão do Python usada neste Jupyter Notebbok {python_version()}')"
   ]
  },
  {
   "cell_type": "markdown",
   "id": "b2cc4146-835b-48cf-82ea-34a09bc77002",
   "metadata": {},
   "source": [
    "# Funções"
   ]
  },
  {
   "cell_type": "code",
   "execution_count": 42,
   "id": "39b3a7eb-b5a4-429a-a910-28f55ac5fc96",
   "metadata": {},
   "outputs": [
    {
     "name": "stdout",
     "output_type": "stream",
     "text": [
      "Hello World\n"
     ]
    }
   ],
   "source": [
    "print('Hello World')"
   ]
  },
  {
   "cell_type": "code",
   "execution_count": 14,
   "id": "65d5e411-efda-4be6-bf3b-73defdee7ad1",
   "metadata": {},
   "outputs": [
    {
     "name": "stdout",
     "output_type": "stream",
     "text": [
      "Hello World\n"
     ]
    }
   ],
   "source": [
    "# Definindo uma função \n",
    "# Para definir uma função usamos a palavra reservada def\n",
    "# Abaixo criando uma função ou seja um objeto\n",
    "def primeiraFunc():\n",
    "    # Usando a função do Python print()\n",
    "    print('Hello World')\n",
    "primeiraFunc()"
   ]
  },
  {
   "cell_type": "code",
   "execution_count": 15,
   "id": "7000b530-7e93-4a69-ba10-63db84ecb53b",
   "metadata": {},
   "outputs": [],
   "source": [
    "# Definindo uma função\n",
    "def segundaFunc():\n",
    "    nome = 'Mauro'\n",
    "    print('Hello %s!' %(nome))"
   ]
  },
  {
   "cell_type": "code",
   "execution_count": 16,
   "id": "d3b35d31-e5ca-4378-a5f2-d78deab2fc38",
   "metadata": {},
   "outputs": [
    {
     "name": "stdout",
     "output_type": "stream",
     "text": [
      "Hello Mauro!\n"
     ]
    }
   ],
   "source": [
    "# Chamando a função segundaFunc()\n",
    "segundaFunc()"
   ]
  },
  {
   "cell_type": "code",
   "execution_count": 17,
   "id": "bc33f08c-5299-46a0-8663-91f3e59e5cd3",
   "metadata": {},
   "outputs": [],
   "source": [
    "# Definindo uma função com parâmetro\n",
    "def terceiraFunc(nome):\n",
    "    print('Hello %s!' %(nome))"
   ]
  },
  {
   "cell_type": "code",
   "execution_count": 18,
   "id": "64198ed5-e0dc-4e77-9072-245a16179437",
   "metadata": {},
   "outputs": [
    {
     "name": "stdout",
     "output_type": "stream",
     "text": [
      "Hello Mauro!\n"
     ]
    }
   ],
   "source": [
    "# Chamando a função terceiraFunc()\n",
    "terceiraFunc('Mauro')"
   ]
  },
  {
   "cell_type": "code",
   "execution_count": 19,
   "id": "f842baff-c3d4-4a3b-b89a-6a8188692681",
   "metadata": {},
   "outputs": [],
   "source": [
    "# Criando uma função para imprimir números\n",
    "def imprimirNumeros():\n",
    "    # Loop\n",
    "    for i in range(0,5):\n",
    "        print(f'Número: ' + str(i))"
   ]
  },
  {
   "cell_type": "code",
   "execution_count": 20,
   "id": "50d00cfe-ee8c-4368-b3e0-1e8cd5acf417",
   "metadata": {},
   "outputs": [
    {
     "name": "stdout",
     "output_type": "stream",
     "text": [
      "Número: 0\n",
      "Número: 1\n",
      "Número: 2\n",
      "Número: 3\n",
      "Número: 4\n"
     ]
    }
   ],
   "source": [
    "# Chamando a função imprimirNumero()\n",
    "imprimirNumeros()"
   ]
  },
  {
   "cell_type": "code",
   "execution_count": 21,
   "id": "321f97e6-ec21-4b9f-bab8-55e135a13576",
   "metadata": {},
   "outputs": [],
   "source": [
    "# Função para somar números\n",
    "# Esta função receberá 2 parâmetros\n",
    "def somaNum(firstNum, secondNum):\n",
    "    print('Primeiro número: ' + str(firstNum))\n",
    "    print('Segundo número: ' + str(secondNum))\n",
    "    print(f'A soma de {firstNum} + {secondNum} = ', firstNum + secondNum)"
   ]
  },
  {
   "cell_type": "code",
   "execution_count": 22,
   "id": "51381cb5-45e7-44ef-a392-2875f1f74278",
   "metadata": {},
   "outputs": [
    {
     "name": "stdout",
     "output_type": "stream",
     "text": [
      "Primeiro número: 10\n",
      "Segundo número: 50\n",
      "A soma de 10 + 50 =  60\n",
      "None\n"
     ]
    }
   ],
   "source": [
    "# Chamando  função somaNum() e passando parâmetros para a função\n",
    "print(somaNum(10,50))"
   ]
  },
  {
   "cell_type": "code",
   "execution_count": 23,
   "id": "c1578c94-190e-474e-9a16-2da84303884c",
   "metadata": {},
   "outputs": [],
   "source": [
    "# Função com número de argumentos variável\n",
    "def printVarInfo(arg1, *vartuple):\n",
    "    # Imprimindo o valor do primeiro argumento\n",
    "    print(\"O parâmetro passado foi: \", arg1)\n",
    "    # Imprimindo o valor do segundo argumento\n",
    "    for item in vartuple:\n",
    "        print(\"O parâmentro passado foi:\", item)\n",
    "    return;"
   ]
  },
  {
   "cell_type": "code",
   "execution_count": 24,
   "id": "f6bee468-17d8-472b-be43-a52600df7416",
   "metadata": {},
   "outputs": [
    {
     "name": "stdout",
     "output_type": "stream",
     "text": [
      "O parâmetro passado foi:  10\n"
     ]
    }
   ],
   "source": [
    "# Fazendo chamada à função usando apenas 1 argumento\n",
    "printVarInfo(10)"
   ]
  },
  {
   "cell_type": "code",
   "execution_count": 25,
   "id": "ccbe353f-b1f2-4755-838b-413d85c54cae",
   "metadata": {},
   "outputs": [
    {
     "name": "stdout",
     "output_type": "stream",
     "text": [
      "O parâmetro passado foi:  Chocolate\n",
      "O parâmentro passado foi: Morango\n"
     ]
    }
   ],
   "source": [
    "# Fazendo chamada à função usando 2 argumento\n",
    "printVarInfo('Chocolate','Morango')"
   ]
  },
  {
   "cell_type": "code",
   "execution_count": 26,
   "id": "f10c2980-0176-4ad1-a3a6-5537a61ce36a",
   "metadata": {},
   "outputs": [
    {
     "name": "stdout",
     "output_type": "stream",
     "text": [
      "O parâmetro passado foi:  Data\n",
      "O parâmentro passado foi: Science\n",
      "O parâmentro passado foi: Academy\n"
     ]
    }
   ],
   "source": [
    "# Fazendo chamada à função usando mais de 2 argumento\n",
    "printVarInfo('Data','Science','Academy')"
   ]
  },
  {
   "cell_type": "markdown",
   "id": "419e29e9-1450-4125-9b45-19b354f29645",
   "metadata": {},
   "source": [
    "# Escopo de Variável - Local e Global"
   ]
  },
  {
   "cell_type": "markdown",
   "id": "cc2947ec-bc84-4620-a826-7aaf061fe612",
   "metadata": {},
   "source": [
    " ## Atenção! Não use o mesmo nome de variável global e local"
   ]
  },
  {
   "cell_type": "code",
   "execution_count": 28,
   "id": "0392e745-a01a-41b7-95e0-f4630376cab6",
   "metadata": {},
   "outputs": [
    {
     "name": "stdout",
     "output_type": "stream",
     "text": [
      "125\n"
     ]
    }
   ],
   "source": [
    "multiplica_numeros(5,25)"
   ]
  },
  {
   "cell_type": "code",
   "execution_count": 29,
   "id": "781eac38-ad12-47ca-93f5-25247458e147",
   "metadata": {},
   "outputs": [
    {
     "name": "stdout",
     "output_type": "stream",
     "text": [
      "10\n"
     ]
    }
   ],
   "source": [
    "print(var_global)"
   ]
  },
  {
   "cell_type": "code",
   "execution_count": 36,
   "id": "007ede3d-42c7-4232-9c5e-7c3e0a69466d",
   "metadata": {},
   "outputs": [],
   "source": [
    "# Variável Global\n",
    "var_global = 10 # Está é uma variável global\n",
    "\n",
    "# Função\n",
    "def multiplica_numeros(num1,num2):\n",
    "    var_local = num1 * num2\n",
    "    print(var_local)"
   ]
  },
  {
   "cell_type": "code",
   "execution_count": 37,
   "id": "4d64a16d-4f1e-4ff4-a7fe-262d5e16c693",
   "metadata": {},
   "outputs": [
    {
     "name": "stdout",
     "output_type": "stream",
     "text": [
      "125\n"
     ]
    }
   ],
   "source": [
    "multiplica_numeros(5,25)"
   ]
  },
  {
   "cell_type": "code",
   "execution_count": 39,
   "id": "a8bb052b-1752-49c7-953a-3190bc49ab90",
   "metadata": {},
   "outputs": [
    {
     "name": "stdout",
     "output_type": "stream",
     "text": [
      "10\n"
     ]
    }
   ],
   "source": [
    "print(var_global)"
   ]
  },
  {
   "cell_type": "markdown",
   "id": "ada31449-011e-4f01-8e98-0f5fe795332e",
   "metadata": {},
   "source": [
    "# Funções Built-In"
   ]
  },
  {
   "cell_type": "code",
   "execution_count": 1,
   "id": "1eec614a-67da-4c04-9890-708c655570cb",
   "metadata": {},
   "outputs": [
    {
     "data": {
      "text/plain": [
       "56"
      ]
     },
     "execution_count": 1,
     "metadata": {},
     "output_type": "execute_result"
    }
   ],
   "source": [
    "abs(-56)"
   ]
  },
  {
   "cell_type": "code",
   "execution_count": 2,
   "id": "80047b37-d69f-492b-9af3-79673ea5fc70",
   "metadata": {},
   "outputs": [
    {
     "data": {
      "text/plain": [
       "23"
      ]
     },
     "execution_count": 2,
     "metadata": {},
     "output_type": "execute_result"
    }
   ],
   "source": [
    "abs(23)"
   ]
  },
  {
   "cell_type": "code",
   "execution_count": 3,
   "id": "7e056a33-8b07-4867-9604-001b3357d9c1",
   "metadata": {},
   "outputs": [
    {
     "data": {
      "text/plain": [
       "False"
      ]
     },
     "execution_count": 3,
     "metadata": {},
     "output_type": "execute_result"
    }
   ],
   "source": [
    "bool(0)"
   ]
  },
  {
   "cell_type": "code",
   "execution_count": 4,
   "id": "3b18b03b-4963-4b41-aa08-8bb5adbf7905",
   "metadata": {},
   "outputs": [
    {
     "data": {
      "text/plain": [
       "True"
      ]
     },
     "execution_count": 4,
     "metadata": {},
     "output_type": "execute_result"
    }
   ],
   "source": [
    "bool(1)"
   ]
  },
  {
   "cell_type": "code",
   "execution_count": 6,
   "id": "5e8206d8-4357-4fa5-a339-b7ed990255e6",
   "metadata": {},
   "outputs": [
    {
     "data": {
      "text/plain": [
       "4"
      ]
     },
     "execution_count": 6,
     "metadata": {},
     "output_type": "execute_result"
    }
   ],
   "source": [
    "int(4.3)"
   ]
  },
  {
   "cell_type": "code",
   "execution_count": 7,
   "id": "7bb88414-9fe6-4160-8452-db8dc78504c2",
   "metadata": {},
   "outputs": [
    {
     "data": {
      "text/plain": [
       "'13'"
      ]
     },
     "execution_count": 7,
     "metadata": {},
     "output_type": "execute_result"
    }
   ],
   "source": [
    "str(13)"
   ]
  },
  {
   "cell_type": "code",
   "execution_count": 8,
   "id": "af850a22-8350-431c-adc6-426c4fefc42e",
   "metadata": {},
   "outputs": [
    {
     "data": {
      "text/plain": [
       "5.0"
      ]
     },
     "execution_count": 8,
     "metadata": {},
     "output_type": "execute_result"
    }
   ],
   "source": [
    "float(5)"
   ]
  },
  {
   "cell_type": "code",
   "execution_count": 14,
   "id": "274ae122-88fc-4430-ae90-f53cc38c3b8c",
   "metadata": {},
   "outputs": [
    {
     "name": "stdin",
     "output_type": "stream",
     "text": [
      "Digite sua idade: 54\n"
     ]
    },
    {
     "name": "stdout",
     "output_type": "stream",
     "text": [
      "Você pode acessar Redes Sociais com supervisão!\n"
     ]
    }
   ],
   "source": [
    "# Erro ao executar por causa da conversão\n",
    "idade = int(input(\"Digite sua idade:\"))\n",
    "if idade > 13:\n",
    "    print(\"Você pode acessar Redes Sociais com supervisão!\")\n",
    "else:\n",
    "    print(\"Seus pais não deveriam deixar você acessar Redes Sociais sem supervisão!\")"
   ]
  },
  {
   "cell_type": "code",
   "execution_count": 1,
   "id": "b9bcdbed-6aa3-4240-a923-82e4dba435b0",
   "metadata": {},
   "outputs": [
    {
     "data": {
      "text/plain": [
       "26"
      ]
     },
     "execution_count": 1,
     "metadata": {},
     "output_type": "execute_result"
    }
   ],
   "source": [
    "int(\"26\")"
   ]
  },
  {
   "cell_type": "code",
   "execution_count": 2,
   "id": "2a476758-19ec-4636-a744-d056979a4821",
   "metadata": {},
   "outputs": [
    {
     "data": {
      "text/plain": [
       "123.456"
      ]
     },
     "execution_count": 2,
     "metadata": {},
     "output_type": "execute_result"
    }
   ],
   "source": [
    "float(\"123.456\")"
   ]
  },
  {
   "cell_type": "code",
   "execution_count": 3,
   "id": "a2c9bb24-aba8-4985-ac5f-ed023aa95e3f",
   "metadata": {},
   "outputs": [
    {
     "data": {
      "text/plain": [
       "'14'"
      ]
     },
     "execution_count": 3,
     "metadata": {},
     "output_type": "execute_result"
    }
   ],
   "source": [
    "str(14)"
   ]
  },
  {
   "cell_type": "code",
   "execution_count": 4,
   "id": "dee17ca3-a791-4c4b-beaa-07ada80d188b",
   "metadata": {},
   "outputs": [
    {
     "data": {
      "text/plain": [
       "4"
      ]
     },
     "execution_count": 4,
     "metadata": {},
     "output_type": "execute_result"
    }
   ],
   "source": [
    "len([23,34,45,46])"
   ]
  },
  {
   "cell_type": "code",
   "execution_count": 5,
   "id": "9dba0358-28fb-4df2-88dd-9153890d85e5",
   "metadata": {},
   "outputs": [],
   "source": [
    "array = [1,2,3]"
   ]
  },
  {
   "cell_type": "code",
   "execution_count": 6,
   "id": "f75bc805-3080-41f9-bf25-3df4eb94409a",
   "metadata": {},
   "outputs": [
    {
     "data": {
      "text/plain": [
       "3"
      ]
     },
     "execution_count": 6,
     "metadata": {},
     "output_type": "execute_result"
    }
   ],
   "source": [
    "max(array)"
   ]
  },
  {
   "cell_type": "code",
   "execution_count": 7,
   "id": "7c413398-fab9-4c59-b280-abd5d8058a56",
   "metadata": {},
   "outputs": [],
   "source": [
    "list1 = [16,23,45,75]"
   ]
  },
  {
   "cell_type": "code",
   "execution_count": 9,
   "id": "ee5834b7-b271-4c91-b115-1e9cf6491ea1",
   "metadata": {},
   "outputs": [
    {
     "data": {
      "text/plain": [
       "159"
      ]
     },
     "execution_count": 9,
     "metadata": {},
     "output_type": "execute_result"
    }
   ],
   "source": [
    "sum(list1)"
   ]
  },
  {
   "cell_type": "markdown",
   "id": "f322e0b6-1a74-472d-97d8-17004452abb4",
   "metadata": {},
   "source": [
    "# Criando Funções Usando Outras Funções"
   ]
  },
  {
   "cell_type": "markdown",
   "id": "c966f5df-f4de-42ec-9dfd-d92544782df4",
   "metadata": {},
   "source": [
    "hhtps://pypi.org"
   ]
  },
  {
   "cell_type": "code",
   "execution_count": 10,
   "id": "4f6555b7-c028-499c-b907-ff8cc764c98b",
   "metadata": {},
   "outputs": [],
   "source": [
    "import math\n",
    "# Verificando se um número é primo\n",
    "def numPrimo(num):\n",
    "    if(num % 2) == 0 and num > 2:\n",
    "        return \"Este número não é primo\"\n",
    "    for i in range(3, int(math.sqrt(num)) +1, 2):\n",
    "        if(num % i) == 0:\n",
    "            return \"Este número não é primo\"\n",
    "    return \"Este número é primo\""
   ]
  },
  {
   "cell_type": "code",
   "execution_count": 11,
   "id": "0d4e356b-03d1-4aa0-83d2-1c4d3a158972",
   "metadata": {},
   "outputs": [
    {
     "data": {
      "text/plain": [
       "'Este número é primo'"
      ]
     },
     "execution_count": 11,
     "metadata": {},
     "output_type": "execute_result"
    }
   ],
   "source": [
    "numPrimo(541)"
   ]
  },
  {
   "cell_type": "code",
   "execution_count": 12,
   "id": "01c1ca0d-8567-4982-8e56-c37893b936f4",
   "metadata": {},
   "outputs": [],
   "source": [
    "caixa_baixa = \"Este Texto Deveria Estar Todo em LowerCase\""
   ]
  },
  {
   "cell_type": "code",
   "execution_count": 13,
   "id": "4dd6cf0a-8252-44e0-9b95-de8a15580ad2",
   "metadata": {},
   "outputs": [],
   "source": [
    "def lowercase(text):\n",
    "    return text.lower()"
   ]
  },
  {
   "cell_type": "code",
   "execution_count": 14,
   "id": "1bcc00b5-bb13-4350-95db-61b193477c85",
   "metadata": {},
   "outputs": [],
   "source": [
    "lowercased_string = lowercase"
   ]
  },
  {
   "cell_type": "code",
   "execution_count": 17,
   "id": "8810f4b8-cad3-4605-9cf4-3559eaf75fcf",
   "metadata": {},
   "outputs": [
    {
     "data": {
      "text/plain": [
       "'minusculas'"
      ]
     },
     "execution_count": 17,
     "metadata": {},
     "output_type": "execute_result"
    }
   ],
   "source": [
    "lowercased_string('MINUSCULAS')"
   ]
  },
  {
   "cell_type": "markdown",
   "id": "76ebdbd6-182d-4658-9ab9-4dea9b7e0945",
   "metadata": {},
   "source": [
    "# Fazendo Split dos Dados"
   ]
  },
  {
   "cell_type": "code",
   "execution_count": 21,
   "id": "9e2fe626-8cc5-4453-876c-02c55bac1c0b",
   "metadata": {},
   "outputs": [],
   "source": [
    "# Fazendo split dos dados\n",
    "def split_string_palavras(text):\n",
    "    return text.split(\" \")"
   ]
  },
  {
   "cell_type": "code",
   "execution_count": 22,
   "id": "1417db80-3693-4ad9-bf5f-93f29ba20653",
   "metadata": {},
   "outputs": [],
   "source": [
    "texto = \"Está função será bastante útil para separar grandes volumes de dados.\""
   ]
  },
  {
   "cell_type": "code",
   "execution_count": 23,
   "id": "5f5c550e-ca68-4cf1-a9ee-e5f205a7e5a3",
   "metadata": {},
   "outputs": [
    {
     "name": "stdout",
     "output_type": "stream",
     "text": [
      "['Está', 'função', 'será', 'bastante', 'útil', 'para', 'separar', 'grandes', 'volumes', 'de', 'dados.']\n"
     ]
    }
   ],
   "source": [
    "# Isso divide a string em uma lista de palavaras\n",
    "print(split_string_palavras(texto))"
   ]
  },
  {
   "cell_type": "code",
   "execution_count": 24,
   "id": "8ebfb0db-c66e-481e-b812-6df4e536734c",
   "metadata": {},
   "outputs": [],
   "source": [
    "# Podemos atribuir o output de uma função para uma variável\n",
    "token = split_string_palavras(texto)"
   ]
  },
  {
   "cell_type": "code",
   "execution_count": 25,
   "id": "6f6da2c3-b7fb-4793-87e4-2728404061d4",
   "metadata": {},
   "outputs": [
    {
     "data": {
      "text/plain": [
       "['Está',\n",
       " 'função',\n",
       " 'será',\n",
       " 'bastante',\n",
       " 'útil',\n",
       " 'para',\n",
       " 'separar',\n",
       " 'grandes',\n",
       " 'volumes',\n",
       " 'de',\n",
       " 'dados.']"
      ]
     },
     "execution_count": 25,
     "metadata": {},
     "output_type": "execute_result"
    }
   ],
   "source": [
    "token"
   ]
  },
  {
   "cell_type": "code",
   "execution_count": 26,
   "id": "399cf94d-0bfa-475a-8d95-90f6a682c7a6",
   "metadata": {},
   "outputs": [],
   "source": [
    "# Fazendo split dos dados\n",
    "def split_string_letras(text):\n",
    "    texto = text.upper()\n",
    "    for letra in texto:\n",
    "        print(letra)"
   ]
  },
  {
   "cell_type": "code",
   "execution_count": 27,
   "id": "2da8e7a9-9837-4c97-8600-d24415e9ca43",
   "metadata": {},
   "outputs": [
    {
     "name": "stdout",
     "output_type": "stream",
     "text": [
      "E\n",
      "S\n",
      "T\n",
      "Á\n",
      " \n",
      "F\n",
      "U\n",
      "N\n",
      "Ç\n",
      "Ã\n",
      "O\n",
      " \n",
      "S\n",
      "E\n",
      "R\n",
      "Á\n",
      " \n",
      "B\n",
      "A\n",
      "S\n",
      "T\n",
      "A\n",
      "N\n",
      "T\n",
      "E\n",
      " \n",
      "Ú\n",
      "T\n",
      "I\n",
      "L\n",
      " \n",
      "P\n",
      "A\n",
      "R\n",
      "A\n",
      " \n",
      "S\n",
      "E\n",
      "P\n",
      "A\n",
      "R\n",
      "A\n",
      "R\n",
      " \n",
      "G\n",
      "R\n",
      "A\n",
      "N\n",
      "D\n",
      "E\n",
      "S\n",
      " \n",
      "V\n",
      "O\n",
      "L\n",
      "U\n",
      "M\n",
      "E\n",
      "S\n",
      " \n",
      "D\n",
      "E\n",
      " \n",
      "D\n",
      "A\n",
      "D\n",
      "O\n",
      "S\n",
      ".\n"
     ]
    }
   ],
   "source": [
    "split_string_letras(texto)"
   ]
  },
  {
   "cell_type": "code",
   "execution_count": null,
   "id": "4b59c5fb-0164-4dc8-809a-7019f041a963",
   "metadata": {},
   "outputs": [],
   "source": []
  }
 ],
 "metadata": {
  "kernelspec": {
   "display_name": "Python 3 (ipykernel)",
   "language": "python",
   "name": "python3"
  },
  "language_info": {
   "codemirror_mode": {
    "name": "ipython",
    "version": 3
   },
   "file_extension": ".py",
   "mimetype": "text/x-python",
   "name": "python",
   "nbconvert_exporter": "python",
   "pygments_lexer": "ipython3",
   "version": "3.11.7"
  }
 },
 "nbformat": 4,
 "nbformat_minor": 5
}
