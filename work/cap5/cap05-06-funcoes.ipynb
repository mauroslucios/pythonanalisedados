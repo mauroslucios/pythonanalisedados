{
 "cells": [
  {
   "cell_type": "markdown",
   "id": "bca68ff6-b328-4ab9-8332-79df35025e24",
   "metadata": {},
   "source": [
    "# Capítulo 5 - Funções\n",
    "`É um bloco de código que pode ser chamdo várias vezes, fazendo chamada aquela função.\n",
    "Quando função faz parte de uma classe é chamada de método`"
   ]
  },
  {
   "cell_type": "code",
   "execution_count": 41,
   "id": "317907ea-7af0-4dd0-ba1e-7fccad67b32f",
   "metadata": {},
   "outputs": [
    {
     "name": "stdout",
     "output_type": "stream",
     "text": [
      "Versõa Python usada neste Jupyter Notebbok 3.11.7\n"
     ]
    }
   ],
   "source": [
    "# Versão da Línguagem Python\n",
    "from platform import python_version\n",
    "print(f'Versõa Python usada neste Jupyter Notebbok {python_version()}')"
   ]
  },
  {
   "cell_type": "markdown",
   "id": "b2cc4146-835b-48cf-82ea-34a09bc77002",
   "metadata": {},
   "source": [
    "# Funções"
   ]
  },
  {
   "cell_type": "code",
   "execution_count": 42,
   "id": "39b3a7eb-b5a4-429a-a910-28f55ac5fc96",
   "metadata": {},
   "outputs": [
    {
     "name": "stdout",
     "output_type": "stream",
     "text": [
      "Hello World\n"
     ]
    }
   ],
   "source": [
    "print('Hello World')"
   ]
  },
  {
   "cell_type": "code",
   "execution_count": 14,
   "id": "65d5e411-efda-4be6-bf3b-73defdee7ad1",
   "metadata": {},
   "outputs": [
    {
     "name": "stdout",
     "output_type": "stream",
     "text": [
      "Hello World\n"
     ]
    }
   ],
   "source": [
    "# Definindo uma função \n",
    "# Para definir uma função usamos a palavra reservada def\n",
    "# Abaixo criando uma função ou seja um objeto\n",
    "def primeiraFunc():\n",
    "    # Usando a função do Python print()\n",
    "    print('Hello World')\n",
    "primeiraFunc()"
   ]
  },
  {
   "cell_type": "code",
   "execution_count": 15,
   "id": "7000b530-7e93-4a69-ba10-63db84ecb53b",
   "metadata": {},
   "outputs": [],
   "source": [
    "# Definindo uma função\n",
    "def segundaFunc():\n",
    "    nome = 'Mauro'\n",
    "    print('Hello %s!' %(nome))"
   ]
  },
  {
   "cell_type": "code",
   "execution_count": 16,
   "id": "d3b35d31-e5ca-4378-a5f2-d78deab2fc38",
   "metadata": {},
   "outputs": [
    {
     "name": "stdout",
     "output_type": "stream",
     "text": [
      "Hello Mauro!\n"
     ]
    }
   ],
   "source": [
    "# Chamando a função segundaFunc()\n",
    "segundaFunc()"
   ]
  },
  {
   "cell_type": "code",
   "execution_count": 17,
   "id": "bc33f08c-5299-46a0-8663-91f3e59e5cd3",
   "metadata": {},
   "outputs": [],
   "source": [
    "# Definindo uma função com parâmetro\n",
    "def terceiraFunc(nome):\n",
    "    print('Hello %s!' %(nome))"
   ]
  },
  {
   "cell_type": "code",
   "execution_count": 18,
   "id": "64198ed5-e0dc-4e77-9072-245a16179437",
   "metadata": {},
   "outputs": [
    {
     "name": "stdout",
     "output_type": "stream",
     "text": [
      "Hello Mauro!\n"
     ]
    }
   ],
   "source": [
    "# Chamando a função terceiraFunc()\n",
    "terceiraFunc('Mauro')"
   ]
  },
  {
   "cell_type": "code",
   "execution_count": 19,
   "id": "f842baff-c3d4-4a3b-b89a-6a8188692681",
   "metadata": {},
   "outputs": [],
   "source": [
    "# Criando uma função para imprimir números\n",
    "def imprimirNumeros():\n",
    "    # Loop\n",
    "    for i in range(0,5):\n",
    "        print(f'Número: ' + str(i))"
   ]
  },
  {
   "cell_type": "code",
   "execution_count": 20,
   "id": "50d00cfe-ee8c-4368-b3e0-1e8cd5acf417",
   "metadata": {},
   "outputs": [
    {
     "name": "stdout",
     "output_type": "stream",
     "text": [
      "Número: 0\n",
      "Número: 1\n",
      "Número: 2\n",
      "Número: 3\n",
      "Número: 4\n"
     ]
    }
   ],
   "source": [
    "# Chamando a função imprimirNumero()\n",
    "imprimirNumeros()"
   ]
  },
  {
   "cell_type": "code",
   "execution_count": 21,
   "id": "321f97e6-ec21-4b9f-bab8-55e135a13576",
   "metadata": {},
   "outputs": [],
   "source": [
    "# Função para somar números\n",
    "# Esta função receberá 2 parâmetros\n",
    "def somaNum(firstNum, secondNum):\n",
    "    print('Primeiro número: ' + str(firstNum))\n",
    "    print('Segundo número: ' + str(secondNum))\n",
    "    print(f'A soma de {firstNum} + {secondNum} = ', firstNum + secondNum)"
   ]
  },
  {
   "cell_type": "code",
   "execution_count": 22,
   "id": "51381cb5-45e7-44ef-a392-2875f1f74278",
   "metadata": {},
   "outputs": [
    {
     "name": "stdout",
     "output_type": "stream",
     "text": [
      "Primeiro número: 10\n",
      "Segundo número: 50\n",
      "A soma de 10 + 50 =  60\n",
      "None\n"
     ]
    }
   ],
   "source": [
    "# Chamando  função somaNum() e passando parâmetros para a função\n",
    "print(somaNum(10,50))"
   ]
  },
  {
   "cell_type": "code",
   "execution_count": 23,
   "id": "c1578c94-190e-474e-9a16-2da84303884c",
   "metadata": {},
   "outputs": [],
   "source": [
    "# Função com número de argumentos variável\n",
    "def printVarInfo(arg1, *vartuple):\n",
    "    # Imprimindo o valor do primeiro argumento\n",
    "    print(\"O parâmetro passado foi: \", arg1)\n",
    "    # Imprimindo o valor do segundo argumento\n",
    "    for item in vartuple:\n",
    "        print(\"O parâmentro passado foi:\", item)\n",
    "    return;"
   ]
  },
  {
   "cell_type": "code",
   "execution_count": 24,
   "id": "f6bee468-17d8-472b-be43-a52600df7416",
   "metadata": {},
   "outputs": [
    {
     "name": "stdout",
     "output_type": "stream",
     "text": [
      "O parâmetro passado foi:  10\n"
     ]
    }
   ],
   "source": [
    "# Fazendo chamada à função usando apenas 1 argumento\n",
    "printVarInfo(10)"
   ]
  },
  {
   "cell_type": "code",
   "execution_count": 25,
   "id": "ccbe353f-b1f2-4755-838b-413d85c54cae",
   "metadata": {},
   "outputs": [
    {
     "name": "stdout",
     "output_type": "stream",
     "text": [
      "O parâmetro passado foi:  Chocolate\n",
      "O parâmentro passado foi: Morango\n"
     ]
    }
   ],
   "source": [
    "# Fazendo chamada à função usando 2 argumento\n",
    "printVarInfo('Chocolate','Morango')"
   ]
  },
  {
   "cell_type": "code",
   "execution_count": 26,
   "id": "f10c2980-0176-4ad1-a3a6-5537a61ce36a",
   "metadata": {},
   "outputs": [
    {
     "name": "stdout",
     "output_type": "stream",
     "text": [
      "O parâmetro passado foi:  Data\n",
      "O parâmentro passado foi: Science\n",
      "O parâmentro passado foi: Academy\n"
     ]
    }
   ],
   "source": [
    "# Fazendo chamada à função usando mais de 2 argumento\n",
    "printVarInfo('Data','Science','Academy')"
   ]
  },
  {
   "cell_type": "markdown",
   "id": "419e29e9-1450-4125-9b45-19b354f29645",
   "metadata": {},
   "source": [
    "# Escopo d Vriável - Local e Global"
   ]
  },
  {
   "cell_type": "markdown",
   "id": "cc2947ec-bc84-4620-a826-7aaf061fe612",
   "metadata": {},
   "source": [
    " ## Atenção! Não use o mesmo nome de variável global e local"
   ]
  },
  {
   "cell_type": "code",
   "execution_count": 28,
   "id": "0392e745-a01a-41b7-95e0-f4630376cab6",
   "metadata": {},
   "outputs": [
    {
     "name": "stdout",
     "output_type": "stream",
     "text": [
      "125\n"
     ]
    }
   ],
   "source": [
    "multiplica_numeros(5,25)"
   ]
  },
  {
   "cell_type": "code",
   "execution_count": 29,
   "id": "781eac38-ad12-47ca-93f5-25247458e147",
   "metadata": {},
   "outputs": [
    {
     "name": "stdout",
     "output_type": "stream",
     "text": [
      "10\n"
     ]
    }
   ],
   "source": [
    "print(var_global)"
   ]
  },
  {
   "cell_type": "code",
   "execution_count": 36,
   "id": "007ede3d-42c7-4232-9c5e-7c3e0a69466d",
   "metadata": {},
   "outputs": [],
   "source": [
    "# Variável Global\n",
    "var_global = 10 # Está é uma variável global\n",
    "\n",
    "# Função\n",
    "def multiplica_numeros(num1,num2):\n",
    "    var_local = num1 * num2\n",
    "    print(var_local)"
   ]
  },
  {
   "cell_type": "code",
   "execution_count": 37,
   "id": "4d64a16d-4f1e-4ff4-a7fe-262d5e16c693",
   "metadata": {},
   "outputs": [
    {
     "name": "stdout",
     "output_type": "stream",
     "text": [
      "125\n"
     ]
    }
   ],
   "source": [
    "multiplica_numeros(5,25)"
   ]
  },
  {
   "cell_type": "code",
   "execution_count": 39,
   "id": "a8bb052b-1752-49c7-953a-3190bc49ab90",
   "metadata": {},
   "outputs": [
    {
     "name": "stdout",
     "output_type": "stream",
     "text": [
      "10\n"
     ]
    }
   ],
   "source": [
    "print(var_global)"
   ]
  },
  {
   "cell_type": "markdown",
   "id": "ada31449-011e-4f01-8e98-0f5fe795332e",
   "metadata": {},
   "source": [
    "# Funções Built-In"
   ]
  },
  {
   "cell_type": "code",
   "execution_count": null,
   "id": "1eec614a-67da-4c04-9890-708c655570cb",
   "metadata": {},
   "outputs": [],
   "source": []
  }
 ],
 "metadata": {
  "kernelspec": {
   "display_name": "Python 3 (ipykernel)",
   "language": "python",
   "name": "python3"
  },
  "language_info": {
   "codemirror_mode": {
    "name": "ipython",
    "version": 3
   },
   "file_extension": ".py",
   "mimetype": "text/x-python",
   "name": "python",
   "nbconvert_exporter": "python",
   "pygments_lexer": "ipython3",
   "version": "3.11.7"
  }
 },
 "nbformat": 4,
 "nbformat_minor": 5
}
