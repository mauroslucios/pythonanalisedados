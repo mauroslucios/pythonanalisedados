{
 "cells": [
  {
   "cell_type": "markdown",
   "id": "b1c5e38f-2986-493d-a27c-af18ecbd20d1",
   "metadata": {},
   "source": [
    "# Capítulo 5 - Intervalos de Valores"
   ]
  },
  {
   "cell_type": "code",
   "execution_count": 1,
   "id": "3a516bab-1770-45ec-911b-81a9f87c5333",
   "metadata": {},
   "outputs": [
    {
     "name": "stdout",
     "output_type": "stream",
     "text": [
      "Versão Python usada neste Jupyter Notebook: 3.11.7\n"
     ]
    }
   ],
   "source": [
    "# Versão de Linguagem Python\n",
    "from platform import python_version\n",
    "print('Versão Python usada neste Jupyter Notebook:', python_version())"
   ]
  },
  {
   "cell_type": "markdown",
   "id": "1b849787-dc19-4df9-8f57-975cf5c3f98b",
   "metadata": {},
   "source": [
    "# Função Range"
   ]
  },
  {
   "cell_type": "code",
   "execution_count": 2,
   "id": "a6bb821b-e0f7-45eb-8511-bccf95247304",
   "metadata": {},
   "outputs": [
    {
     "name": "stdout",
     "output_type": "stream",
     "text": [
      "1\n",
      "2\n",
      "3\n",
      "4\n",
      "5\n",
      "6\n",
      "7\n",
      "8\n",
      "9\n",
      "10\n"
     ]
    }
   ],
   "source": [
    "# Imprimindo números de 1 a 10\n",
    "for i in range(1,11):\n",
    "    print(i)"
   ]
  },
  {
   "cell_type": "code",
   "execution_count": 3,
   "id": "aa14aed0-7ad6-4f00-8e69-35b14477f4e6",
   "metadata": {},
   "outputs": [
    {
     "name": "stdout",
     "output_type": "stream",
     "text": [
      "50\n",
      "52\n",
      "54\n",
      "56\n",
      "58\n",
      "60\n",
      "62\n",
      "64\n",
      "66\n",
      "68\n",
      "70\n",
      "72\n",
      "74\n",
      "76\n",
      "78\n",
      "80\n",
      "82\n",
      "84\n",
      "86\n",
      "88\n",
      "90\n",
      "92\n",
      "94\n",
      "96\n",
      "98\n",
      "100\n"
     ]
    }
   ],
   "source": [
    "# Imprimindo números pares entre 50 e 101\n",
    "# Usnado 2 como terceiro parãmetro de salto\n",
    "for i in range(50,101,2):\n",
    "    print(i)"
   ]
  },
  {
   "cell_type": "code",
   "execution_count": 4,
   "id": "7f7e1e28-4319-49a8-9680-e0d939011a87",
   "metadata": {},
   "outputs": [
    {
     "name": "stdout",
     "output_type": "stream",
     "text": [
      "0\n",
      "-2\n",
      "-4\n",
      "-6\n",
      "-8\n",
      "-10\n",
      "-12\n",
      "-14\n",
      "-16\n",
      "-18\n"
     ]
    }
   ],
   "source": [
    "# Imprimindo os números pares negativos entre 0 e -20\n",
    "for i in range(0,-20, -2):\n",
    "    print(i)"
   ]
  },
  {
   "cell_type": "code",
   "execution_count": 5,
   "id": "0f2ab7e2-903e-4204-9e9a-99888416b0fc",
   "metadata": {},
   "outputs": [
    {
     "name": "stdout",
     "output_type": "stream",
     "text": [
      "Abacaxi\n",
      "Banana\n",
      "Morango\n",
      "Uva\n"
     ]
    }
   ],
   "source": [
    "# usando o tamanho de uma lista na função range()\n",
    "lista = ['Abacaxi','Banana','Morango','Uva']\n",
    "lista_tam = len(lista)\n",
    "for i in range(0,lista_tam):\n",
    "    print(lista[i])"
   ]
  },
  {
   "cell_type": "code",
   "execution_count": null,
   "id": "45f9acf0-f9ee-459f-9589-cb4f0e1cf1d3",
   "metadata": {},
   "outputs": [],
   "source": []
  }
 ],
 "metadata": {
  "kernelspec": {
   "display_name": "Python 3 (ipykernel)",
   "language": "python",
   "name": "python3"
  },
  "language_info": {
   "codemirror_mode": {
    "name": "ipython",
    "version": 3
   },
   "file_extension": ".py",
   "mimetype": "text/x-python",
   "name": "python",
   "nbconvert_exporter": "python",
   "pygments_lexer": "ipython3",
   "version": "3.11.7"
  }
 },
 "nbformat": 4,
 "nbformat_minor": 5
}
