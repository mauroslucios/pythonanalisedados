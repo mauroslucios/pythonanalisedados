{
 "cells": [
  {
   "cell_type": "markdown",
   "id": "4171cf43-0f26-4f6e-8776-5f8d2b456c8b",
   "metadata": {},
   "source": [
    "# Capítulo 5 - Loop While"
   ]
  },
  {
   "cell_type": "markdown",
   "id": "071f5178-b2d3-4e3c-b62b-3db445513ebc",
   "metadata": {},
   "source": [
    "# Loop While"
   ]
  },
  {
   "cell_type": "code",
   "execution_count": 18,
   "id": "443f4b53-81c9-4674-a61b-e2aefba26007",
   "metadata": {},
   "outputs": [
    {
     "name": "stdout",
     "output_type": "stream",
     "text": [
      "0\n",
      "1\n",
      "2\n",
      "3\n",
      "4\n",
      "5\n",
      "6\n",
      "7\n",
      "8\n",
      "9\n"
     ]
    }
   ],
   "source": [
    "# Usando o loop while para imprimir os valores de 0 a 9\n",
    "# A condição tem que deixar  de ser verdadeira dentro do loop, senão pode travar o navegador ou meso o computador\n",
    "valor = 0\n",
    "while valor < 10:\n",
    "    print(valor)\n",
    "    valor += 1"
   ]
  },
  {
   "cell_type": "code",
   "execution_count": 19,
   "id": "7cd5090e-aa4d-49a3-9009-4ac9acd7ebfc",
   "metadata": {},
   "outputs": [],
   "source": [
    "# Entre no loop somente se a condição for verdadeira\n",
    "valor = 11\n",
    "while valor < 10:\n",
    "    print(v)\n",
    "    valor += 1"
   ]
  },
  {
   "cell_type": "code",
   "execution_count": 20,
   "id": "109af604-e9e1-45bd-b5ff-a5a1290a5503",
   "metadata": {},
   "outputs": [
    {
     "name": "stdout",
     "output_type": "stream",
     "text": [
      "O valor de x nesta iteração é: 0\n",
      "O valor 0 ainda é menor que 10, somando 1 + 0 = 1\n",
      "O valor de x nesta iteração é: 1\n",
      "O valor 1 ainda é menor que 10, somando 1 + 1 = 2\n",
      "O valor de x nesta iteração é: 2\n",
      "O valor 2 ainda é menor que 10, somando 1 + 2 = 3\n",
      "O valor de x nesta iteração é: 3\n",
      "O valor 3 ainda é menor que 10, somando 1 + 3 = 4\n",
      "O valor de x nesta iteração é: 4\n",
      "O valor 4 ainda é menor que 10, somando 1 + 4 = 5\n",
      "O valor de x nesta iteração é: 5\n",
      "O valor 5 ainda é menor que 10, somando 1 + 5 = 6\n",
      "O valor de x nesta iteração é: 6\n",
      "O valor 6 ainda é menor que 10, somando 1 + 6 = 7\n",
      "O valor de x nesta iteração é: 7\n",
      "O valor 7 ainda é menor que 10, somando 1 + 7 = 8\n",
      "O valor de x nesta iteração é: 8\n",
      "O valor 8 ainda é menor que 10, somando 1 + 8 = 9\n",
      "O valor de x nesta iteração é: 9\n",
      "O valor 9 ainda é menor que 10, somando 1 + 9 = 10\n",
      "Loop concluído x é = 10.\n"
     ]
    }
   ],
   "source": [
    "# Usando else para encerrar o loop while\n",
    "x = 0\n",
    "while x < 10:\n",
    "    print(f'O valor de x nesta iteração é: {x}')\n",
    "    print(f'O valor {x} ainda é menor que 10, somando 1 + {x} =', x +1)\n",
    "    x += 1\n",
    "else:\n",
    "    print(f'Loop concluído x é = {x}.')"
   ]
  },
  {
   "cell_type": "markdown",
   "id": "c14158c1-ebfd-4e2e-bccf-bbba7f362f8e",
   "metadata": {},
   "source": [
    "# Pass, Break, Continue"
   ]
  },
  {
   "cell_type": "code",
   "execution_count": 21,
   "id": "3f12edd9-3f4b-4d3b-9db0-a0dc0a8ed0c6",
   "metadata": {},
   "outputs": [
    {
     "name": "stdout",
     "output_type": "stream",
     "text": [
      "0\n",
      "1\n",
      "2\n",
      "3\n"
     ]
    }
   ],
   "source": [
    "# Se encontrarmos o número 4 interrompemos o loop\n",
    "valor = 0\n",
    "while valor < 10:\n",
    "    if valor == 4:\n",
    "        break\n",
    "    else:\n",
    "        pass\n",
    "    print(valor)\n",
    "    valor += 1"
   ]
  },
  {
   "cell_type": "code",
   "execution_count": 22,
   "id": "22c1c733-5156-4c55-a61a-9f19e8a71278",
   "metadata": {},
   "outputs": [
    {
     "name": "stdout",
     "output_type": "stream",
     "text": [
      "P\n",
      "y\n",
      "t\n",
      "h\n",
      "o\n",
      "n\n",
      " \n",
      "é\n",
      " \n",
      " \n",
      "i\n",
      "n\n",
      "c\n",
      "r\n",
      "í\n",
      "v\n",
      "e\n",
      "l\n",
      "!\n"
     ]
    }
   ],
   "source": [
    "# Usando continue\n",
    "for letra in \"Python é z incrível!\":\n",
    "    if letra == \"z\":\n",
    "        continue\n",
    "    print(letra)"
   ]
  },
  {
   "cell_type": "markdown",
   "id": "fd0950a4-42f1-4766-9b55-efe4f155a60a",
   "metadata": {},
   "source": [
    "# While e For Juntos"
   ]
  },
  {
   "cell_type": "markdown",
   "id": "cc876d9b-1ede-4d99-b543-8ad944edfec8",
   "metadata": {},
   "source": [
    "<p> Encontre os números primos em uma coleção de números usando loop For e While.</br>\n",
    "Um número primo é um número natural maior do que 1 que é divisível apenas por 1 e por ele mesmo.</br>\n",
    "Isso significa que  não há nenhum outro número inteiro que possa dividir o número primo sem deixar resto.</br>\n",
    "Exemplo, o número 2 é primo, pois é divisível apenas por 1 e 2. O número 4 não é primo, pois é divisível por 1, 2 e 4(ele mesmo)</p>\n",
    "<p>Inicialize uma lista vazia para armazenar os números primos</br>\n",
    " Para cada número N entre 2 e 30:</br>\n",
    "     Inicialize uma variável eh_primo como verdadeira</br>\n",
    "     Para cada número i entre 2 e N/2:</br>\n",
    "         Se N é divisível por i, então:</br>\n",
    "             Altere a variável eh_primo para falso</br>\n",
    "             Pare de verificar os outros números</br>\n",
    "     Se a variável eh_primo ainda é verdadeira, adicione N à lista de números primos</br>\n",
    "  Imprima a lista de números primos</p>"
   ]
  },
  {
   "cell_type": "code",
   "execution_count": 25,
   "id": "ada0aedb-613a-4ea9-8435-9a70edf67a45",
   "metadata": {},
   "outputs": [
    {
     "name": "stdout",
     "output_type": "stream",
     "text": [
      "CPU times: user 5 µs, sys: 1e+03 ns, total: 6 µs\n",
      "Wall time: 11.4 µs\n",
      "------------------------------------------\n",
      "Estes números são primos: [2, 3, 5, 7, 11, 13, 17, 19, 23, 29]\n"
     ]
    }
   ],
   "source": [
    "# Código jupyter notebook que mede tempo de execução da célula\n",
    "%time\n",
    "print('------------------------------------------')\n",
    "# criando lista vazia para aramazenar números primos\n",
    "primos = []\n",
    "\n",
    "# Loop for para percorrer números de 2 a 30\n",
    "for num in range(2,31):\n",
    "    # Variável de controle\n",
    "    eh_primo = True\n",
    "    # Loop while para verificar se o número é primo\n",
    "    i = 2\n",
    "    while i <= num // 2:\n",
    "        if num % i == 0:\n",
    "            eh_primo = False\n",
    "            break\n",
    "        i += 1\n",
    "    # Adicionando o número primo na lista\n",
    "    if eh_primo:\n",
    "        primos.append(num)\n",
    "# Imprimindo a lista de números primos\n",
    "print(f'Estes números são primos:', primos)"
   ]
  },
  {
   "cell_type": "code",
   "execution_count": 24,
   "id": "88b985b0-10d1-49e1-9bad-7e6af8ac8e2a",
   "metadata": {},
   "outputs": [
    {
     "name": "stdout",
     "output_type": "stream",
     "text": [
      "CPU times: user 6 µs, sys: 2 µs, total: 8 µs\n",
      "Wall time: 13.8 µs\n",
      "------------------------------------------\n",
      "2 é um número primo\n",
      "3 é um número primo\n",
      "5 é um número primo\n",
      "7 é um número primo\n",
      "11 é um número primo\n",
      "13 é um número primo\n",
      "17 é um número primo\n",
      "19 é um número primo\n",
      "23 é um número primo\n",
      "29 é um número primo\n"
     ]
    }
   ],
   "source": [
    "# Código jupyter notebook que mede tempo de execução da célula\n",
    "%time\n",
    "print('------------------------------------------')\n",
    "# Outro exemplo de primos entre 2 e 30 usando loop for e while\n",
    "#Loop for para percorrer números de 2 a 30\n",
    "for i in range(2,31):\n",
    "    # Variável de controle\n",
    "    j = 2\n",
    "    # Contador\n",
    "    valor = 0\n",
    "    # Loop while para verificar se o número é primo\n",
    "    while j < i:\n",
    "        if i % j == 0:\n",
    "            valor = 1\n",
    "            j = j + 1\n",
    "        else:\n",
    "            j = j + 1\n",
    "    if valor == 0:\n",
    "        print(str(i) + \" é um número primo\")\n",
    "        valor = 0\n",
    "    else:\n",
    "        valor = 0"
   ]
  }
 ],
 "metadata": {
  "kernelspec": {
   "display_name": "Python 3 (ipykernel)",
   "language": "python",
   "name": "python3"
  },
  "language_info": {
   "codemirror_mode": {
    "name": "ipython",
    "version": 3
   },
   "file_extension": ".py",
   "mimetype": "text/x-python",
   "name": "python",
   "nbconvert_exporter": "python",
   "pygments_lexer": "ipython3",
   "version": "3.11.7"
  }
 },
 "nbformat": 4,
 "nbformat_minor": 5
}
