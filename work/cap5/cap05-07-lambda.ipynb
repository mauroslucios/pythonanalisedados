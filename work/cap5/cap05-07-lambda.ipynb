{
 "cells": [
  {
   "cell_type": "code",
   "execution_count": 1,
   "id": "a51ebf30-95cf-4f93-b494-576486803f7f",
   "metadata": {},
   "outputs": [
    {
     "name": "stdout",
     "output_type": "stream",
     "text": [
      "Versão da Linguagem Python usada  neste Jupyter Notebook: 3.11.7\n"
     ]
    }
   ],
   "source": [
    "from platform import python_version\n",
    "print('Versão da Linguagem Python usada  neste Jupyter Notebook:', python_version())"
   ]
  },
  {
   "cell_type": "markdown",
   "id": "6e145471-1208-4229-8626-083a71d93f2d",
   "metadata": {},
   "source": [
    "# Expressão Lambda\n",
    "`A Expressão Lambda é uma função anônima, não tem nome e é chamada em tempo de execução.`<br/>\n",
    "`Exemplo: lambda x,y : x*y -> multiplicação de 2 números.`"
   ]
  },
  {
   "cell_type": "code",
   "execution_count": 12,
   "id": "9da9e663-891e-48b7-ab15-e0f9f529dc79",
   "metadata": {},
   "outputs": [],
   "source": [
    "# Definindo uma função - 3 linhas de código\n",
    "def potencia3(num):\n",
    "    resultado = num ** 2\n",
    "    return print(f'A potência de {num} é:', resultado)"
   ]
  },
  {
   "cell_type": "code",
   "execution_count": 13,
   "id": "30c9a8f3-d950-48bb-a3a6-d6fb1f5e3141",
   "metadata": {},
   "outputs": [
    {
     "name": "stdout",
     "output_type": "stream",
     "text": [
      "A potência de 5 é: 25\n"
     ]
    }
   ],
   "source": [
    "potencia3(5)"
   ]
  },
  {
   "cell_type": "code",
   "execution_count": 16,
   "id": "e496106d-ba0b-4904-989e-3f2709827172",
   "metadata": {},
   "outputs": [],
   "source": [
    "# Definindo uma função - 2 linhas de código\n",
    "def potencia2(num):\n",
    "    return print(f'A potência de {num} é:', num ** 2)"
   ]
  },
  {
   "cell_type": "code",
   "execution_count": 17,
   "id": "1c94e031-51b0-40d3-adbd-f0628a5b7985",
   "metadata": {},
   "outputs": [
    {
     "name": "stdout",
     "output_type": "stream",
     "text": [
      "A potência de 4 é: 16\n"
     ]
    }
   ],
   "source": [
    "potencia2(4)"
   ]
  },
  {
   "cell_type": "code",
   "execution_count": 19,
   "id": "c343d6c2-cfbf-4fac-982c-ee4086cd20d5",
   "metadata": {},
   "outputs": [],
   "source": [
    "# Definindo uma fução - 1 linha de código\n",
    "def potencia1(num): return print(f'A potência de {num} é:', num**2) "
   ]
  },
  {
   "cell_type": "code",
   "execution_count": 20,
   "id": "7b059eed-9b5d-4b0c-9089-5a7879289d0d",
   "metadata": {},
   "outputs": [
    {
     "name": "stdout",
     "output_type": "stream",
     "text": [
      "A potência de 10 é: 100\n"
     ]
    }
   ],
   "source": [
    "potencia1(10)"
   ]
  },
  {
   "cell_type": "code",
   "execution_count": 24,
   "id": "2ac4fcc0-6d2e-4ded-b895-7a47c362071a",
   "metadata": {},
   "outputs": [],
   "source": [
    "# Definindo uma expressão lambda (função anônima)\n",
    "potencialambda = lambda num: print(f'A potência de {num} é:', num ** 2)"
   ]
  },
  {
   "cell_type": "code",
   "execution_count": 25,
   "id": "edb8bfc8-fc81-4304-8129-9903698987bc",
   "metadata": {},
   "outputs": [
    {
     "name": "stdout",
     "output_type": "stream",
     "text": [
      "A potência de 3 é: 9\n"
     ]
    }
   ],
   "source": [
    "potencialambda(3)"
   ]
  },
  {
   "cell_type": "code",
   "execution_count": 30,
   "id": "0071771d-8e2b-4f43-b68d-66fb070b91cd",
   "metadata": {},
   "outputs": [],
   "source": [
    "# Lembre: operadores de comparção retornam boolean: true or false\n",
    "par = lambda x: print(f'O número {x} é par? ->', x % 2 == 0)"
   ]
  },
  {
   "cell_type": "code",
   "execution_count": 29,
   "id": "f98e334d-4b94-44f6-bb0d-cb4757456c54",
   "metadata": {},
   "outputs": [
    {
     "name": "stdout",
     "output_type": "stream",
     "text": [
      "O número 10 é par ? -> True\n"
     ]
    }
   ],
   "source": [
    "par(10)"
   ]
  },
  {
   "cell_type": "code",
   "execution_count": 31,
   "id": "eb077b4e-d5ae-41df-b5fd-d57d641ca63d",
   "metadata": {},
   "outputs": [],
   "source": [
    "first = lambda s: s[0]"
   ]
  },
  {
   "cell_type": "code",
   "execution_count": 32,
   "id": "f669c630-610d-4f8a-8e6f-442637955910",
   "metadata": {},
   "outputs": [
    {
     "data": {
      "text/plain": [
       "'P'"
      ]
     },
     "execution_count": 32,
     "metadata": {},
     "output_type": "execute_result"
    }
   ],
   "source": [
    "first('Python')"
   ]
  },
  {
   "cell_type": "code",
   "execution_count": 33,
   "id": "77a51bad-ef05-4c5f-9cc9-032176cbb01b",
   "metadata": {},
   "outputs": [],
   "source": [
    "reverso = lambda s: s[::-1]"
   ]
  },
  {
   "cell_type": "code",
   "execution_count": 34,
   "id": "219a0e16-a9a9-4a23-bbb6-291d1e8b570a",
   "metadata": {},
   "outputs": [
    {
     "data": {
      "text/plain": [
       "'nohtyP'"
      ]
     },
     "execution_count": 34,
     "metadata": {},
     "output_type": "execute_result"
    }
   ],
   "source": [
    "reverso('Python')"
   ]
  },
  {
   "cell_type": "code",
   "execution_count": 36,
   "id": "10cfa7cb-b5d0-469b-ab7b-7f3bec8e527b",
   "metadata": {},
   "outputs": [],
   "source": [
    "addNum = lambda x,y: print(f'A soma de {x} + {y} é:', x + y)"
   ]
  },
  {
   "cell_type": "code",
   "execution_count": 37,
   "id": "612336fa-5dc9-4396-bf29-d3c1b2edb550",
   "metadata": {},
   "outputs": [
    {
     "name": "stdout",
     "output_type": "stream",
     "text": [
      "A soma de 1000 + 10000 é: 11000\n"
     ]
    }
   ],
   "source": [
    "addNum(1000,10000)"
   ]
  },
  {
   "cell_type": "code",
   "execution_count": null,
   "id": "d9780e64-2446-45d5-8d57-31f2fabc789c",
   "metadata": {},
   "outputs": [],
   "source": []
  }
 ],
 "metadata": {
  "kernelspec": {
   "display_name": "Python 3 (ipykernel)",
   "language": "python",
   "name": "python3"
  },
  "language_info": {
   "codemirror_mode": {
    "name": "ipython",
    "version": 3
   },
   "file_extension": ".py",
   "mimetype": "text/x-python",
   "name": "python",
   "nbconvert_exporter": "python",
   "pygments_lexer": "ipython3",
   "version": "3.11.7"
  }
 },
 "nbformat": 4,
 "nbformat_minor": 5
}
