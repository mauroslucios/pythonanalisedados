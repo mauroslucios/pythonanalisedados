{
 "cells": [
  {
   "cell_type": "markdown",
   "id": "6c4ea625-59b8-4cb4-b631-0024d6c336d2",
   "metadata": {},
   "source": [
    "# Capítulo 5 - Condicionais"
   ]
  },
  {
   "cell_type": "code",
   "execution_count": 1,
   "id": "bae366c3-84a2-4853-b39c-ebbbcf897935",
   "metadata": {},
   "outputs": [
    {
     "name": "stdout",
     "output_type": "stream",
     "text": [
      "3.11.7\n"
     ]
    }
   ],
   "source": [
    "# versão da linguagem Python\n",
    "from platform import python_version\n",
    "print(python_version())"
   ]
  },
  {
   "cell_type": "markdown",
   "id": "2df3ff0f-2285-48e4-8fe9-6d1b3514f4a1",
   "metadata": {},
   "source": [
    "# Condicional if"
   ]
  },
  {
   "cell_type": "code",
   "execution_count": 2,
   "id": "99073511-509d-4a3c-91ed-c6e6eb3011cb",
   "metadata": {},
   "outputs": [
    {
     "name": "stdout",
     "output_type": "stream",
     "text": [
      "A sentença é verdadeira\n"
     ]
    }
   ],
   "source": [
    "# condicional if (se)\n",
    "if 5 > 2:\n",
    "    print(f\"A sentença é verdadeira\")"
   ]
  },
  {
   "cell_type": "code",
   "execution_count": 3,
   "id": "adcde9bb-4cfa-4352-be7b-6f2c48f96196",
   "metadata": {},
   "outputs": [
    {
     "name": "stdout",
     "output_type": "stream",
     "text": [
      "A sentença é falsa!\n"
     ]
    }
   ],
   "source": [
    "# condicional if...else\n",
    "if 5 < 2:\n",
    "    print(f\"A sentença é verdadeira!\")\n",
    "else:\n",
    "    print(f\"A sentença é falsa!\")"
   ]
  },
  {
   "cell_type": "code",
   "execution_count": 4,
   "id": "2f35db87-5f59-43f4-a9fe-d14605e72ba7",
   "metadata": {},
   "outputs": [
    {
     "name": "stdout",
     "output_type": "stream",
     "text": [
      "Hoje vai chover!\n"
     ]
    }
   ],
   "source": [
    "# condicional if...else com variáveis\n",
    "dia = \"Terça\"\n",
    "if dia == \"Segunda\":\n",
    "    print(\"Hoje fará sol!\")\n",
    "else:\n",
    "    print(\"Hoje vai chover!\")"
   ]
  },
  {
   "cell_type": "code",
   "execution_count": 5,
   "id": "836a7394-b16a-437c-977a-1e32e4801fd0",
   "metadata": {},
   "outputs": [
    {
     "name": "stdout",
     "output_type": "stream",
     "text": [
      "Hoje vai chover\n"
     ]
    }
   ],
   "source": [
    "# podemos usar o operador elif para validar mais de uma condição\n",
    "if dia == \"Segunda\":\n",
    "    print(\"Hoje fará sol!\")\n",
    "elif dia == \"Terça\":\n",
    "    print(\"Hoje vai chover\")\n",
    "else:\n",
    "    print(\"Sem previsão do tempo para o dia selecionado\")"
   ]
  },
  {
   "cell_type": "markdown",
   "id": "c2274f94-9c91-43e5-b19d-12bc66fc7d22",
   "metadata": {},
   "source": [
    "# Operadores Relacionais "
   ]
  },
  {
   "cell_type": "code",
   "execution_count": 6,
   "id": "7e726ad5-13e6-4894-9ee5-552d5dbf0559",
   "metadata": {},
   "outputs": [
    {
     "data": {
      "text/plain": [
       "True"
      ]
     },
     "execution_count": 6,
     "metadata": {},
     "output_type": "execute_result"
    }
   ],
   "source": [
    "# compara dois valores tendo uma resposta booleana\n",
    "6 > 3"
   ]
  },
  {
   "cell_type": "code",
   "execution_count": 7,
   "id": "a392aae2-0551-41ef-8265-0d9e2740b667",
   "metadata": {},
   "outputs": [
    {
     "data": {
      "text/plain": [
       "False"
      ]
     },
     "execution_count": 7,
     "metadata": {},
     "output_type": "execute_result"
    }
   ],
   "source": [
    "3 > 7"
   ]
  },
  {
   "cell_type": "code",
   "execution_count": 8,
   "id": "31cffc21-33dc-4008-9687-aa366076042f",
   "metadata": {},
   "outputs": [
    {
     "data": {
      "text/plain": [
       "True"
      ]
     },
     "execution_count": 8,
     "metadata": {},
     "output_type": "execute_result"
    }
   ],
   "source": [
    "4 < 8"
   ]
  },
  {
   "cell_type": "code",
   "execution_count": 9,
   "id": "2c8fcb38-8e9a-481a-a74b-d6e96834ceb1",
   "metadata": {},
   "outputs": [
    {
     "data": {
      "text/plain": [
       "True"
      ]
     },
     "execution_count": 9,
     "metadata": {},
     "output_type": "execute_result"
    }
   ],
   "source": [
    "4 >= 4"
   ]
  },
  {
   "cell_type": "code",
   "execution_count": 10,
   "id": "f6d14036-c624-4dcc-bcda-20f97ef4b534",
   "metadata": {},
   "outputs": [
    {
     "name": "stdout",
     "output_type": "stream",
     "text": [
      "Testando Python!\n"
     ]
    }
   ],
   "source": [
    "if 5 == 5:\n",
    "    print(\"Testando Python!\")"
   ]
  },
  {
   "cell_type": "code",
   "execution_count": 11,
   "id": "647f312f-abb8-4373-be5c-7489df8ca878",
   "metadata": {},
   "outputs": [
    {
     "name": "stdout",
     "output_type": "stream",
     "text": [
      "Parece que Python funciona!\n"
     ]
    }
   ],
   "source": [
    "if True:\n",
    "    print('Parece que Python funciona!')"
   ]
  },
  {
   "cell_type": "markdown",
   "id": "6cf6dad6-21ab-400a-bd39-3d53973772de",
   "metadata": {},
   "source": [
    "# Condicionais aninhadas"
   ]
  },
  {
   "cell_type": "code",
   "execution_count": 12,
   "id": "6650334c-ce4c-452d-a28e-3f4658e8c79f",
   "metadata": {},
   "outputs": [
    {
     "name": "stdout",
     "output_type": "stream",
     "text": [
      "Você pode dirigir\n"
     ]
    }
   ],
   "source": [
    "idade = 18\n",
    "if idade > 17:\n",
    "    print('Você pode dirigir')"
   ]
  },
  {
   "cell_type": "code",
   "execution_count": 13,
   "id": "8fc7ca94-8b86-43c1-9710-1ded482f74b5",
   "metadata": {},
   "outputs": [
    {
     "name": "stdout",
     "output_type": "stream",
     "text": [
      "Ok bob, você está autorizado a entrar!\n"
     ]
    }
   ],
   "source": [
    "nome = 'Bob'\n",
    "if idade > 13:\n",
    "    if nome == 'Bob':\n",
    "        print(f'Ok bob, você está autorizado a entrar!')\n",
    "    else:\n",
    "        print('Desculpa, mas você não pode entrar!')"
   ]
  },
  {
   "cell_type": "code",
   "execution_count": 14,
   "id": "1fc8ac95-7777-4bfd-a6c9-ec16ca18c1d2",
   "metadata": {},
   "outputs": [
    {
     "name": "stdout",
     "output_type": "stream",
     "text": [
      "Ok Bob, você está autorizado a entrar!\n"
     ]
    }
   ],
   "source": [
    "idade = 13\n",
    "nome = 'Bob'\n",
    "if idade >= 13 and nome == 'Bob':\n",
    "    print('Ok Bob, você está autorizado a entrar!')"
   ]
  },
  {
   "cell_type": "code",
   "execution_count": 15,
   "id": "61c6bf42-05b3-41e3-ac14-809b8de172bd",
   "metadata": {},
   "outputs": [
    {
     "name": "stdout",
     "output_type": "stream",
     "text": [
      "Ok bob, você está autorizado a entrar!\n"
     ]
    }
   ],
   "source": [
    "idade = 12\n",
    "nome = 'Bob'\n",
    "if(idade >= 13) or nome == 'Bob':\n",
    "    print('Ok bob, você está autorizado a entrar!')"
   ]
  },
  {
   "cell_type": "code",
   "execution_count": 16,
   "id": "db37f0d9-9ec2-4d4d-af23-d85547e8ec5e",
   "metadata": {},
   "outputs": [
    {
     "name": "stdout",
     "output_type": "stream",
     "text": [
      "Ainda não chegou o final de semana, hoje é segunda-feira! Bora trabalhar e dar o melhor em tudo!\n",
      "Ainda não chegou o final de semana, hoje é terça-feira! Bora trabalhar e dar o melhor em tudo!\n",
      "Ainda não chegou o final de semana, hoje é quarta-feira! Bora trabalhar e dar o melhor em tudo!\n",
      "Ainda não chegou o final de semana, hoje é quinta-feira! Bora trabalhar e dar o melhor em tudo!\n",
      "Uhull, Sextouuu! Hoje é sexta-feira e chegou o final de semana!\n",
      "Sábado dia de descanso! Chegou final de semana!\n",
      "Hoje é domingo último dia de descanso e começa uma nova semana, amanhã já é segunda-feira.\n",
      "Obrigado meu DEUS por mais uma semana!\n"
     ]
    }
   ],
   "source": [
    "# várias condições aninhadas\n",
    "list = ['segunda','terça','quarta','quinta','sexta','sabado','domingo']\n",
    "for weekend in list:\n",
    "    if weekend == 'sexta':\n",
    "        print(f'Uhull, Sextouuu! Hoje é {weekend}-feira e chegou o final de semana!')\n",
    "    elif weekend == 'sabado':\n",
    "        print(f'Sábado dia de descanso! Chegou final de semana!')\n",
    "    elif weekend == 'domingo':\n",
    "        print(f'Hoje é {weekend} último dia de descanso e começa uma nova semana, amanhã já é segunda-feira.')\n",
    "        print(f'Obrigado meu DEUS por mais uma semana!')\n",
    "    else:\n",
    "        print(f'Ainda não chegou o final de semana, hoje é {weekend}-feira! Bora trabalhar e dar o melhor em tudo!')"
   ]
  },
  {
   "cell_type": "markdown",
   "id": "73a2cbf0-4251-408d-a41e-461520a074b9",
   "metadata": {},
   "source": [
    "# Operadores Lógicos"
   ]
  },
  {
   "cell_type": "markdown",
   "id": "ace28c80-3430-4ba5-b53b-1242d74c2db7",
   "metadata": {},
   "source": [
    "Os operadores lógicos funcinam assin:\n",
    "- Operador **and** - Retorna true se ambas as declarações forem verdadeiras.\n",
    "- Operador **or** - Retorna True se um das declarações for verdadeira.\n",
    "- Operador **not** - Inverte o resultado, retorna False se o resultado for True"
   ]
  },
  {
   "cell_type": "code",
   "execution_count": 17,
   "id": "b67ea30e-9ced-48d3-bec0-1a806c35cbb1",
   "metadata": {},
   "outputs": [
    {
     "name": "stdout",
     "output_type": "stream",
     "text": [
      "Autorizado\n"
     ]
    }
   ],
   "source": [
    "# Operador and - Retorna true se ambas as declarações forem verdadeiras.\n",
    "idade = 18\n",
    "if idade > 17 and nome == 'Bob':\n",
    "    print('Autorizado')"
   ]
  },
  {
   "cell_type": "code",
   "execution_count": 18,
   "id": "1a151802-a0d9-42bb-808f-d808ad252085",
   "metadata": {},
   "outputs": [
    {
     "name": "stdout",
     "output_type": "stream",
     "text": [
      "Você pode dirigir\n"
     ]
    }
   ],
   "source": [
    "idade = 18\n",
    "nome = 'Bob'\n",
    "if idade > 17:\n",
    "    print('Você pode dirigir')"
   ]
  },
  {
   "cell_type": "code",
   "execution_count": 19,
   "id": "d8966ea0-a552-4e10-b41a-676265cc6141",
   "metadata": {},
   "outputs": [
    {
     "name": "stdout",
     "output_type": "stream",
     "text": [
      "Vamos a praia!\n"
     ]
    }
   ],
   "source": [
    "dia = 'Domingo'\n",
    "tempo = 'Sol'\n",
    "if dia == 'Domingo' and tempo == 'Sol':\n",
    "    print(f'Vamos a praia!')\n",
    "else:\n",
    "    print(f'Vamos ao shopping!')"
   ]
  },
  {
   "cell_type": "code",
   "execution_count": 20,
   "id": "c4dfab11-ca17-4b88-8ad4-2cdcc6f59786",
   "metadata": {},
   "outputs": [
    {
     "name": "stdout",
     "output_type": "stream",
     "text": [
      "Não preciso trabalhar hoje\n"
     ]
    }
   ],
   "source": [
    "# Operador or - Retorna True se um das declarações for verdadeira.\n",
    "dia = 'domingo'\n",
    "tempo = 'ferias'\n",
    "if dia == 'domingo' or tempo == 'ferias':\n",
    "    print(f'Não preciso trabalhar hoje')"
   ]
  },
  {
   "cell_type": "code",
   "execution_count": 21,
   "id": "d5602d8d-c3ed-421a-ae0e-09832aac74b6",
   "metadata": {},
   "outputs": [
    {
     "name": "stdout",
     "output_type": "stream",
     "text": [
      "Se uma condições for verdadeira será impresso!\n"
     ]
    }
   ],
   "source": [
    "numero = 4\n",
    "if(numero > 5) or (numero % 2 == 0):\n",
    "    print('Se uma condições for verdadeira será impresso!')\n",
    "else:\n",
    "    print('Nenhuma condição é verdadeira!')"
   ]
  },
  {
   "cell_type": "code",
   "execution_count": 22,
   "id": "88e3a40f-2caf-4ec2-be44-021c5ad38327",
   "metadata": {},
   "outputs": [
    {
     "name": "stdout",
     "output_type": "stream",
     "text": [
      "Não é divisível por 2 e tampouco menor que 10\n"
     ]
    }
   ],
   "source": [
    "n = 11\n",
    "if(n % 2 == 0) or (n <= 10):\n",
    "    print('Divisível por 2 e menor que 10')\n",
    "else:\n",
    "    print('Não é divisível por 2 e tampouco menor que 10')"
   ]
  },
  {
   "cell_type": "code",
   "execution_count": 3,
   "id": "90f570b6-f404-45c2-b0cc-bb5d0634bfde",
   "metadata": {},
   "outputs": [
    {
     "name": "stdout",
     "output_type": "stream",
     "text": [
      "Não é divisível por 2 e não é menor ou igual a 10\n"
     ]
    }
   ],
   "source": [
    "# Operador not - Inverte o resultado, retorna False se o resultado for True\n",
    "# usando and e not juntos\n",
    "n2 = 11\n",
    "if not (n2 <= 10) and (n2 % 2 == 0):\n",
    "    print('Não é divisível por 2, mas é menor ou igual a 10')\n",
    "else:\n",
    "    print('Não é divisível por 2 e não é menor ou igual a 10')"
   ]
  }
 ],
 "metadata": {
  "kernelspec": {
   "display_name": "Python 3 (ipykernel)",
   "language": "python",
   "name": "python3"
  },
  "language_info": {
   "codemirror_mode": {
    "name": "ipython",
    "version": 3
   },
   "file_extension": ".py",
   "mimetype": "text/x-python",
   "name": "python",
   "nbconvert_exporter": "python",
   "pygments_lexer": "ipython3",
   "version": "3.11.7"
  }
 },
 "nbformat": 4,
 "nbformat_minor": 5
}
