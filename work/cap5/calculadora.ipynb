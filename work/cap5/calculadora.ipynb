{
 "cells": [
  {
   "cell_type": "markdown",
   "id": "dc69f8e0-770f-4899-9fb9-666b8bbe31e6",
   "metadata": {},
   "source": [
    "*************************** Calculadora em Python ***************************"
   ]
  },
  {
   "cell_type": "code",
   "execution_count": null,
   "id": "70258cfb-97b6-4ad6-9759-27ad2903a24b",
   "metadata": {},
   "outputs": [],
   "source": [
    "print('** Calculadora em Python **')\n",
    "print(f'Escolha uma operação abaixo')\n",
    "print('Soma = 1\\nSubtração = 2\\nMultiplicação = 3\\nDivisão = 4\\n')\n",
    "opcao = int(input(\"Digite a operação: \"))\n",
    "\n",
    "def somar(n1,n2):\n",
    "    return print(f'A soma de {n1} + {n2} = ',n1 + n2)\n",
    "\n",
    "def subtrair(n1,n2):\n",
    "    return print(f'A subtração de {n1} - {n2} = ',n1 - n2)\n",
    "\n",
    "def multiplicar(n1,n2):\n",
    "    return print(f'A multilicação de {n1} * {n2} = ',n1 * n2)\n",
    "\n",
    "def divisao(n1,n2):\n",
    "    return print(f'A divisão de {n1} / {n2} = ',n1 / n2)\n",
    "\n",
    "if opcao == 1:\n",
    "    print(f'Entre com 2 números para somar.')\n",
    "    n1 = int(input(\"Digite um número: \"))\n",
    "    n2 = int(input(\"Digite um número: \"))\n",
    "    somar(n1,n2)\n",
    "\n",
    "elif opcao == 2:\n",
    "    print(f'Entre com 2 números para subtrair.')\n",
    "    n1 = int(input(\"Digite um número: \"))\n",
    "    n2 = int(input(\"Digite um número: \"))\n",
    "    subtrair(n1,n2)\n",
    "\n",
    "elif opcao == 3:\n",
    "    print(f'Entre com 2 números para multiplicar.')\n",
    "    n1 = int(input(\"Digite um número: \"))\n",
    "    n2 = int(input(\"Digite um número: \"))\n",
    "    multiplicar(n1,n2)\n",
    "\n",
    "elif opcao == 4:\n",
    "    print(f'Entre com 2 números para dividir.')\n",
    "    n1 = int(input(\"Digite um número: \"))\n",
    "    n2 = int(input(\"Digite um número: \"))\n",
    "    divisao(n1,n2)\n",
    "else:\n",
    "    print(f'Você não escolheu nenhuma opção de 1 a 4.')\n",
    "    print(f'Saindo da calculadora...')"
   ]
  }
 ],
 "metadata": {
  "kernelspec": {
   "display_name": "Python 3 (ipykernel)",
   "language": "python",
   "name": "python3"
  },
  "language_info": {
   "codemirror_mode": {
    "name": "ipython",
    "version": 3
   },
   "file_extension": ".py",
   "mimetype": "text/x-python",
   "name": "python",
   "nbconvert_exporter": "python",
   "pygments_lexer": "ipython3",
   "version": "3.11.7"
  }
 },
 "nbformat": 4,
 "nbformat_minor": 5
}
