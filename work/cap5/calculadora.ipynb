{
 "cells": [
  {
   "cell_type": "markdown",
   "id": "dc69f8e0-770f-4899-9fb9-666b8bbe31e6",
   "metadata": {},
   "source": [
    "*************************** Calculadora em Python ***************************"
   ]
  },
  {
   "cell_type": "code",
   "execution_count": 10,
   "id": "36ad96af-a473-46dc-92a4-dafbc12e893e",
   "metadata": {},
   "outputs": [
    {
     "name": "stdout",
     "output_type": "stream",
     "text": [
      "Escolha uma operação abaixo\n",
      "Soma = 1\n",
      "Subtração = 2\n",
      "Multiplicação = 3\n",
      "Divisão = 4\n",
      "\n"
     ]
    }
   ],
   "source": [
    "print(f'Escolha uma operação abaixo')\n",
    "print('Soma = 1\\nSubtração = 2\\nMultiplicação = 3\\nDivisão = 4\\n')"
   ]
  },
  {
   "cell_type": "code",
   "execution_count": null,
   "id": "c6ad99c2-990b-4a91-a598-7cb50bb27653",
   "metadata": {},
   "outputs": [],
   "source": [
    "opcao = int(input(\"Digite a operação\"))"
   ]
  },
  {
   "cell_type": "code",
   "execution_count": null,
   "id": "70258cfb-97b6-4ad6-9759-27ad2903a24b",
   "metadata": {},
   "outputs": [],
   "source": []
  }
 ],
 "metadata": {
  "kernelspec": {
   "display_name": "Python 3 (ipykernel)",
   "language": "python",
   "name": "python3"
  },
  "language_info": {
   "codemirror_mode": {
    "name": "ipython",
    "version": 3
   },
   "file_extension": ".py",
   "mimetype": "text/x-python",
   "name": "python",
   "nbconvert_exporter": "python",
   "pygments_lexer": "ipython3",
   "version": "3.11.7"
  }
 },
 "nbformat": 4,
 "nbformat_minor": 5
}
