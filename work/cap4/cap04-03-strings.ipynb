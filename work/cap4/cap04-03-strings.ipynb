{
 "cells": [
  {
   "cell_type": "code",
   "execution_count": 1,
   "id": "cbfb7c49-c804-4cfa-83fb-4c7b992c649a",
   "metadata": {},
   "outputs": [
    {
     "data": {
      "text/plain": [
       "'oi'"
      ]
     },
     "execution_count": 1,
     "metadata": {},
     "output_type": "execute_result"
    }
   ],
   "source": [
    "# uma única palavra\n",
    "'oi'"
   ]
  },
  {
   "cell_type": "code",
   "execution_count": 2,
   "id": "a27dec23-4665-4307-a0b0-1788596f4d97",
   "metadata": {},
   "outputs": [
    {
     "data": {
      "text/plain": [
       "'Podemos usar aspas duplas ou simples para strings em python'"
      ]
     },
     "execution_count": 2,
     "metadata": {},
     "output_type": "execute_result"
    }
   ],
   "source": [
    "# usando aspas duplas\n",
    "\"Podemos usar aspas duplas ou simples para strings em python\""
   ]
  },
  {
   "cell_type": "code",
   "execution_count": 3,
   "id": "ff992732-acf8-4a10-ae95-696c0f8fa646",
   "metadata": {},
   "outputs": [
    {
     "data": {
      "text/plain": [
       "\"Testando aspas duplas e simples em 'Python'\""
      ]
     },
     "execution_count": 3,
     "metadata": {},
     "output_type": "execute_result"
    }
   ],
   "source": [
    "# podemos combinar aspas duplas e simples\n",
    "# perceba que ao usar aspas duplas e simples  o interpretador imprimirá as duas\n",
    "\"Testando aspas duplas e simples em 'Python'\""
   ]
  },
  {
   "cell_type": "code",
   "execution_count": 4,
   "id": "087e9f64-9a41-4633-a7de-5a219094f816",
   "metadata": {},
   "outputs": [
    {
     "name": "stdout",
     "output_type": "stream",
     "text": [
      "Imprimindo uma string\n"
     ]
    }
   ],
   "source": [
    "# podemos usar a função print() para imprimir uma string\n",
    "print(\"Imprimindo uma string\")"
   ]
  },
  {
   "cell_type": "code",
   "execution_count": 6,
   "id": "0db58788-e122-420f-8522-57144689e888",
   "metadata": {},
   "outputs": [
    {
     "name": "stdout",
     "output_type": "stream",
     "text": [
      "Esta frase vai ficar na primeira linha \n",
      "Esta frase vai ficar na segunda linha\n"
     ]
    }
   ],
   "source": [
    "# para pular de linha coloca-se o \\n \n",
    "print(\"Esta frase vai ficar na primeira linha \\nEsta frase vai ficar na segunda linha\")"
   ]
  },
  {
   "cell_type": "code",
   "execution_count": 17,
   "id": "45c6fcd0-6590-4d96-864e-8962e26e8006",
   "metadata": {},
   "outputs": [
    {
     "name": "stdout",
     "output_type": "stream",
     "text": [
      "Primeiro caracter da string é: U\n",
      "Exibindo o tamanho em caracteres da string indice, a mesma tem  22 caracteres.\n"
     ]
    }
   ],
   "source": [
    "3 # usando índices em python, cada caracter em uma string recebe internamente um índice\n",
    "# indexação em python começa com 0(zero)\n",
    "indice = 'Usando index em python'\n",
    "print(f'Primeiro caracter da string é:',indice[0])\n",
    "s = len(indice)\n",
    "print(f'Exibindo o tamanho em caracteres da string índice, a mesma tem ',s, 'caracteres.')"
   ]
  },
  {
   "cell_type": "code",
   "execution_count": 40,
   "id": "ac20fdc8-cfc2-4470-98c4-a3dc51008a3e",
   "metadata": {},
   "outputs": [
    {
     "name": "stdout",
     "output_type": "stream",
     "text": [
      "Retirando o primeiro caracter de índice[0] da string: egando caracter depois da posição do índice indicado\n",
      "Exibindo o tamanho da total da string:  53 caracteres.\n",
      "Exibindo caracteres até o índice indicado:  Pegando caracter depois d\n",
      "Exibindo o último caracter da string:  a\n",
      "Exibindo os carateres pares da string Dt\n"
     ]
    }
   ],
   "source": [
    "# exibindo caracteres depois da posição de um índice usando notação de fatiamaneto (slicing)\n",
    "string = \"Pegando caracter depois da posição do índice indicado\"\n",
    "s = string[1:]\n",
    "print(f'Retirando o primeiro caracter de índice[0] da string:',s)\n",
    "tam = len(string)\n",
    "print(f'Exibindo o tamanho da total da string: ',tam, 'caracteres.')\n",
    "x = string[:25]\n",
    "print(f'Exibindo caracteres até o índice indicado: ',x)\n",
    "y = string[-3]\n",
    "print(f'Exibindo o último caracter da string: ',y)\n",
    "# exibindo índices específicos de uma string\n",
    "dados = 'Data'\n",
    "d = dados[::2]\n",
    "print(f'Exibindo os carateres pares da string',d)"
   ]
  },
  {
   "cell_type": "code",
   "execution_count": 41,
   "id": "28b282b3-6650-491b-b99c-265d7463c95d",
   "metadata": {},
   "outputs": [
    {
     "name": "stdout",
     "output_type": "stream",
     "text": [
      "Olá mundo!\n"
     ]
    }
   ],
   "source": [
    "# concatenação de string\n",
    "string1 = \"Olá\"\n",
    "string2 = \"mundo!\"\n",
    "resultadostring = string1 + \" \" + string2\n",
    "print(resultadostring)"
   ]
  },
  {
   "cell_type": "code",
   "execution_count": 44,
   "id": "81465afc-f68a-4650-a207-d9a9232ce5a9",
   "metadata": {},
   "outputs": [
    {
     "data": {
      "text/plain": [
       "'www.google.com.br'"
      ]
     },
     "execution_count": 44,
     "metadata": {},
     "output_type": "execute_result"
    }
   ],
   "source": [
    "# usando operador aritmético com string\n",
    "letra = 'w'\n",
    "letra * 3 +'.google.com.br'"
   ]
  },
  {
   "cell_type": "code",
   "execution_count": 55,
   "id": "72cee65e-c8ad-44d9-af2e-4e207ca72d62",
   "metadata": {},
   "outputs": [
    {
     "name": "stdout",
     "output_type": "stream",
     "text": [
      "MAIÚSCULAS\n",
      "lower\n",
      "['Testando', 'o', 'split']\n"
     ]
    }
   ],
   "source": [
    "# funções buit-in de strings\n",
    "# upper case\n",
    "up = \"maiúsculas\"\n",
    "print(up.upper())\n",
    "# lower case\n",
    "l = \"LOWER\"\n",
    "print(l.lower())\n",
    "# dividir uma string por espaços em branco(padrão)\n",
    "p = \"Testando o split\"\n",
    "print(p.split())"
   ]
  },
  {
   "cell_type": "code",
   "execution_count": 66,
   "id": "35039a94-5d44-4b31-9ac4-627dac0f8aa0",
   "metadata": {},
   "outputs": [
    {
     "name": "stdout",
     "output_type": "stream",
     "text": [
      "Seja bem vindo as funções built-in python\n",
      "2\n",
      "False\n",
      "True\n",
      "False\n",
      "False\n"
     ]
    }
   ],
   "source": [
    "f = 'seja bem vindo as funções built-in python'\n",
    "# transforma o primeiro caracter da frase em maiúsculo\n",
    "print(f.capitalize())\n",
    "# exibi a quantidade do referido caracter na string\n",
    "print(f.count('a'))\n",
    "# verifica se string é númerica\n",
    "print(f.isalnum())\n",
    "# verifica se a string está toda em minúscula\n",
    "print(f.islower())\n",
    "# verifica se a string é toda espaço\n",
    "print(f.isspace())\n",
    "# verifica se a string termina com a letra o\n",
    "print(f.endswith('o'))"
   ]
  },
  {
   "cell_type": "code",
   "execution_count": 67,
   "id": "82bc5efa-0eaa-448a-9e7e-3ab6245be937",
   "metadata": {},
   "outputs": [
    {
     "data": {
      "text/plain": [
       "False"
      ]
     },
     "execution_count": 67,
     "metadata": {},
     "output_type": "execute_result"
    }
   ],
   "source": [
    "# comparando string\n",
    "str1 = \"Python\"\n",
    "str2 = \"python\"\n",
    "str1 == str2"
   ]
  },
  {
   "cell_type": "markdown",
   "id": "6ad4f068-88de-47a7-a4ac-720cebe66166",
   "metadata": {},
   "source": [
    "# Funções Built-in de Strings"
   ]
  },
  {
   "cell_type": "code",
   "execution_count": 1,
   "id": "b590431a-f55b-4e00-b444-5a826fc1fc88",
   "metadata": {},
   "outputs": [
    {
     "data": {
      "text/plain": [
       "'Data Science Academy é a melhor maneira de estar preparado para o mercado de trabalho em Ciências de Dados!'"
      ]
     },
     "execution_count": 1,
     "metadata": {},
     "output_type": "execute_result"
    }
   ],
   "source": [
    "s = 'Data Science Academy é a melhor maneira de estar preparado para o mercado de trabalho em Ciências de Dados!'\n",
    "s"
   ]
  },
  {
   "cell_type": "code",
   "execution_count": 2,
   "id": "48549928-e3e6-41d0-9902-75059c0b7283",
   "metadata": {},
   "outputs": [
    {
     "data": {
      "text/plain": [
       "'DATA SCIENCE ACADEMY É A MELHOR MANEIRA DE ESTAR PREPARADO PARA O MERCADO DE TRABALHO EM CIÊNCIAS DE DADOS!'"
      ]
     },
     "execution_count": 2,
     "metadata": {},
     "output_type": "execute_result"
    }
   ],
   "source": [
    "s.upper()"
   ]
  },
  {
   "cell_type": "code",
   "execution_count": 3,
   "id": "b99c25e0-d7fd-4f5d-b2e8-b886c316d9d2",
   "metadata": {},
   "outputs": [
    {
     "data": {
      "text/plain": [
       "'data science academy é a melhor maneira de estar preparado para o mercado de trabalho em ciências de dados!'"
      ]
     },
     "execution_count": 3,
     "metadata": {},
     "output_type": "execute_result"
    }
   ],
   "source": [
    "s.lower()"
   ]
  },
  {
   "cell_type": "code",
   "execution_count": 4,
   "id": "37937ed9-a86a-41b0-9572-f4c354f29383",
   "metadata": {},
   "outputs": [
    {
     "data": {
      "text/plain": [
       "['Data',\n",
       " 'Science',\n",
       " 'Academy',\n",
       " 'é',\n",
       " 'a',\n",
       " 'melhor',\n",
       " 'maneira',\n",
       " 'de',\n",
       " 'estar',\n",
       " 'preparado',\n",
       " 'para',\n",
       " 'o',\n",
       " 'mercado',\n",
       " 'de',\n",
       " 'trabalho',\n",
       " 'em',\n",
       " 'Ciências',\n",
       " 'de',\n",
       " 'Dados!']"
      ]
     },
     "execution_count": 4,
     "metadata": {},
     "output_type": "execute_result"
    }
   ],
   "source": [
    "# Dividir uma string por espaços em branco (padrão)\n",
    "s.split()"
   ]
  },
  {
   "cell_type": "markdown",
   "id": "eb097621-0e34-484e-acab-fe93d9db7c44",
   "metadata": {},
   "source": [
    "# Funções String"
   ]
  },
  {
   "cell_type": "code",
   "execution_count": 8,
   "id": "3ec12c47-ef0c-4129-96a5-f869b08bbf4a",
   "metadata": {},
   "outputs": [],
   "source": [
    "s = 'seja bem vindo ao universo da Linguagem Python!'"
   ]
  },
  {
   "cell_type": "code",
   "execution_count": 9,
   "id": "088a920d-b8b2-4cd8-8ef1-764b17e86ae6",
   "metadata": {},
   "outputs": [
    {
     "data": {
      "text/plain": [
       "'Seja bem vindo ao universo da linguagem python!'"
      ]
     },
     "execution_count": 9,
     "metadata": {},
     "output_type": "execute_result"
    }
   ],
   "source": [
    "s.capitalize()"
   ]
  },
  {
   "cell_type": "code",
   "execution_count": 10,
   "id": "293b45ba-f461-4da9-824f-1b53f93d8af6",
   "metadata": {},
   "outputs": [
    {
     "data": {
      "text/plain": [
       "4"
      ]
     },
     "execution_count": 10,
     "metadata": {},
     "output_type": "execute_result"
    }
   ],
   "source": [
    "s.count('a')"
   ]
  },
  {
   "cell_type": "code",
   "execution_count": 11,
   "id": "803fb291-f713-4eb9-9c63-28a2ac896f80",
   "metadata": {},
   "outputs": [
    {
     "data": {
      "text/plain": [
       "False"
      ]
     },
     "execution_count": 11,
     "metadata": {},
     "output_type": "execute_result"
    }
   ],
   "source": [
    "s.isalnum()"
   ]
  },
  {
   "cell_type": "code",
   "execution_count": 12,
   "id": "1f6bce5a-10fe-43ce-a51f-fcbdea7f017a",
   "metadata": {},
   "outputs": [
    {
     "data": {
      "text/plain": [
       "False"
      ]
     },
     "execution_count": 12,
     "metadata": {},
     "output_type": "execute_result"
    }
   ],
   "source": [
    "s.islower()"
   ]
  },
  {
   "cell_type": "code",
   "execution_count": 13,
   "id": "8348236e-b186-486b-bc96-f3d5c6468459",
   "metadata": {},
   "outputs": [
    {
     "data": {
      "text/plain": [
       "False"
      ]
     },
     "execution_count": 13,
     "metadata": {},
     "output_type": "execute_result"
    }
   ],
   "source": [
    "s.isspace()"
   ]
  },
  {
   "cell_type": "code",
   "execution_count": 14,
   "id": "bc640c28-e107-45ec-9cbd-8ad082a64681",
   "metadata": {},
   "outputs": [
    {
     "data": {
      "text/plain": [
       "False"
      ]
     },
     "execution_count": 14,
     "metadata": {},
     "output_type": "execute_result"
    }
   ],
   "source": [
    "s.endswith('o')"
   ]
  },
  {
   "cell_type": "code",
   "execution_count": 16,
   "id": "b887611f-ab85-485d-a9b5-5806af7f0f69",
   "metadata": {},
   "outputs": [],
   "source": [
    "s = '1000'"
   ]
  },
  {
   "cell_type": "code",
   "execution_count": 17,
   "id": "e0b55f14-d977-4e60-add4-194949c07c7d",
   "metadata": {},
   "outputs": [
    {
     "data": {
      "text/plain": [
       "'1000'"
      ]
     },
     "execution_count": 17,
     "metadata": {},
     "output_type": "execute_result"
    }
   ],
   "source": [
    "s"
   ]
  },
  {
   "cell_type": "code",
   "execution_count": 18,
   "id": "a6f3f11d-e387-4c41-8afc-f24978fec865",
   "metadata": {},
   "outputs": [
    {
     "data": {
      "text/plain": [
       "str"
      ]
     },
     "execution_count": 18,
     "metadata": {},
     "output_type": "execute_result"
    }
   ],
   "source": [
    "type(s)"
   ]
  },
  {
   "cell_type": "markdown",
   "id": "80c12fb5-ab21-47d3-9497-4902f32f9ba7",
   "metadata": {},
   "source": [
    "# Comparando Strings"
   ]
  },
  {
   "cell_type": "code",
   "execution_count": 19,
   "id": "67d7e720-d9b1-4aa7-8fe7-f53f350a0bf9",
   "metadata": {},
   "outputs": [
    {
     "name": "stdout",
     "output_type": "stream",
     "text": [
      "False\n"
     ]
    }
   ],
   "source": [
    "print('Python' == 'R')"
   ]
  },
  {
   "cell_type": "code",
   "execution_count": 20,
   "id": "8fc97f70-0497-45f7-a0f9-3c6176802f52",
   "metadata": {},
   "outputs": [
    {
     "name": "stdout",
     "output_type": "stream",
     "text": [
      "True\n"
     ]
    }
   ],
   "source": [
    "print(\"Python\" == \"Python\")"
   ]
  },
  {
   "cell_type": "code",
   "execution_count": null,
   "id": "d5c38c1d-0f6c-439c-8a0e-baf439382dd6",
   "metadata": {},
   "outputs": [],
   "source": []
  }
 ],
 "metadata": {
  "kernelspec": {
   "display_name": "Python 3 (ipykernel)",
   "language": "python",
   "name": "python3"
  },
  "language_info": {
   "codemirror_mode": {
    "name": "ipython",
    "version": 3
   },
   "file_extension": ".py",
   "mimetype": "text/x-python",
   "name": "python",
   "nbconvert_exporter": "python",
   "pygments_lexer": "ipython3",
   "version": "3.11.7"
  }
 },
 "nbformat": 4,
 "nbformat_minor": 5
}
