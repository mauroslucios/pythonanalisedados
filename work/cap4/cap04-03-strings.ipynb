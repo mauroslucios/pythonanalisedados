{
 "cells": [
  {
   "cell_type": "code",
   "execution_count": 1,
   "id": "cbfb7c49-c804-4cfa-83fb-4c7b992c649a",
   "metadata": {},
   "outputs": [
    {
     "data": {
      "text/plain": [
       "'oi'"
      ]
     },
     "execution_count": 1,
     "metadata": {},
     "output_type": "execute_result"
    }
   ],
   "source": [
    "# uma única palavra\n",
    "'oi'"
   ]
  },
  {
   "cell_type": "code",
   "execution_count": 2,
   "id": "a27dec23-4665-4307-a0b0-1788596f4d97",
   "metadata": {},
   "outputs": [
    {
     "data": {
      "text/plain": [
       "'Podemos usar aspas duplas ou simples para strings em python'"
      ]
     },
     "execution_count": 2,
     "metadata": {},
     "output_type": "execute_result"
    }
   ],
   "source": [
    "# usando aspas duplas\n",
    "\"Podemos usar aspas duplas ou simples para strings em python\""
   ]
  },
  {
   "cell_type": "code",
   "execution_count": 3,
   "id": "ff992732-acf8-4a10-ae95-696c0f8fa646",
   "metadata": {},
   "outputs": [
    {
     "data": {
      "text/plain": [
       "\"Testando aspas duplas e simples em 'Python'\""
      ]
     },
     "execution_count": 3,
     "metadata": {},
     "output_type": "execute_result"
    }
   ],
   "source": [
    "# podemos combinar aspas duplas e simples\n",
    "# perceba que ao usar aspas duplas e simples  o interpretador imprimirá as duas\n",
    "\"Testando aspas duplas e simples em 'Python'\""
   ]
  },
  {
   "cell_type": "code",
   "execution_count": 4,
   "id": "087e9f64-9a41-4633-a7de-5a219094f816",
   "metadata": {},
   "outputs": [
    {
     "name": "stdout",
     "output_type": "stream",
     "text": [
      "Imprimindo uma string\n"
     ]
    }
   ],
   "source": [
    "# podemos usar a função print() para imprimir uma string\n",
    "print(\"Imprimindo uma string\")"
   ]
  },
  {
   "cell_type": "code",
   "execution_count": 6,
   "id": "0db58788-e122-420f-8522-57144689e888",
   "metadata": {},
   "outputs": [
    {
     "name": "stdout",
     "output_type": "stream",
     "text": [
      "Esta frase vai ficar na primeira linha \n",
      "Esta frase vai ficar na segunda linha\n"
     ]
    }
   ],
   "source": [
    "# para pular de linha coloca-se o \\n \n",
    "print(\"Esta frase vai ficar na primeira linha \\nEsta frase vai ficar na segunda linha\")"
   ]
  },
  {
   "cell_type": "code",
   "execution_count": 17,
   "id": "45c6fcd0-6590-4d96-864e-8962e26e8006",
   "metadata": {},
   "outputs": [
    {
     "name": "stdout",
     "output_type": "stream",
     "text": [
      "Primeiro caracter da string é: U\n",
      "Exibindo o tamanho em caracteres da string indice, a mesma tem  22 caracteres.\n"
     ]
    }
   ],
   "source": [
    "3 # usando índices em python, cada caracter em uma string recebe internamente um índice\n",
    "# indexação em python começa com 0(zero)\n",
    "indice = 'Usando index em python'\n",
    "print(f'Primeiro caracter da string é:',indice[0])\n",
    "s = len(indice)\n",
    "print(f'Exibindo o tamanho em caracteres da string índice, a mesma tem ',s, 'caracteres.')"
   ]
  },
  {
   "cell_type": "code",
   "execution_count": 40,
   "id": "ac20fdc8-cfc2-4470-98c4-a3dc51008a3e",
   "metadata": {},
   "outputs": [
    {
     "name": "stdout",
     "output_type": "stream",
     "text": [
      "Retirando o primeiro caracter de índice[0] da string: egando caracter depois da posição do índice indicado\n",
      "Exibindo o tamanho da total da string:  53 caracteres.\n",
      "Exibindo caracteres até o índice indicado:  Pegando caracter depois d\n",
      "Exibindo o último caracter da string:  a\n",
      "Exibindo os carateres pares da string Dt\n"
     ]
    }
   ],
   "source": [
    "# exibindo caracteres depois da posição de um índice usando notação de fatiamaneto (slicing)\n",
    "string = \"Pegando caracter depois da posição do índice indicado\"\n",
    "s = string[1:]\n",
    "print(f'Retirando o primeiro caracter de índice[0] da string:',s)\n",
    "tam = len(string)\n",
    "print(f'Exibindo o tamanho da total da string: ',tam, 'caracteres.')\n",
    "x = string[:25]\n",
    "print(f'Exibindo caracteres até o índice indicado: ',x)\n",
    "y = string[-3]\n",
    "print(f'Exibindo o último caracter da string: ',y)\n",
    "# exibindo índices específicos de uma string\n",
    "dados = 'Data'\n",
    "d = dados[::2]\n",
    "print(f'Exibindo os carateres pares da string',d)"
   ]
  },
  {
   "cell_type": "code",
   "execution_count": 41,
   "id": "28b282b3-6650-491b-b99c-265d7463c95d",
   "metadata": {},
   "outputs": [
    {
     "name": "stdout",
     "output_type": "stream",
     "text": [
      "Olá mundo!\n"
     ]
    }
   ],
   "source": [
    "# concatenação de string\n",
    "string1 = \"Olá\"\n",
    "string2 = \"mundo!\"\n",
    "resultadostring = string1 + \" \" + string2\n",
    "print(resultadostring)"
   ]
  },
  {
   "cell_type": "code",
   "execution_count": 44,
   "id": "81465afc-f68a-4650-a207-d9a9232ce5a9",
   "metadata": {},
   "outputs": [
    {
     "data": {
      "text/plain": [
       "'www.google.com.br'"
      ]
     },
     "execution_count": 44,
     "metadata": {},
     "output_type": "execute_result"
    }
   ],
   "source": [
    "# usando operador aritmético com string\n",
    "letra = 'w'\n",
    "letra * 3 +'.google.com.br'"
   ]
  },
  {
   "cell_type": "code",
   "execution_count": 55,
   "id": "72cee65e-c8ad-44d9-af2e-4e207ca72d62",
   "metadata": {},
   "outputs": [
    {
     "name": "stdout",
     "output_type": "stream",
     "text": [
      "MAIÚSCULAS\n",
      "lower\n",
      "['Testando', 'o', 'split']\n"
     ]
    }
   ],
   "source": [
    "# funções buit-in de strings\n",
    "# upper case\n",
    "up = \"maiúsculas\"\n",
    "print(up.upper())\n",
    "# lower case\n",
    "l = \"LOWER\"\n",
    "print(l.lower())\n",
    "# dividir uma string por espaços em branco(padrão)\n",
    "p = \"Testando o split\"\n",
    "print(p.split())"
   ]
  },
  {
   "cell_type": "code",
   "execution_count": 66,
   "id": "35039a94-5d44-4b31-9ac4-627dac0f8aa0",
   "metadata": {},
   "outputs": [
    {
     "name": "stdout",
     "output_type": "stream",
     "text": [
      "Seja bem vindo as funções built-in python\n",
      "2\n",
      "False\n",
      "True\n",
      "False\n",
      "False\n"
     ]
    }
   ],
   "source": [
    "f = 'seja bem vindo as funções built-in python'\n",
    "# transforma o primeiro caracter da frase em maiúsculo\n",
    "print(f.capitalize())\n",
    "# exibi a quantidade do referido caracter na string\n",
    "print(f.count('a'))\n",
    "# verifica se string é númerica\n",
    "print(f.isalnum())\n",
    "# verifica se a string está toda em minúscula\n",
    "print(f.islower())\n",
    "# verifica se a string é toda espaço\n",
    "print(f.isspace())\n",
    "# verifica se a string termina com a letra o\n",
    "print(f.endswith('o'))"
   ]
  },
  {
   "cell_type": "code",
   "execution_count": 67,
   "id": "82bc5efa-0eaa-448a-9e7e-3ab6245be937",
   "metadata": {},
   "outputs": [
    {
     "data": {
      "text/plain": [
       "False"
      ]
     },
     "execution_count": 67,
     "metadata": {},
     "output_type": "execute_result"
    }
   ],
   "source": [
    "# comparando string\n",
    "str1 = \"Python\"\n",
    "str2 = \"python\"\n",
    "str1 == str2"
   ]
  },
  {
   "cell_type": "code",
   "execution_count": null,
   "id": "60a95055-44a8-46d8-bfb1-bcf781a9f48b",
   "metadata": {},
   "outputs": [],
   "source": []
  }
 ],
 "metadata": {
  "kernelspec": {
   "display_name": "Python 3 (ipykernel)",
   "language": "python",
   "name": "python3"
  },
  "language_info": {
   "codemirror_mode": {
    "name": "ipython",
    "version": 3
   },
   "file_extension": ".py",
   "mimetype": "text/x-python",
   "name": "python",
   "nbconvert_exporter": "python",
   "pygments_lexer": "ipython3",
   "version": "3.11.7"
  }
 },
 "nbformat": 4,
 "nbformat_minor": 5
}
