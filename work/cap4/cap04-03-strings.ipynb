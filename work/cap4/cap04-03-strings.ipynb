{
 "cells": [
  {
   "cell_type": "code",
   "execution_count": 1,
   "id": "cbfb7c49-c804-4cfa-83fb-4c7b992c649a",
   "metadata": {},
   "outputs": [
    {
     "data": {
      "text/plain": [
       "'oi'"
      ]
     },
     "execution_count": 1,
     "metadata": {},
     "output_type": "execute_result"
    }
   ],
   "source": [
    "# uma única palavra\n",
    "'oi'"
   ]
  },
  {
   "cell_type": "code",
   "execution_count": 2,
   "id": "a27dec23-4665-4307-a0b0-1788596f4d97",
   "metadata": {},
   "outputs": [
    {
     "data": {
      "text/plain": [
       "'Podemos usar aspas duplas ou simples para strings em python'"
      ]
     },
     "execution_count": 2,
     "metadata": {},
     "output_type": "execute_result"
    }
   ],
   "source": [
    "# usando aspas duplas\n",
    "\"Podemos usar aspas duplas ou simples para strings em python\""
   ]
  },
  {
   "cell_type": "code",
   "execution_count": 3,
   "id": "ff992732-acf8-4a10-ae95-696c0f8fa646",
   "metadata": {},
   "outputs": [
    {
     "data": {
      "text/plain": [
       "\"Testando aspas duplas e simples em 'Python'\""
      ]
     },
     "execution_count": 3,
     "metadata": {},
     "output_type": "execute_result"
    }
   ],
   "source": [
    "# podemos combinar aspas duplas e simples\n",
    "# perceba que ao usar aspas duplas e simples  o interpretador imprimirá as duas\n",
    "\"Testando aspas duplas e simples em 'Python'\""
   ]
  },
  {
   "cell_type": "code",
   "execution_count": 4,
   "id": "087e9f64-9a41-4633-a7de-5a219094f816",
   "metadata": {},
   "outputs": [
    {
     "name": "stdout",
     "output_type": "stream",
     "text": [
      "Imprimindo uma string\n"
     ]
    }
   ],
   "source": [
    "# podemos usar a função print() para imprimir uma string\n",
    "print(\"Imprimindo uma string\")"
   ]
  },
  {
   "cell_type": "code",
   "execution_count": 6,
   "id": "0db58788-e122-420f-8522-57144689e888",
   "metadata": {},
   "outputs": [
    {
     "name": "stdout",
     "output_type": "stream",
     "text": [
      "Esta frase vai ficar na primeira linha \n",
      "Esta frase vai ficar na segunda linha\n"
     ]
    }
   ],
   "source": [
    "# para pular de linha coloca-se o \\n \n",
    "print(\"Esta frase vai ficar na primeira linha \\nEsta frase vai ficar na segunda linha\")"
   ]
  },
  {
   "cell_type": "code",
   "execution_count": 17,
   "id": "45c6fcd0-6590-4d96-864e-8962e26e8006",
   "metadata": {},
   "outputs": [
    {
     "name": "stdout",
     "output_type": "stream",
     "text": [
      "Primeiro caracter da string é: U\n",
      "Exibindo o tamanho em caracteres da string indice, a mesma tem  22 caracteres.\n"
     ]
    }
   ],
   "source": [
    "3 # usando índices em python, cada caracter em uma string recebe internamente um índice\n",
    "# indexação em python começa com 0(zero)\n",
    "indice = 'Usando index em python'\n",
    "print(f'Primeiro caracter da string é:',indice[0])\n",
    "s = len(indice)\n",
    "print(f'Exibindo o tamanho em caracteres da string indice, a mesma tem ',s, 'caracteres.')"
   ]
  },
  {
   "cell_type": "code",
   "execution_count": 30,
   "id": "ac20fdc8-cfc2-4470-98c4-a3dc51008a3e",
   "metadata": {},
   "outputs": [
    {
     "name": "stdout",
     "output_type": "stream",
     "text": [
      "Retirando o primeiro caracter de indice[0] da string: egando caracter depois da posição do índice indicado\n",
      "Mostrando o tamanho da total da string:  53 caracteres.\n"
     ]
    }
   ],
   "source": [
    "# exibindo caracteres depois da posição de um índice usando notação de fatiamaneto\n",
    "string = \"Pegando caracter depois da posição do índice indicado\"\n",
    "s = string[1:]\n",
    "print(f'Retirando o primeiro caracter de indice[0] da string:',s)\n",
    "tam = len(string)\n",
    "print(f'Mostrando o tamanho da total da string: ',tam, 'caracteres.')"
   ]
  }
 ],
 "metadata": {
  "kernelspec": {
   "display_name": "Python 3 (ipykernel)",
   "language": "python",
   "name": "python3"
  },
  "language_info": {
   "codemirror_mode": {
    "name": "ipython",
    "version": 3
   },
   "file_extension": ".py",
   "mimetype": "text/x-python",
   "name": "python",
   "nbconvert_exporter": "python",
   "pygments_lexer": "ipython3",
   "version": "3.11.7"
  }
 },
 "nbformat": 4,
 "nbformat_minor": 5
}
