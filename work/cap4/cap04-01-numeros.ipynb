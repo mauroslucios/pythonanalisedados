{
 "cells": [
  {
   "cell_type": "markdown",
   "id": "b963736d-417d-424d-ad9b-45258c4dcc2b",
   "metadata": {},
   "source": [
    "# Capítulo 4 - Números e operações matemáticas\n"
   ]
  },
  {
   "cell_type": "code",
   "execution_count": 1,
   "id": "321d5b3a-f161-4131-8c14-2b983f05f311",
   "metadata": {},
   "outputs": [
    {
     "data": {
      "text/plain": [
       "8"
      ]
     },
     "execution_count": 1,
     "metadata": {},
     "output_type": "execute_result"
    }
   ],
   "source": [
    "# soma\n",
    "4 + 4"
   ]
  },
  {
   "cell_type": "code",
   "execution_count": 2,
   "id": "2b04f55b-b2e5-412c-ade1-d19fea2e464c",
   "metadata": {},
   "outputs": [
    {
     "data": {
      "text/plain": [
       "9"
      ]
     },
     "execution_count": 2,
     "metadata": {},
     "output_type": "execute_result"
    }
   ],
   "source": [
    "# subtração\n",
    "10 - 1"
   ]
  },
  {
   "cell_type": "code",
   "execution_count": 3,
   "id": "729224ab-79bd-4d5e-9f2f-46e43e2d307e",
   "metadata": {},
   "outputs": [
    {
     "data": {
      "text/plain": [
       "12"
      ]
     },
     "execution_count": 3,
     "metadata": {},
     "output_type": "execute_result"
    }
   ],
   "source": [
    "# multiplicação\n",
    "2 * 6"
   ]
  },
  {
   "cell_type": "code",
   "execution_count": 4,
   "id": "ef0761dd-8cf2-4f38-8959-b950a7c4f58a",
   "metadata": {},
   "outputs": [
    {
     "data": {
      "text/plain": [
       "200.0"
      ]
     },
     "execution_count": 4,
     "metadata": {},
     "output_type": "execute_result"
    }
   ],
   "source": [
    "# divisão\n",
    "2000 / 10"
   ]
  },
  {
   "cell_type": "code",
   "execution_count": 5,
   "id": "3bc5710f-9701-4d58-9b3d-800524ecfff6",
   "metadata": {},
   "outputs": [
    {
     "data": {
      "text/plain": [
       "1"
      ]
     },
     "execution_count": 5,
     "metadata": {},
     "output_type": "execute_result"
    }
   ],
   "source": [
    "# módulo\n",
    "10 % 3"
   ]
  },
  {
   "cell_type": "markdown",
   "id": "9c5a674f-e1bf-4f94-a531-b7c71b56c57b",
   "metadata": {},
   "source": [
    "# Função Type"
   ]
  },
  {
   "cell_type": "code",
   "execution_count": 6,
   "id": "e021ebc6-f25a-4e44-b028-5971c5e3fa75",
   "metadata": {},
   "outputs": [
    {
     "data": {
      "text/plain": [
       "int"
      ]
     },
     "execution_count": 6,
     "metadata": {},
     "output_type": "execute_result"
    }
   ],
   "source": [
    "type(5)"
   ]
  },
  {
   "cell_type": "code",
   "execution_count": 7,
   "id": "82711859-71c1-4336-9118-acdb03e57d59",
   "metadata": {},
   "outputs": [
    {
     "data": {
      "text/plain": [
       "float"
      ]
     },
     "execution_count": 7,
     "metadata": {},
     "output_type": "execute_result"
    }
   ],
   "source": [
    "type(10.5)"
   ]
  },
  {
   "cell_type": "code",
   "execution_count": 10,
   "id": "1b46d287-6b35-477e-9ba3-c78f2d3f04ba",
   "metadata": {},
   "outputs": [
    {
     "data": {
      "text/plain": [
       "str"
      ]
     },
     "execution_count": 10,
     "metadata": {},
     "output_type": "execute_result"
    }
   ],
   "source": [
    "a = \"testando o tipo de variavel\"\n",
    "type(a)"
   ]
  },
  {
   "cell_type": "markdown",
   "id": "4f7407cb-2db0-4720-9e59-3c0c1bd2bdb8",
   "metadata": {},
   "source": [
    "# Funções abs, round e pow"
   ]
  },
  {
   "cell_type": "code",
   "execution_count": 2,
   "id": "37db0d1e-464a-4f91-ac1d-4a79b9ce63b3",
   "metadata": {},
   "outputs": [
    {
     "data": {
      "text/plain": [
       "8"
      ]
     },
     "execution_count": 2,
     "metadata": {},
     "output_type": "execute_result"
    }
   ],
   "source": [
    "# Retorna o valor absoluto\n",
    "abs(-8)"
   ]
  },
  {
   "cell_type": "code",
   "execution_count": 3,
   "id": "32cbafa5-88d8-403f-aa6c-994625604a6c",
   "metadata": {},
   "outputs": [
    {
     "data": {
      "text/plain": [
       "8"
      ]
     },
     "execution_count": 3,
     "metadata": {},
     "output_type": "execute_result"
    }
   ],
   "source": [
    "# Retorna o valor absoluto\n",
    "abs(8)"
   ]
  },
  {
   "cell_type": "code",
   "execution_count": 4,
   "id": "a5fb6558-cb9a-489b-a397-9f852931cd73",
   "metadata": {},
   "outputs": [
    {
     "data": {
      "text/plain": [
       "3.14"
      ]
     },
     "execution_count": 4,
     "metadata": {},
     "output_type": "execute_result"
    }
   ],
   "source": [
    "# Retorna o valor com duas casas decimais\n",
    "round(3.14151922,2)"
   ]
  },
  {
   "cell_type": "code",
   "execution_count": 7,
   "id": "319b0b57-cc0d-4d68-9a73-242d5902715e",
   "metadata": {},
   "outputs": [
    {
     "name": "stdout",
     "output_type": "stream",
     "text": [
      "16\n",
      "125\n"
     ]
    }
   ],
   "source": [
    "# Potência\n",
    "print(pow(4,2))\n",
    "print(pow(5,3))"
   ]
  },
  {
   "cell_type": "markdown",
   "id": "a49a6476-1914-4acc-a994-d5b0e5ba39d3",
   "metadata": {},
   "source": [
    "# Hexadecimal e Binário"
   ]
  },
  {
   "cell_type": "code",
   "execution_count": 8,
   "id": "d0ba4fc4-a673-4d46-a264-5beba8c4885c",
   "metadata": {},
   "outputs": [
    {
     "data": {
      "text/plain": [
       "'0x18a'"
      ]
     },
     "execution_count": 8,
     "metadata": {},
     "output_type": "execute_result"
    }
   ],
   "source": [
    "hex(394)"
   ]
  },
  {
   "cell_type": "code",
   "execution_count": 9,
   "id": "be019b9c-b6f1-494f-86a7-0e8e289ec5c2",
   "metadata": {},
   "outputs": [
    {
     "data": {
      "text/plain": [
       "'0xd9'"
      ]
     },
     "execution_count": 9,
     "metadata": {},
     "output_type": "execute_result"
    }
   ],
   "source": [
    "hex(217)"
   ]
  },
  {
   "cell_type": "code",
   "execution_count": 10,
   "id": "83c7957f-3db0-4afc-b920-715925c6b39a",
   "metadata": {},
   "outputs": [
    {
     "data": {
      "text/plain": [
       "'0b100011110'"
      ]
     },
     "execution_count": 10,
     "metadata": {},
     "output_type": "execute_result"
    }
   ],
   "source": [
    "bin(286)"
   ]
  },
  {
   "cell_type": "code",
   "execution_count": 11,
   "id": "5b826710-0e05-4321-a873-d08dd3625c93",
   "metadata": {},
   "outputs": [
    {
     "data": {
      "text/plain": [
       "'0b110000110'"
      ]
     },
     "execution_count": 11,
     "metadata": {},
     "output_type": "execute_result"
    }
   ],
   "source": [
    "bin(390)"
   ]
  },
  {
   "cell_type": "code",
   "execution_count": 12,
   "id": "bbe14c85-61c3-4212-98a2-398c762204c0",
   "metadata": {},
   "outputs": [
    {
     "data": {
      "text/plain": [
       "'0b1010'"
      ]
     },
     "execution_count": 12,
     "metadata": {},
     "output_type": "execute_result"
    }
   ],
   "source": [
    "bin(10)"
   ]
  },
  {
   "cell_type": "code",
   "execution_count": null,
   "id": "e5faeede-9a76-48df-a7c6-6db279dc4ff0",
   "metadata": {},
   "outputs": [],
   "source": []
  }
 ],
 "metadata": {
  "kernelspec": {
   "display_name": "Python 3 (ipykernel)",
   "language": "python",
   "name": "python3"
  },
  "language_info": {
   "codemirror_mode": {
    "name": "ipython",
    "version": 3
   },
   "file_extension": ".py",
   "mimetype": "text/x-python",
   "name": "python",
   "nbconvert_exporter": "python",
   "pygments_lexer": "ipython3",
   "version": "3.11.7"
  }
 },
 "nbformat": 4,
 "nbformat_minor": 5
}
