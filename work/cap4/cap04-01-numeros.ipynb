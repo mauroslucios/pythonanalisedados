{
 "cells": [
  {
   "cell_type": "markdown",
   "id": "b963736d-417d-424d-ad9b-45258c4dcc2b",
   "metadata": {},
   "source": [
    "# Capítulo 4 - Números e operações matemáticas\n"
   ]
  },
  {
   "cell_type": "code",
   "execution_count": 1,
   "id": "321d5b3a-f161-4131-8c14-2b983f05f311",
   "metadata": {},
   "outputs": [
    {
     "data": {
      "text/plain": [
       "8"
      ]
     },
     "execution_count": 1,
     "metadata": {},
     "output_type": "execute_result"
    }
   ],
   "source": [
    "# soma\n",
    "4 + 4"
   ]
  },
  {
   "cell_type": "code",
   "execution_count": 2,
   "id": "2b04f55b-b2e5-412c-ade1-d19fea2e464c",
   "metadata": {},
   "outputs": [
    {
     "data": {
      "text/plain": [
       "9"
      ]
     },
     "execution_count": 2,
     "metadata": {},
     "output_type": "execute_result"
    }
   ],
   "source": [
    "# subtração\n",
    "10 - 1"
   ]
  },
  {
   "cell_type": "code",
   "execution_count": 3,
   "id": "729224ab-79bd-4d5e-9f2f-46e43e2d307e",
   "metadata": {},
   "outputs": [
    {
     "data": {
      "text/plain": [
       "12"
      ]
     },
     "execution_count": 3,
     "metadata": {},
     "output_type": "execute_result"
    }
   ],
   "source": [
    "# multiplicação\n",
    "2 * 6"
   ]
  },
  {
   "cell_type": "code",
   "execution_count": 4,
   "id": "ef0761dd-8cf2-4f38-8959-b950a7c4f58a",
   "metadata": {},
   "outputs": [
    {
     "data": {
      "text/plain": [
       "200.0"
      ]
     },
     "execution_count": 4,
     "metadata": {},
     "output_type": "execute_result"
    }
   ],
   "source": [
    "# divisão\n",
    "2000 / 10"
   ]
  },
  {
   "cell_type": "code",
   "execution_count": 5,
   "id": "3bc5710f-9701-4d58-9b3d-800524ecfff6",
   "metadata": {},
   "outputs": [
    {
     "data": {
      "text/plain": [
       "1"
      ]
     },
     "execution_count": 5,
     "metadata": {},
     "output_type": "execute_result"
    }
   ],
   "source": [
    "# módulo\n",
    "10 % 3"
   ]
  },
  {
   "cell_type": "markdown",
   "id": "9c5a674f-e1bf-4f94-a531-b7c71b56c57b",
   "metadata": {},
   "source": [
    "# Função Type"
   ]
  },
  {
   "cell_type": "code",
   "execution_count": 6,
   "id": "e021ebc6-f25a-4e44-b028-5971c5e3fa75",
   "metadata": {},
   "outputs": [
    {
     "data": {
      "text/plain": [
       "int"
      ]
     },
     "execution_count": 6,
     "metadata": {},
     "output_type": "execute_result"
    }
   ],
   "source": [
    "type(5)"
   ]
  },
  {
   "cell_type": "code",
   "execution_count": 7,
   "id": "82711859-71c1-4336-9118-acdb03e57d59",
   "metadata": {},
   "outputs": [
    {
     "data": {
      "text/plain": [
       "float"
      ]
     },
     "execution_count": 7,
     "metadata": {},
     "output_type": "execute_result"
    }
   ],
   "source": [
    "type(10.5)"
   ]
  },
  {
   "cell_type": "code",
   "execution_count": 10,
   "id": "1b46d287-6b35-477e-9ba3-c78f2d3f04ba",
   "metadata": {},
   "outputs": [
    {
     "data": {
      "text/plain": [
       "str"
      ]
     },
     "execution_count": 10,
     "metadata": {},
     "output_type": "execute_result"
    }
   ],
   "source": [
    "a = \"testando o tipo de variavel\"\n",
    "type(a)"
   ]
  },
  {
   "cell_type": "code",
   "execution_count": null,
   "id": "00246e61-5557-4e01-89b0-947fb11fe406",
   "metadata": {},
   "outputs": [],
   "source": []
  }
 ],
 "metadata": {
  "kernelspec": {
   "display_name": "Python 3 (ipykernel)",
   "language": "python",
   "name": "python3"
  },
  "language_info": {
   "codemirror_mode": {
    "name": "ipython",
    "version": 3
   },
   "file_extension": ".py",
   "mimetype": "text/x-python",
   "name": "python",
   "nbconvert_exporter": "python",
   "pygments_lexer": "ipython3",
   "version": "3.11.7"
  }
 },
 "nbformat": 4,
 "nbformat_minor": 5
}
