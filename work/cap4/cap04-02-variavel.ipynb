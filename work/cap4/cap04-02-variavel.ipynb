{
 "cells": [
  {
   "cell_type": "code",
   "execution_count": 1,
   "id": "72b37c89-0647-4aee-ad2d-e4f9da1f1b2c",
   "metadata": {},
   "outputs": [
    {
     "name": "stdout",
     "output_type": "stream",
     "text": [
      "1\n"
     ]
    }
   ],
   "source": [
    "# atribuindo o valor 1 a variavel var_teste\n",
    "var_teste = 1\n",
    "print(var_teste)"
   ]
  },
  {
   "cell_type": "code",
   "execution_count": 5,
   "id": "bcbdf99f-1967-4ddf-a900-74425cd17923",
   "metadata": {},
   "outputs": [
    {
     "name": "stdout",
     "output_type": "stream",
     "text": [
      "10\n"
     ]
    },
    {
     "data": {
      "text/plain": [
       "int"
      ]
     },
     "execution_count": 5,
     "metadata": {},
     "output_type": "execute_result"
    }
   ],
   "source": [
    "# mudando o valor da variavel var_teste\n",
    "var_teste = 10\n",
    "print(var_teste)\n",
    "type(var_teste)"
   ]
  },
  {
   "cell_type": "code",
   "execution_count": 7,
   "id": "b682a35b-0493-4f9f-a6a9-3642a844384c",
   "metadata": {},
   "outputs": [
    {
     "name": "stdout",
     "output_type": "stream",
     "text": [
      "50.0\n"
     ]
    },
    {
     "data": {
      "text/plain": [
       "float"
      ]
     },
     "execution_count": 7,
     "metadata": {},
     "output_type": "execute_result"
    }
   ],
   "source": [
    "# tipagem dinâmica mudando o tipo da variável var_teste para float\n",
    "var_teste = 50.0\n",
    "print(var_teste)\n",
    "type(var_teste)"
   ]
  },
  {
   "cell_type": "code",
   "execution_count": 10,
   "id": "37cc19c6-5f5a-4d26-8afe-ab243e6dbc9b",
   "metadata": {},
   "outputs": [
    {
     "name": "stdout",
     "output_type": "stream",
     "text": [
      "Bob\n",
      "Maria\n",
      "Ana\n"
     ]
    }
   ],
   "source": [
    "# declaração multipla de variáveis em uma linha\n",
    "pessoa1, pessoa2, pessoa3 = \"Bob\", \"Maria\", \"Ana\"\n",
    "print(pessoa1)\n",
    "print(pessoa2)\n",
    "print(pessoa3)"
   ]
  },
  {
   "cell_type": "code",
   "execution_count": 15,
   "id": "c9970c9e-9106-4838-bcb8-3dba59ce59d4",
   "metadata": {},
   "outputs": [
    {
     "name": "stdout",
     "output_type": "stream",
     "text": [
      "Valor de Var1 = 10\n",
      "Valor de var1 = 15\n"
     ]
    }
   ],
   "source": [
    "# case-sensitive difere maiúsculas de minúsculas Var1 != var1\n",
    "# não podemos começar nome de variável com números ex: 1x = 10\n",
    "# não podemos usar palavras reservadas da linguagem como variável\n",
    "Var1 = 10\n",
    "print(f'Valor de Var1 =',Var1)\n",
    "var1 = 15\n",
    "print(f'Valor de var1 =',var1)"
   ]
  },
  {
   "cell_type": "code",
   "execution_count": 18,
   "id": "a376bbdd-46b0-4904-82f5-76def601553b",
   "metadata": {},
   "outputs": [
    {
     "name": "stdout",
     "output_type": "stream",
     "text": [
      "A área total é de: 50\n"
     ]
    }
   ],
   "source": [
    "# variáveis atribuidas a outras variáveis\n",
    "base = 10\n",
    "altura = 5\n",
    "area = base * altura\n",
    "print(f'A área total é de:',area)"
   ]
  },
  {
   "cell_type": "code",
   "execution_count": 24,
   "id": "3cf571c0-77ce-4b73-bf8d-9e1df0b418ea",
   "metadata": {},
   "outputs": [
    {
     "name": "stdout",
     "output_type": "stream",
     "text": [
      "Valor de x = 30\n",
      "Valor de j = 0\n"
     ]
    }
   ],
   "source": [
    "# Ordem dos operadores matemáticos: parênteses, expoentes, multiplicação e divisão (mesmo nível) e adição e subtração (mesmo nível)\n",
    "x = 2 * (5 + 10)\n",
    "print(f'Valor de x =',x)\n",
    "j = 2 * (5 - 5)\n",
    "print(f'Valor de j =', j)"
   ]
  },
  {
   "cell_type": "code",
   "execution_count": 27,
   "id": "be206bab-d2bf-49f2-bf68-20f6ba376336",
   "metadata": {},
   "outputs": [
    {
     "data": {
      "text/plain": [
       "'João Ribeiro'"
      ]
     },
     "execution_count": 27,
     "metadata": {},
     "output_type": "execute_result"
    }
   ],
   "source": [
    "# concatenação de variáveis\n",
    "nome = 'João'\n",
    "sobrenome = 'Ribeiro'\n",
    "nomeCompleto = nome + \" \" + sobrenome\n",
    "nomeCompleto"
   ]
  }
 ],
 "metadata": {
  "kernelspec": {
   "display_name": "Python 3 (ipykernel)",
   "language": "python",
   "name": "python3"
  },
  "language_info": {
   "codemirror_mode": {
    "name": "ipython",
    "version": 3
   },
   "file_extension": ".py",
   "mimetype": "text/x-python",
   "name": "python",
   "nbconvert_exporter": "python",
   "pygments_lexer": "ipython3",
   "version": "3.11.7"
  }
 },
 "nbformat": 4,
 "nbformat_minor": 5
}
