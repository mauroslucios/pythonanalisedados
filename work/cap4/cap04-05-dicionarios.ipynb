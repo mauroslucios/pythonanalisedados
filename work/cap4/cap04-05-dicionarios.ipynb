{
 "cells": [
  {
   "cell_type": "markdown",
   "id": "dfa65252-3b79-4aed-924b-a15c0777964d",
   "metadata": {},
   "source": [
    "# Trabalhando com dicionários em python"
   ]
  },
  {
   "cell_type": "code",
   "execution_count": 2,
   "id": "6f8a407c-1c0e-4aae-b5f1-03110864e498",
   "metadata": {},
   "outputs": [
    {
     "data": {
      "text/plain": [
       "['Pedro', 24, 'Ana', 22, 'Ronaldo', 26, 'Janaina', 25]"
      ]
     },
     "execution_count": 2,
     "metadata": {},
     "output_type": "execute_result"
    }
   ],
   "source": [
    "# lista de nomes\n",
    "estudantes_lst = ['Pedro', 24, 'Ana', 22, 'Ronaldo', 26, 'Janaina', 25]\n",
    "estudantes_lst"
   ]
  },
  {
   "cell_type": "code",
   "execution_count": 3,
   "id": "1c56601d-4cbf-4e15-9f90-2f0e2b4d67d3",
   "metadata": {},
   "outputs": [
    {
     "data": {
      "text/plain": [
       "list"
      ]
     },
     "execution_count": 3,
     "metadata": {},
     "output_type": "execute_result"
    }
   ],
   "source": [
    "type(estudantes_lst)"
   ]
  },
  {
   "cell_type": "code",
   "execution_count": 4,
   "id": "a5650897-9f40-4f90-9bd3-0411b9a8eb6d",
   "metadata": {},
   "outputs": [
    {
     "data": {
      "text/plain": [
       "{'Pedro': 24, 'Ana': 22, 'Ronaldo': 26, 'Janaina': 25}"
      ]
     },
     "execution_count": 4,
     "metadata": {},
     "output_type": "execute_result"
    }
   ],
   "source": [
    "# dicionário de nomes\n",
    "estudantes_dict = {'Pedro':24, 'Ana':22,'Ronaldo':26,'Janaina':25}\n",
    "estudantes_dict"
   ]
  },
  {
   "cell_type": "code",
   "execution_count": 5,
   "id": "9a945760-bd3f-4dc2-93f5-60c3dfcc0811",
   "metadata": {},
   "outputs": [
    {
     "data": {
      "text/plain": [
       "dict"
      ]
     },
     "execution_count": 5,
     "metadata": {},
     "output_type": "execute_result"
    }
   ],
   "source": [
    "type(estudantes_dict)"
   ]
  },
  {
   "cell_type": "code",
   "execution_count": 6,
   "id": "53f3a727-87bb-49d9-bf33-32abbec9c843",
   "metadata": {},
   "outputs": [
    {
     "data": {
      "text/plain": [
       "24"
      ]
     },
     "execution_count": 6,
     "metadata": {},
     "output_type": "execute_result"
    }
   ],
   "source": [
    "estudantes_dict['Pedro']"
   ]
  },
  {
   "cell_type": "code",
   "execution_count": 7,
   "id": "bde17a4d-a950-4657-ae74-bc3e96c0e2cb",
   "metadata": {},
   "outputs": [
    {
     "name": "stdout",
     "output_type": "stream",
     "text": [
      "{'Pedro': 24, 'Ana': 22, 'Ronaldo': 26, 'Janaina': 25, 'Marcelo': 23}\n"
     ]
    },
    {
     "data": {
      "text/plain": [
       "23"
      ]
     },
     "execution_count": 7,
     "metadata": {},
     "output_type": "execute_result"
    }
   ],
   "source": [
    "# adicionando item ao dicionário\n",
    "estudantes_dict['Marcelo'] = 23\n",
    "print(estudantes_dict)\n",
    "estudantes_dict['Marcelo']"
   ]
  },
  {
   "cell_type": "code",
   "execution_count": 8,
   "id": "ffd06b71-4405-4a75-9f5b-63cf4d928939",
   "metadata": {},
   "outputs": [
    {
     "name": "stdout",
     "output_type": "stream",
     "text": [
      "dict_keys(['Pedro', 'Ana', 'Ronaldo', 'Janaina', 'Marcelo'])\n"
     ]
    }
   ],
   "source": [
    "# métodos chave e valor\n",
    "chaves = estudantes_dict.keys()\n",
    "print(chaves)"
   ]
  },
  {
   "cell_type": "code",
   "execution_count": 9,
   "id": "95a094c4-1c03-4dbd-97ff-71241cbc45c0",
   "metadata": {},
   "outputs": [
    {
     "name": "stdout",
     "output_type": "stream",
     "text": [
      "dict_values([24, 22, 26, 25, 23])\n"
     ]
    }
   ],
   "source": [
    "valores = estudantes_dict.values()\n",
    "print(valores)"
   ]
  },
  {
   "cell_type": "code",
   "execution_count": 10,
   "id": "e7c40a91-7230-495e-8577-95641c350520",
   "metadata": {},
   "outputs": [
    {
     "data": {
      "text/plain": [
       "dict_items([('Pedro', 24), ('Ana', 22), ('Ronaldo', 26), ('Janaina', 25), ('Marcelo', 23)])"
      ]
     },
     "execution_count": 10,
     "metadata": {},
     "output_type": "execute_result"
    }
   ],
   "source": [
    "# items do dicionário\n",
    "estudantes_dict.items()"
   ]
  },
  {
   "cell_type": "code",
   "execution_count": 11,
   "id": "1e5de8dc-0e7f-4c98-841c-a22da05a6f38",
   "metadata": {},
   "outputs": [
    {
     "data": {
      "text/plain": [
       "{}"
      ]
     },
     "execution_count": 11,
     "metadata": {},
     "output_type": "execute_result"
    }
   ],
   "source": [
    "# limpando o dicionário\n",
    "estudantes_dict.clear()\n",
    "estudantes_dict"
   ]
  },
  {
   "cell_type": "code",
   "execution_count": 12,
   "id": "32a4fd33-7115-4d4a-8d11-c006ae61125f",
   "metadata": {},
   "outputs": [],
   "source": [
    "# deletando o dicionário\n",
    "del estudantes_dict"
   ]
  },
  {
   "cell_type": "code",
   "execution_count": 13,
   "id": "c7b55a72-d395-46d9-8758-0119e01088cf",
   "metadata": {},
   "outputs": [
    {
     "data": {
      "text/plain": [
       "5"
      ]
     },
     "execution_count": 13,
     "metadata": {},
     "output_type": "execute_result"
    }
   ],
   "source": [
    "# tamanho do dicionário\n",
    "estudantes = {'Pedro': 24, 'Ana': 22, 'Ronaldo': 26, 'Janaina': 25, 'Marcelo': 23}\n",
    "len(estudantes)"
   ]
  },
  {
   "cell_type": "code",
   "execution_count": 14,
   "id": "087672f5-6498-484b-9742-768f34543e51",
   "metadata": {},
   "outputs": [],
   "source": [
    "# dicionário de estudantes 2\n",
    "estudantes2 = {'Rafaela': 39, 'Adriana': 28, 'Mauro': 54}"
   ]
  },
  {
   "cell_type": "code",
   "execution_count": 15,
   "id": "1eb76940-5345-4b1f-91d5-3d01c7ce553d",
   "metadata": {},
   "outputs": [
    {
     "data": {
      "text/plain": [
       "{'Pedro': 24,\n",
       " 'Ana': 22,\n",
       " 'Ronaldo': 26,\n",
       " 'Janaina': 25,\n",
       " 'Marcelo': 23,\n",
       " 'Rafaela': 39,\n",
       " 'Adriana': 28,\n",
       " 'Mauro': 54}"
      ]
     },
     "execution_count": 15,
     "metadata": {},
     "output_type": "execute_result"
    }
   ],
   "source": [
    "# atualizando dicionário \n",
    "estudantes.update(estudantes2)\n",
    "estudantes"
   ]
  },
  {
   "cell_type": "code",
   "execution_count": 16,
   "id": "641dcebb-7707-4343-b197-da370509d050",
   "metadata": {},
   "outputs": [
    {
     "data": {
      "text/plain": [
       "{'chave_um': 2}"
      ]
     },
     "execution_count": 16,
     "metadata": {},
     "output_type": "execute_result"
    }
   ],
   "source": [
    "# dicionário vazio\n",
    "dic1 = {}\n",
    "# adicionando item ao dicionário\n",
    "dic1['chave_um'] = 2\n",
    "dic1"
   ]
  },
  {
   "cell_type": "code",
   "execution_count": 17,
   "id": "d16813a3-7e97-48b4-bb95-2c0cdc0bdf84",
   "metadata": {},
   "outputs": [
    {
     "data": {
      "text/plain": [
       "{'chave_um': 2, 10: 5}"
      ]
     },
     "execution_count": 17,
     "metadata": {},
     "output_type": "execute_result"
    }
   ],
   "source": [
    "dic1[10] = 5\n",
    "dic1"
   ]
  },
  {
   "cell_type": "code",
   "execution_count": 18,
   "id": "fc4e8464-d5e5-4ab2-bf2c-5f63301d689a",
   "metadata": {},
   "outputs": [
    {
     "name": "stdout",
     "output_type": "stream",
     "text": [
      "Rafaela, tem 39 anos.\n",
      "Mauro, tem 54 anos.\n"
     ]
    }
   ],
   "source": [
    "a = estudantes2['Rafaela']\n",
    "print(f'Rafaela, tem {a} anos.')\n",
    "b = estudantes2['Mauro']\n",
    "print(f'Mauro, tem {b} anos.')"
   ]
  },
  {
   "cell_type": "code",
   "execution_count": 19,
   "id": "49bda6f3-e91d-425b-b792-9b334a2bc0ee",
   "metadata": {},
   "outputs": [
    {
     "data": {
      "text/plain": [
       "{'chave1': 1230,\n",
       " 'chave2': [22, 453, 73.4],\n",
       " 'chave3': ['picanha', 'fraldinha', 'alcatra']}"
      ]
     },
     "execution_count": 19,
     "metadata": {},
     "output_type": "execute_result"
    }
   ],
   "source": [
    "# dicionário de listas\n",
    "dict3 = {'chave1': 1230, 'chave2':[22,453,73.4],'chave3':['picanha','fraldinha','alcatra']}\n",
    "dict3"
   ]
  },
  {
   "cell_type": "code",
   "execution_count": 20,
   "id": "41261c26-758d-4911-9535-d0eab7f085c1",
   "metadata": {},
   "outputs": [
    {
     "data": {
      "text/plain": [
       "[22, 453, 73.4]"
      ]
     },
     "execution_count": 20,
     "metadata": {},
     "output_type": "execute_result"
    }
   ],
   "source": [
    "dict3['chave2']"
   ]
  },
  {
   "cell_type": "code",
   "execution_count": 22,
   "id": "fd82f203-702e-4a14-8474-a6bbd3605788",
   "metadata": {},
   "outputs": [
    {
     "data": {
      "text/plain": [
       "'PICANHA'"
      ]
     },
     "execution_count": 22,
     "metadata": {},
     "output_type": "execute_result"
    }
   ],
   "source": [
    "# acessando um item da lista dentro do diciionário\n",
    "dict3['chave3'][0].upper()"
   ]
  },
  {
   "cell_type": "code",
   "execution_count": 23,
   "id": "a56a6edf-7386-4d60-9a98-cfc819ad83ff",
   "metadata": {},
   "outputs": [
    {
     "data": {
      "text/plain": [
       "20"
      ]
     },
     "execution_count": 23,
     "metadata": {},
     "output_type": "execute_result"
    }
   ],
   "source": [
    "# operações com itens da lista, dentro do dicionário\n",
    "var1 = dict3['chave2'][0] - 2\n",
    "var1"
   ]
  },
  {
   "cell_type": "code",
   "execution_count": 24,
   "id": "70203f61-401d-4be9-a963-33b0e24157f6",
   "metadata": {},
   "outputs": [
    {
     "data": {
      "text/plain": [
       "{'chave1': 1230,\n",
       " 'chave2': [20, 453, 73.4],\n",
       " 'chave3': ['picanha', 'fraldinha', 'alcatra']}"
      ]
     },
     "execution_count": 24,
     "metadata": {},
     "output_type": "execute_result"
    }
   ],
   "source": [
    "# duas operações no mesmo comando, para atualizar um item dentro da lista\n",
    "dict3['chave2'][0] -= 2\n",
    "dict3"
   ]
  },
  {
   "cell_type": "markdown",
   "id": "cededdb5-30f3-42ed-bb64-30df13c73d5b",
   "metadata": {},
   "source": [
    "# Criando dicionários aninhados"
   ]
  },
  {
   "cell_type": "code",
   "execution_count": 25,
   "id": "5d6020ea-267e-4a1b-9b0b-0276848abb3e",
   "metadata": {},
   "outputs": [
    {
     "data": {
      "text/plain": [
       "{'key1': {'key2_aninhada': {'key3_aninhada': 'Dict aninhado em Pyhton'}}}"
      ]
     },
     "execution_count": 25,
     "metadata": {},
     "output_type": "execute_result"
    }
   ],
   "source": [
    "# dicionários aninhados\n",
    "dict_aninhado = {'key1':{'key2_aninhada':{'key3_aninhada':'Dict aninhado em Pyhton'}}}\n",
    "dict_aninhado"
   ]
  },
  {
   "cell_type": "code",
   "execution_count": 27,
   "id": "12de60f6-36ae-4a21-aabf-64e09e1e66f8",
   "metadata": {},
   "outputs": [
    {
     "data": {
      "text/plain": [
       "'Dict aninhado em Pyhton'"
      ]
     },
     "execution_count": 27,
     "metadata": {},
     "output_type": "execute_result"
    }
   ],
   "source": [
    "# pegando item aninhado em python\n",
    "dict_aninhado['key1']['key2_aninhada']['key3_aninhada']"
   ]
  }
 ],
 "metadata": {
  "kernelspec": {
   "display_name": "Python 3 (ipykernel)",
   "language": "python",
   "name": "python3"
  },
  "language_info": {
   "codemirror_mode": {
    "name": "ipython",
    "version": 3
   },
   "file_extension": ".py",
   "mimetype": "text/x-python",
   "name": "python",
   "nbconvert_exporter": "python",
   "pygments_lexer": "ipython3",
   "version": "3.11.7"
  }
 },
 "nbformat": 4,
 "nbformat_minor": 5
}
