{
 "cells": [
  {
   "cell_type": "markdown",
   "id": "2400bf8e-872e-4799-b9b9-605ba724d9ac",
   "metadata": {},
   "source": [
    "# Manipulando listas em python"
   ]
  },
  {
   "cell_type": "code",
   "execution_count": 2,
   "id": "628b008d-8916-4415-a9a7-59bbadc64765",
   "metadata": {},
   "outputs": [],
   "source": [
    "# criando uma lista de listas\n",
    "listas = [[1,2,3],[10,15,14],[10.1,8.7,2.3]]"
   ]
  },
  {
   "cell_type": "code",
   "execution_count": 3,
   "id": "b5e43b4a-cc81-41a5-98d3-d3862d8cb1f2",
   "metadata": {},
   "outputs": [
    {
     "name": "stdout",
     "output_type": "stream",
     "text": [
      "[[1, 2, 3], [10, 15, 14], [10.1, 8.7, 2.3]]\n"
     ]
    }
   ],
   "source": [
    "# imprimindo a lista\n",
    "print(listas)"
   ]
  },
  {
   "cell_type": "code",
   "execution_count": 4,
   "id": "89fb05cf-4d01-479d-b672-e205b4ece78d",
   "metadata": {},
   "outputs": [
    {
     "data": {
      "text/plain": [
       "[1, 2, 3]"
      ]
     },
     "execution_count": 4,
     "metadata": {},
     "output_type": "execute_result"
    }
   ],
   "source": [
    "# atribuindo um item da lista a uma variável\n",
    "a = listas[0]\n",
    "a"
   ]
  },
  {
   "cell_type": "code",
   "execution_count": 5,
   "id": "33210102-ef1e-4fbd-840c-684a384f0f84",
   "metadata": {},
   "outputs": [
    {
     "data": {
      "text/plain": [
       "1"
      ]
     },
     "execution_count": 5,
     "metadata": {},
     "output_type": "execute_result"
    }
   ],
   "source": [
    "# atribuindo o primeiro elemento da lista a variável b e imprimindo o primeiro elemento de b\n",
    "b = a[0]\n",
    "b"
   ]
  },
  {
   "cell_type": "code",
   "execution_count": 6,
   "id": "63c290a4-c507-49b9-80d8-17527a6e809e",
   "metadata": {},
   "outputs": [
    {
     "data": {
      "text/plain": [
       "[10, 15, 14]"
      ]
     },
     "execution_count": 6,
     "metadata": {},
     "output_type": "execute_result"
    }
   ],
   "source": [
    "# atribuindo o segundo elemento da lista a variável lista1 \n",
    "lista1 = listas[1]\n",
    "lista1"
   ]
  },
  {
   "cell_type": "code",
   "execution_count": 7,
   "id": "022cbda3-4aca-475b-a151-c1a9fe1913e2",
   "metadata": {},
   "outputs": [
    {
     "data": {
      "text/plain": [
       "10"
      ]
     },
     "execution_count": 7,
     "metadata": {},
     "output_type": "execute_result"
    }
   ],
   "source": [
    "# imprimindo o primeiro elemento de lista1\n",
    "lista1[0]"
   ]
  },
  {
   "cell_type": "markdown",
   "id": "8facfa41-34f5-4f01-b780-d0b96b86dbd5",
   "metadata": {},
   "source": [
    "# Atribuição de valores da lista"
   ]
  },
  {
   "cell_type": "code",
   "execution_count": 8,
   "id": "9bfe7cc7-d194-422e-89a2-09177269afaa",
   "metadata": {},
   "outputs": [
    {
     "data": {
      "text/plain": [
       "[10.1, 8.7, 2.3]"
      ]
     },
     "execution_count": 8,
     "metadata": {},
     "output_type": "execute_result"
    }
   ],
   "source": [
    "# atribuindo o terceiro elemento da lista a variável lista2\n",
    "lista2 = listas[2]\n",
    "lista2"
   ]
  },
  {
   "cell_type": "code",
   "execution_count": 9,
   "id": "795b01fa-8947-4d92-845c-2a3048e6d399",
   "metadata": {},
   "outputs": [
    {
     "data": {
      "text/plain": [
       "10.1"
      ]
     },
     "execution_count": 9,
     "metadata": {},
     "output_type": "execute_result"
    }
   ],
   "source": [
    "# imprimindo o primeiro elemento de lista2\n",
    "lista2[0]"
   ]
  },
  {
   "cell_type": "code",
   "execution_count": 10,
   "id": "312a39c2-42ef-4ab2-96c6-e324efcb6231",
   "metadata": {},
   "outputs": [
    {
     "name": "stdout",
     "output_type": "stream",
     "text": [
      "[[1, 2, 3], [10, 15, 14], [10.1, 8.7, 2.3]]\n"
     ]
    },
    {
     "data": {
      "text/plain": [
       "1"
      ]
     },
     "execution_count": 10,
     "metadata": {},
     "output_type": "execute_result"
    }
   ],
   "source": [
    "# atribuindo a variável \"a\" o primeiro valor da primeira lista\n",
    "print(listas)\n",
    "a = listas[0][0]\n",
    "a"
   ]
  },
  {
   "cell_type": "code",
   "execution_count": 11,
   "id": "c93416c8-b2f4-47e9-903e-945d135a9417",
   "metadata": {},
   "outputs": [
    {
     "name": "stdout",
     "output_type": "stream",
     "text": [
      "[[1, 2, 3], [10, 15, 14], [10.1, 8.7, 2.3]]\n"
     ]
    },
    {
     "data": {
      "text/plain": [
       "14"
      ]
     },
     "execution_count": 11,
     "metadata": {},
     "output_type": "execute_result"
    }
   ],
   "source": [
    "# atribuindo a variável \"b\" o terceiro valor da segunda lista\n",
    "print(listas)\n",
    "b = listas[1][2]\n",
    "b"
   ]
  },
  {
   "cell_type": "markdown",
   "id": "3591ce37-c4bd-4131-9d35-eb98d2f9e238",
   "metadata": {},
   "source": [
    "# Operações matemáticas com lista"
   ]
  },
  {
   "cell_type": "code",
   "execution_count": 12,
   "id": "d6df8d64-6214-4cc5-8527-d654e977a7bb",
   "metadata": {},
   "outputs": [
    {
     "data": {
      "text/plain": [
       "13"
      ]
     },
     "execution_count": 12,
     "metadata": {},
     "output_type": "execute_result"
    }
   ],
   "source": [
    "# soma com valores da lista\n",
    "# somando 10 ao terceiro valor da lista\n",
    "c = listas[0][2] + 10\n",
    "c"
   ]
  },
  {
   "cell_type": "code",
   "execution_count": 13,
   "id": "627da9ca-7c21-406c-abd6-92d3fbc65c7e",
   "metadata": {},
   "outputs": [
    {
     "data": {
      "text/plain": [
       "101.0"
      ]
     },
     "execution_count": 13,
     "metadata": {},
     "output_type": "execute_result"
    }
   ],
   "source": [
    "# multiplicação com valores da lista\n",
    "d = 10\n",
    "d *= listas[2][0]\n",
    "d"
   ]
  },
  {
   "cell_type": "code",
   "execution_count": 14,
   "id": "2e96ea28-8119-4ca5-9f90-5654ac79606c",
   "metadata": {},
   "outputs": [
    {
     "data": {
      "text/plain": [
       "[34, 32, 56]"
      ]
     },
     "execution_count": 14,
     "metadata": {},
     "output_type": "execute_result"
    }
   ],
   "source": [
    "# concatenando listas\n",
    "lista_s1 = [ 34, 32, 56]\n",
    "lista_s1"
   ]
  },
  {
   "cell_type": "code",
   "execution_count": 15,
   "id": "4a17c45c-d6fd-4f5a-b16d-f5e6c2cddc66",
   "metadata": {},
   "outputs": [
    {
     "data": {
      "text/plain": [
       "[21, 90, 51]"
      ]
     },
     "execution_count": 15,
     "metadata": {},
     "output_type": "execute_result"
    }
   ],
   "source": [
    "lista_s2 = [21, 90, 51]\n",
    "lista_s2"
   ]
  },
  {
   "cell_type": "code",
   "execution_count": 16,
   "id": "e4a5b014-bdf0-4793-8433-5505ea12f245",
   "metadata": {},
   "outputs": [
    {
     "data": {
      "text/plain": [
       "[34, 32, 56, 21, 90, 51]"
      ]
     },
     "execution_count": 16,
     "metadata": {},
     "output_type": "execute_result"
    }
   ],
   "source": [
    "lista_total = lista_s1 + lista_s2\n",
    "lista_total"
   ]
  },
  {
   "cell_type": "markdown",
   "id": "cdad4c46-09d6-495f-b7ff-8b8ea7547e90",
   "metadata": {},
   "source": [
    "# Operador in"
   ]
  },
  {
   "cell_type": "code",
   "execution_count": 17,
   "id": "74b78ff6-17cf-4825-82d4-3fbe0fd411ef",
   "metadata": {},
   "outputs": [],
   "source": [
    "# criando uma lista\n",
    "lista_operador_in = [100,2,-5,3.4]"
   ]
  },
  {
   "cell_type": "code",
   "execution_count": 18,
   "id": "ea311f1f-4fdb-42ce-8b9a-379be4f1d953",
   "metadata": {},
   "outputs": [
    {
     "name": "stdout",
     "output_type": "stream",
     "text": [
      "False\n"
     ]
    }
   ],
   "source": [
    "# verificando se o valor 10 pertence a lista\n",
    "print(10 in lista_operador_in)"
   ]
  },
  {
   "cell_type": "code",
   "execution_count": 19,
   "id": "0feac6fe-77af-46bd-81b8-1ac3ca8443c2",
   "metadata": {},
   "outputs": [
    {
     "name": "stdout",
     "output_type": "stream",
     "text": [
      "True\n"
     ]
    }
   ],
   "source": [
    "# verificando se o valor 100 pertence a lista\n",
    "print(100 in lista_operador_in)"
   ]
  },
  {
   "cell_type": "markdown",
   "id": "6bce3757-68e0-40e1-8e90-b3c4edebd3ec",
   "metadata": {},
   "source": [
    "# Funções Built-in"
   ]
  },
  {
   "cell_type": "code",
   "execution_count": 20,
   "id": "421ff1b0-b6a2-4cea-ae64-6dd80b998a67",
   "metadata": {},
   "outputs": [],
   "source": [
    "# criando uma lista\n",
    "lista_numeros = [10, 20, 50, -3.4]"
   ]
  },
  {
   "cell_type": "code",
   "execution_count": 21,
   "id": "de54f31a-87f5-4208-8ace-5d3c2b1684f9",
   "metadata": {},
   "outputs": [
    {
     "data": {
      "text/plain": [
       "4"
      ]
     },
     "execution_count": 21,
     "metadata": {},
     "output_type": "execute_result"
    }
   ],
   "source": [
    "# função len() retorna o comprimento da lista\n",
    "len(lista_numeros)"
   ]
  },
  {
   "cell_type": "code",
   "execution_count": 22,
   "id": "db83170e-d86a-426e-9b4b-7a2ec72f0a40",
   "metadata": {},
   "outputs": [
    {
     "data": {
      "text/plain": [
       "50"
      ]
     },
     "execution_count": 22,
     "metadata": {},
     "output_type": "execute_result"
    }
   ],
   "source": [
    "# função max() retorna o valor máximo da lista\n",
    "max(lista_numeros)"
   ]
  },
  {
   "cell_type": "code",
   "execution_count": 23,
   "id": "5b188904-b78e-43b6-8bae-31173a801dde",
   "metadata": {},
   "outputs": [
    {
     "data": {
      "text/plain": [
       "-3.4"
      ]
     },
     "execution_count": 23,
     "metadata": {},
     "output_type": "execute_result"
    }
   ],
   "source": [
    "# função min() retorna o valor máximo da lista\n",
    "min(lista_numeros)"
   ]
  },
  {
   "cell_type": "code",
   "execution_count": 28,
   "id": "89081dbe-695a-43d0-9380-63ef0136f993",
   "metadata": {},
   "outputs": [
    {
     "data": {
      "text/plain": [
       "['Adicao', ' Subtracao', 'Multiplicacao']"
      ]
     },
     "execution_count": 28,
     "metadata": {},
     "output_type": "execute_result"
    }
   ],
   "source": [
    "# criando uma lista\n",
    "lista_funcao_append = ['Adicao',' Subtracao','Multiplicacao']\n",
    "lista_funcao_append"
   ]
  },
  {
   "cell_type": "code",
   "execution_count": 29,
   "id": "aeaeffd8-8b9c-4892-8fc2-f42e046c9eb5",
   "metadata": {},
   "outputs": [
    {
     "data": {
      "text/plain": [
       "['Adicao', ' Subtracao', 'Multiplicacao', 'Divisao']"
      ]
     },
     "execution_count": 29,
     "metadata": {},
     "output_type": "execute_result"
    }
   ],
   "source": [
    "# adicionando um item a lista\n",
    "lista_funcao_append.append('Divisao')\n",
    "lista_funcao_append"
   ]
  },
  {
   "cell_type": "code",
   "execution_count": 30,
   "id": "719af5ac-c3a1-47ab-89df-4bcefa9c1dcb",
   "metadata": {},
   "outputs": [
    {
     "data": {
      "text/plain": [
       "1"
      ]
     },
     "execution_count": 30,
     "metadata": {},
     "output_type": "execute_result"
    }
   ],
   "source": [
    "# contando quantas vezes um elemento aparece na miha lista\n",
    "lista_funcao_append.count(\"Divisao\")"
   ]
  },
  {
   "cell_type": "code",
   "execution_count": 39,
   "id": "27fc7543-85b3-41d4-babd-7561a51d2638",
   "metadata": {},
   "outputs": [
    {
     "name": "stdout",
     "output_type": "stream",
     "text": [
      "[]\n"
     ]
    }
   ],
   "source": [
    "# criando uma list vazia\n",
    "a = []\n",
    "print(a)"
   ]
  },
  {
   "cell_type": "code",
   "execution_count": 40,
   "id": "57bdfef6-157e-493d-8c46-868b392cecfc",
   "metadata": {},
   "outputs": [
    {
     "data": {
      "text/plain": [
       "[10]"
      ]
     },
     "execution_count": 40,
     "metadata": {},
     "output_type": "execute_result"
    }
   ],
   "source": [
    "# adicionando item a lista\n",
    "a.append(10)\n",
    "a"
   ]
  },
  {
   "cell_type": "code",
   "execution_count": 41,
   "id": "87c8a76e-9c01-4871-b6e3-99f297858896",
   "metadata": {},
   "outputs": [
    {
     "data": {
      "text/plain": [
       "[10, 70]"
      ]
     },
     "execution_count": 41,
     "metadata": {},
     "output_type": "execute_result"
    }
   ],
   "source": [
    "# adicionando outro item a lista\n",
    "a.append(70)\n",
    "a"
   ]
  },
  {
   "cell_type": "code",
   "execution_count": 43,
   "id": "842a803b-07d6-459f-8ab6-015d74438386",
   "metadata": {},
   "outputs": [],
   "source": [
    "old_list = [1,2,5,10]\n",
    "new_list = []"
   ]
  },
  {
   "cell_type": "code",
   "execution_count": 45,
   "id": "b332c4a8-0381-497a-ba55-8c4a9aa31434",
   "metadata": {},
   "outputs": [
    {
     "data": {
      "text/plain": [
       "[1, 2, 5, 10]"
      ]
     },
     "execution_count": 45,
     "metadata": {},
     "output_type": "execute_result"
    }
   ],
   "source": [
    "# copiando os items de uma lista para outra\n",
    "for item in old_list:\n",
    "    new_list.append(item)\n",
    "new_list"
   ]
  },
  {
   "cell_type": "code",
   "execution_count": 46,
   "id": "35b7c69f-4fb8-4159-8aea-1700db7e0006",
   "metadata": {},
   "outputs": [
    {
     "name": "stdout",
     "output_type": "stream",
     "text": [
      "['Recife', 'Manaus', 'Salvador', 'Fortaleza', 'Palmas']\n"
     ]
    }
   ],
   "source": [
    "# inserindo itens novos em uma lista\n",
    "cidades = ['Recife','Manaus','Salvador']\n",
    "cidades.extend(['Fortaleza','Palmas'])\n",
    "print(cidades)"
   ]
  },
  {
   "cell_type": "code",
   "execution_count": 49,
   "id": "00da7f50-78df-40a1-b650-08db747c84e2",
   "metadata": {},
   "outputs": [
    {
     "data": {
      "text/plain": [
       "2"
      ]
     },
     "execution_count": 49,
     "metadata": {},
     "output_type": "execute_result"
    }
   ],
   "source": [
    "# pegando o índice de um item na lista\n",
    "cidades.index('Salvador')"
   ]
  },
  {
   "cell_type": "code",
   "execution_count": 50,
   "id": "7fa23e58-6b09-4ba6-9715-f9e6c884f660",
   "metadata": {},
   "outputs": [
    {
     "data": {
      "text/plain": [
       "['Recife', 'Manaus', 'Salvador', 'Fortaleza', 'Palmas']"
      ]
     },
     "execution_count": 50,
     "metadata": {},
     "output_type": "execute_result"
    }
   ],
   "source": [
    "cidades"
   ]
  },
  {
   "cell_type": "code",
   "execution_count": 58,
   "id": "d9d2e576-6238-4d4f-b92d-33aaa6b81492",
   "metadata": {},
   "outputs": [
    {
     "data": {
      "text/plain": [
       "['Recife', 'Manaus', 110, 'Salvador', 'Fortaleza', 'Palmas']"
      ]
     },
     "execution_count": 58,
     "metadata": {},
     "output_type": "execute_result"
    }
   ],
   "source": [
    "# insserindo um item no índice 2 da lista\n",
    "cidades.insert(2,110)\n",
    "cidades"
   ]
  },
  {
   "cell_type": "code",
   "execution_count": 59,
   "id": "a95d8c7d-03d9-45d5-89f6-dede8dfad994",
   "metadata": {},
   "outputs": [
    {
     "data": {
      "text/plain": [
       "['Recife', 'Manaus', 'Salvador', 'Fortaleza', 'Palmas']"
      ]
     },
     "execution_count": 59,
     "metadata": {},
     "output_type": "execute_result"
    }
   ],
   "source": [
    "# removendo o item 2 da lista\n",
    "cidades.remove(110)\n",
    "cidades"
   ]
  },
  {
   "cell_type": "code",
   "execution_count": 61,
   "id": "cb0ba4de-51ce-4cb7-b3d6-43f1f0afbd07",
   "metadata": {},
   "outputs": [
    {
     "data": {
      "text/plain": [
       "['Recife', 'Manaus', 'Salvador', 'Fortaleza', 'Palmas']"
      ]
     },
     "execution_count": 61,
     "metadata": {},
     "output_type": "execute_result"
    }
   ],
   "source": [
    "# invertendo a lista\n",
    "cidades.reverse()\n",
    "cidades"
   ]
  },
  {
   "cell_type": "code",
   "execution_count": 62,
   "id": "5ead4d74-f959-48a8-ba4c-034fa7c6df2d",
   "metadata": {},
   "outputs": [],
   "source": [
    "# lista desordenada\n",
    "ordem = [3,4,2,1]"
   ]
  },
  {
   "cell_type": "code",
   "execution_count": 64,
   "id": "dbcc47c3-67cb-4c03-ad47-4547e2176039",
   "metadata": {},
   "outputs": [
    {
     "data": {
      "text/plain": [
       "[1, 2, 3, 4]"
      ]
     },
     "execution_count": 64,
     "metadata": {},
     "output_type": "execute_result"
    }
   ],
   "source": [
    "# usando método sort para ordenar\n",
    "ordem.sort()\n",
    "ordem"
   ]
  }
 ],
 "metadata": {
  "kernelspec": {
   "display_name": "Python 3 (ipykernel)",
   "language": "python",
   "name": "python3"
  },
  "language_info": {
   "codemirror_mode": {
    "name": "ipython",
    "version": 3
   },
   "file_extension": ".py",
   "mimetype": "text/x-python",
   "name": "python",
   "nbconvert_exporter": "python",
   "pygments_lexer": "ipython3",
   "version": "3.11.7"
  }
 },
 "nbformat": 4,
 "nbformat_minor": 5
}
