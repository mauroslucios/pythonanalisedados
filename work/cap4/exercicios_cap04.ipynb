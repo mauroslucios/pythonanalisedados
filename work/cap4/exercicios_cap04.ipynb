{
 "cells": [
  {
   "cell_type": "markdown",
   "id": "18799dc0-9f7a-4eda-a9c5-aa8b69aaa176",
   "metadata": {},
   "source": [
    "# Capítulo 4 - Exercícios"
   ]
  },
  {
   "cell_type": "markdown",
   "id": "90bd6fe1-af58-4127-8cd9-ecbccf3fb4cd",
   "metadata": {},
   "source": [
    "# Exercício 1 "
   ]
  },
  {
   "cell_type": "code",
   "execution_count": 1,
   "id": "09bf4c49-ee2b-4d4c-871e-8761d4881dd3",
   "metadata": {},
   "outputs": [
    {
     "name": "stdout",
     "output_type": "stream",
     "text": [
      "1,2,3,4,5,6,7,8,9,10,"
     ]
    }
   ],
   "source": [
    "# Exercício 1 - Imprima na tela os números de 1 a 10. Use uma lista para armazenar os números.\n",
    "lista = [1,2,3,4,5,6,7,8,9,10]\n",
    "for i in lista:\n",
    "    print(i,end=\",\")              "
   ]
  },
  {
   "cell_type": "code",
   "execution_count": 15,
   "id": "d86a374d-8d3f-4075-9ccf-e7e8917fa6c6",
   "metadata": {},
   "outputs": [
    {
     "name": "stdout",
     "output_type": "stream",
     "text": [
      "[0, 1, 2, 3, 4, 5, 6, 7, 8, 9]\n"
     ]
    }
   ],
   "source": [
    "lista1 = []\n",
    "for i in range(10):\n",
    "       lista1.append(i)\n",
    "print(lista1)"
   ]
  },
  {
   "cell_type": "markdown",
   "id": "3f1844ba-2e11-4dbd-9a1f-0fc3d253e9ea",
   "metadata": {},
   "source": [
    "# Exercício 2"
   ]
  },
  {
   "cell_type": "code",
   "execution_count": 16,
   "id": "733dc528-db48-4f60-87c0-8186f318b41a",
   "metadata": {},
   "outputs": [
    {
     "data": {
      "text/plain": [
       "['beteraba', 'laranja', 'maçã', 'cenoura', 'banana']"
      ]
     },
     "execution_count": 16,
     "metadata": {},
     "output_type": "execute_result"
    }
   ],
   "source": [
    " # Exercício 2 - Crie uma lista de 5 objetos e imprima na tela\n",
    "lista5 = ['beteraba','laranja','maçã','cenoura','banana']\n",
    "lista5"
   ]
  },
  {
   "cell_type": "markdown",
   "id": "662a67ea-9b2a-483d-8ef4-7f7ac4461d56",
   "metadata": {},
   "source": [
    "# Exercício 3"
   ]
  },
  {
   "cell_type": "code",
   "execution_count": 19,
   "id": "621ce432-15ac-4e50-96e9-9f4f1e274ef5",
   "metadata": {},
   "outputs": [
    {
     "data": {
      "text/plain": [
       "'Mauro Lúcio Pereira da Silva'"
      ]
     },
     "execution_count": 19,
     "metadata": {},
     "output_type": "execute_result"
    }
   ],
   "source": [
    "# Exercício 3 - Crie duas strings e concatene as duas em uma terceira string\n",
    "nome = 'Mauro Lúcio'\n",
    "sobreNome = 'Pereira da Silva'\n",
    "nomeCompleto = nome +\" \"+ sobreNome\n",
    "nomeCompleto"
   ]
  },
  {
   "cell_type": "markdown",
   "id": "e9031465-bd6e-4226-849a-a2f7764d7825",
   "metadata": {},
   "source": [
    "# Exercício 4"
   ]
  },
  {
   "cell_type": "code",
   "execution_count": 14,
   "id": "29aa0a6c-dd4d-4fcd-99bf-7f0711836946",
   "metadata": {},
   "outputs": [
    {
     "name": "stdout",
     "output_type": "stream",
     "text": [
      "O número 4 aparece: 3 vezes\n"
     ]
    }
   ],
   "source": [
    "# Exercício 4 - Crie uma tupla com os seguintes elementos: 1, 2, 2, 3, 4, 4, 4, 5 e depois utilize a função count do \n",
    "tupla1 = (1, 2, 2, 3, 4, 4, 4, 5 )\n",
    "lista = [(1, 2, 2, 3, 4, 4, 4, 5 )]\n",
    "for n in lista:\n",
    "    contador = n.count(4)\n",
    "    print(f'O número 4 aparece:',contador ,'vezes')"
   ]
  },
  {
   "cell_type": "markdown",
   "id": "50240007-040b-45e7-b25b-ef889ba11874",
   "metadata": {},
   "source": [
    "# Exercício 5"
   ]
  },
  {
   "cell_type": "code",
   "execution_count": 16,
   "id": "6de2a637-3f58-454c-872b-3e3d3d583fae",
   "metadata": {},
   "outputs": [
    {
     "data": {
      "text/plain": [
       "{}"
      ]
     },
     "execution_count": 16,
     "metadata": {},
     "output_type": "execute_result"
    }
   ],
   "source": [
    "# Exercício 5 - Crie um dicionário vazio e imprima na tela\n",
    "dict = {}\n",
    "dict"
   ]
  },
  {
   "cell_type": "markdown",
   "id": "49635293-7d0b-4578-a7fa-c92cc1fd8429",
   "metadata": {},
   "source": [
    "# Exercício 6"
   ]
  },
  {
   "cell_type": "code",
   "execution_count": 3,
   "id": "ffafaefb-5895-4324-8be8-3777874737c8",
   "metadata": {},
   "outputs": [
    {
     "data": {
      "text/plain": [
       "{'Person1': 'Mauro',\n",
       " 'Pesron2': 'Rafaela',\n",
       " 'Person3': 'Everton',\n",
       " 'Person4': 'Eethelyn',\n",
       " 'Person5': 'Evelin'}"
      ]
     },
     "execution_count": 3,
     "metadata": {},
     "output_type": "execute_result"
    }
   ],
   "source": [
    "# Exercício 6 - Crie um dicionário com 3 chaves e 3 valores e imprima na tela\n",
    "dict1 = {'Person1': 'Mauro', 'Pesron2':'Rafaela','Person3':'Everton','Person4':'Eethelyn','Person5':'Evelin'}\n",
    "dict1"
   ]
  },
  {
   "cell_type": "markdown",
   "id": "ea5a3440-55ce-4853-b42f-3bd5766c2ee6",
   "metadata": {},
   "source": [
    "# Exercício 7"
   ]
  },
  {
   "cell_type": "code",
   "execution_count": 4,
   "id": "04fdcc00-8fbf-4b28-bdfb-f1485a5ded52",
   "metadata": {},
   "outputs": [
    {
     "data": {
      "text/plain": [
       "{'Person1': 'Mauro',\n",
       " 'Pesron2': 'Rafaela',\n",
       " 'Person3': 'Everton',\n",
       " 'Person4': 'Eethelyn',\n",
       " 'Person5': 'Evelin',\n",
       " 'Person6': 'Andreia'}"
      ]
     },
     "execution_count": 4,
     "metadata": {},
     "output_type": "execute_result"
    }
   ],
   "source": [
    "# Exercício 7 - Adicione mais um elemento ao dicionário criado no exercício anterior e imprima na tela\n",
    "dict1[\"Person6\"] = \"Andreia\"\n",
    "dict1"
   ]
  },
  {
   "cell_type": "markdown",
   "id": "3146078d-8988-47d9-81d2-95f9bc78c689",
   "metadata": {},
   "source": [
    "# Exercício 8"
   ]
  },
  {
   "cell_type": "code",
   "execution_count": 6,
   "id": "8aa8bad7-673d-4a36-bfd1-979ae14dca1f",
   "metadata": {},
   "outputs": [
    {
     "data": {
      "text/plain": [
       "{'chave1': 'vaor1', 'chave2': 'valor2', 'chave3': [1000, 10000]}"
      ]
     },
     "execution_count": 6,
     "metadata": {},
     "output_type": "execute_result"
    }
   ],
   "source": [
    "# Exercício 8 - Crie um dicionário com 3 chaves e 3 valores. \n",
    "dict2 = {'chave1':'vaor1','chave2':'valor2','chave3':[1000,10000]}\n",
    "dict2"
   ]
  },
  {
   "cell_type": "markdown",
   "id": "c0b6417e-7501-4c55-b448-afcdda071424",
   "metadata": {},
   "source": [
    "# Exercício 9"
   ]
  },
  {
   "cell_type": "code",
   "execution_count": 10,
   "id": "87c14837-b383-4f39-9dd2-faf72935cce7",
   "metadata": {},
   "outputs": [
    {
     "data": {
      "text/plain": [
       "['string', (2, 1), {'chave1': 'vaor1', 'chave2': 'valor2'}, 10.5]"
      ]
     },
     "execution_count": 10,
     "metadata": {},
     "output_type": "execute_result"
    }
   ],
   "source": [
    "# Exercício 9 - Crie uma lista de 4 elementos. O primeiro elemento deve ser uma string, \n",
    "# o segundo uma tupla de 2 elementos, o terceiro um dicionário com 2 chaves e 2 valores e \n",
    "# o quarto elemento um valor do tipo float.\n",
    "# Imprima a lista.\n",
    "list1 = ['string',(2,1),{'chave1': 'vaor1', 'chave2': 'valor2'}, 10.5]\n",
    "list1\n"
   ]
  },
  {
   "cell_type": "markdown",
   "id": "a9793baa-9229-4893-8f3a-02af84ed3f07",
   "metadata": {},
   "source": [
    "# Exercício 10"
   ]
  },
  {
   "cell_type": "code",
   "execution_count": 12,
   "id": "744ede0f-88e4-40e4-b622-6e90a7832106",
   "metadata": {},
   "outputs": [],
   "source": [
    "# Exercício 10 - Considere a string abaixo. Imprima na tela apenas os caracteres da posição 1 a 18.\n",
    "frase = 'Cientista de Dados é o profissional mais sexy do século XXI'"
   ]
  },
  {
   "cell_type": "code",
   "execution_count": 14,
   "id": "28f58f81-cc27-4f31-9b5b-c71e00dc4857",
   "metadata": {},
   "outputs": [
    {
     "data": {
      "text/plain": [
       "'Cientista de Dados'"
      ]
     },
     "execution_count": 14,
     "metadata": {},
     "output_type": "execute_result"
    }
   ],
   "source": [
    "frase[:18]"
   ]
  }
 ],
 "metadata": {
  "kernelspec": {
   "display_name": "Python 3 (ipykernel)",
   "language": "python",
   "name": "python3"
  },
  "language_info": {
   "codemirror_mode": {
    "name": "ipython",
    "version": 3
   },
   "file_extension": ".py",
   "mimetype": "text/x-python",
   "name": "python",
   "nbconvert_exporter": "python",
   "pygments_lexer": "ipython3",
   "version": "3.11.7"
  }
 },
 "nbformat": 4,
 "nbformat_minor": 5
}
